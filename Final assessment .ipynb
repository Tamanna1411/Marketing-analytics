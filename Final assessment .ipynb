{
 "cells": [
  {
   "cell_type": "markdown",
   "metadata": {},
   "source": [
    "### Import all necessary files"
   ]
  },
  {
   "cell_type": "code",
   "execution_count": 1,
   "metadata": {},
   "outputs": [
    {
     "data": {
      "text/html": [
       "        <script type=\"text/javascript\">\n",
       "        window.PlotlyConfig = {MathJaxConfig: 'local'};\n",
       "        if (window.MathJax) {MathJax.Hub.Config({SVG: {font: \"STIX-Web\"}});}\n",
       "        if (typeof require !== 'undefined') {\n",
       "        require.undef(\"plotly\");\n",
       "        requirejs.config({\n",
       "            paths: {\n",
       "                'plotly': ['https://cdn.plot.ly/plotly-latest.min']\n",
       "            }\n",
       "        });\n",
       "        require(['plotly'], function(Plotly) {\n",
       "            window._Plotly = Plotly;\n",
       "        });\n",
       "        }\n",
       "        </script>\n",
       "        "
      ]
     },
     "metadata": {},
     "output_type": "display_data"
    }
   ],
   "source": [
    "import numpy as np # use for numerical calcuation,array,function\n",
    "import pandas as pd # use for data manipulation and analysis \n",
    "import matplotlib.pyplot as plt # use for plot visualization\n",
    "import seaborn as sns # use for data visualization\n",
    "import plotly.graph_objs as go #functions for generating graph objects\n",
    "import plotly.figure_factory as ff #Create figure factory subplot\n",
    "from plotly import tools #tools for visualization plotly graph\n",
    "from plotly.offline import download_plotlyjs, init_notebook_mode, plot, iplot #Files for offline visualization\n",
    "import plotly.express as px #functions for create entire figures\n",
    "init_notebook_mode(connected=True)\n",
    "import warnings #use to show warning messages\n",
    "warnings.filterwarnings(\"ignore\")# for  ignoring warnings"
   ]
  },
  {
   "cell_type": "markdown",
   "metadata": {},
   "source": [
    "### Upload database and read"
   ]
  },
  {
   "cell_type": "code",
   "execution_count": 2,
   "metadata": {},
   "outputs": [],
   "source": [
    "#Read database \n",
    "free_session=pd.read_csv('free_session_information.csv')\n",
    "batch_info=pd.read_csv(\"batch_inforamtion.csv\")"
   ]
  },
  {
   "cell_type": "markdown",
   "metadata": {},
   "source": [
    "### Free Session Dataset Description:\n",
    "1. Time Stamp: Time and date when they have submitted\n",
    "2. Name of the candidate: Candidate’s Name\n",
    "3. Contact: Contact Number\n",
    "4. Email Id: Email ID of the Candidates \n",
    "5. College name: Name of the university/college\n",
    "6. Branch: Department\n",
    "7. People having laptop: People are having laptop or not (yes, no) \n",
    "8. Source of communication: By whom they get to know about the program\n",
    "9. Country: From which country the participants are from\n",
    "\n",
    "\n",
    "### Batch Information Dataset Description:\n",
    "1. Time: Time and date when the document has updated\n",
    "2. Email Address: Email ID of the candidates \n",
    "3. Name: Name of the candidates\n",
    "4. How well you guys are understanding the covered topics: The understanding level of \n",
    "5. topics on the scale of 0-5\n",
    "6. Rate our way of training: Rating on the scale of 0-5\n",
    "7. How well your queries are getting solved: rating on the scale of 0-5\n",
    "8. Would you like to join our full time course: yes, no, maybe\n",
    "9. Would you like to recommend this course to others: yes, no, maybe \n",
    "10. Would you like to apply for paid internship program by Softanbees: yes, no, maybe\n",
    "11. Your suggestion for improving the training program (Any other queries)\n"
   ]
  },
  {
   "cell_type": "code",
   "execution_count": 3,
   "metadata": {},
   "outputs": [
    {
     "data": {
      "text/html": [
       "<div>\n",
       "<style scoped>\n",
       "    .dataframe tbody tr th:only-of-type {\n",
       "        vertical-align: middle;\n",
       "    }\n",
       "\n",
       "    .dataframe tbody tr th {\n",
       "        vertical-align: top;\n",
       "    }\n",
       "\n",
       "    .dataframe thead th {\n",
       "        text-align: right;\n",
       "    }\n",
       "</style>\n",
       "<table border=\"1\" class=\"dataframe\">\n",
       "  <thead>\n",
       "    <tr style=\"text-align: right;\">\n",
       "      <th></th>\n",
       "      <th>Time Stamp</th>\n",
       "      <th>Name of the candidate</th>\n",
       "      <th>Contact</th>\n",
       "      <th>Email id</th>\n",
       "      <th>College name</th>\n",
       "      <th>Brach</th>\n",
       "      <th>People having laptop</th>\n",
       "      <th>Souce of communication</th>\n",
       "      <th>Unnamed: 8</th>\n",
       "      <th>Unnamed: 9</th>\n",
       "      <th>Country</th>\n",
       "    </tr>\n",
       "  </thead>\n",
       "  <tbody>\n",
       "    <tr>\n",
       "      <th>0</th>\n",
       "      <td>8/24/2020 17:01:39</td>\n",
       "      <td>A.S.M. Raquibul Hasan</td>\n",
       "      <td>01722577922</td>\n",
       "      <td>raquibul.nsu@gmail.com</td>\n",
       "      <td>United International University</td>\n",
       "      <td>others</td>\n",
       "      <td>Yes</td>\n",
       "      <td>Facebook</td>\n",
       "      <td>NaN</td>\n",
       "      <td>NaN</td>\n",
       "      <td>Bangladesh</td>\n",
       "    </tr>\n",
       "    <tr>\n",
       "      <th>1</th>\n",
       "      <td>8/24/2020 10:08:54</td>\n",
       "      <td>Abdullah</td>\n",
       "      <td>NaN</td>\n",
       "      <td>sharif3abdullah@gmail.com</td>\n",
       "      <td>IIT</td>\n",
       "      <td>Engineering</td>\n",
       "      <td>NaN</td>\n",
       "      <td>NaN</td>\n",
       "      <td>NaN</td>\n",
       "      <td>NaN</td>\n",
       "      <td>Bangladesh</td>\n",
       "    </tr>\n",
       "    <tr>\n",
       "      <th>2</th>\n",
       "      <td>8/24/2020 9:20:28</td>\n",
       "      <td>Abdullah Bin Murad</td>\n",
       "      <td>01552443554</td>\n",
       "      <td>abmrifat54@gmail.com</td>\n",
       "      <td>Shahjalal University of Science and Technology</td>\n",
       "      <td>Engineering</td>\n",
       "      <td>Yes</td>\n",
       "      <td>NaN</td>\n",
       "      <td>NaN</td>\n",
       "      <td>NaN</td>\n",
       "      <td>Bangladesh</td>\n",
       "    </tr>\n",
       "    <tr>\n",
       "      <th>3</th>\n",
       "      <td>7/28/2020 12:16:30</td>\n",
       "      <td>Abhijoy Mukherjee</td>\n",
       "      <td>7003206060</td>\n",
       "      <td>abhijoymukherjee01@gmail.com</td>\n",
       "      <td>Asutosh College</td>\n",
       "      <td>Statistics</td>\n",
       "      <td>Yes</td>\n",
       "      <td>Friend</td>\n",
       "      <td>4.0</td>\n",
       "      <td>NaN</td>\n",
       "      <td>India</td>\n",
       "    </tr>\n",
       "    <tr>\n",
       "      <th>4</th>\n",
       "      <td>7/10/2020 13:56:14</td>\n",
       "      <td>Abhipreeti Acharjee</td>\n",
       "      <td>8274839744</td>\n",
       "      <td>deepamandal007@gmail.com</td>\n",
       "      <td>DEPARTMENT OF PURE MATHEMATICS, UNIVERSITY OF ...</td>\n",
       "      <td>PURE MATHEMATICS</td>\n",
       "      <td>Yes</td>\n",
       "      <td>NaN</td>\n",
       "      <td>2.0</td>\n",
       "      <td>NaN</td>\n",
       "      <td>India</td>\n",
       "    </tr>\n",
       "  </tbody>\n",
       "</table>\n",
       "</div>"
      ],
      "text/plain": [
       "          Time Stamp   Name of the candidate      Contact   \\\n",
       "0  8/24/2020 17:01:39  A.S.M. Raquibul Hasan   01722577922   \n",
       "1  8/24/2020 10:08:54                Abdullah          NaN   \n",
       "2   8/24/2020 9:20:28    Abdullah Bin Murad    01552443554   \n",
       "3  7/28/2020 12:16:30       Abhijoy Mukherjee   7003206060   \n",
       "4  7/10/2020 13:56:14     Abhipreeti Acharjee   8274839744   \n",
       "\n",
       "                      Email id   \\\n",
       "0        raquibul.nsu@gmail.com   \n",
       "1     sharif3abdullah@gmail.com   \n",
       "2          abmrifat54@gmail.com   \n",
       "3  abhijoymukherjee01@gmail.com   \n",
       "4      deepamandal007@gmail.com   \n",
       "\n",
       "                                       College name             Brach   \\\n",
       "0                   United International University             others   \n",
       "1                                                IIT       Engineering   \n",
       "2     Shahjalal University of Science and Technology       Engineering   \n",
       "3                                    Asutosh College        Statistics   \n",
       "4  DEPARTMENT OF PURE MATHEMATICS, UNIVERSITY OF ...  PURE MATHEMATICS   \n",
       "\n",
       "  People having laptop  Souce of communication   Unnamed: 8  Unnamed: 9  \\\n",
       "0                   Yes               Facebook          NaN         NaN   \n",
       "1                   NaN                     NaN         NaN         NaN   \n",
       "2                   Yes                     NaN         NaN         NaN   \n",
       "3                   Yes                  Friend         4.0         NaN   \n",
       "4                   Yes                     NaN         2.0         NaN   \n",
       "\n",
       "     Country   \n",
       "0  Bangladesh  \n",
       "1  Bangladesh  \n",
       "2  Bangladesh  \n",
       "3       India  \n",
       "4       India  "
      ]
     },
     "execution_count": 3,
     "metadata": {},
     "output_type": "execute_result"
    }
   ],
   "source": [
    "free_session.head()"
   ]
  },
  {
   "cell_type": "code",
   "execution_count": 4,
   "metadata": {},
   "outputs": [
    {
     "data": {
      "text/plain": [
       "Index(['Time Stamp ', 'Name of the candidate ', 'Contact ', 'Email id ',\n",
       "       'College name ', 'Brach ', 'People having laptop ',\n",
       "       'Souce of communication ', 'Unnamed: 8', 'Unnamed: 9', 'Country '],\n",
       "      dtype='object')"
      ]
     },
     "execution_count": 4,
     "metadata": {},
     "output_type": "execute_result"
    }
   ],
   "source": [
    "free_session.columns"
   ]
  },
  {
   "cell_type": "markdown",
   "metadata": {},
   "source": [
    "### Cleaning Unwanted columns from free_session database"
   ]
  },
  {
   "cell_type": "code",
   "execution_count": 5,
   "metadata": {},
   "outputs": [],
   "source": [
    "# Use drop() function to remove unwanted columns from database \n",
    "free_session=free_session.drop(['Unnamed: 8','Unnamed: 9'], axis = 'columns', inplace=False)"
   ]
  },
  {
   "cell_type": "code",
   "execution_count": 6,
   "metadata": {},
   "outputs": [
    {
     "data": {
      "text/plain": [
       "(968, 9)"
      ]
     },
     "execution_count": 6,
     "metadata": {},
     "output_type": "execute_result"
    }
   ],
   "source": [
    "free_session.shape"
   ]
  },
  {
   "cell_type": "code",
   "execution_count": 7,
   "metadata": {},
   "outputs": [
    {
     "data": {
      "text/html": [
       "<div>\n",
       "<style scoped>\n",
       "    .dataframe tbody tr th:only-of-type {\n",
       "        vertical-align: middle;\n",
       "    }\n",
       "\n",
       "    .dataframe tbody tr th {\n",
       "        vertical-align: top;\n",
       "    }\n",
       "\n",
       "    .dataframe thead th {\n",
       "        text-align: right;\n",
       "    }\n",
       "</style>\n",
       "<table border=\"1\" class=\"dataframe\">\n",
       "  <thead>\n",
       "    <tr style=\"text-align: right;\">\n",
       "      <th></th>\n",
       "      <th>Time Stamp</th>\n",
       "      <th>Name of the candidate</th>\n",
       "      <th>Contact</th>\n",
       "      <th>Email id</th>\n",
       "      <th>College name</th>\n",
       "      <th>Brach</th>\n",
       "      <th>People having laptop</th>\n",
       "      <th>Souce of communication</th>\n",
       "      <th>Country</th>\n",
       "    </tr>\n",
       "  </thead>\n",
       "  <tbody>\n",
       "    <tr>\n",
       "      <th>0</th>\n",
       "      <td>8/24/2020 17:01:39</td>\n",
       "      <td>A.S.M. Raquibul Hasan</td>\n",
       "      <td>01722577922</td>\n",
       "      <td>raquibul.nsu@gmail.com</td>\n",
       "      <td>United International University</td>\n",
       "      <td>others</td>\n",
       "      <td>Yes</td>\n",
       "      <td>Facebook</td>\n",
       "      <td>Bangladesh</td>\n",
       "    </tr>\n",
       "    <tr>\n",
       "      <th>1</th>\n",
       "      <td>8/24/2020 10:08:54</td>\n",
       "      <td>Abdullah</td>\n",
       "      <td>NaN</td>\n",
       "      <td>sharif3abdullah@gmail.com</td>\n",
       "      <td>IIT</td>\n",
       "      <td>Engineering</td>\n",
       "      <td>NaN</td>\n",
       "      <td>NaN</td>\n",
       "      <td>Bangladesh</td>\n",
       "    </tr>\n",
       "    <tr>\n",
       "      <th>2</th>\n",
       "      <td>8/24/2020 9:20:28</td>\n",
       "      <td>Abdullah Bin Murad</td>\n",
       "      <td>01552443554</td>\n",
       "      <td>abmrifat54@gmail.com</td>\n",
       "      <td>Shahjalal University of Science and Technology</td>\n",
       "      <td>Engineering</td>\n",
       "      <td>Yes</td>\n",
       "      <td>NaN</td>\n",
       "      <td>Bangladesh</td>\n",
       "    </tr>\n",
       "  </tbody>\n",
       "</table>\n",
       "</div>"
      ],
      "text/plain": [
       "          Time Stamp   Name of the candidate      Contact   \\\n",
       "0  8/24/2020 17:01:39  A.S.M. Raquibul Hasan   01722577922   \n",
       "1  8/24/2020 10:08:54                Abdullah          NaN   \n",
       "2   8/24/2020 9:20:28    Abdullah Bin Murad    01552443554   \n",
       "\n",
       "                   Email id                                    College name   \\\n",
       "0     raquibul.nsu@gmail.com                United International University    \n",
       "1  sharif3abdullah@gmail.com                                             IIT   \n",
       "2       abmrifat54@gmail.com  Shahjalal University of Science and Technology   \n",
       "\n",
       "        Brach  People having laptop  Souce of communication     Country   \n",
       "0       others                   Yes               Facebook   Bangladesh  \n",
       "1  Engineering                   NaN                     NaN  Bangladesh  \n",
       "2  Engineering                   Yes                     NaN  Bangladesh  "
      ]
     },
     "execution_count": 7,
     "metadata": {},
     "output_type": "execute_result"
    }
   ],
   "source": [
    "free_session.head(3)"
   ]
  },
  {
   "cell_type": "markdown",
   "metadata": {},
   "source": [
    "### Rename complex columns name to simple  columns name for understand easily"
   ]
  },
  {
   "cell_type": "code",
   "execution_count": 8,
   "metadata": {},
   "outputs": [],
   "source": [
    "#use Rename() function for changing columns name\n",
    "free_session.rename(columns={\"Brach \": \"Department\",\"College name \": \"College_name\"},inplace=True)"
   ]
  },
  {
   "cell_type": "code",
   "execution_count": 9,
   "metadata": {},
   "outputs": [],
   "source": [
    "free_session.rename(columns={'Name of the candidate ' : 'Candidates_name','People having laptop ' : 'Laptop_assurance','Souce of communication ' : 'Communication_source'},inplace=True)"
   ]
  },
  {
   "cell_type": "code",
   "execution_count": 10,
   "metadata": {},
   "outputs": [
    {
     "data": {
      "text/html": [
       "<div>\n",
       "<style scoped>\n",
       "    .dataframe tbody tr th:only-of-type {\n",
       "        vertical-align: middle;\n",
       "    }\n",
       "\n",
       "    .dataframe tbody tr th {\n",
       "        vertical-align: top;\n",
       "    }\n",
       "\n",
       "    .dataframe thead th {\n",
       "        text-align: right;\n",
       "    }\n",
       "</style>\n",
       "<table border=\"1\" class=\"dataframe\">\n",
       "  <thead>\n",
       "    <tr style=\"text-align: right;\">\n",
       "      <th></th>\n",
       "      <th>Time Stamp</th>\n",
       "      <th>Candidates_name</th>\n",
       "      <th>Contact</th>\n",
       "      <th>Email id</th>\n",
       "      <th>College_name</th>\n",
       "      <th>Department</th>\n",
       "      <th>Laptop_assurance</th>\n",
       "      <th>Communication_source</th>\n",
       "      <th>Country</th>\n",
       "    </tr>\n",
       "  </thead>\n",
       "  <tbody>\n",
       "    <tr>\n",
       "      <th>0</th>\n",
       "      <td>8/24/2020 17:01:39</td>\n",
       "      <td>A.S.M. Raquibul Hasan</td>\n",
       "      <td>01722577922</td>\n",
       "      <td>raquibul.nsu@gmail.com</td>\n",
       "      <td>United International University</td>\n",
       "      <td>others</td>\n",
       "      <td>Yes</td>\n",
       "      <td>Facebook</td>\n",
       "      <td>Bangladesh</td>\n",
       "    </tr>\n",
       "    <tr>\n",
       "      <th>1</th>\n",
       "      <td>8/24/2020 10:08:54</td>\n",
       "      <td>Abdullah</td>\n",
       "      <td>NaN</td>\n",
       "      <td>sharif3abdullah@gmail.com</td>\n",
       "      <td>IIT</td>\n",
       "      <td>Engineering</td>\n",
       "      <td>NaN</td>\n",
       "      <td>NaN</td>\n",
       "      <td>Bangladesh</td>\n",
       "    </tr>\n",
       "    <tr>\n",
       "      <th>2</th>\n",
       "      <td>8/24/2020 9:20:28</td>\n",
       "      <td>Abdullah Bin Murad</td>\n",
       "      <td>01552443554</td>\n",
       "      <td>abmrifat54@gmail.com</td>\n",
       "      <td>Shahjalal University of Science and Technology</td>\n",
       "      <td>Engineering</td>\n",
       "      <td>Yes</td>\n",
       "      <td>NaN</td>\n",
       "      <td>Bangladesh</td>\n",
       "    </tr>\n",
       "  </tbody>\n",
       "</table>\n",
       "</div>"
      ],
      "text/plain": [
       "          Time Stamp          Candidates_name     Contact   \\\n",
       "0  8/24/2020 17:01:39  A.S.M. Raquibul Hasan   01722577922   \n",
       "1  8/24/2020 10:08:54                Abdullah          NaN   \n",
       "2   8/24/2020 9:20:28    Abdullah Bin Murad    01552443554   \n",
       "\n",
       "                   Email id                                     College_name  \\\n",
       "0     raquibul.nsu@gmail.com                United International University    \n",
       "1  sharif3abdullah@gmail.com                                             IIT   \n",
       "2       abmrifat54@gmail.com  Shahjalal University of Science and Technology   \n",
       "\n",
       "    Department Laptop_assurance Communication_source    Country   \n",
       "0       others              Yes            Facebook   Bangladesh  \n",
       "1  Engineering              NaN                  NaN  Bangladesh  \n",
       "2  Engineering              Yes                  NaN  Bangladesh  "
      ]
     },
     "execution_count": 10,
     "metadata": {},
     "output_type": "execute_result"
    }
   ],
   "source": [
    "free_session.head(3)"
   ]
  },
  {
   "cell_type": "code",
   "execution_count": 11,
   "metadata": {
    "scrolled": true
   },
   "outputs": [
    {
     "data": {
      "text/html": [
       "<div>\n",
       "<style scoped>\n",
       "    .dataframe tbody tr th:only-of-type {\n",
       "        vertical-align: middle;\n",
       "    }\n",
       "\n",
       "    .dataframe tbody tr th {\n",
       "        vertical-align: top;\n",
       "    }\n",
       "\n",
       "    .dataframe thead th {\n",
       "        text-align: right;\n",
       "    }\n",
       "</style>\n",
       "<table border=\"1\" class=\"dataframe\">\n",
       "  <thead>\n",
       "    <tr style=\"text-align: right;\">\n",
       "      <th></th>\n",
       "      <th>Time Stamp</th>\n",
       "      <th>Candidates_name</th>\n",
       "      <th>Contact</th>\n",
       "      <th>Email id</th>\n",
       "      <th>College_name</th>\n",
       "      <th>Department</th>\n",
       "      <th>Laptop_assurance</th>\n",
       "      <th>Communication_source</th>\n",
       "      <th>Country</th>\n",
       "    </tr>\n",
       "  </thead>\n",
       "  <tbody>\n",
       "    <tr>\n",
       "      <th>count</th>\n",
       "      <td>948</td>\n",
       "      <td>947</td>\n",
       "      <td>909</td>\n",
       "      <td>946</td>\n",
       "      <td>940</td>\n",
       "      <td>933</td>\n",
       "      <td>940</td>\n",
       "      <td>432</td>\n",
       "      <td>476</td>\n",
       "    </tr>\n",
       "    <tr>\n",
       "      <th>unique</th>\n",
       "      <td>946</td>\n",
       "      <td>911</td>\n",
       "      <td>881</td>\n",
       "      <td>917</td>\n",
       "      <td>431</td>\n",
       "      <td>200</td>\n",
       "      <td>3</td>\n",
       "      <td>211</td>\n",
       "      <td>3</td>\n",
       "    </tr>\n",
       "    <tr>\n",
       "      <th>top</th>\n",
       "      <td>12/12/2020 12:06:25</td>\n",
       "      <td>Ankita Paul</td>\n",
       "      <td>m</td>\n",
       "      <td>averidhar2000@gmail.com</td>\n",
       "      <td>Lady Brabourne College</td>\n",
       "      <td>Honors (BSC/MSC)</td>\n",
       "      <td>Yes</td>\n",
       "      <td>Friend</td>\n",
       "      <td>India</td>\n",
       "    </tr>\n",
       "    <tr>\n",
       "      <th>freq</th>\n",
       "      <td>2</td>\n",
       "      <td>3</td>\n",
       "      <td>3</td>\n",
       "      <td>2</td>\n",
       "      <td>69</td>\n",
       "      <td>337</td>\n",
       "      <td>734</td>\n",
       "      <td>66</td>\n",
       "      <td>380</td>\n",
       "    </tr>\n",
       "  </tbody>\n",
       "</table>\n",
       "</div>"
      ],
      "text/plain": [
       "                Time Stamp  Candidates_name Contact                 Email id   \\\n",
       "count                   948             947      909                      946   \n",
       "unique                  946             911      881                      917   \n",
       "top     12/12/2020 12:06:25     Ankita Paul        m  averidhar2000@gmail.com   \n",
       "freq                      2               3        3                        2   \n",
       "\n",
       "                  College_name        Department Laptop_assurance  \\\n",
       "count                      940               933              940   \n",
       "unique                     431               200                3   \n",
       "top     Lady Brabourne College  Honors (BSC/MSC)              Yes   \n",
       "freq                        69               337              734   \n",
       "\n",
       "       Communication_source Country   \n",
       "count                   432      476  \n",
       "unique                  211        3  \n",
       "top                  Friend    India  \n",
       "freq                     66      380  "
      ]
     },
     "execution_count": 11,
     "metadata": {},
     "output_type": "execute_result"
    }
   ],
   "source": [
    "free_session.describe()"
   ]
  },
  {
   "cell_type": "markdown",
   "metadata": {},
   "source": [
    "##### The describe() function computes a summary of statistics pertaining to the DataFrame columns.\n",
    "1. count() present total count of every column data.\n",
    "2. unique()present total unique values/data in every column.\n",
    "3. top() present the top position value in every column.\n",
    "4. freq() present the frequency of data in every column."
   ]
  },
  {
   "cell_type": "code",
   "execution_count": 12,
   "metadata": {},
   "outputs": [
    {
     "data": {
      "text/plain": [
       "Time Stamp               20\n",
       "Candidates_name          21\n",
       "Contact                  59\n",
       "Email id                 22\n",
       "College_name             28\n",
       "Department               35\n",
       "Laptop_assurance         28\n",
       "Communication_source    536\n",
       "Country                 492\n",
       "dtype: int64"
      ]
     },
     "execution_count": 12,
     "metadata": {},
     "output_type": "execute_result"
    }
   ],
   "source": [
    "# Showing numbers of null values in every column\n",
    "free_session.isnull().sum()"
   ]
  },
  {
   "cell_type": "code",
   "execution_count": 13,
   "metadata": {},
   "outputs": [
    {
     "data": {
      "text/plain": [
       "19"
      ]
     },
     "execution_count": 13,
     "metadata": {},
     "output_type": "execute_result"
    }
   ],
   "source": [
    "#Showing duplicatec Value\n",
    "free_session.duplicated().sum()"
   ]
  },
  {
   "cell_type": "markdown",
   "metadata": {},
   "source": [
    "### Missing Data and null values handling"
   ]
  },
  {
   "cell_type": "code",
   "execution_count": 14,
   "metadata": {},
   "outputs": [],
   "source": [
    "# Use simpleImputer for imputing null values and missing data which return most frequent data and replace them as null/missing value place\n",
    "from sklearn.impute import SimpleImputer\n",
    "imp=SimpleImputer(missing_values=np.nan, strategy='most_frequent')\n",
    "free_session=imp.fit_transform(free_session)"
   ]
  },
  {
   "cell_type": "code",
   "execution_count": 15,
   "metadata": {},
   "outputs": [],
   "source": [
    "# create dataframe from array\n",
    "free_session = pd. DataFrame(free_session, columns=['Time Stamp', 'Candidates_name ','Contact', 'Email_id','College_name','Department','Laptop_assurance','Communication_source ','Country ']) "
   ]
  },
  {
   "cell_type": "code",
   "execution_count": 16,
   "metadata": {},
   "outputs": [
    {
     "data": {
      "text/html": [
       "<div>\n",
       "<style scoped>\n",
       "    .dataframe tbody tr th:only-of-type {\n",
       "        vertical-align: middle;\n",
       "    }\n",
       "\n",
       "    .dataframe tbody tr th {\n",
       "        vertical-align: top;\n",
       "    }\n",
       "\n",
       "    .dataframe thead th {\n",
       "        text-align: right;\n",
       "    }\n",
       "</style>\n",
       "<table border=\"1\" class=\"dataframe\">\n",
       "  <thead>\n",
       "    <tr style=\"text-align: right;\">\n",
       "      <th></th>\n",
       "      <th>Time Stamp</th>\n",
       "      <th>Candidates_name</th>\n",
       "      <th>Contact</th>\n",
       "      <th>Email_id</th>\n",
       "      <th>College_name</th>\n",
       "      <th>Department</th>\n",
       "      <th>Laptop_assurance</th>\n",
       "      <th>Communication_source</th>\n",
       "      <th>Country</th>\n",
       "    </tr>\n",
       "  </thead>\n",
       "  <tbody>\n",
       "    <tr>\n",
       "      <th>0</th>\n",
       "      <td>8/24/2020 17:01:39</td>\n",
       "      <td>A.S.M. Raquibul Hasan</td>\n",
       "      <td>01722577922</td>\n",
       "      <td>raquibul.nsu@gmail.com</td>\n",
       "      <td>United International University</td>\n",
       "      <td>others</td>\n",
       "      <td>Yes</td>\n",
       "      <td>Facebook</td>\n",
       "      <td>Bangladesh</td>\n",
       "    </tr>\n",
       "    <tr>\n",
       "      <th>1</th>\n",
       "      <td>8/24/2020 10:08:54</td>\n",
       "      <td>Abdullah</td>\n",
       "      <td>m</td>\n",
       "      <td>sharif3abdullah@gmail.com</td>\n",
       "      <td>IIT</td>\n",
       "      <td>Engineering</td>\n",
       "      <td>Yes</td>\n",
       "      <td>Friend</td>\n",
       "      <td>Bangladesh</td>\n",
       "    </tr>\n",
       "    <tr>\n",
       "      <th>2</th>\n",
       "      <td>8/24/2020 9:20:28</td>\n",
       "      <td>Abdullah Bin Murad</td>\n",
       "      <td>01552443554</td>\n",
       "      <td>abmrifat54@gmail.com</td>\n",
       "      <td>Shahjalal University of Science and Technology</td>\n",
       "      <td>Engineering</td>\n",
       "      <td>Yes</td>\n",
       "      <td>Friend</td>\n",
       "      <td>Bangladesh</td>\n",
       "    </tr>\n",
       "    <tr>\n",
       "      <th>3</th>\n",
       "      <td>7/28/2020 12:16:30</td>\n",
       "      <td>Abhijoy Mukherjee</td>\n",
       "      <td>7003206060</td>\n",
       "      <td>abhijoymukherjee01@gmail.com</td>\n",
       "      <td>Asutosh College</td>\n",
       "      <td>Statistics</td>\n",
       "      <td>Yes</td>\n",
       "      <td>Friend</td>\n",
       "      <td>India</td>\n",
       "    </tr>\n",
       "    <tr>\n",
       "      <th>4</th>\n",
       "      <td>7/10/2020 13:56:14</td>\n",
       "      <td>Abhipreeti Acharjee</td>\n",
       "      <td>8274839744</td>\n",
       "      <td>deepamandal007@gmail.com</td>\n",
       "      <td>DEPARTMENT OF PURE MATHEMATICS, UNIVERSITY OF ...</td>\n",
       "      <td>PURE MATHEMATICS</td>\n",
       "      <td>Yes</td>\n",
       "      <td>Friend</td>\n",
       "      <td>India</td>\n",
       "    </tr>\n",
       "  </tbody>\n",
       "</table>\n",
       "</div>"
      ],
      "text/plain": [
       "           Time Stamp        Candidates_name       Contact  \\\n",
       "0  8/24/2020 17:01:39  A.S.M. Raquibul Hasan   01722577922   \n",
       "1  8/24/2020 10:08:54                Abdullah            m   \n",
       "2   8/24/2020 9:20:28    Abdullah Bin Murad    01552443554   \n",
       "3  7/28/2020 12:16:30       Abhijoy Mukherjee   7003206060   \n",
       "4  7/10/2020 13:56:14     Abhipreeti Acharjee   8274839744   \n",
       "\n",
       "                       Email_id  \\\n",
       "0        raquibul.nsu@gmail.com   \n",
       "1     sharif3abdullah@gmail.com   \n",
       "2          abmrifat54@gmail.com   \n",
       "3  abhijoymukherjee01@gmail.com   \n",
       "4      deepamandal007@gmail.com   \n",
       "\n",
       "                                        College_name        Department  \\\n",
       "0                   United International University             others   \n",
       "1                                                IIT       Engineering   \n",
       "2     Shahjalal University of Science and Technology       Engineering   \n",
       "3                                    Asutosh College        Statistics   \n",
       "4  DEPARTMENT OF PURE MATHEMATICS, UNIVERSITY OF ...  PURE MATHEMATICS   \n",
       "\n",
       "  Laptop_assurance Communication_source     Country   \n",
       "0              Yes             Facebook   Bangladesh  \n",
       "1              Yes                Friend  Bangladesh  \n",
       "2              Yes                Friend  Bangladesh  \n",
       "3              Yes                Friend       India  \n",
       "4              Yes                Friend       India  "
      ]
     },
     "execution_count": 16,
     "metadata": {},
     "output_type": "execute_result"
    }
   ],
   "source": [
    "free_session.head()"
   ]
  },
  {
   "cell_type": "code",
   "execution_count": 17,
   "metadata": {},
   "outputs": [
    {
     "data": {
      "text/plain": [
       "Time Stamp               0\n",
       "Candidates_name          0\n",
       "Contact                  0\n",
       "Email_id                 0\n",
       "College_name             0\n",
       "Department               0\n",
       "Laptop_assurance         0\n",
       "Communication_source     0\n",
       "Country                  0\n",
       "dtype: int64"
      ]
     },
     "execution_count": 17,
     "metadata": {},
     "output_type": "execute_result"
    }
   ],
   "source": [
    "free_session.isnull().sum()"
   ]
  },
  {
   "cell_type": "code",
   "execution_count": 18,
   "metadata": {},
   "outputs": [
    {
     "name": "stdout",
     "output_type": "stream",
     "text": [
      "<class 'pandas.core.frame.DataFrame'>\n",
      "RangeIndex: 968 entries, 0 to 967\n",
      "Data columns (total 9 columns):\n",
      " #   Column                 Non-Null Count  Dtype \n",
      "---  ------                 --------------  ----- \n",
      " 0   Time Stamp             968 non-null    object\n",
      " 1   Candidates_name        968 non-null    object\n",
      " 2   Contact                968 non-null    object\n",
      " 3   Email_id               968 non-null    object\n",
      " 4   College_name           968 non-null    object\n",
      " 5   Department             968 non-null    object\n",
      " 6   Laptop_assurance       968 non-null    object\n",
      " 7   Communication_source   968 non-null    object\n",
      " 8   Country                968 non-null    object\n",
      "dtypes: object(9)\n",
      "memory usage: 34.1+ KB\n"
     ]
    }
   ],
   "source": [
    "#The info() function is used to show range of index,column type,data type,memory usage.\n",
    "# for knowing datatype and columns type, using here info() function\n",
    "free_session.info()"
   ]
  },
  {
   "cell_type": "markdown",
   "metadata": {},
   "source": [
    "### Visualize the university name and along with the department attended in the free session. And give conclusion from where the most of the students are from and which department is leading in the free session dataset.\n"
   ]
  },
  {
   "cell_type": "code",
   "execution_count": 19,
   "metadata": {},
   "outputs": [],
   "source": [
    "#Department column contains the department information like  which student belong from which department."
   ]
  },
  {
   "cell_type": "code",
   "execution_count": 20,
   "metadata": {},
   "outputs": [
    {
     "data": {
      "text/html": [
       "<div>\n",
       "<style scoped>\n",
       "    .dataframe tbody tr th:only-of-type {\n",
       "        vertical-align: middle;\n",
       "    }\n",
       "\n",
       "    .dataframe tbody tr th {\n",
       "        vertical-align: top;\n",
       "    }\n",
       "\n",
       "    .dataframe thead th {\n",
       "        text-align: right;\n",
       "    }\n",
       "</style>\n",
       "<table border=\"1\" class=\"dataframe\">\n",
       "  <thead>\n",
       "    <tr style=\"text-align: right;\">\n",
       "      <th></th>\n",
       "      <th>Department</th>\n",
       "      <th>College_name</th>\n",
       "      <th>counts</th>\n",
       "    </tr>\n",
       "  </thead>\n",
       "  <tbody>\n",
       "    <tr>\n",
       "      <th>274</th>\n",
       "      <td>Honors (BSC/MSC)</td>\n",
       "      <td>Lady Brabourne College</td>\n",
       "      <td>87</td>\n",
       "    </tr>\n",
       "    <tr>\n",
       "      <th>289</th>\n",
       "      <td>Honors (BSC/MSC)</td>\n",
       "      <td>Maulana Azad College</td>\n",
       "      <td>52</td>\n",
       "    </tr>\n",
       "    <tr>\n",
       "      <th>198</th>\n",
       "      <td>Engineering</td>\n",
       "      <td>Regent Education and Research Foundation</td>\n",
       "      <td>31</td>\n",
       "    </tr>\n",
       "    <tr>\n",
       "      <th>275</th>\n",
       "      <td>Honors (BSC/MSC)</td>\n",
       "      <td>Lady Brabourne College</td>\n",
       "      <td>28</td>\n",
       "    </tr>\n",
       "    <tr>\n",
       "      <th>309</th>\n",
       "      <td>Honors (BSC/MSC)</td>\n",
       "      <td>Presidency University</td>\n",
       "      <td>18</td>\n",
       "    </tr>\n",
       "    <tr>\n",
       "      <th>194</th>\n",
       "      <td>Engineering</td>\n",
       "      <td>Regent Education And Research Foundation</td>\n",
       "      <td>12</td>\n",
       "    </tr>\n",
       "    <tr>\n",
       "      <th>207</th>\n",
       "      <td>Engineering</td>\n",
       "      <td>Regent education and research foundation</td>\n",
       "      <td>12</td>\n",
       "    </tr>\n",
       "    <tr>\n",
       "      <th>290</th>\n",
       "      <td>Honors (BSC/MSC)</td>\n",
       "      <td>Maulana Azad College</td>\n",
       "      <td>12</td>\n",
       "    </tr>\n",
       "    <tr>\n",
       "      <th>295</th>\n",
       "      <td>Honors (BSC/MSC)</td>\n",
       "      <td>Maulana Azad college</td>\n",
       "      <td>12</td>\n",
       "    </tr>\n",
       "  </tbody>\n",
       "</table>\n",
       "</div>"
      ],
      "text/plain": [
       "           Department                              College_name  counts\n",
       "274  Honors (BSC/MSC)                    Lady Brabourne College      87\n",
       "289  Honors (BSC/MSC)                      Maulana Azad College      52\n",
       "198       Engineering  Regent Education and Research Foundation      31\n",
       "275  Honors (BSC/MSC)                   Lady Brabourne College       28\n",
       "309  Honors (BSC/MSC)                     Presidency University      18\n",
       "194       Engineering  Regent Education And Research Foundation      12\n",
       "207       Engineering  Regent education and research foundation      12\n",
       "290  Honors (BSC/MSC)                     Maulana Azad College       12\n",
       "295  Honors (BSC/MSC)                      Maulana Azad college      12"
      ]
     },
     "execution_count": 20,
     "metadata": {},
     "output_type": "execute_result"
    }
   ],
   "source": [
    "department=free_session.dropna(subset=['Department'])#creating subset of department column by removing NA values\n",
    "dept_grpby=free_session.groupby(['Department','College_name'])['Department'].agg('count')# group by with university name by counting department\n",
    "dept_dataframe=pd.DataFrame(dept_grpby)# create dataframe of dept_grpby\n",
    "dept_dataframe.rename(columns={'Department':\"counts\"},inplace=True)#rename column name\n",
    "dept_dataframe.reset_index(inplace=True)# reset new dataframe index\n",
    "dept_dataframe.sort_values(\"counts\",ascending=False)# counting sort values\n",
    "dept_counts = dept_dataframe[dept_dataframe['counts'] > 10]# finding dapertment count more then 10\n",
    "dept_counts.sort_values(\"counts\",ascending=False)# new sort vlaue counting"
   ]
  },
  {
   "cell_type": "code",
   "execution_count": 21,
   "metadata": {},
   "outputs": [],
   "source": [
    "#Creating trace bar chart for visualization "
   ]
  },
  {
   "cell_type": "code",
   "execution_count": 22,
   "metadata": {},
   "outputs": [],
   "source": [
    "def draw_trace_bar(data,data_index,feature, title, xlab, ylab,color='lightBlue'):\n",
    "    '''\n",
    "    this is the function created using plotly for draw a trace bar where\n",
    "    data is main dataframe\n",
    "    data index is x label values\n",
    "    feature is y label values\n",
    "    '''\n",
    "    data = data.sort_values(feature, ascending=False)\n",
    "    trace = go.Bar(\n",
    "            x = data[data_index],\n",
    "            y = data[feature],\n",
    "            marker=dict(color=color),\n",
    "            text=data[data_index]\n",
    "        )\n",
    "    data = [trace]\n",
    "\n",
    "    layout = dict(title = title,\n",
    "              xaxis = dict(title = xlab, showticklabels=True, tickangle=45, \n",
    "                           zeroline=True, zerolinewidth=1, zerolinecolor='grey',\n",
    "                           showline=True, linewidth=2, linecolor='black', mirror=True,\n",
    "                          tickfont=dict(\n",
    "                            size=10,\n",
    "                            color='red'),), \n",
    "              yaxis = dict(title = ylab, gridcolor='lightgrey', zeroline=True, zerolinewidth=1, zerolinecolor='grey',\n",
    "                          showline=True, linewidth=2, linecolor='black', mirror=True),\n",
    "              plot_bgcolor = 'rgba(0, 0, 0, 0)', paper_bgcolor = 'rgba(0, 0, 0, 0)',\n",
    "              hovermode = 'closest'\n",
    "             )\n",
    "    fig = dict(data = data, layout = layout)\n",
    "    iplot(fig, filename='draw_trace')"
   ]
  },
  {
   "cell_type": "code",
   "execution_count": 23,
   "metadata": {},
   "outputs": [
    {
     "data": {
      "application/vnd.plotly.v1+json": {
       "config": {
        "linkText": "Export to plot.ly",
        "plotlyServerURL": "https://plot.ly",
        "showLink": false
       },
       "data": [
        {
         "marker": {
          "color": "lightBlue"
         },
         "text": [
          "Lady Brabourne College",
          "Maulana Azad College",
          "Regent Education and Research Foundation",
          "Lady Brabourne College ",
          "Presidency University",
          "Regent Education And Research Foundation",
          "Regent education and research foundation",
          "Maulana Azad College ",
          "Maulana Azad college"
         ],
         "type": "bar",
         "x": [
          "Lady Brabourne College",
          "Maulana Azad College",
          "Regent Education and Research Foundation",
          "Lady Brabourne College ",
          "Presidency University",
          "Regent Education And Research Foundation",
          "Regent education and research foundation",
          "Maulana Azad College ",
          "Maulana Azad college"
         ],
         "y": [
          87,
          52,
          31,
          28,
          18,
          12,
          12,
          12,
          12
         ]
        }
       ],
       "layout": {
        "hovermode": "closest",
        "paper_bgcolor": "rgba(0, 0, 0, 0)",
        "plot_bgcolor": "rgba(0, 0, 0, 0)",
        "template": {
         "data": {
          "bar": [
           {
            "error_x": {
             "color": "#2a3f5f"
            },
            "error_y": {
             "color": "#2a3f5f"
            },
            "marker": {
             "line": {
              "color": "#E5ECF6",
              "width": 0.5
             }
            },
            "type": "bar"
           }
          ],
          "barpolar": [
           {
            "marker": {
             "line": {
              "color": "#E5ECF6",
              "width": 0.5
             }
            },
            "type": "barpolar"
           }
          ],
          "carpet": [
           {
            "aaxis": {
             "endlinecolor": "#2a3f5f",
             "gridcolor": "white",
             "linecolor": "white",
             "minorgridcolor": "white",
             "startlinecolor": "#2a3f5f"
            },
            "baxis": {
             "endlinecolor": "#2a3f5f",
             "gridcolor": "white",
             "linecolor": "white",
             "minorgridcolor": "white",
             "startlinecolor": "#2a3f5f"
            },
            "type": "carpet"
           }
          ],
          "choropleth": [
           {
            "colorbar": {
             "outlinewidth": 0,
             "ticks": ""
            },
            "type": "choropleth"
           }
          ],
          "contour": [
           {
            "colorbar": {
             "outlinewidth": 0,
             "ticks": ""
            },
            "colorscale": [
             [
              0,
              "#0d0887"
             ],
             [
              0.1111111111111111,
              "#46039f"
             ],
             [
              0.2222222222222222,
              "#7201a8"
             ],
             [
              0.3333333333333333,
              "#9c179e"
             ],
             [
              0.4444444444444444,
              "#bd3786"
             ],
             [
              0.5555555555555556,
              "#d8576b"
             ],
             [
              0.6666666666666666,
              "#ed7953"
             ],
             [
              0.7777777777777778,
              "#fb9f3a"
             ],
             [
              0.8888888888888888,
              "#fdca26"
             ],
             [
              1,
              "#f0f921"
             ]
            ],
            "type": "contour"
           }
          ],
          "contourcarpet": [
           {
            "colorbar": {
             "outlinewidth": 0,
             "ticks": ""
            },
            "type": "contourcarpet"
           }
          ],
          "heatmap": [
           {
            "colorbar": {
             "outlinewidth": 0,
             "ticks": ""
            },
            "colorscale": [
             [
              0,
              "#0d0887"
             ],
             [
              0.1111111111111111,
              "#46039f"
             ],
             [
              0.2222222222222222,
              "#7201a8"
             ],
             [
              0.3333333333333333,
              "#9c179e"
             ],
             [
              0.4444444444444444,
              "#bd3786"
             ],
             [
              0.5555555555555556,
              "#d8576b"
             ],
             [
              0.6666666666666666,
              "#ed7953"
             ],
             [
              0.7777777777777778,
              "#fb9f3a"
             ],
             [
              0.8888888888888888,
              "#fdca26"
             ],
             [
              1,
              "#f0f921"
             ]
            ],
            "type": "heatmap"
           }
          ],
          "heatmapgl": [
           {
            "colorbar": {
             "outlinewidth": 0,
             "ticks": ""
            },
            "colorscale": [
             [
              0,
              "#0d0887"
             ],
             [
              0.1111111111111111,
              "#46039f"
             ],
             [
              0.2222222222222222,
              "#7201a8"
             ],
             [
              0.3333333333333333,
              "#9c179e"
             ],
             [
              0.4444444444444444,
              "#bd3786"
             ],
             [
              0.5555555555555556,
              "#d8576b"
             ],
             [
              0.6666666666666666,
              "#ed7953"
             ],
             [
              0.7777777777777778,
              "#fb9f3a"
             ],
             [
              0.8888888888888888,
              "#fdca26"
             ],
             [
              1,
              "#f0f921"
             ]
            ],
            "type": "heatmapgl"
           }
          ],
          "histogram": [
           {
            "marker": {
             "colorbar": {
              "outlinewidth": 0,
              "ticks": ""
             }
            },
            "type": "histogram"
           }
          ],
          "histogram2d": [
           {
            "colorbar": {
             "outlinewidth": 0,
             "ticks": ""
            },
            "colorscale": [
             [
              0,
              "#0d0887"
             ],
             [
              0.1111111111111111,
              "#46039f"
             ],
             [
              0.2222222222222222,
              "#7201a8"
             ],
             [
              0.3333333333333333,
              "#9c179e"
             ],
             [
              0.4444444444444444,
              "#bd3786"
             ],
             [
              0.5555555555555556,
              "#d8576b"
             ],
             [
              0.6666666666666666,
              "#ed7953"
             ],
             [
              0.7777777777777778,
              "#fb9f3a"
             ],
             [
              0.8888888888888888,
              "#fdca26"
             ],
             [
              1,
              "#f0f921"
             ]
            ],
            "type": "histogram2d"
           }
          ],
          "histogram2dcontour": [
           {
            "colorbar": {
             "outlinewidth": 0,
             "ticks": ""
            },
            "colorscale": [
             [
              0,
              "#0d0887"
             ],
             [
              0.1111111111111111,
              "#46039f"
             ],
             [
              0.2222222222222222,
              "#7201a8"
             ],
             [
              0.3333333333333333,
              "#9c179e"
             ],
             [
              0.4444444444444444,
              "#bd3786"
             ],
             [
              0.5555555555555556,
              "#d8576b"
             ],
             [
              0.6666666666666666,
              "#ed7953"
             ],
             [
              0.7777777777777778,
              "#fb9f3a"
             ],
             [
              0.8888888888888888,
              "#fdca26"
             ],
             [
              1,
              "#f0f921"
             ]
            ],
            "type": "histogram2dcontour"
           }
          ],
          "mesh3d": [
           {
            "colorbar": {
             "outlinewidth": 0,
             "ticks": ""
            },
            "type": "mesh3d"
           }
          ],
          "parcoords": [
           {
            "line": {
             "colorbar": {
              "outlinewidth": 0,
              "ticks": ""
             }
            },
            "type": "parcoords"
           }
          ],
          "pie": [
           {
            "automargin": true,
            "type": "pie"
           }
          ],
          "scatter": [
           {
            "marker": {
             "colorbar": {
              "outlinewidth": 0,
              "ticks": ""
             }
            },
            "type": "scatter"
           }
          ],
          "scatter3d": [
           {
            "line": {
             "colorbar": {
              "outlinewidth": 0,
              "ticks": ""
             }
            },
            "marker": {
             "colorbar": {
              "outlinewidth": 0,
              "ticks": ""
             }
            },
            "type": "scatter3d"
           }
          ],
          "scattercarpet": [
           {
            "marker": {
             "colorbar": {
              "outlinewidth": 0,
              "ticks": ""
             }
            },
            "type": "scattercarpet"
           }
          ],
          "scattergeo": [
           {
            "marker": {
             "colorbar": {
              "outlinewidth": 0,
              "ticks": ""
             }
            },
            "type": "scattergeo"
           }
          ],
          "scattergl": [
           {
            "marker": {
             "colorbar": {
              "outlinewidth": 0,
              "ticks": ""
             }
            },
            "type": "scattergl"
           }
          ],
          "scattermapbox": [
           {
            "marker": {
             "colorbar": {
              "outlinewidth": 0,
              "ticks": ""
             }
            },
            "type": "scattermapbox"
           }
          ],
          "scatterpolar": [
           {
            "marker": {
             "colorbar": {
              "outlinewidth": 0,
              "ticks": ""
             }
            },
            "type": "scatterpolar"
           }
          ],
          "scatterpolargl": [
           {
            "marker": {
             "colorbar": {
              "outlinewidth": 0,
              "ticks": ""
             }
            },
            "type": "scatterpolargl"
           }
          ],
          "scatterternary": [
           {
            "marker": {
             "colorbar": {
              "outlinewidth": 0,
              "ticks": ""
             }
            },
            "type": "scatterternary"
           }
          ],
          "surface": [
           {
            "colorbar": {
             "outlinewidth": 0,
             "ticks": ""
            },
            "colorscale": [
             [
              0,
              "#0d0887"
             ],
             [
              0.1111111111111111,
              "#46039f"
             ],
             [
              0.2222222222222222,
              "#7201a8"
             ],
             [
              0.3333333333333333,
              "#9c179e"
             ],
             [
              0.4444444444444444,
              "#bd3786"
             ],
             [
              0.5555555555555556,
              "#d8576b"
             ],
             [
              0.6666666666666666,
              "#ed7953"
             ],
             [
              0.7777777777777778,
              "#fb9f3a"
             ],
             [
              0.8888888888888888,
              "#fdca26"
             ],
             [
              1,
              "#f0f921"
             ]
            ],
            "type": "surface"
           }
          ],
          "table": [
           {
            "cells": {
             "fill": {
              "color": "#EBF0F8"
             },
             "line": {
              "color": "white"
             }
            },
            "header": {
             "fill": {
              "color": "#C8D4E3"
             },
             "line": {
              "color": "white"
             }
            },
            "type": "table"
           }
          ]
         },
         "layout": {
          "annotationdefaults": {
           "arrowcolor": "#2a3f5f",
           "arrowhead": 0,
           "arrowwidth": 1
          },
          "autotypenumbers": "strict",
          "coloraxis": {
           "colorbar": {
            "outlinewidth": 0,
            "ticks": ""
           }
          },
          "colorscale": {
           "diverging": [
            [
             0,
             "#8e0152"
            ],
            [
             0.1,
             "#c51b7d"
            ],
            [
             0.2,
             "#de77ae"
            ],
            [
             0.3,
             "#f1b6da"
            ],
            [
             0.4,
             "#fde0ef"
            ],
            [
             0.5,
             "#f7f7f7"
            ],
            [
             0.6,
             "#e6f5d0"
            ],
            [
             0.7,
             "#b8e186"
            ],
            [
             0.8,
             "#7fbc41"
            ],
            [
             0.9,
             "#4d9221"
            ],
            [
             1,
             "#276419"
            ]
           ],
           "sequential": [
            [
             0,
             "#0d0887"
            ],
            [
             0.1111111111111111,
             "#46039f"
            ],
            [
             0.2222222222222222,
             "#7201a8"
            ],
            [
             0.3333333333333333,
             "#9c179e"
            ],
            [
             0.4444444444444444,
             "#bd3786"
            ],
            [
             0.5555555555555556,
             "#d8576b"
            ],
            [
             0.6666666666666666,
             "#ed7953"
            ],
            [
             0.7777777777777778,
             "#fb9f3a"
            ],
            [
             0.8888888888888888,
             "#fdca26"
            ],
            [
             1,
             "#f0f921"
            ]
           ],
           "sequentialminus": [
            [
             0,
             "#0d0887"
            ],
            [
             0.1111111111111111,
             "#46039f"
            ],
            [
             0.2222222222222222,
             "#7201a8"
            ],
            [
             0.3333333333333333,
             "#9c179e"
            ],
            [
             0.4444444444444444,
             "#bd3786"
            ],
            [
             0.5555555555555556,
             "#d8576b"
            ],
            [
             0.6666666666666666,
             "#ed7953"
            ],
            [
             0.7777777777777778,
             "#fb9f3a"
            ],
            [
             0.8888888888888888,
             "#fdca26"
            ],
            [
             1,
             "#f0f921"
            ]
           ]
          },
          "colorway": [
           "#636efa",
           "#EF553B",
           "#00cc96",
           "#ab63fa",
           "#FFA15A",
           "#19d3f3",
           "#FF6692",
           "#B6E880",
           "#FF97FF",
           "#FECB52"
          ],
          "font": {
           "color": "#2a3f5f"
          },
          "geo": {
           "bgcolor": "white",
           "lakecolor": "white",
           "landcolor": "#E5ECF6",
           "showlakes": true,
           "showland": true,
           "subunitcolor": "white"
          },
          "hoverlabel": {
           "align": "left"
          },
          "hovermode": "closest",
          "mapbox": {
           "style": "light"
          },
          "paper_bgcolor": "white",
          "plot_bgcolor": "#E5ECF6",
          "polar": {
           "angularaxis": {
            "gridcolor": "white",
            "linecolor": "white",
            "ticks": ""
           },
           "bgcolor": "#E5ECF6",
           "radialaxis": {
            "gridcolor": "white",
            "linecolor": "white",
            "ticks": ""
           }
          },
          "scene": {
           "xaxis": {
            "backgroundcolor": "#E5ECF6",
            "gridcolor": "white",
            "gridwidth": 2,
            "linecolor": "white",
            "showbackground": true,
            "ticks": "",
            "zerolinecolor": "white"
           },
           "yaxis": {
            "backgroundcolor": "#E5ECF6",
            "gridcolor": "white",
            "gridwidth": 2,
            "linecolor": "white",
            "showbackground": true,
            "ticks": "",
            "zerolinecolor": "white"
           },
           "zaxis": {
            "backgroundcolor": "#E5ECF6",
            "gridcolor": "white",
            "gridwidth": 2,
            "linecolor": "white",
            "showbackground": true,
            "ticks": "",
            "zerolinecolor": "white"
           }
          },
          "shapedefaults": {
           "line": {
            "color": "#2a3f5f"
           }
          },
          "ternary": {
           "aaxis": {
            "gridcolor": "white",
            "linecolor": "white",
            "ticks": ""
           },
           "baxis": {
            "gridcolor": "white",
            "linecolor": "white",
            "ticks": ""
           },
           "bgcolor": "#E5ECF6",
           "caxis": {
            "gridcolor": "white",
            "linecolor": "white",
            "ticks": ""
           }
          },
          "title": {
           "x": 0.05
          },
          "xaxis": {
           "automargin": true,
           "gridcolor": "white",
           "linecolor": "white",
           "ticks": "",
           "title": {
            "standoff": 15
           },
           "zerolinecolor": "white",
           "zerolinewidth": 2
          },
          "yaxis": {
           "automargin": true,
           "gridcolor": "white",
           "linecolor": "white",
           "ticks": "",
           "title": {
            "standoff": 15
           },
           "zerolinecolor": "white",
           "zerolinewidth": 2
          }
         }
        },
        "title": {
         "text": "University along with department"
        },
        "xaxis": {
         "linecolor": "black",
         "linewidth": 2,
         "mirror": true,
         "showline": true,
         "showticklabels": true,
         "tickangle": 45,
         "tickfont": {
          "color": "red",
          "size": 10
         },
         "title": {
          "text": "University name"
         },
         "zeroline": true,
         "zerolinecolor": "grey",
         "zerolinewidth": 1
        },
        "yaxis": {
         "gridcolor": "lightgrey",
         "linecolor": "black",
         "linewidth": 2,
         "mirror": true,
         "showline": true,
         "title": {
          "text": "department"
         },
         "zeroline": true,
         "zerolinecolor": "grey",
         "zerolinewidth": 1
        }
       }
      },
      "text/html": [
       "<div>                            <div id=\"c5f33720-9b5e-482c-9686-8b62fdf4ed89\" class=\"plotly-graph-div\" style=\"height:525px; width:100%;\"></div>            <script type=\"text/javascript\">                require([\"plotly\"], function(Plotly) {                    window.PLOTLYENV=window.PLOTLYENV || {};                                    if (document.getElementById(\"c5f33720-9b5e-482c-9686-8b62fdf4ed89\")) {                    Plotly.newPlot(                        \"c5f33720-9b5e-482c-9686-8b62fdf4ed89\",                        [{\"marker\": {\"color\": \"lightBlue\"}, \"text\": [\"Lady Brabourne College\", \"Maulana Azad College\", \"Regent Education and Research Foundation\", \"Lady Brabourne College \", \"Presidency University\", \"Regent Education And Research Foundation\", \"Regent education and research foundation\", \"Maulana Azad College \", \"Maulana Azad college\"], \"type\": \"bar\", \"x\": [\"Lady Brabourne College\", \"Maulana Azad College\", \"Regent Education and Research Foundation\", \"Lady Brabourne College \", \"Presidency University\", \"Regent Education And Research Foundation\", \"Regent education and research foundation\", \"Maulana Azad College \", \"Maulana Azad college\"], \"y\": [87, 52, 31, 28, 18, 12, 12, 12, 12]}],                        {\"hovermode\": \"closest\", \"paper_bgcolor\": \"rgba(0, 0, 0, 0)\", \"plot_bgcolor\": \"rgba(0, 0, 0, 0)\", \"template\": {\"data\": {\"bar\": [{\"error_x\": {\"color\": \"#2a3f5f\"}, \"error_y\": {\"color\": \"#2a3f5f\"}, \"marker\": {\"line\": {\"color\": \"#E5ECF6\", \"width\": 0.5}}, \"type\": \"bar\"}], \"barpolar\": [{\"marker\": {\"line\": {\"color\": \"#E5ECF6\", \"width\": 0.5}}, \"type\": \"barpolar\"}], \"carpet\": [{\"aaxis\": {\"endlinecolor\": \"#2a3f5f\", \"gridcolor\": \"white\", \"linecolor\": \"white\", \"minorgridcolor\": \"white\", \"startlinecolor\": \"#2a3f5f\"}, \"baxis\": {\"endlinecolor\": \"#2a3f5f\", \"gridcolor\": \"white\", \"linecolor\": \"white\", \"minorgridcolor\": \"white\", \"startlinecolor\": \"#2a3f5f\"}, \"type\": \"carpet\"}], \"choropleth\": [{\"colorbar\": {\"outlinewidth\": 0, \"ticks\": \"\"}, \"type\": \"choropleth\"}], \"contour\": [{\"colorbar\": {\"outlinewidth\": 0, \"ticks\": \"\"}, \"colorscale\": [[0.0, \"#0d0887\"], [0.1111111111111111, \"#46039f\"], [0.2222222222222222, \"#7201a8\"], [0.3333333333333333, \"#9c179e\"], [0.4444444444444444, \"#bd3786\"], [0.5555555555555556, \"#d8576b\"], [0.6666666666666666, \"#ed7953\"], [0.7777777777777778, \"#fb9f3a\"], [0.8888888888888888, \"#fdca26\"], [1.0, \"#f0f921\"]], \"type\": \"contour\"}], \"contourcarpet\": [{\"colorbar\": {\"outlinewidth\": 0, \"ticks\": \"\"}, \"type\": \"contourcarpet\"}], \"heatmap\": [{\"colorbar\": {\"outlinewidth\": 0, \"ticks\": \"\"}, \"colorscale\": [[0.0, \"#0d0887\"], [0.1111111111111111, \"#46039f\"], [0.2222222222222222, \"#7201a8\"], [0.3333333333333333, \"#9c179e\"], [0.4444444444444444, \"#bd3786\"], [0.5555555555555556, \"#d8576b\"], [0.6666666666666666, \"#ed7953\"], [0.7777777777777778, \"#fb9f3a\"], [0.8888888888888888, \"#fdca26\"], [1.0, \"#f0f921\"]], \"type\": \"heatmap\"}], \"heatmapgl\": [{\"colorbar\": {\"outlinewidth\": 0, \"ticks\": \"\"}, \"colorscale\": [[0.0, \"#0d0887\"], [0.1111111111111111, \"#46039f\"], [0.2222222222222222, \"#7201a8\"], [0.3333333333333333, \"#9c179e\"], [0.4444444444444444, \"#bd3786\"], [0.5555555555555556, \"#d8576b\"], [0.6666666666666666, \"#ed7953\"], [0.7777777777777778, \"#fb9f3a\"], [0.8888888888888888, \"#fdca26\"], [1.0, \"#f0f921\"]], \"type\": \"heatmapgl\"}], \"histogram\": [{\"marker\": {\"colorbar\": {\"outlinewidth\": 0, \"ticks\": \"\"}}, \"type\": \"histogram\"}], \"histogram2d\": [{\"colorbar\": {\"outlinewidth\": 0, \"ticks\": \"\"}, \"colorscale\": [[0.0, \"#0d0887\"], [0.1111111111111111, \"#46039f\"], [0.2222222222222222, \"#7201a8\"], [0.3333333333333333, \"#9c179e\"], [0.4444444444444444, \"#bd3786\"], [0.5555555555555556, \"#d8576b\"], [0.6666666666666666, \"#ed7953\"], [0.7777777777777778, \"#fb9f3a\"], [0.8888888888888888, \"#fdca26\"], [1.0, \"#f0f921\"]], \"type\": \"histogram2d\"}], \"histogram2dcontour\": [{\"colorbar\": {\"outlinewidth\": 0, \"ticks\": \"\"}, \"colorscale\": [[0.0, \"#0d0887\"], [0.1111111111111111, \"#46039f\"], [0.2222222222222222, \"#7201a8\"], [0.3333333333333333, \"#9c179e\"], [0.4444444444444444, \"#bd3786\"], [0.5555555555555556, \"#d8576b\"], [0.6666666666666666, \"#ed7953\"], [0.7777777777777778, \"#fb9f3a\"], [0.8888888888888888, \"#fdca26\"], [1.0, \"#f0f921\"]], \"type\": \"histogram2dcontour\"}], \"mesh3d\": [{\"colorbar\": {\"outlinewidth\": 0, \"ticks\": \"\"}, \"type\": \"mesh3d\"}], \"parcoords\": [{\"line\": {\"colorbar\": {\"outlinewidth\": 0, \"ticks\": \"\"}}, \"type\": \"parcoords\"}], \"pie\": [{\"automargin\": true, \"type\": \"pie\"}], \"scatter\": [{\"marker\": {\"colorbar\": {\"outlinewidth\": 0, \"ticks\": \"\"}}, \"type\": \"scatter\"}], \"scatter3d\": [{\"line\": {\"colorbar\": {\"outlinewidth\": 0, \"ticks\": \"\"}}, \"marker\": {\"colorbar\": {\"outlinewidth\": 0, \"ticks\": \"\"}}, \"type\": \"scatter3d\"}], \"scattercarpet\": [{\"marker\": {\"colorbar\": {\"outlinewidth\": 0, \"ticks\": \"\"}}, \"type\": \"scattercarpet\"}], \"scattergeo\": [{\"marker\": {\"colorbar\": {\"outlinewidth\": 0, \"ticks\": \"\"}}, \"type\": \"scattergeo\"}], \"scattergl\": [{\"marker\": {\"colorbar\": {\"outlinewidth\": 0, \"ticks\": \"\"}}, \"type\": \"scattergl\"}], \"scattermapbox\": [{\"marker\": {\"colorbar\": {\"outlinewidth\": 0, \"ticks\": \"\"}}, \"type\": \"scattermapbox\"}], \"scatterpolar\": [{\"marker\": {\"colorbar\": {\"outlinewidth\": 0, \"ticks\": \"\"}}, \"type\": \"scatterpolar\"}], \"scatterpolargl\": [{\"marker\": {\"colorbar\": {\"outlinewidth\": 0, \"ticks\": \"\"}}, \"type\": \"scatterpolargl\"}], \"scatterternary\": [{\"marker\": {\"colorbar\": {\"outlinewidth\": 0, \"ticks\": \"\"}}, \"type\": \"scatterternary\"}], \"surface\": [{\"colorbar\": {\"outlinewidth\": 0, \"ticks\": \"\"}, \"colorscale\": [[0.0, \"#0d0887\"], [0.1111111111111111, \"#46039f\"], [0.2222222222222222, \"#7201a8\"], [0.3333333333333333, \"#9c179e\"], [0.4444444444444444, \"#bd3786\"], [0.5555555555555556, \"#d8576b\"], [0.6666666666666666, \"#ed7953\"], [0.7777777777777778, \"#fb9f3a\"], [0.8888888888888888, \"#fdca26\"], [1.0, \"#f0f921\"]], \"type\": \"surface\"}], \"table\": [{\"cells\": {\"fill\": {\"color\": \"#EBF0F8\"}, \"line\": {\"color\": \"white\"}}, \"header\": {\"fill\": {\"color\": \"#C8D4E3\"}, \"line\": {\"color\": \"white\"}}, \"type\": \"table\"}]}, \"layout\": {\"annotationdefaults\": {\"arrowcolor\": \"#2a3f5f\", \"arrowhead\": 0, \"arrowwidth\": 1}, \"autotypenumbers\": \"strict\", \"coloraxis\": {\"colorbar\": {\"outlinewidth\": 0, \"ticks\": \"\"}}, \"colorscale\": {\"diverging\": [[0, \"#8e0152\"], [0.1, \"#c51b7d\"], [0.2, \"#de77ae\"], [0.3, \"#f1b6da\"], [0.4, \"#fde0ef\"], [0.5, \"#f7f7f7\"], [0.6, \"#e6f5d0\"], [0.7, \"#b8e186\"], [0.8, \"#7fbc41\"], [0.9, \"#4d9221\"], [1, \"#276419\"]], \"sequential\": [[0.0, \"#0d0887\"], [0.1111111111111111, \"#46039f\"], [0.2222222222222222, \"#7201a8\"], [0.3333333333333333, \"#9c179e\"], [0.4444444444444444, \"#bd3786\"], [0.5555555555555556, \"#d8576b\"], [0.6666666666666666, \"#ed7953\"], [0.7777777777777778, \"#fb9f3a\"], [0.8888888888888888, \"#fdca26\"], [1.0, \"#f0f921\"]], \"sequentialminus\": [[0.0, \"#0d0887\"], [0.1111111111111111, \"#46039f\"], [0.2222222222222222, \"#7201a8\"], [0.3333333333333333, \"#9c179e\"], [0.4444444444444444, \"#bd3786\"], [0.5555555555555556, \"#d8576b\"], [0.6666666666666666, \"#ed7953\"], [0.7777777777777778, \"#fb9f3a\"], [0.8888888888888888, \"#fdca26\"], [1.0, \"#f0f921\"]]}, \"colorway\": [\"#636efa\", \"#EF553B\", \"#00cc96\", \"#ab63fa\", \"#FFA15A\", \"#19d3f3\", \"#FF6692\", \"#B6E880\", \"#FF97FF\", \"#FECB52\"], \"font\": {\"color\": \"#2a3f5f\"}, \"geo\": {\"bgcolor\": \"white\", \"lakecolor\": \"white\", \"landcolor\": \"#E5ECF6\", \"showlakes\": true, \"showland\": true, \"subunitcolor\": \"white\"}, \"hoverlabel\": {\"align\": \"left\"}, \"hovermode\": \"closest\", \"mapbox\": {\"style\": \"light\"}, \"paper_bgcolor\": \"white\", \"plot_bgcolor\": \"#E5ECF6\", \"polar\": {\"angularaxis\": {\"gridcolor\": \"white\", \"linecolor\": \"white\", \"ticks\": \"\"}, \"bgcolor\": \"#E5ECF6\", \"radialaxis\": {\"gridcolor\": \"white\", \"linecolor\": \"white\", \"ticks\": \"\"}}, \"scene\": {\"xaxis\": {\"backgroundcolor\": \"#E5ECF6\", \"gridcolor\": \"white\", \"gridwidth\": 2, \"linecolor\": \"white\", \"showbackground\": true, \"ticks\": \"\", \"zerolinecolor\": \"white\"}, \"yaxis\": {\"backgroundcolor\": \"#E5ECF6\", \"gridcolor\": \"white\", \"gridwidth\": 2, \"linecolor\": \"white\", \"showbackground\": true, \"ticks\": \"\", \"zerolinecolor\": \"white\"}, \"zaxis\": {\"backgroundcolor\": \"#E5ECF6\", \"gridcolor\": \"white\", \"gridwidth\": 2, \"linecolor\": \"white\", \"showbackground\": true, \"ticks\": \"\", \"zerolinecolor\": \"white\"}}, \"shapedefaults\": {\"line\": {\"color\": \"#2a3f5f\"}}, \"ternary\": {\"aaxis\": {\"gridcolor\": \"white\", \"linecolor\": \"white\", \"ticks\": \"\"}, \"baxis\": {\"gridcolor\": \"white\", \"linecolor\": \"white\", \"ticks\": \"\"}, \"bgcolor\": \"#E5ECF6\", \"caxis\": {\"gridcolor\": \"white\", \"linecolor\": \"white\", \"ticks\": \"\"}}, \"title\": {\"x\": 0.05}, \"xaxis\": {\"automargin\": true, \"gridcolor\": \"white\", \"linecolor\": \"white\", \"ticks\": \"\", \"title\": {\"standoff\": 15}, \"zerolinecolor\": \"white\", \"zerolinewidth\": 2}, \"yaxis\": {\"automargin\": true, \"gridcolor\": \"white\", \"linecolor\": \"white\", \"ticks\": \"\", \"title\": {\"standoff\": 15}, \"zerolinecolor\": \"white\", \"zerolinewidth\": 2}}}, \"title\": {\"text\": \"University along with department\"}, \"xaxis\": {\"linecolor\": \"black\", \"linewidth\": 2, \"mirror\": true, \"showline\": true, \"showticklabels\": true, \"tickangle\": 45, \"tickfont\": {\"color\": \"red\", \"size\": 10}, \"title\": {\"text\": \"University name\"}, \"zeroline\": true, \"zerolinecolor\": \"grey\", \"zerolinewidth\": 1}, \"yaxis\": {\"gridcolor\": \"lightgrey\", \"linecolor\": \"black\", \"linewidth\": 2, \"mirror\": true, \"showline\": true, \"title\": {\"text\": \"department\"}, \"zeroline\": true, \"zerolinecolor\": \"grey\", \"zerolinewidth\": 1}},                        {\"responsive\": true}                    ).then(function(){\n",
       "                            \n",
       "var gd = document.getElementById('c5f33720-9b5e-482c-9686-8b62fdf4ed89');\n",
       "var x = new MutationObserver(function (mutations, observer) {{\n",
       "        var display = window.getComputedStyle(gd).display;\n",
       "        if (!display || display === 'none') {{\n",
       "            console.log([gd, 'removed!']);\n",
       "            Plotly.purge(gd);\n",
       "            observer.disconnect();\n",
       "        }}\n",
       "}});\n",
       "\n",
       "// Listen for the removal of the full notebook cells\n",
       "var notebookContainer = gd.closest('#notebook-container');\n",
       "if (notebookContainer) {{\n",
       "    x.observe(notebookContainer, {childList: true});\n",
       "}}\n",
       "\n",
       "// Listen for the clearing of the current output cell\n",
       "var outputEl = gd.closest('.output');\n",
       "if (outputEl) {{\n",
       "    x.observe(outputEl, {childList: true});\n",
       "}}\n",
       "\n",
       "                        })                };                });            </script>        </div>"
      ]
     },
     "metadata": {},
     "output_type": "display_data"
    }
   ],
   "source": [
    "draw_trace_bar(dept_counts,'College_name','counts','University along with department','University name','department')"
   ]
  },
  {
   "cell_type": "markdown",
   "metadata": {},
   "source": [
    "From this trace bar chart shows,Among all of  universites Lady Brabourne college has the highest number of student in this program."
   ]
  },
  {
   "cell_type": "code",
   "execution_count": 24,
   "metadata": {},
   "outputs": [],
   "source": [
    "#University column contains the University information like  which student belong from which University.\n",
    "# visualize trace bar chart by subsetting of college name"
   ]
  },
  {
   "cell_type": "code",
   "execution_count": 25,
   "metadata": {},
   "outputs": [
    {
     "data": {
      "text/html": [
       "<div>\n",
       "<style scoped>\n",
       "    .dataframe tbody tr th:only-of-type {\n",
       "        vertical-align: middle;\n",
       "    }\n",
       "\n",
       "    .dataframe tbody tr th {\n",
       "        vertical-align: top;\n",
       "    }\n",
       "\n",
       "    .dataframe thead th {\n",
       "        text-align: right;\n",
       "    }\n",
       "</style>\n",
       "<table border=\"1\" class=\"dataframe\">\n",
       "  <thead>\n",
       "    <tr style=\"text-align: right;\">\n",
       "      <th></th>\n",
       "      <th>Department</th>\n",
       "      <th>College_name</th>\n",
       "      <th>counts</th>\n",
       "    </tr>\n",
       "  </thead>\n",
       "  <tbody>\n",
       "    <tr>\n",
       "      <th>274</th>\n",
       "      <td>Honors (BSC/MSC)</td>\n",
       "      <td>Lady Brabourne College</td>\n",
       "      <td>87</td>\n",
       "    </tr>\n",
       "    <tr>\n",
       "      <th>289</th>\n",
       "      <td>Honors (BSC/MSC)</td>\n",
       "      <td>Maulana Azad College</td>\n",
       "      <td>52</td>\n",
       "    </tr>\n",
       "    <tr>\n",
       "      <th>198</th>\n",
       "      <td>Engineering</td>\n",
       "      <td>Regent Education and Research Foundation</td>\n",
       "      <td>31</td>\n",
       "    </tr>\n",
       "    <tr>\n",
       "      <th>275</th>\n",
       "      <td>Honors (BSC/MSC)</td>\n",
       "      <td>Lady Brabourne College</td>\n",
       "      <td>28</td>\n",
       "    </tr>\n",
       "    <tr>\n",
       "      <th>309</th>\n",
       "      <td>Honors (BSC/MSC)</td>\n",
       "      <td>Presidency University</td>\n",
       "      <td>18</td>\n",
       "    </tr>\n",
       "    <tr>\n",
       "      <th>194</th>\n",
       "      <td>Engineering</td>\n",
       "      <td>Regent Education And Research Foundation</td>\n",
       "      <td>12</td>\n",
       "    </tr>\n",
       "    <tr>\n",
       "      <th>207</th>\n",
       "      <td>Engineering</td>\n",
       "      <td>Regent education and research foundation</td>\n",
       "      <td>12</td>\n",
       "    </tr>\n",
       "    <tr>\n",
       "      <th>290</th>\n",
       "      <td>Honors (BSC/MSC)</td>\n",
       "      <td>Maulana Azad College</td>\n",
       "      <td>12</td>\n",
       "    </tr>\n",
       "    <tr>\n",
       "      <th>295</th>\n",
       "      <td>Honors (BSC/MSC)</td>\n",
       "      <td>Maulana Azad college</td>\n",
       "      <td>12</td>\n",
       "    </tr>\n",
       "  </tbody>\n",
       "</table>\n",
       "</div>"
      ],
      "text/plain": [
       "           Department                              College_name  counts\n",
       "274  Honors (BSC/MSC)                    Lady Brabourne College      87\n",
       "289  Honors (BSC/MSC)                      Maulana Azad College      52\n",
       "198       Engineering  Regent Education and Research Foundation      31\n",
       "275  Honors (BSC/MSC)                   Lady Brabourne College       28\n",
       "309  Honors (BSC/MSC)                     Presidency University      18\n",
       "194       Engineering  Regent Education And Research Foundation      12\n",
       "207       Engineering  Regent education and research foundation      12\n",
       "290  Honors (BSC/MSC)                     Maulana Azad College       12\n",
       "295  Honors (BSC/MSC)                      Maulana Azad college      12"
      ]
     },
     "execution_count": 25,
     "metadata": {},
     "output_type": "execute_result"
    }
   ],
   "source": [
    "university=free_session.dropna(subset=['College_name'])#creating subset of university name column by removing NA values\n",
    "uni_grpby=free_session.groupby(['Department','College_name'])['College_name'].agg('count')# group by with department by counting university name\n",
    "uni_dataframe=pd.DataFrame(uni_grpby)# create dataframe of uni_grpby\n",
    "uni_dataframe.rename(columns={'College_name':\"counts\"},inplace=True)# rename column name\n",
    "uni_dataframe.reset_index(inplace=True)# reset new index name \n",
    "uni_dataframe.sort_values(\"counts\",ascending=False)# counting sort vaues of university name counts\n",
    "uni_counts = uni_dataframe[uni_dataframe['counts'] > 10]# find university name coutns more then 10\n",
    "uni_counts.sort_values(\"counts\",ascending=False)# finding new sort vaues"
   ]
  },
  {
   "cell_type": "code",
   "execution_count": 26,
   "metadata": {},
   "outputs": [
    {
     "data": {
      "application/vnd.plotly.v1+json": {
       "config": {
        "linkText": "Export to plot.ly",
        "plotlyServerURL": "https://plot.ly",
        "showLink": false
       },
       "data": [
        {
         "marker": {
          "color": "lightBlue"
         },
         "text": [
          "Honors (BSC/MSC)",
          "Honors (BSC/MSC)",
          "Engineering",
          "Honors (BSC/MSC)",
          "Honors (BSC/MSC)",
          "Engineering",
          "Engineering",
          "Honors (BSC/MSC)",
          "Honors (BSC/MSC)"
         ],
         "type": "bar",
         "x": [
          "Honors (BSC/MSC)",
          "Honors (BSC/MSC)",
          "Engineering",
          "Honors (BSC/MSC)",
          "Honors (BSC/MSC)",
          "Engineering",
          "Engineering",
          "Honors (BSC/MSC)",
          "Honors (BSC/MSC)"
         ],
         "y": [
          87,
          52,
          31,
          28,
          18,
          12,
          12,
          12,
          12
         ]
        }
       ],
       "layout": {
        "hovermode": "closest",
        "paper_bgcolor": "rgba(0, 0, 0, 0)",
        "plot_bgcolor": "rgba(0, 0, 0, 0)",
        "template": {
         "data": {
          "bar": [
           {
            "error_x": {
             "color": "#2a3f5f"
            },
            "error_y": {
             "color": "#2a3f5f"
            },
            "marker": {
             "line": {
              "color": "#E5ECF6",
              "width": 0.5
             }
            },
            "type": "bar"
           }
          ],
          "barpolar": [
           {
            "marker": {
             "line": {
              "color": "#E5ECF6",
              "width": 0.5
             }
            },
            "type": "barpolar"
           }
          ],
          "carpet": [
           {
            "aaxis": {
             "endlinecolor": "#2a3f5f",
             "gridcolor": "white",
             "linecolor": "white",
             "minorgridcolor": "white",
             "startlinecolor": "#2a3f5f"
            },
            "baxis": {
             "endlinecolor": "#2a3f5f",
             "gridcolor": "white",
             "linecolor": "white",
             "minorgridcolor": "white",
             "startlinecolor": "#2a3f5f"
            },
            "type": "carpet"
           }
          ],
          "choropleth": [
           {
            "colorbar": {
             "outlinewidth": 0,
             "ticks": ""
            },
            "type": "choropleth"
           }
          ],
          "contour": [
           {
            "colorbar": {
             "outlinewidth": 0,
             "ticks": ""
            },
            "colorscale": [
             [
              0,
              "#0d0887"
             ],
             [
              0.1111111111111111,
              "#46039f"
             ],
             [
              0.2222222222222222,
              "#7201a8"
             ],
             [
              0.3333333333333333,
              "#9c179e"
             ],
             [
              0.4444444444444444,
              "#bd3786"
             ],
             [
              0.5555555555555556,
              "#d8576b"
             ],
             [
              0.6666666666666666,
              "#ed7953"
             ],
             [
              0.7777777777777778,
              "#fb9f3a"
             ],
             [
              0.8888888888888888,
              "#fdca26"
             ],
             [
              1,
              "#f0f921"
             ]
            ],
            "type": "contour"
           }
          ],
          "contourcarpet": [
           {
            "colorbar": {
             "outlinewidth": 0,
             "ticks": ""
            },
            "type": "contourcarpet"
           }
          ],
          "heatmap": [
           {
            "colorbar": {
             "outlinewidth": 0,
             "ticks": ""
            },
            "colorscale": [
             [
              0,
              "#0d0887"
             ],
             [
              0.1111111111111111,
              "#46039f"
             ],
             [
              0.2222222222222222,
              "#7201a8"
             ],
             [
              0.3333333333333333,
              "#9c179e"
             ],
             [
              0.4444444444444444,
              "#bd3786"
             ],
             [
              0.5555555555555556,
              "#d8576b"
             ],
             [
              0.6666666666666666,
              "#ed7953"
             ],
             [
              0.7777777777777778,
              "#fb9f3a"
             ],
             [
              0.8888888888888888,
              "#fdca26"
             ],
             [
              1,
              "#f0f921"
             ]
            ],
            "type": "heatmap"
           }
          ],
          "heatmapgl": [
           {
            "colorbar": {
             "outlinewidth": 0,
             "ticks": ""
            },
            "colorscale": [
             [
              0,
              "#0d0887"
             ],
             [
              0.1111111111111111,
              "#46039f"
             ],
             [
              0.2222222222222222,
              "#7201a8"
             ],
             [
              0.3333333333333333,
              "#9c179e"
             ],
             [
              0.4444444444444444,
              "#bd3786"
             ],
             [
              0.5555555555555556,
              "#d8576b"
             ],
             [
              0.6666666666666666,
              "#ed7953"
             ],
             [
              0.7777777777777778,
              "#fb9f3a"
             ],
             [
              0.8888888888888888,
              "#fdca26"
             ],
             [
              1,
              "#f0f921"
             ]
            ],
            "type": "heatmapgl"
           }
          ],
          "histogram": [
           {
            "marker": {
             "colorbar": {
              "outlinewidth": 0,
              "ticks": ""
             }
            },
            "type": "histogram"
           }
          ],
          "histogram2d": [
           {
            "colorbar": {
             "outlinewidth": 0,
             "ticks": ""
            },
            "colorscale": [
             [
              0,
              "#0d0887"
             ],
             [
              0.1111111111111111,
              "#46039f"
             ],
             [
              0.2222222222222222,
              "#7201a8"
             ],
             [
              0.3333333333333333,
              "#9c179e"
             ],
             [
              0.4444444444444444,
              "#bd3786"
             ],
             [
              0.5555555555555556,
              "#d8576b"
             ],
             [
              0.6666666666666666,
              "#ed7953"
             ],
             [
              0.7777777777777778,
              "#fb9f3a"
             ],
             [
              0.8888888888888888,
              "#fdca26"
             ],
             [
              1,
              "#f0f921"
             ]
            ],
            "type": "histogram2d"
           }
          ],
          "histogram2dcontour": [
           {
            "colorbar": {
             "outlinewidth": 0,
             "ticks": ""
            },
            "colorscale": [
             [
              0,
              "#0d0887"
             ],
             [
              0.1111111111111111,
              "#46039f"
             ],
             [
              0.2222222222222222,
              "#7201a8"
             ],
             [
              0.3333333333333333,
              "#9c179e"
             ],
             [
              0.4444444444444444,
              "#bd3786"
             ],
             [
              0.5555555555555556,
              "#d8576b"
             ],
             [
              0.6666666666666666,
              "#ed7953"
             ],
             [
              0.7777777777777778,
              "#fb9f3a"
             ],
             [
              0.8888888888888888,
              "#fdca26"
             ],
             [
              1,
              "#f0f921"
             ]
            ],
            "type": "histogram2dcontour"
           }
          ],
          "mesh3d": [
           {
            "colorbar": {
             "outlinewidth": 0,
             "ticks": ""
            },
            "type": "mesh3d"
           }
          ],
          "parcoords": [
           {
            "line": {
             "colorbar": {
              "outlinewidth": 0,
              "ticks": ""
             }
            },
            "type": "parcoords"
           }
          ],
          "pie": [
           {
            "automargin": true,
            "type": "pie"
           }
          ],
          "scatter": [
           {
            "marker": {
             "colorbar": {
              "outlinewidth": 0,
              "ticks": ""
             }
            },
            "type": "scatter"
           }
          ],
          "scatter3d": [
           {
            "line": {
             "colorbar": {
              "outlinewidth": 0,
              "ticks": ""
             }
            },
            "marker": {
             "colorbar": {
              "outlinewidth": 0,
              "ticks": ""
             }
            },
            "type": "scatter3d"
           }
          ],
          "scattercarpet": [
           {
            "marker": {
             "colorbar": {
              "outlinewidth": 0,
              "ticks": ""
             }
            },
            "type": "scattercarpet"
           }
          ],
          "scattergeo": [
           {
            "marker": {
             "colorbar": {
              "outlinewidth": 0,
              "ticks": ""
             }
            },
            "type": "scattergeo"
           }
          ],
          "scattergl": [
           {
            "marker": {
             "colorbar": {
              "outlinewidth": 0,
              "ticks": ""
             }
            },
            "type": "scattergl"
           }
          ],
          "scattermapbox": [
           {
            "marker": {
             "colorbar": {
              "outlinewidth": 0,
              "ticks": ""
             }
            },
            "type": "scattermapbox"
           }
          ],
          "scatterpolar": [
           {
            "marker": {
             "colorbar": {
              "outlinewidth": 0,
              "ticks": ""
             }
            },
            "type": "scatterpolar"
           }
          ],
          "scatterpolargl": [
           {
            "marker": {
             "colorbar": {
              "outlinewidth": 0,
              "ticks": ""
             }
            },
            "type": "scatterpolargl"
           }
          ],
          "scatterternary": [
           {
            "marker": {
             "colorbar": {
              "outlinewidth": 0,
              "ticks": ""
             }
            },
            "type": "scatterternary"
           }
          ],
          "surface": [
           {
            "colorbar": {
             "outlinewidth": 0,
             "ticks": ""
            },
            "colorscale": [
             [
              0,
              "#0d0887"
             ],
             [
              0.1111111111111111,
              "#46039f"
             ],
             [
              0.2222222222222222,
              "#7201a8"
             ],
             [
              0.3333333333333333,
              "#9c179e"
             ],
             [
              0.4444444444444444,
              "#bd3786"
             ],
             [
              0.5555555555555556,
              "#d8576b"
             ],
             [
              0.6666666666666666,
              "#ed7953"
             ],
             [
              0.7777777777777778,
              "#fb9f3a"
             ],
             [
              0.8888888888888888,
              "#fdca26"
             ],
             [
              1,
              "#f0f921"
             ]
            ],
            "type": "surface"
           }
          ],
          "table": [
           {
            "cells": {
             "fill": {
              "color": "#EBF0F8"
             },
             "line": {
              "color": "white"
             }
            },
            "header": {
             "fill": {
              "color": "#C8D4E3"
             },
             "line": {
              "color": "white"
             }
            },
            "type": "table"
           }
          ]
         },
         "layout": {
          "annotationdefaults": {
           "arrowcolor": "#2a3f5f",
           "arrowhead": 0,
           "arrowwidth": 1
          },
          "autotypenumbers": "strict",
          "coloraxis": {
           "colorbar": {
            "outlinewidth": 0,
            "ticks": ""
           }
          },
          "colorscale": {
           "diverging": [
            [
             0,
             "#8e0152"
            ],
            [
             0.1,
             "#c51b7d"
            ],
            [
             0.2,
             "#de77ae"
            ],
            [
             0.3,
             "#f1b6da"
            ],
            [
             0.4,
             "#fde0ef"
            ],
            [
             0.5,
             "#f7f7f7"
            ],
            [
             0.6,
             "#e6f5d0"
            ],
            [
             0.7,
             "#b8e186"
            ],
            [
             0.8,
             "#7fbc41"
            ],
            [
             0.9,
             "#4d9221"
            ],
            [
             1,
             "#276419"
            ]
           ],
           "sequential": [
            [
             0,
             "#0d0887"
            ],
            [
             0.1111111111111111,
             "#46039f"
            ],
            [
             0.2222222222222222,
             "#7201a8"
            ],
            [
             0.3333333333333333,
             "#9c179e"
            ],
            [
             0.4444444444444444,
             "#bd3786"
            ],
            [
             0.5555555555555556,
             "#d8576b"
            ],
            [
             0.6666666666666666,
             "#ed7953"
            ],
            [
             0.7777777777777778,
             "#fb9f3a"
            ],
            [
             0.8888888888888888,
             "#fdca26"
            ],
            [
             1,
             "#f0f921"
            ]
           ],
           "sequentialminus": [
            [
             0,
             "#0d0887"
            ],
            [
             0.1111111111111111,
             "#46039f"
            ],
            [
             0.2222222222222222,
             "#7201a8"
            ],
            [
             0.3333333333333333,
             "#9c179e"
            ],
            [
             0.4444444444444444,
             "#bd3786"
            ],
            [
             0.5555555555555556,
             "#d8576b"
            ],
            [
             0.6666666666666666,
             "#ed7953"
            ],
            [
             0.7777777777777778,
             "#fb9f3a"
            ],
            [
             0.8888888888888888,
             "#fdca26"
            ],
            [
             1,
             "#f0f921"
            ]
           ]
          },
          "colorway": [
           "#636efa",
           "#EF553B",
           "#00cc96",
           "#ab63fa",
           "#FFA15A",
           "#19d3f3",
           "#FF6692",
           "#B6E880",
           "#FF97FF",
           "#FECB52"
          ],
          "font": {
           "color": "#2a3f5f"
          },
          "geo": {
           "bgcolor": "white",
           "lakecolor": "white",
           "landcolor": "#E5ECF6",
           "showlakes": true,
           "showland": true,
           "subunitcolor": "white"
          },
          "hoverlabel": {
           "align": "left"
          },
          "hovermode": "closest",
          "mapbox": {
           "style": "light"
          },
          "paper_bgcolor": "white",
          "plot_bgcolor": "#E5ECF6",
          "polar": {
           "angularaxis": {
            "gridcolor": "white",
            "linecolor": "white",
            "ticks": ""
           },
           "bgcolor": "#E5ECF6",
           "radialaxis": {
            "gridcolor": "white",
            "linecolor": "white",
            "ticks": ""
           }
          },
          "scene": {
           "xaxis": {
            "backgroundcolor": "#E5ECF6",
            "gridcolor": "white",
            "gridwidth": 2,
            "linecolor": "white",
            "showbackground": true,
            "ticks": "",
            "zerolinecolor": "white"
           },
           "yaxis": {
            "backgroundcolor": "#E5ECF6",
            "gridcolor": "white",
            "gridwidth": 2,
            "linecolor": "white",
            "showbackground": true,
            "ticks": "",
            "zerolinecolor": "white"
           },
           "zaxis": {
            "backgroundcolor": "#E5ECF6",
            "gridcolor": "white",
            "gridwidth": 2,
            "linecolor": "white",
            "showbackground": true,
            "ticks": "",
            "zerolinecolor": "white"
           }
          },
          "shapedefaults": {
           "line": {
            "color": "#2a3f5f"
           }
          },
          "ternary": {
           "aaxis": {
            "gridcolor": "white",
            "linecolor": "white",
            "ticks": ""
           },
           "baxis": {
            "gridcolor": "white",
            "linecolor": "white",
            "ticks": ""
           },
           "bgcolor": "#E5ECF6",
           "caxis": {
            "gridcolor": "white",
            "linecolor": "white",
            "ticks": ""
           }
          },
          "title": {
           "x": 0.05
          },
          "xaxis": {
           "automargin": true,
           "gridcolor": "white",
           "linecolor": "white",
           "ticks": "",
           "title": {
            "standoff": 15
           },
           "zerolinecolor": "white",
           "zerolinewidth": 2
          },
          "yaxis": {
           "automargin": true,
           "gridcolor": "white",
           "linecolor": "white",
           "ticks": "",
           "title": {
            "standoff": 15
           },
           "zerolinecolor": "white",
           "zerolinewidth": 2
          }
         }
        },
        "title": {
         "text": "University along with department"
        },
        "xaxis": {
         "linecolor": "black",
         "linewidth": 2,
         "mirror": true,
         "showline": true,
         "showticklabels": true,
         "tickangle": 45,
         "tickfont": {
          "color": "red",
          "size": 10
         },
         "title": {
          "text": "Department name"
         },
         "zeroline": true,
         "zerolinecolor": "grey",
         "zerolinewidth": 1
        },
        "yaxis": {
         "gridcolor": "lightgrey",
         "linecolor": "black",
         "linewidth": 2,
         "mirror": true,
         "showline": true,
         "title": {
          "text": "count of university"
         },
         "zeroline": true,
         "zerolinecolor": "grey",
         "zerolinewidth": 1
        }
       }
      },
      "text/html": [
       "<div>                            <div id=\"f7fe39e1-496f-4fcf-b812-91fe065d6fbf\" class=\"plotly-graph-div\" style=\"height:525px; width:100%;\"></div>            <script type=\"text/javascript\">                require([\"plotly\"], function(Plotly) {                    window.PLOTLYENV=window.PLOTLYENV || {};                                    if (document.getElementById(\"f7fe39e1-496f-4fcf-b812-91fe065d6fbf\")) {                    Plotly.newPlot(                        \"f7fe39e1-496f-4fcf-b812-91fe065d6fbf\",                        [{\"marker\": {\"color\": \"lightBlue\"}, \"text\": [\"Honors (BSC/MSC)\", \"Honors (BSC/MSC)\", \"Engineering\", \"Honors (BSC/MSC)\", \"Honors (BSC/MSC)\", \"Engineering\", \"Engineering\", \"Honors (BSC/MSC)\", \"Honors (BSC/MSC)\"], \"type\": \"bar\", \"x\": [\"Honors (BSC/MSC)\", \"Honors (BSC/MSC)\", \"Engineering\", \"Honors (BSC/MSC)\", \"Honors (BSC/MSC)\", \"Engineering\", \"Engineering\", \"Honors (BSC/MSC)\", \"Honors (BSC/MSC)\"], \"y\": [87, 52, 31, 28, 18, 12, 12, 12, 12]}],                        {\"hovermode\": \"closest\", \"paper_bgcolor\": \"rgba(0, 0, 0, 0)\", \"plot_bgcolor\": \"rgba(0, 0, 0, 0)\", \"template\": {\"data\": {\"bar\": [{\"error_x\": {\"color\": \"#2a3f5f\"}, \"error_y\": {\"color\": \"#2a3f5f\"}, \"marker\": {\"line\": {\"color\": \"#E5ECF6\", \"width\": 0.5}}, \"type\": \"bar\"}], \"barpolar\": [{\"marker\": {\"line\": {\"color\": \"#E5ECF6\", \"width\": 0.5}}, \"type\": \"barpolar\"}], \"carpet\": [{\"aaxis\": {\"endlinecolor\": \"#2a3f5f\", \"gridcolor\": \"white\", \"linecolor\": \"white\", \"minorgridcolor\": \"white\", \"startlinecolor\": \"#2a3f5f\"}, \"baxis\": {\"endlinecolor\": \"#2a3f5f\", \"gridcolor\": \"white\", \"linecolor\": \"white\", \"minorgridcolor\": \"white\", \"startlinecolor\": \"#2a3f5f\"}, \"type\": \"carpet\"}], \"choropleth\": [{\"colorbar\": {\"outlinewidth\": 0, \"ticks\": \"\"}, \"type\": \"choropleth\"}], \"contour\": [{\"colorbar\": {\"outlinewidth\": 0, \"ticks\": \"\"}, \"colorscale\": [[0.0, \"#0d0887\"], [0.1111111111111111, \"#46039f\"], [0.2222222222222222, \"#7201a8\"], [0.3333333333333333, \"#9c179e\"], [0.4444444444444444, \"#bd3786\"], [0.5555555555555556, \"#d8576b\"], [0.6666666666666666, \"#ed7953\"], [0.7777777777777778, \"#fb9f3a\"], [0.8888888888888888, \"#fdca26\"], [1.0, \"#f0f921\"]], \"type\": \"contour\"}], \"contourcarpet\": [{\"colorbar\": {\"outlinewidth\": 0, \"ticks\": \"\"}, \"type\": \"contourcarpet\"}], \"heatmap\": [{\"colorbar\": {\"outlinewidth\": 0, \"ticks\": \"\"}, \"colorscale\": [[0.0, \"#0d0887\"], [0.1111111111111111, \"#46039f\"], [0.2222222222222222, \"#7201a8\"], [0.3333333333333333, \"#9c179e\"], [0.4444444444444444, \"#bd3786\"], [0.5555555555555556, \"#d8576b\"], [0.6666666666666666, \"#ed7953\"], [0.7777777777777778, \"#fb9f3a\"], [0.8888888888888888, \"#fdca26\"], [1.0, \"#f0f921\"]], \"type\": \"heatmap\"}], \"heatmapgl\": [{\"colorbar\": {\"outlinewidth\": 0, \"ticks\": \"\"}, \"colorscale\": [[0.0, \"#0d0887\"], [0.1111111111111111, \"#46039f\"], [0.2222222222222222, \"#7201a8\"], [0.3333333333333333, \"#9c179e\"], [0.4444444444444444, \"#bd3786\"], [0.5555555555555556, \"#d8576b\"], [0.6666666666666666, \"#ed7953\"], [0.7777777777777778, \"#fb9f3a\"], [0.8888888888888888, \"#fdca26\"], [1.0, \"#f0f921\"]], \"type\": \"heatmapgl\"}], \"histogram\": [{\"marker\": {\"colorbar\": {\"outlinewidth\": 0, \"ticks\": \"\"}}, \"type\": \"histogram\"}], \"histogram2d\": [{\"colorbar\": {\"outlinewidth\": 0, \"ticks\": \"\"}, \"colorscale\": [[0.0, \"#0d0887\"], [0.1111111111111111, \"#46039f\"], [0.2222222222222222, \"#7201a8\"], [0.3333333333333333, \"#9c179e\"], [0.4444444444444444, \"#bd3786\"], [0.5555555555555556, \"#d8576b\"], [0.6666666666666666, \"#ed7953\"], [0.7777777777777778, \"#fb9f3a\"], [0.8888888888888888, \"#fdca26\"], [1.0, \"#f0f921\"]], \"type\": \"histogram2d\"}], \"histogram2dcontour\": [{\"colorbar\": {\"outlinewidth\": 0, \"ticks\": \"\"}, \"colorscale\": [[0.0, \"#0d0887\"], [0.1111111111111111, \"#46039f\"], [0.2222222222222222, \"#7201a8\"], [0.3333333333333333, \"#9c179e\"], [0.4444444444444444, \"#bd3786\"], [0.5555555555555556, \"#d8576b\"], [0.6666666666666666, \"#ed7953\"], [0.7777777777777778, \"#fb9f3a\"], [0.8888888888888888, \"#fdca26\"], [1.0, \"#f0f921\"]], \"type\": \"histogram2dcontour\"}], \"mesh3d\": [{\"colorbar\": {\"outlinewidth\": 0, \"ticks\": \"\"}, \"type\": \"mesh3d\"}], \"parcoords\": [{\"line\": {\"colorbar\": {\"outlinewidth\": 0, \"ticks\": \"\"}}, \"type\": \"parcoords\"}], \"pie\": [{\"automargin\": true, \"type\": \"pie\"}], \"scatter\": [{\"marker\": {\"colorbar\": {\"outlinewidth\": 0, \"ticks\": \"\"}}, \"type\": \"scatter\"}], \"scatter3d\": [{\"line\": {\"colorbar\": {\"outlinewidth\": 0, \"ticks\": \"\"}}, \"marker\": {\"colorbar\": {\"outlinewidth\": 0, \"ticks\": \"\"}}, \"type\": \"scatter3d\"}], \"scattercarpet\": [{\"marker\": {\"colorbar\": {\"outlinewidth\": 0, \"ticks\": \"\"}}, \"type\": \"scattercarpet\"}], \"scattergeo\": [{\"marker\": {\"colorbar\": {\"outlinewidth\": 0, \"ticks\": \"\"}}, \"type\": \"scattergeo\"}], \"scattergl\": [{\"marker\": {\"colorbar\": {\"outlinewidth\": 0, \"ticks\": \"\"}}, \"type\": \"scattergl\"}], \"scattermapbox\": [{\"marker\": {\"colorbar\": {\"outlinewidth\": 0, \"ticks\": \"\"}}, \"type\": \"scattermapbox\"}], \"scatterpolar\": [{\"marker\": {\"colorbar\": {\"outlinewidth\": 0, \"ticks\": \"\"}}, \"type\": \"scatterpolar\"}], \"scatterpolargl\": [{\"marker\": {\"colorbar\": {\"outlinewidth\": 0, \"ticks\": \"\"}}, \"type\": \"scatterpolargl\"}], \"scatterternary\": [{\"marker\": {\"colorbar\": {\"outlinewidth\": 0, \"ticks\": \"\"}}, \"type\": \"scatterternary\"}], \"surface\": [{\"colorbar\": {\"outlinewidth\": 0, \"ticks\": \"\"}, \"colorscale\": [[0.0, \"#0d0887\"], [0.1111111111111111, \"#46039f\"], [0.2222222222222222, \"#7201a8\"], [0.3333333333333333, \"#9c179e\"], [0.4444444444444444, \"#bd3786\"], [0.5555555555555556, \"#d8576b\"], [0.6666666666666666, \"#ed7953\"], [0.7777777777777778, \"#fb9f3a\"], [0.8888888888888888, \"#fdca26\"], [1.0, \"#f0f921\"]], \"type\": \"surface\"}], \"table\": [{\"cells\": {\"fill\": {\"color\": \"#EBF0F8\"}, \"line\": {\"color\": \"white\"}}, \"header\": {\"fill\": {\"color\": \"#C8D4E3\"}, \"line\": {\"color\": \"white\"}}, \"type\": \"table\"}]}, \"layout\": {\"annotationdefaults\": {\"arrowcolor\": \"#2a3f5f\", \"arrowhead\": 0, \"arrowwidth\": 1}, \"autotypenumbers\": \"strict\", \"coloraxis\": {\"colorbar\": {\"outlinewidth\": 0, \"ticks\": \"\"}}, \"colorscale\": {\"diverging\": [[0, \"#8e0152\"], [0.1, \"#c51b7d\"], [0.2, \"#de77ae\"], [0.3, \"#f1b6da\"], [0.4, \"#fde0ef\"], [0.5, \"#f7f7f7\"], [0.6, \"#e6f5d0\"], [0.7, \"#b8e186\"], [0.8, \"#7fbc41\"], [0.9, \"#4d9221\"], [1, \"#276419\"]], \"sequential\": [[0.0, \"#0d0887\"], [0.1111111111111111, \"#46039f\"], [0.2222222222222222, \"#7201a8\"], [0.3333333333333333, \"#9c179e\"], [0.4444444444444444, \"#bd3786\"], [0.5555555555555556, \"#d8576b\"], [0.6666666666666666, \"#ed7953\"], [0.7777777777777778, \"#fb9f3a\"], [0.8888888888888888, \"#fdca26\"], [1.0, \"#f0f921\"]], \"sequentialminus\": [[0.0, \"#0d0887\"], [0.1111111111111111, \"#46039f\"], [0.2222222222222222, \"#7201a8\"], [0.3333333333333333, \"#9c179e\"], [0.4444444444444444, \"#bd3786\"], [0.5555555555555556, \"#d8576b\"], [0.6666666666666666, \"#ed7953\"], [0.7777777777777778, \"#fb9f3a\"], [0.8888888888888888, \"#fdca26\"], [1.0, \"#f0f921\"]]}, \"colorway\": [\"#636efa\", \"#EF553B\", \"#00cc96\", \"#ab63fa\", \"#FFA15A\", \"#19d3f3\", \"#FF6692\", \"#B6E880\", \"#FF97FF\", \"#FECB52\"], \"font\": {\"color\": \"#2a3f5f\"}, \"geo\": {\"bgcolor\": \"white\", \"lakecolor\": \"white\", \"landcolor\": \"#E5ECF6\", \"showlakes\": true, \"showland\": true, \"subunitcolor\": \"white\"}, \"hoverlabel\": {\"align\": \"left\"}, \"hovermode\": \"closest\", \"mapbox\": {\"style\": \"light\"}, \"paper_bgcolor\": \"white\", \"plot_bgcolor\": \"#E5ECF6\", \"polar\": {\"angularaxis\": {\"gridcolor\": \"white\", \"linecolor\": \"white\", \"ticks\": \"\"}, \"bgcolor\": \"#E5ECF6\", \"radialaxis\": {\"gridcolor\": \"white\", \"linecolor\": \"white\", \"ticks\": \"\"}}, \"scene\": {\"xaxis\": {\"backgroundcolor\": \"#E5ECF6\", \"gridcolor\": \"white\", \"gridwidth\": 2, \"linecolor\": \"white\", \"showbackground\": true, \"ticks\": \"\", \"zerolinecolor\": \"white\"}, \"yaxis\": {\"backgroundcolor\": \"#E5ECF6\", \"gridcolor\": \"white\", \"gridwidth\": 2, \"linecolor\": \"white\", \"showbackground\": true, \"ticks\": \"\", \"zerolinecolor\": \"white\"}, \"zaxis\": {\"backgroundcolor\": \"#E5ECF6\", \"gridcolor\": \"white\", \"gridwidth\": 2, \"linecolor\": \"white\", \"showbackground\": true, \"ticks\": \"\", \"zerolinecolor\": \"white\"}}, \"shapedefaults\": {\"line\": {\"color\": \"#2a3f5f\"}}, \"ternary\": {\"aaxis\": {\"gridcolor\": \"white\", \"linecolor\": \"white\", \"ticks\": \"\"}, \"baxis\": {\"gridcolor\": \"white\", \"linecolor\": \"white\", \"ticks\": \"\"}, \"bgcolor\": \"#E5ECF6\", \"caxis\": {\"gridcolor\": \"white\", \"linecolor\": \"white\", \"ticks\": \"\"}}, \"title\": {\"x\": 0.05}, \"xaxis\": {\"automargin\": true, \"gridcolor\": \"white\", \"linecolor\": \"white\", \"ticks\": \"\", \"title\": {\"standoff\": 15}, \"zerolinecolor\": \"white\", \"zerolinewidth\": 2}, \"yaxis\": {\"automargin\": true, \"gridcolor\": \"white\", \"linecolor\": \"white\", \"ticks\": \"\", \"title\": {\"standoff\": 15}, \"zerolinecolor\": \"white\", \"zerolinewidth\": 2}}}, \"title\": {\"text\": \"University along with department\"}, \"xaxis\": {\"linecolor\": \"black\", \"linewidth\": 2, \"mirror\": true, \"showline\": true, \"showticklabels\": true, \"tickangle\": 45, \"tickfont\": {\"color\": \"red\", \"size\": 10}, \"title\": {\"text\": \"Department name\"}, \"zeroline\": true, \"zerolinecolor\": \"grey\", \"zerolinewidth\": 1}, \"yaxis\": {\"gridcolor\": \"lightgrey\", \"linecolor\": \"black\", \"linewidth\": 2, \"mirror\": true, \"showline\": true, \"title\": {\"text\": \"count of university\"}, \"zeroline\": true, \"zerolinecolor\": \"grey\", \"zerolinewidth\": 1}},                        {\"responsive\": true}                    ).then(function(){\n",
       "                            \n",
       "var gd = document.getElementById('f7fe39e1-496f-4fcf-b812-91fe065d6fbf');\n",
       "var x = new MutationObserver(function (mutations, observer) {{\n",
       "        var display = window.getComputedStyle(gd).display;\n",
       "        if (!display || display === 'none') {{\n",
       "            console.log([gd, 'removed!']);\n",
       "            Plotly.purge(gd);\n",
       "            observer.disconnect();\n",
       "        }}\n",
       "}});\n",
       "\n",
       "// Listen for the removal of the full notebook cells\n",
       "var notebookContainer = gd.closest('#notebook-container');\n",
       "if (notebookContainer) {{\n",
       "    x.observe(notebookContainer, {childList: true});\n",
       "}}\n",
       "\n",
       "// Listen for the clearing of the current output cell\n",
       "var outputEl = gd.closest('.output');\n",
       "if (outputEl) {{\n",
       "    x.observe(outputEl, {childList: true});\n",
       "}}\n",
       "\n",
       "                        })                };                });            </script>        </div>"
      ]
     },
     "metadata": {},
     "output_type": "display_data"
    }
   ],
   "source": [
    "draw_trace_bar(uni_counts,'Department','counts','University along with department','Department name','count of university')"
   ]
  },
  {
   "cell_type": "markdown",
   "metadata": {},
   "source": [
    "By analysing this trace bar chart ,we can see that most of the students are from honours(BSC/MSC) department.so,Among all of department honours(BSC/MSC) department is leading in free session dataset. "
   ]
  },
  {
   "cell_type": "code",
   "execution_count": 27,
   "metadata": {},
   "outputs": [
    {
     "data": {
      "application/vnd.plotly.v1+json": {
       "config": {
        "plotlyServerURL": "https://plot.ly"
       },
       "data": [
        {
         "colorscale": [
          [
           0,
           "#636efa"
          ],
          [
           1,
           "#636efa"
          ]
         ],
         "geo": "geo",
         "hovertemplate": "color=Engineering<br>locations=%{location}<extra></extra>",
         "locations": [
          "Regent Education And Research Foundation",
          "Regent Education and Research Foundation",
          "Regent education and research foundation"
         ],
         "name": "Engineering",
         "showlegend": true,
         "showscale": false,
         "type": "choropleth",
         "z": [
          1,
          1,
          1
         ]
        },
        {
         "colorscale": [
          [
           0,
           "#EF553B"
          ],
          [
           1,
           "#EF553B"
          ]
         ],
         "geo": "geo",
         "hovertemplate": "color=Honors (BSC/MSC)<br>locations=%{location}<extra></extra>",
         "locations": [
          "Lady Brabourne College",
          "Lady Brabourne College ",
          "Maulana Azad College",
          "Maulana Azad College ",
          "Maulana Azad college",
          "Presidency University"
         ],
         "name": "Honors (BSC/MSC)",
         "showlegend": true,
         "showscale": false,
         "type": "choropleth",
         "z": [
          1,
          1,
          1,
          1,
          1,
          1
         ]
        }
       ],
       "layout": {
        "geo": {
         "center": {},
         "domain": {
          "x": [
           0,
           1
          ],
          "y": [
           0,
           1
          ]
         }
        },
        "legend": {
         "orientation": "h",
         "title": {
          "text": "Department"
         },
         "tracegroupgap": 0
        },
        "template": {
         "data": {
          "bar": [
           {
            "error_x": {
             "color": "#2a3f5f"
            },
            "error_y": {
             "color": "#2a3f5f"
            },
            "marker": {
             "line": {
              "color": "#E5ECF6",
              "width": 0.5
             }
            },
            "type": "bar"
           }
          ],
          "barpolar": [
           {
            "marker": {
             "line": {
              "color": "#E5ECF6",
              "width": 0.5
             }
            },
            "type": "barpolar"
           }
          ],
          "carpet": [
           {
            "aaxis": {
             "endlinecolor": "#2a3f5f",
             "gridcolor": "white",
             "linecolor": "white",
             "minorgridcolor": "white",
             "startlinecolor": "#2a3f5f"
            },
            "baxis": {
             "endlinecolor": "#2a3f5f",
             "gridcolor": "white",
             "linecolor": "white",
             "minorgridcolor": "white",
             "startlinecolor": "#2a3f5f"
            },
            "type": "carpet"
           }
          ],
          "choropleth": [
           {
            "colorbar": {
             "outlinewidth": 0,
             "ticks": ""
            },
            "type": "choropleth"
           }
          ],
          "contour": [
           {
            "colorbar": {
             "outlinewidth": 0,
             "ticks": ""
            },
            "colorscale": [
             [
              0,
              "#0d0887"
             ],
             [
              0.1111111111111111,
              "#46039f"
             ],
             [
              0.2222222222222222,
              "#7201a8"
             ],
             [
              0.3333333333333333,
              "#9c179e"
             ],
             [
              0.4444444444444444,
              "#bd3786"
             ],
             [
              0.5555555555555556,
              "#d8576b"
             ],
             [
              0.6666666666666666,
              "#ed7953"
             ],
             [
              0.7777777777777778,
              "#fb9f3a"
             ],
             [
              0.8888888888888888,
              "#fdca26"
             ],
             [
              1,
              "#f0f921"
             ]
            ],
            "type": "contour"
           }
          ],
          "contourcarpet": [
           {
            "colorbar": {
             "outlinewidth": 0,
             "ticks": ""
            },
            "type": "contourcarpet"
           }
          ],
          "heatmap": [
           {
            "colorbar": {
             "outlinewidth": 0,
             "ticks": ""
            },
            "colorscale": [
             [
              0,
              "#0d0887"
             ],
             [
              0.1111111111111111,
              "#46039f"
             ],
             [
              0.2222222222222222,
              "#7201a8"
             ],
             [
              0.3333333333333333,
              "#9c179e"
             ],
             [
              0.4444444444444444,
              "#bd3786"
             ],
             [
              0.5555555555555556,
              "#d8576b"
             ],
             [
              0.6666666666666666,
              "#ed7953"
             ],
             [
              0.7777777777777778,
              "#fb9f3a"
             ],
             [
              0.8888888888888888,
              "#fdca26"
             ],
             [
              1,
              "#f0f921"
             ]
            ],
            "type": "heatmap"
           }
          ],
          "heatmapgl": [
           {
            "colorbar": {
             "outlinewidth": 0,
             "ticks": ""
            },
            "colorscale": [
             [
              0,
              "#0d0887"
             ],
             [
              0.1111111111111111,
              "#46039f"
             ],
             [
              0.2222222222222222,
              "#7201a8"
             ],
             [
              0.3333333333333333,
              "#9c179e"
             ],
             [
              0.4444444444444444,
              "#bd3786"
             ],
             [
              0.5555555555555556,
              "#d8576b"
             ],
             [
              0.6666666666666666,
              "#ed7953"
             ],
             [
              0.7777777777777778,
              "#fb9f3a"
             ],
             [
              0.8888888888888888,
              "#fdca26"
             ],
             [
              1,
              "#f0f921"
             ]
            ],
            "type": "heatmapgl"
           }
          ],
          "histogram": [
           {
            "marker": {
             "colorbar": {
              "outlinewidth": 0,
              "ticks": ""
             }
            },
            "type": "histogram"
           }
          ],
          "histogram2d": [
           {
            "colorbar": {
             "outlinewidth": 0,
             "ticks": ""
            },
            "colorscale": [
             [
              0,
              "#0d0887"
             ],
             [
              0.1111111111111111,
              "#46039f"
             ],
             [
              0.2222222222222222,
              "#7201a8"
             ],
             [
              0.3333333333333333,
              "#9c179e"
             ],
             [
              0.4444444444444444,
              "#bd3786"
             ],
             [
              0.5555555555555556,
              "#d8576b"
             ],
             [
              0.6666666666666666,
              "#ed7953"
             ],
             [
              0.7777777777777778,
              "#fb9f3a"
             ],
             [
              0.8888888888888888,
              "#fdca26"
             ],
             [
              1,
              "#f0f921"
             ]
            ],
            "type": "histogram2d"
           }
          ],
          "histogram2dcontour": [
           {
            "colorbar": {
             "outlinewidth": 0,
             "ticks": ""
            },
            "colorscale": [
             [
              0,
              "#0d0887"
             ],
             [
              0.1111111111111111,
              "#46039f"
             ],
             [
              0.2222222222222222,
              "#7201a8"
             ],
             [
              0.3333333333333333,
              "#9c179e"
             ],
             [
              0.4444444444444444,
              "#bd3786"
             ],
             [
              0.5555555555555556,
              "#d8576b"
             ],
             [
              0.6666666666666666,
              "#ed7953"
             ],
             [
              0.7777777777777778,
              "#fb9f3a"
             ],
             [
              0.8888888888888888,
              "#fdca26"
             ],
             [
              1,
              "#f0f921"
             ]
            ],
            "type": "histogram2dcontour"
           }
          ],
          "mesh3d": [
           {
            "colorbar": {
             "outlinewidth": 0,
             "ticks": ""
            },
            "type": "mesh3d"
           }
          ],
          "parcoords": [
           {
            "line": {
             "colorbar": {
              "outlinewidth": 0,
              "ticks": ""
             }
            },
            "type": "parcoords"
           }
          ],
          "pie": [
           {
            "automargin": true,
            "type": "pie"
           }
          ],
          "scatter": [
           {
            "marker": {
             "colorbar": {
              "outlinewidth": 0,
              "ticks": ""
             }
            },
            "type": "scatter"
           }
          ],
          "scatter3d": [
           {
            "line": {
             "colorbar": {
              "outlinewidth": 0,
              "ticks": ""
             }
            },
            "marker": {
             "colorbar": {
              "outlinewidth": 0,
              "ticks": ""
             }
            },
            "type": "scatter3d"
           }
          ],
          "scattercarpet": [
           {
            "marker": {
             "colorbar": {
              "outlinewidth": 0,
              "ticks": ""
             }
            },
            "type": "scattercarpet"
           }
          ],
          "scattergeo": [
           {
            "marker": {
             "colorbar": {
              "outlinewidth": 0,
              "ticks": ""
             }
            },
            "type": "scattergeo"
           }
          ],
          "scattergl": [
           {
            "marker": {
             "colorbar": {
              "outlinewidth": 0,
              "ticks": ""
             }
            },
            "type": "scattergl"
           }
          ],
          "scattermapbox": [
           {
            "marker": {
             "colorbar": {
              "outlinewidth": 0,
              "ticks": ""
             }
            },
            "type": "scattermapbox"
           }
          ],
          "scatterpolar": [
           {
            "marker": {
             "colorbar": {
              "outlinewidth": 0,
              "ticks": ""
             }
            },
            "type": "scatterpolar"
           }
          ],
          "scatterpolargl": [
           {
            "marker": {
             "colorbar": {
              "outlinewidth": 0,
              "ticks": ""
             }
            },
            "type": "scatterpolargl"
           }
          ],
          "scatterternary": [
           {
            "marker": {
             "colorbar": {
              "outlinewidth": 0,
              "ticks": ""
             }
            },
            "type": "scatterternary"
           }
          ],
          "surface": [
           {
            "colorbar": {
             "outlinewidth": 0,
             "ticks": ""
            },
            "colorscale": [
             [
              0,
              "#0d0887"
             ],
             [
              0.1111111111111111,
              "#46039f"
             ],
             [
              0.2222222222222222,
              "#7201a8"
             ],
             [
              0.3333333333333333,
              "#9c179e"
             ],
             [
              0.4444444444444444,
              "#bd3786"
             ],
             [
              0.5555555555555556,
              "#d8576b"
             ],
             [
              0.6666666666666666,
              "#ed7953"
             ],
             [
              0.7777777777777778,
              "#fb9f3a"
             ],
             [
              0.8888888888888888,
              "#fdca26"
             ],
             [
              1,
              "#f0f921"
             ]
            ],
            "type": "surface"
           }
          ],
          "table": [
           {
            "cells": {
             "fill": {
              "color": "#EBF0F8"
             },
             "line": {
              "color": "white"
             }
            },
            "header": {
             "fill": {
              "color": "#C8D4E3"
             },
             "line": {
              "color": "white"
             }
            },
            "type": "table"
           }
          ]
         },
         "layout": {
          "annotationdefaults": {
           "arrowcolor": "#2a3f5f",
           "arrowhead": 0,
           "arrowwidth": 1
          },
          "autotypenumbers": "strict",
          "coloraxis": {
           "colorbar": {
            "outlinewidth": 0,
            "ticks": ""
           }
          },
          "colorscale": {
           "diverging": [
            [
             0,
             "#8e0152"
            ],
            [
             0.1,
             "#c51b7d"
            ],
            [
             0.2,
             "#de77ae"
            ],
            [
             0.3,
             "#f1b6da"
            ],
            [
             0.4,
             "#fde0ef"
            ],
            [
             0.5,
             "#f7f7f7"
            ],
            [
             0.6,
             "#e6f5d0"
            ],
            [
             0.7,
             "#b8e186"
            ],
            [
             0.8,
             "#7fbc41"
            ],
            [
             0.9,
             "#4d9221"
            ],
            [
             1,
             "#276419"
            ]
           ],
           "sequential": [
            [
             0,
             "#0d0887"
            ],
            [
             0.1111111111111111,
             "#46039f"
            ],
            [
             0.2222222222222222,
             "#7201a8"
            ],
            [
             0.3333333333333333,
             "#9c179e"
            ],
            [
             0.4444444444444444,
             "#bd3786"
            ],
            [
             0.5555555555555556,
             "#d8576b"
            ],
            [
             0.6666666666666666,
             "#ed7953"
            ],
            [
             0.7777777777777778,
             "#fb9f3a"
            ],
            [
             0.8888888888888888,
             "#fdca26"
            ],
            [
             1,
             "#f0f921"
            ]
           ],
           "sequentialminus": [
            [
             0,
             "#0d0887"
            ],
            [
             0.1111111111111111,
             "#46039f"
            ],
            [
             0.2222222222222222,
             "#7201a8"
            ],
            [
             0.3333333333333333,
             "#9c179e"
            ],
            [
             0.4444444444444444,
             "#bd3786"
            ],
            [
             0.5555555555555556,
             "#d8576b"
            ],
            [
             0.6666666666666666,
             "#ed7953"
            ],
            [
             0.7777777777777778,
             "#fb9f3a"
            ],
            [
             0.8888888888888888,
             "#fdca26"
            ],
            [
             1,
             "#f0f921"
            ]
           ]
          },
          "colorway": [
           "#636efa",
           "#EF553B",
           "#00cc96",
           "#ab63fa",
           "#FFA15A",
           "#19d3f3",
           "#FF6692",
           "#B6E880",
           "#FF97FF",
           "#FECB52"
          ],
          "font": {
           "color": "#2a3f5f"
          },
          "geo": {
           "bgcolor": "white",
           "lakecolor": "white",
           "landcolor": "#E5ECF6",
           "showlakes": true,
           "showland": true,
           "subunitcolor": "white"
          },
          "hoverlabel": {
           "align": "left"
          },
          "hovermode": "closest",
          "mapbox": {
           "style": "light"
          },
          "paper_bgcolor": "white",
          "plot_bgcolor": "#E5ECF6",
          "polar": {
           "angularaxis": {
            "gridcolor": "white",
            "linecolor": "white",
            "ticks": ""
           },
           "bgcolor": "#E5ECF6",
           "radialaxis": {
            "gridcolor": "white",
            "linecolor": "white",
            "ticks": ""
           }
          },
          "scene": {
           "xaxis": {
            "backgroundcolor": "#E5ECF6",
            "gridcolor": "white",
            "gridwidth": 2,
            "linecolor": "white",
            "showbackground": true,
            "ticks": "",
            "zerolinecolor": "white"
           },
           "yaxis": {
            "backgroundcolor": "#E5ECF6",
            "gridcolor": "white",
            "gridwidth": 2,
            "linecolor": "white",
            "showbackground": true,
            "ticks": "",
            "zerolinecolor": "white"
           },
           "zaxis": {
            "backgroundcolor": "#E5ECF6",
            "gridcolor": "white",
            "gridwidth": 2,
            "linecolor": "white",
            "showbackground": true,
            "ticks": "",
            "zerolinecolor": "white"
           }
          },
          "shapedefaults": {
           "line": {
            "color": "#2a3f5f"
           }
          },
          "ternary": {
           "aaxis": {
            "gridcolor": "white",
            "linecolor": "white",
            "ticks": ""
           },
           "baxis": {
            "gridcolor": "white",
            "linecolor": "white",
            "ticks": ""
           },
           "bgcolor": "#E5ECF6",
           "caxis": {
            "gridcolor": "white",
            "linecolor": "white",
            "ticks": ""
           }
          },
          "title": {
           "x": 0.05
          },
          "xaxis": {
           "automargin": true,
           "gridcolor": "white",
           "linecolor": "white",
           "ticks": "",
           "title": {
            "standoff": 15
           },
           "zerolinecolor": "white",
           "zerolinewidth": 2
          },
          "yaxis": {
           "automargin": true,
           "gridcolor": "white",
           "linecolor": "white",
           "ticks": "",
           "title": {
            "standoff": 15
           },
           "zerolinecolor": "white",
           "zerolinewidth": 2
          }
         }
        },
        "title": {
         "text": "University with department (different color for each department)"
        }
       }
      },
      "text/html": [
       "<div>                            <div id=\"62c062fc-dfd6-4033-8fa5-e40bf7d82393\" class=\"plotly-graph-div\" style=\"height:525px; width:100%;\"></div>            <script type=\"text/javascript\">                require([\"plotly\"], function(Plotly) {                    window.PLOTLYENV=window.PLOTLYENV || {};                                    if (document.getElementById(\"62c062fc-dfd6-4033-8fa5-e40bf7d82393\")) {                    Plotly.newPlot(                        \"62c062fc-dfd6-4033-8fa5-e40bf7d82393\",                        [{\"colorscale\": [[0.0, \"#636efa\"], [1.0, \"#636efa\"]], \"geo\": \"geo\", \"hovertemplate\": \"color=Engineering<br>locations=%{location}<extra></extra>\", \"locations\": [\"Regent Education And Research Foundation\", \"Regent Education and Research Foundation\", \"Regent education and research foundation\"], \"name\": \"Engineering\", \"showlegend\": true, \"showscale\": false, \"type\": \"choropleth\", \"z\": [1, 1, 1]}, {\"colorscale\": [[0.0, \"#EF553B\"], [1.0, \"#EF553B\"]], \"geo\": \"geo\", \"hovertemplate\": \"color=Honors (BSC/MSC)<br>locations=%{location}<extra></extra>\", \"locations\": [\"Lady Brabourne College\", \"Lady Brabourne College \", \"Maulana Azad College\", \"Maulana Azad College \", \"Maulana Azad college\", \"Presidency University\"], \"name\": \"Honors (BSC/MSC)\", \"showlegend\": true, \"showscale\": false, \"type\": \"choropleth\", \"z\": [1, 1, 1, 1, 1, 1]}],                        {\"geo\": {\"center\": {}, \"domain\": {\"x\": [0.0, 1.0], \"y\": [0.0, 1.0]}}, \"legend\": {\"orientation\": \"h\", \"title\": {\"text\": \"Department\"}, \"tracegroupgap\": 0}, \"template\": {\"data\": {\"bar\": [{\"error_x\": {\"color\": \"#2a3f5f\"}, \"error_y\": {\"color\": \"#2a3f5f\"}, \"marker\": {\"line\": {\"color\": \"#E5ECF6\", \"width\": 0.5}}, \"type\": \"bar\"}], \"barpolar\": [{\"marker\": {\"line\": {\"color\": \"#E5ECF6\", \"width\": 0.5}}, \"type\": \"barpolar\"}], \"carpet\": [{\"aaxis\": {\"endlinecolor\": \"#2a3f5f\", \"gridcolor\": \"white\", \"linecolor\": \"white\", \"minorgridcolor\": \"white\", \"startlinecolor\": \"#2a3f5f\"}, \"baxis\": {\"endlinecolor\": \"#2a3f5f\", \"gridcolor\": \"white\", \"linecolor\": \"white\", \"minorgridcolor\": \"white\", \"startlinecolor\": \"#2a3f5f\"}, \"type\": \"carpet\"}], \"choropleth\": [{\"colorbar\": {\"outlinewidth\": 0, \"ticks\": \"\"}, \"type\": \"choropleth\"}], \"contour\": [{\"colorbar\": {\"outlinewidth\": 0, \"ticks\": \"\"}, \"colorscale\": [[0.0, \"#0d0887\"], [0.1111111111111111, \"#46039f\"], [0.2222222222222222, \"#7201a8\"], [0.3333333333333333, \"#9c179e\"], [0.4444444444444444, \"#bd3786\"], [0.5555555555555556, \"#d8576b\"], [0.6666666666666666, \"#ed7953\"], [0.7777777777777778, \"#fb9f3a\"], [0.8888888888888888, \"#fdca26\"], [1.0, \"#f0f921\"]], \"type\": \"contour\"}], \"contourcarpet\": [{\"colorbar\": {\"outlinewidth\": 0, \"ticks\": \"\"}, \"type\": \"contourcarpet\"}], \"heatmap\": [{\"colorbar\": {\"outlinewidth\": 0, \"ticks\": \"\"}, \"colorscale\": [[0.0, \"#0d0887\"], [0.1111111111111111, \"#46039f\"], [0.2222222222222222, \"#7201a8\"], [0.3333333333333333, \"#9c179e\"], [0.4444444444444444, \"#bd3786\"], [0.5555555555555556, \"#d8576b\"], [0.6666666666666666, \"#ed7953\"], [0.7777777777777778, \"#fb9f3a\"], [0.8888888888888888, \"#fdca26\"], [1.0, \"#f0f921\"]], \"type\": \"heatmap\"}], \"heatmapgl\": [{\"colorbar\": {\"outlinewidth\": 0, \"ticks\": \"\"}, \"colorscale\": [[0.0, \"#0d0887\"], [0.1111111111111111, \"#46039f\"], [0.2222222222222222, \"#7201a8\"], [0.3333333333333333, \"#9c179e\"], [0.4444444444444444, \"#bd3786\"], [0.5555555555555556, \"#d8576b\"], [0.6666666666666666, \"#ed7953\"], [0.7777777777777778, \"#fb9f3a\"], [0.8888888888888888, \"#fdca26\"], [1.0, \"#f0f921\"]], \"type\": \"heatmapgl\"}], \"histogram\": [{\"marker\": {\"colorbar\": {\"outlinewidth\": 0, \"ticks\": \"\"}}, \"type\": \"histogram\"}], \"histogram2d\": [{\"colorbar\": {\"outlinewidth\": 0, \"ticks\": \"\"}, \"colorscale\": [[0.0, \"#0d0887\"], [0.1111111111111111, \"#46039f\"], [0.2222222222222222, \"#7201a8\"], [0.3333333333333333, \"#9c179e\"], [0.4444444444444444, \"#bd3786\"], [0.5555555555555556, \"#d8576b\"], [0.6666666666666666, \"#ed7953\"], [0.7777777777777778, \"#fb9f3a\"], [0.8888888888888888, \"#fdca26\"], [1.0, \"#f0f921\"]], \"type\": \"histogram2d\"}], \"histogram2dcontour\": [{\"colorbar\": {\"outlinewidth\": 0, \"ticks\": \"\"}, \"colorscale\": [[0.0, \"#0d0887\"], [0.1111111111111111, \"#46039f\"], [0.2222222222222222, \"#7201a8\"], [0.3333333333333333, \"#9c179e\"], [0.4444444444444444, \"#bd3786\"], [0.5555555555555556, \"#d8576b\"], [0.6666666666666666, \"#ed7953\"], [0.7777777777777778, \"#fb9f3a\"], [0.8888888888888888, \"#fdca26\"], [1.0, \"#f0f921\"]], \"type\": \"histogram2dcontour\"}], \"mesh3d\": [{\"colorbar\": {\"outlinewidth\": 0, \"ticks\": \"\"}, \"type\": \"mesh3d\"}], \"parcoords\": [{\"line\": {\"colorbar\": {\"outlinewidth\": 0, \"ticks\": \"\"}}, \"type\": \"parcoords\"}], \"pie\": [{\"automargin\": true, \"type\": \"pie\"}], \"scatter\": [{\"marker\": {\"colorbar\": {\"outlinewidth\": 0, \"ticks\": \"\"}}, \"type\": \"scatter\"}], \"scatter3d\": [{\"line\": {\"colorbar\": {\"outlinewidth\": 0, \"ticks\": \"\"}}, \"marker\": {\"colorbar\": {\"outlinewidth\": 0, \"ticks\": \"\"}}, \"type\": \"scatter3d\"}], \"scattercarpet\": [{\"marker\": {\"colorbar\": {\"outlinewidth\": 0, \"ticks\": \"\"}}, \"type\": \"scattercarpet\"}], \"scattergeo\": [{\"marker\": {\"colorbar\": {\"outlinewidth\": 0, \"ticks\": \"\"}}, \"type\": \"scattergeo\"}], \"scattergl\": [{\"marker\": {\"colorbar\": {\"outlinewidth\": 0, \"ticks\": \"\"}}, \"type\": \"scattergl\"}], \"scattermapbox\": [{\"marker\": {\"colorbar\": {\"outlinewidth\": 0, \"ticks\": \"\"}}, \"type\": \"scattermapbox\"}], \"scatterpolar\": [{\"marker\": {\"colorbar\": {\"outlinewidth\": 0, \"ticks\": \"\"}}, \"type\": \"scatterpolar\"}], \"scatterpolargl\": [{\"marker\": {\"colorbar\": {\"outlinewidth\": 0, \"ticks\": \"\"}}, \"type\": \"scatterpolargl\"}], \"scatterternary\": [{\"marker\": {\"colorbar\": {\"outlinewidth\": 0, \"ticks\": \"\"}}, \"type\": \"scatterternary\"}], \"surface\": [{\"colorbar\": {\"outlinewidth\": 0, \"ticks\": \"\"}, \"colorscale\": [[0.0, \"#0d0887\"], [0.1111111111111111, \"#46039f\"], [0.2222222222222222, \"#7201a8\"], [0.3333333333333333, \"#9c179e\"], [0.4444444444444444, \"#bd3786\"], [0.5555555555555556, \"#d8576b\"], [0.6666666666666666, \"#ed7953\"], [0.7777777777777778, \"#fb9f3a\"], [0.8888888888888888, \"#fdca26\"], [1.0, \"#f0f921\"]], \"type\": \"surface\"}], \"table\": [{\"cells\": {\"fill\": {\"color\": \"#EBF0F8\"}, \"line\": {\"color\": \"white\"}}, \"header\": {\"fill\": {\"color\": \"#C8D4E3\"}, \"line\": {\"color\": \"white\"}}, \"type\": \"table\"}]}, \"layout\": {\"annotationdefaults\": {\"arrowcolor\": \"#2a3f5f\", \"arrowhead\": 0, \"arrowwidth\": 1}, \"autotypenumbers\": \"strict\", \"coloraxis\": {\"colorbar\": {\"outlinewidth\": 0, \"ticks\": \"\"}}, \"colorscale\": {\"diverging\": [[0, \"#8e0152\"], [0.1, \"#c51b7d\"], [0.2, \"#de77ae\"], [0.3, \"#f1b6da\"], [0.4, \"#fde0ef\"], [0.5, \"#f7f7f7\"], [0.6, \"#e6f5d0\"], [0.7, \"#b8e186\"], [0.8, \"#7fbc41\"], [0.9, \"#4d9221\"], [1, \"#276419\"]], \"sequential\": [[0.0, \"#0d0887\"], [0.1111111111111111, \"#46039f\"], [0.2222222222222222, \"#7201a8\"], [0.3333333333333333, \"#9c179e\"], [0.4444444444444444, \"#bd3786\"], [0.5555555555555556, \"#d8576b\"], [0.6666666666666666, \"#ed7953\"], [0.7777777777777778, \"#fb9f3a\"], [0.8888888888888888, \"#fdca26\"], [1.0, \"#f0f921\"]], \"sequentialminus\": [[0.0, \"#0d0887\"], [0.1111111111111111, \"#46039f\"], [0.2222222222222222, \"#7201a8\"], [0.3333333333333333, \"#9c179e\"], [0.4444444444444444, \"#bd3786\"], [0.5555555555555556, \"#d8576b\"], [0.6666666666666666, \"#ed7953\"], [0.7777777777777778, \"#fb9f3a\"], [0.8888888888888888, \"#fdca26\"], [1.0, \"#f0f921\"]]}, \"colorway\": [\"#636efa\", \"#EF553B\", \"#00cc96\", \"#ab63fa\", \"#FFA15A\", \"#19d3f3\", \"#FF6692\", \"#B6E880\", \"#FF97FF\", \"#FECB52\"], \"font\": {\"color\": \"#2a3f5f\"}, \"geo\": {\"bgcolor\": \"white\", \"lakecolor\": \"white\", \"landcolor\": \"#E5ECF6\", \"showlakes\": true, \"showland\": true, \"subunitcolor\": \"white\"}, \"hoverlabel\": {\"align\": \"left\"}, \"hovermode\": \"closest\", \"mapbox\": {\"style\": \"light\"}, \"paper_bgcolor\": \"white\", \"plot_bgcolor\": \"#E5ECF6\", \"polar\": {\"angularaxis\": {\"gridcolor\": \"white\", \"linecolor\": \"white\", \"ticks\": \"\"}, \"bgcolor\": \"#E5ECF6\", \"radialaxis\": {\"gridcolor\": \"white\", \"linecolor\": \"white\", \"ticks\": \"\"}}, \"scene\": {\"xaxis\": {\"backgroundcolor\": \"#E5ECF6\", \"gridcolor\": \"white\", \"gridwidth\": 2, \"linecolor\": \"white\", \"showbackground\": true, \"ticks\": \"\", \"zerolinecolor\": \"white\"}, \"yaxis\": {\"backgroundcolor\": \"#E5ECF6\", \"gridcolor\": \"white\", \"gridwidth\": 2, \"linecolor\": \"white\", \"showbackground\": true, \"ticks\": \"\", \"zerolinecolor\": \"white\"}, \"zaxis\": {\"backgroundcolor\": \"#E5ECF6\", \"gridcolor\": \"white\", \"gridwidth\": 2, \"linecolor\": \"white\", \"showbackground\": true, \"ticks\": \"\", \"zerolinecolor\": \"white\"}}, \"shapedefaults\": {\"line\": {\"color\": \"#2a3f5f\"}}, \"ternary\": {\"aaxis\": {\"gridcolor\": \"white\", \"linecolor\": \"white\", \"ticks\": \"\"}, \"baxis\": {\"gridcolor\": \"white\", \"linecolor\": \"white\", \"ticks\": \"\"}, \"bgcolor\": \"#E5ECF6\", \"caxis\": {\"gridcolor\": \"white\", \"linecolor\": \"white\", \"ticks\": \"\"}}, \"title\": {\"x\": 0.05}, \"xaxis\": {\"automargin\": true, \"gridcolor\": \"white\", \"linecolor\": \"white\", \"ticks\": \"\", \"title\": {\"standoff\": 15}, \"zerolinecolor\": \"white\", \"zerolinewidth\": 2}, \"yaxis\": {\"automargin\": true, \"gridcolor\": \"white\", \"linecolor\": \"white\", \"ticks\": \"\", \"title\": {\"standoff\": 15}, \"zerolinecolor\": \"white\", \"zerolinewidth\": 2}}}, \"title\": {\"text\": \"University with department (different color for each department)\"}},                        {\"responsive\": true}                    ).then(function(){\n",
       "                            \n",
       "var gd = document.getElementById('62c062fc-dfd6-4033-8fa5-e40bf7d82393');\n",
       "var x = new MutationObserver(function (mutations, observer) {{\n",
       "        var display = window.getComputedStyle(gd).display;\n",
       "        if (!display || display === 'none') {{\n",
       "            console.log([gd, 'removed!']);\n",
       "            Plotly.purge(gd);\n",
       "            observer.disconnect();\n",
       "        }}\n",
       "}});\n",
       "\n",
       "// Listen for the removal of the full notebook cells\n",
       "var notebookContainer = gd.closest('#notebook-container');\n",
       "if (notebookContainer) {{\n",
       "    x.observe(notebookContainer, {childList: true});\n",
       "}}\n",
       "\n",
       "// Listen for the clearing of the current output cell\n",
       "var outputEl = gd.closest('.output');\n",
       "if (outputEl) {{\n",
       "    x.observe(outputEl, {childList: true});\n",
       "}}\n",
       "\n",
       "                        })                };                });            </script>        </div>"
      ]
     },
     "metadata": {},
     "output_type": "display_data"
    }
   ],
   "source": [
    "# plotly using university name and department\n",
    "figure = px.choropleth(locations = dept_counts['College_name'],\n",
    "                       color = dept_counts['Department'],\n",
    "                       title = \"University with department (different color for each department)\",\n",
    "                      )\n",
    "\n",
    "figure.update_layout({'legend_orientation':'h'})\n",
    "figure.update_layout({'legend_title': 'Department'})\n",
    "figure.show()"
   ]
  },
  {
   "cell_type": "markdown",
   "metadata": {},
   "source": [
    "### 2. How many people had laptop and how many hadn’t and visualize them and also show those who didn’t had laptop which university are they from and from which department and their country as well. (from free session dataset)"
   ]
  },
  {
   "cell_type": "code",
   "execution_count": 28,
   "metadata": {},
   "outputs": [
    {
     "data": {
      "text/plain": [
       "Index(['Time Stamp', 'Candidates_name ', 'Contact', 'Email_id', 'College_name',\n",
       "       'Department', 'Laptop_assurance', 'Communication_source ', 'Country '],\n",
       "      dtype='object')"
      ]
     },
     "execution_count": 28,
     "metadata": {},
     "output_type": "execute_result"
    }
   ],
   "source": [
    "free_session.columns"
   ]
  },
  {
   "cell_type": "code",
   "execution_count": 29,
   "metadata": {},
   "outputs": [
    {
     "data": {
      "text/plain": [
       "Yes                          762\n",
       "No                           205\n",
       "Having own laptop/system       1\n",
       "Name: Laptop_assurance, dtype: int64"
      ]
     },
     "execution_count": 29,
     "metadata": {},
     "output_type": "execute_result"
    }
   ],
   "source": [
    "# Laptop assurance column present the values if a student have laptop or not have a laptop.\n",
    "free_session['Laptop_assurance'].value_counts()"
   ]
  },
  {
   "cell_type": "markdown",
   "metadata": {},
   "source": [
    "From avobe value_counts ,762 students had laptop and 205 hadn't aptop"
   ]
  },
  {
   "cell_type": "code",
   "execution_count": 30,
   "metadata": {},
   "outputs": [
    {
     "data": {
      "text/html": [
       "<div>\n",
       "<style scoped>\n",
       "    .dataframe tbody tr th:only-of-type {\n",
       "        vertical-align: middle;\n",
       "    }\n",
       "\n",
       "    .dataframe tbody tr th {\n",
       "        vertical-align: top;\n",
       "    }\n",
       "\n",
       "    .dataframe thead th {\n",
       "        text-align: right;\n",
       "    }\n",
       "</style>\n",
       "<table border=\"1\" class=\"dataframe\">\n",
       "  <thead>\n",
       "    <tr style=\"text-align: right;\">\n",
       "      <th></th>\n",
       "      <th>Laptop_assurance</th>\n",
       "      <th>counts</th>\n",
       "    </tr>\n",
       "  </thead>\n",
       "  <tbody>\n",
       "    <tr>\n",
       "      <th>2</th>\n",
       "      <td>Yes</td>\n",
       "      <td>762</td>\n",
       "    </tr>\n",
       "    <tr>\n",
       "      <th>1</th>\n",
       "      <td>No</td>\n",
       "      <td>205</td>\n",
       "    </tr>\n",
       "    <tr>\n",
       "      <th>0</th>\n",
       "      <td>Having own laptop/system</td>\n",
       "      <td>1</td>\n",
       "    </tr>\n",
       "  </tbody>\n",
       "</table>\n",
       "</div>"
      ],
      "text/plain": [
       "            Laptop_assurance  counts\n",
       "2                        Yes     762\n",
       "1                         No     205\n",
       "0  Having own laptop/system        1"
      ]
     },
     "execution_count": 30,
     "metadata": {},
     "output_type": "execute_result"
    }
   ],
   "source": [
    "have_laptop=free_session.dropna(subset=['Laptop_assurance'])# creating subset of laptop assuarance by droping NA values\n",
    "laptp_grpby=free_session.groupby('Laptop_assurance')['Laptop_assurance'].agg('count')# Grouping Laptop assuarance with counts\n",
    "have_lap_dtf=pd.DataFrame(laptp_grpby)# create new Dataframe\n",
    "have_lap_dtf.rename(columns={'Laptop_assurance':\"counts\"},inplace=True)# Rename column\n",
    "have_lap_dtf.reset_index(inplace=True)# resent new index name\n",
    "have_lap_dtf.sort_values(\"counts\",ascending=False)# counting sort values of laptop assurance column"
   ]
  },
  {
   "cell_type": "code",
   "execution_count": 31,
   "metadata": {},
   "outputs": [
    {
     "data": {
      "application/vnd.plotly.v1+json": {
       "config": {
        "linkText": "Export to plot.ly",
        "plotlyServerURL": "https://plot.ly",
        "showLink": false
       },
       "data": [
        {
         "marker": {
          "color": "lightBlue"
         },
         "text": [
          "Yes",
          "No",
          "Having own laptop/system "
         ],
         "type": "bar",
         "x": [
          "Yes",
          "No",
          "Having own laptop/system "
         ],
         "y": [
          762,
          205,
          1
         ]
        }
       ],
       "layout": {
        "hovermode": "closest",
        "paper_bgcolor": "rgba(0, 0, 0, 0)",
        "plot_bgcolor": "rgba(0, 0, 0, 0)",
        "template": {
         "data": {
          "bar": [
           {
            "error_x": {
             "color": "#2a3f5f"
            },
            "error_y": {
             "color": "#2a3f5f"
            },
            "marker": {
             "line": {
              "color": "#E5ECF6",
              "width": 0.5
             }
            },
            "type": "bar"
           }
          ],
          "barpolar": [
           {
            "marker": {
             "line": {
              "color": "#E5ECF6",
              "width": 0.5
             }
            },
            "type": "barpolar"
           }
          ],
          "carpet": [
           {
            "aaxis": {
             "endlinecolor": "#2a3f5f",
             "gridcolor": "white",
             "linecolor": "white",
             "minorgridcolor": "white",
             "startlinecolor": "#2a3f5f"
            },
            "baxis": {
             "endlinecolor": "#2a3f5f",
             "gridcolor": "white",
             "linecolor": "white",
             "minorgridcolor": "white",
             "startlinecolor": "#2a3f5f"
            },
            "type": "carpet"
           }
          ],
          "choropleth": [
           {
            "colorbar": {
             "outlinewidth": 0,
             "ticks": ""
            },
            "type": "choropleth"
           }
          ],
          "contour": [
           {
            "colorbar": {
             "outlinewidth": 0,
             "ticks": ""
            },
            "colorscale": [
             [
              0,
              "#0d0887"
             ],
             [
              0.1111111111111111,
              "#46039f"
             ],
             [
              0.2222222222222222,
              "#7201a8"
             ],
             [
              0.3333333333333333,
              "#9c179e"
             ],
             [
              0.4444444444444444,
              "#bd3786"
             ],
             [
              0.5555555555555556,
              "#d8576b"
             ],
             [
              0.6666666666666666,
              "#ed7953"
             ],
             [
              0.7777777777777778,
              "#fb9f3a"
             ],
             [
              0.8888888888888888,
              "#fdca26"
             ],
             [
              1,
              "#f0f921"
             ]
            ],
            "type": "contour"
           }
          ],
          "contourcarpet": [
           {
            "colorbar": {
             "outlinewidth": 0,
             "ticks": ""
            },
            "type": "contourcarpet"
           }
          ],
          "heatmap": [
           {
            "colorbar": {
             "outlinewidth": 0,
             "ticks": ""
            },
            "colorscale": [
             [
              0,
              "#0d0887"
             ],
             [
              0.1111111111111111,
              "#46039f"
             ],
             [
              0.2222222222222222,
              "#7201a8"
             ],
             [
              0.3333333333333333,
              "#9c179e"
             ],
             [
              0.4444444444444444,
              "#bd3786"
             ],
             [
              0.5555555555555556,
              "#d8576b"
             ],
             [
              0.6666666666666666,
              "#ed7953"
             ],
             [
              0.7777777777777778,
              "#fb9f3a"
             ],
             [
              0.8888888888888888,
              "#fdca26"
             ],
             [
              1,
              "#f0f921"
             ]
            ],
            "type": "heatmap"
           }
          ],
          "heatmapgl": [
           {
            "colorbar": {
             "outlinewidth": 0,
             "ticks": ""
            },
            "colorscale": [
             [
              0,
              "#0d0887"
             ],
             [
              0.1111111111111111,
              "#46039f"
             ],
             [
              0.2222222222222222,
              "#7201a8"
             ],
             [
              0.3333333333333333,
              "#9c179e"
             ],
             [
              0.4444444444444444,
              "#bd3786"
             ],
             [
              0.5555555555555556,
              "#d8576b"
             ],
             [
              0.6666666666666666,
              "#ed7953"
             ],
             [
              0.7777777777777778,
              "#fb9f3a"
             ],
             [
              0.8888888888888888,
              "#fdca26"
             ],
             [
              1,
              "#f0f921"
             ]
            ],
            "type": "heatmapgl"
           }
          ],
          "histogram": [
           {
            "marker": {
             "colorbar": {
              "outlinewidth": 0,
              "ticks": ""
             }
            },
            "type": "histogram"
           }
          ],
          "histogram2d": [
           {
            "colorbar": {
             "outlinewidth": 0,
             "ticks": ""
            },
            "colorscale": [
             [
              0,
              "#0d0887"
             ],
             [
              0.1111111111111111,
              "#46039f"
             ],
             [
              0.2222222222222222,
              "#7201a8"
             ],
             [
              0.3333333333333333,
              "#9c179e"
             ],
             [
              0.4444444444444444,
              "#bd3786"
             ],
             [
              0.5555555555555556,
              "#d8576b"
             ],
             [
              0.6666666666666666,
              "#ed7953"
             ],
             [
              0.7777777777777778,
              "#fb9f3a"
             ],
             [
              0.8888888888888888,
              "#fdca26"
             ],
             [
              1,
              "#f0f921"
             ]
            ],
            "type": "histogram2d"
           }
          ],
          "histogram2dcontour": [
           {
            "colorbar": {
             "outlinewidth": 0,
             "ticks": ""
            },
            "colorscale": [
             [
              0,
              "#0d0887"
             ],
             [
              0.1111111111111111,
              "#46039f"
             ],
             [
              0.2222222222222222,
              "#7201a8"
             ],
             [
              0.3333333333333333,
              "#9c179e"
             ],
             [
              0.4444444444444444,
              "#bd3786"
             ],
             [
              0.5555555555555556,
              "#d8576b"
             ],
             [
              0.6666666666666666,
              "#ed7953"
             ],
             [
              0.7777777777777778,
              "#fb9f3a"
             ],
             [
              0.8888888888888888,
              "#fdca26"
             ],
             [
              1,
              "#f0f921"
             ]
            ],
            "type": "histogram2dcontour"
           }
          ],
          "mesh3d": [
           {
            "colorbar": {
             "outlinewidth": 0,
             "ticks": ""
            },
            "type": "mesh3d"
           }
          ],
          "parcoords": [
           {
            "line": {
             "colorbar": {
              "outlinewidth": 0,
              "ticks": ""
             }
            },
            "type": "parcoords"
           }
          ],
          "pie": [
           {
            "automargin": true,
            "type": "pie"
           }
          ],
          "scatter": [
           {
            "marker": {
             "colorbar": {
              "outlinewidth": 0,
              "ticks": ""
             }
            },
            "type": "scatter"
           }
          ],
          "scatter3d": [
           {
            "line": {
             "colorbar": {
              "outlinewidth": 0,
              "ticks": ""
             }
            },
            "marker": {
             "colorbar": {
              "outlinewidth": 0,
              "ticks": ""
             }
            },
            "type": "scatter3d"
           }
          ],
          "scattercarpet": [
           {
            "marker": {
             "colorbar": {
              "outlinewidth": 0,
              "ticks": ""
             }
            },
            "type": "scattercarpet"
           }
          ],
          "scattergeo": [
           {
            "marker": {
             "colorbar": {
              "outlinewidth": 0,
              "ticks": ""
             }
            },
            "type": "scattergeo"
           }
          ],
          "scattergl": [
           {
            "marker": {
             "colorbar": {
              "outlinewidth": 0,
              "ticks": ""
             }
            },
            "type": "scattergl"
           }
          ],
          "scattermapbox": [
           {
            "marker": {
             "colorbar": {
              "outlinewidth": 0,
              "ticks": ""
             }
            },
            "type": "scattermapbox"
           }
          ],
          "scatterpolar": [
           {
            "marker": {
             "colorbar": {
              "outlinewidth": 0,
              "ticks": ""
             }
            },
            "type": "scatterpolar"
           }
          ],
          "scatterpolargl": [
           {
            "marker": {
             "colorbar": {
              "outlinewidth": 0,
              "ticks": ""
             }
            },
            "type": "scatterpolargl"
           }
          ],
          "scatterternary": [
           {
            "marker": {
             "colorbar": {
              "outlinewidth": 0,
              "ticks": ""
             }
            },
            "type": "scatterternary"
           }
          ],
          "surface": [
           {
            "colorbar": {
             "outlinewidth": 0,
             "ticks": ""
            },
            "colorscale": [
             [
              0,
              "#0d0887"
             ],
             [
              0.1111111111111111,
              "#46039f"
             ],
             [
              0.2222222222222222,
              "#7201a8"
             ],
             [
              0.3333333333333333,
              "#9c179e"
             ],
             [
              0.4444444444444444,
              "#bd3786"
             ],
             [
              0.5555555555555556,
              "#d8576b"
             ],
             [
              0.6666666666666666,
              "#ed7953"
             ],
             [
              0.7777777777777778,
              "#fb9f3a"
             ],
             [
              0.8888888888888888,
              "#fdca26"
             ],
             [
              1,
              "#f0f921"
             ]
            ],
            "type": "surface"
           }
          ],
          "table": [
           {
            "cells": {
             "fill": {
              "color": "#EBF0F8"
             },
             "line": {
              "color": "white"
             }
            },
            "header": {
             "fill": {
              "color": "#C8D4E3"
             },
             "line": {
              "color": "white"
             }
            },
            "type": "table"
           }
          ]
         },
         "layout": {
          "annotationdefaults": {
           "arrowcolor": "#2a3f5f",
           "arrowhead": 0,
           "arrowwidth": 1
          },
          "autotypenumbers": "strict",
          "coloraxis": {
           "colorbar": {
            "outlinewidth": 0,
            "ticks": ""
           }
          },
          "colorscale": {
           "diverging": [
            [
             0,
             "#8e0152"
            ],
            [
             0.1,
             "#c51b7d"
            ],
            [
             0.2,
             "#de77ae"
            ],
            [
             0.3,
             "#f1b6da"
            ],
            [
             0.4,
             "#fde0ef"
            ],
            [
             0.5,
             "#f7f7f7"
            ],
            [
             0.6,
             "#e6f5d0"
            ],
            [
             0.7,
             "#b8e186"
            ],
            [
             0.8,
             "#7fbc41"
            ],
            [
             0.9,
             "#4d9221"
            ],
            [
             1,
             "#276419"
            ]
           ],
           "sequential": [
            [
             0,
             "#0d0887"
            ],
            [
             0.1111111111111111,
             "#46039f"
            ],
            [
             0.2222222222222222,
             "#7201a8"
            ],
            [
             0.3333333333333333,
             "#9c179e"
            ],
            [
             0.4444444444444444,
             "#bd3786"
            ],
            [
             0.5555555555555556,
             "#d8576b"
            ],
            [
             0.6666666666666666,
             "#ed7953"
            ],
            [
             0.7777777777777778,
             "#fb9f3a"
            ],
            [
             0.8888888888888888,
             "#fdca26"
            ],
            [
             1,
             "#f0f921"
            ]
           ],
           "sequentialminus": [
            [
             0,
             "#0d0887"
            ],
            [
             0.1111111111111111,
             "#46039f"
            ],
            [
             0.2222222222222222,
             "#7201a8"
            ],
            [
             0.3333333333333333,
             "#9c179e"
            ],
            [
             0.4444444444444444,
             "#bd3786"
            ],
            [
             0.5555555555555556,
             "#d8576b"
            ],
            [
             0.6666666666666666,
             "#ed7953"
            ],
            [
             0.7777777777777778,
             "#fb9f3a"
            ],
            [
             0.8888888888888888,
             "#fdca26"
            ],
            [
             1,
             "#f0f921"
            ]
           ]
          },
          "colorway": [
           "#636efa",
           "#EF553B",
           "#00cc96",
           "#ab63fa",
           "#FFA15A",
           "#19d3f3",
           "#FF6692",
           "#B6E880",
           "#FF97FF",
           "#FECB52"
          ],
          "font": {
           "color": "#2a3f5f"
          },
          "geo": {
           "bgcolor": "white",
           "lakecolor": "white",
           "landcolor": "#E5ECF6",
           "showlakes": true,
           "showland": true,
           "subunitcolor": "white"
          },
          "hoverlabel": {
           "align": "left"
          },
          "hovermode": "closest",
          "mapbox": {
           "style": "light"
          },
          "paper_bgcolor": "white",
          "plot_bgcolor": "#E5ECF6",
          "polar": {
           "angularaxis": {
            "gridcolor": "white",
            "linecolor": "white",
            "ticks": ""
           },
           "bgcolor": "#E5ECF6",
           "radialaxis": {
            "gridcolor": "white",
            "linecolor": "white",
            "ticks": ""
           }
          },
          "scene": {
           "xaxis": {
            "backgroundcolor": "#E5ECF6",
            "gridcolor": "white",
            "gridwidth": 2,
            "linecolor": "white",
            "showbackground": true,
            "ticks": "",
            "zerolinecolor": "white"
           },
           "yaxis": {
            "backgroundcolor": "#E5ECF6",
            "gridcolor": "white",
            "gridwidth": 2,
            "linecolor": "white",
            "showbackground": true,
            "ticks": "",
            "zerolinecolor": "white"
           },
           "zaxis": {
            "backgroundcolor": "#E5ECF6",
            "gridcolor": "white",
            "gridwidth": 2,
            "linecolor": "white",
            "showbackground": true,
            "ticks": "",
            "zerolinecolor": "white"
           }
          },
          "shapedefaults": {
           "line": {
            "color": "#2a3f5f"
           }
          },
          "ternary": {
           "aaxis": {
            "gridcolor": "white",
            "linecolor": "white",
            "ticks": ""
           },
           "baxis": {
            "gridcolor": "white",
            "linecolor": "white",
            "ticks": ""
           },
           "bgcolor": "#E5ECF6",
           "caxis": {
            "gridcolor": "white",
            "linecolor": "white",
            "ticks": ""
           }
          },
          "title": {
           "x": 0.05
          },
          "xaxis": {
           "automargin": true,
           "gridcolor": "white",
           "linecolor": "white",
           "ticks": "",
           "title": {
            "standoff": 15
           },
           "zerolinecolor": "white",
           "zerolinewidth": 2
          },
          "yaxis": {
           "automargin": true,
           "gridcolor": "white",
           "linecolor": "white",
           "ticks": "",
           "title": {
            "standoff": 15
           },
           "zerolinecolor": "white",
           "zerolinewidth": 2
          }
         }
        },
        "title": {
         "text": "Laptop Assuarance"
        },
        "xaxis": {
         "linecolor": "black",
         "linewidth": 2,
         "mirror": true,
         "showline": true,
         "showticklabels": true,
         "tickangle": 45,
         "tickfont": {
          "color": "red",
          "size": 10
         },
         "title": {
          "text": "Respons of having laptop"
         },
         "zeroline": true,
         "zerolinecolor": "grey",
         "zerolinewidth": 1
        },
        "yaxis": {
         "gridcolor": "lightgrey",
         "linecolor": "black",
         "linewidth": 2,
         "mirror": true,
         "showline": true,
         "title": {
          "text": "count of having laptop"
         },
         "zeroline": true,
         "zerolinecolor": "grey",
         "zerolinewidth": 1
        }
       }
      },
      "text/html": [
       "<div>                            <div id=\"1b29297b-59f7-473e-95d9-6024f24e36be\" class=\"plotly-graph-div\" style=\"height:525px; width:100%;\"></div>            <script type=\"text/javascript\">                require([\"plotly\"], function(Plotly) {                    window.PLOTLYENV=window.PLOTLYENV || {};                                    if (document.getElementById(\"1b29297b-59f7-473e-95d9-6024f24e36be\")) {                    Plotly.newPlot(                        \"1b29297b-59f7-473e-95d9-6024f24e36be\",                        [{\"marker\": {\"color\": \"lightBlue\"}, \"text\": [\"Yes\", \"No\", \"Having own laptop/system \"], \"type\": \"bar\", \"x\": [\"Yes\", \"No\", \"Having own laptop/system \"], \"y\": [762, 205, 1]}],                        {\"hovermode\": \"closest\", \"paper_bgcolor\": \"rgba(0, 0, 0, 0)\", \"plot_bgcolor\": \"rgba(0, 0, 0, 0)\", \"template\": {\"data\": {\"bar\": [{\"error_x\": {\"color\": \"#2a3f5f\"}, \"error_y\": {\"color\": \"#2a3f5f\"}, \"marker\": {\"line\": {\"color\": \"#E5ECF6\", \"width\": 0.5}}, \"type\": \"bar\"}], \"barpolar\": [{\"marker\": {\"line\": {\"color\": \"#E5ECF6\", \"width\": 0.5}}, \"type\": \"barpolar\"}], \"carpet\": [{\"aaxis\": {\"endlinecolor\": \"#2a3f5f\", \"gridcolor\": \"white\", \"linecolor\": \"white\", \"minorgridcolor\": \"white\", \"startlinecolor\": \"#2a3f5f\"}, \"baxis\": {\"endlinecolor\": \"#2a3f5f\", \"gridcolor\": \"white\", \"linecolor\": \"white\", \"minorgridcolor\": \"white\", \"startlinecolor\": \"#2a3f5f\"}, \"type\": \"carpet\"}], \"choropleth\": [{\"colorbar\": {\"outlinewidth\": 0, \"ticks\": \"\"}, \"type\": \"choropleth\"}], \"contour\": [{\"colorbar\": {\"outlinewidth\": 0, \"ticks\": \"\"}, \"colorscale\": [[0.0, \"#0d0887\"], [0.1111111111111111, \"#46039f\"], [0.2222222222222222, \"#7201a8\"], [0.3333333333333333, \"#9c179e\"], [0.4444444444444444, \"#bd3786\"], [0.5555555555555556, \"#d8576b\"], [0.6666666666666666, \"#ed7953\"], [0.7777777777777778, \"#fb9f3a\"], [0.8888888888888888, \"#fdca26\"], [1.0, \"#f0f921\"]], \"type\": \"contour\"}], \"contourcarpet\": [{\"colorbar\": {\"outlinewidth\": 0, \"ticks\": \"\"}, \"type\": \"contourcarpet\"}], \"heatmap\": [{\"colorbar\": {\"outlinewidth\": 0, \"ticks\": \"\"}, \"colorscale\": [[0.0, \"#0d0887\"], [0.1111111111111111, \"#46039f\"], [0.2222222222222222, \"#7201a8\"], [0.3333333333333333, \"#9c179e\"], [0.4444444444444444, \"#bd3786\"], [0.5555555555555556, \"#d8576b\"], [0.6666666666666666, \"#ed7953\"], [0.7777777777777778, \"#fb9f3a\"], [0.8888888888888888, \"#fdca26\"], [1.0, \"#f0f921\"]], \"type\": \"heatmap\"}], \"heatmapgl\": [{\"colorbar\": {\"outlinewidth\": 0, \"ticks\": \"\"}, \"colorscale\": [[0.0, \"#0d0887\"], [0.1111111111111111, \"#46039f\"], [0.2222222222222222, \"#7201a8\"], [0.3333333333333333, \"#9c179e\"], [0.4444444444444444, \"#bd3786\"], [0.5555555555555556, \"#d8576b\"], [0.6666666666666666, \"#ed7953\"], [0.7777777777777778, \"#fb9f3a\"], [0.8888888888888888, \"#fdca26\"], [1.0, \"#f0f921\"]], \"type\": \"heatmapgl\"}], \"histogram\": [{\"marker\": {\"colorbar\": {\"outlinewidth\": 0, \"ticks\": \"\"}}, \"type\": \"histogram\"}], \"histogram2d\": [{\"colorbar\": {\"outlinewidth\": 0, \"ticks\": \"\"}, \"colorscale\": [[0.0, \"#0d0887\"], [0.1111111111111111, \"#46039f\"], [0.2222222222222222, \"#7201a8\"], [0.3333333333333333, \"#9c179e\"], [0.4444444444444444, \"#bd3786\"], [0.5555555555555556, \"#d8576b\"], [0.6666666666666666, \"#ed7953\"], [0.7777777777777778, \"#fb9f3a\"], [0.8888888888888888, \"#fdca26\"], [1.0, \"#f0f921\"]], \"type\": \"histogram2d\"}], \"histogram2dcontour\": [{\"colorbar\": {\"outlinewidth\": 0, \"ticks\": \"\"}, \"colorscale\": [[0.0, \"#0d0887\"], [0.1111111111111111, \"#46039f\"], [0.2222222222222222, \"#7201a8\"], [0.3333333333333333, \"#9c179e\"], [0.4444444444444444, \"#bd3786\"], [0.5555555555555556, \"#d8576b\"], [0.6666666666666666, \"#ed7953\"], [0.7777777777777778, \"#fb9f3a\"], [0.8888888888888888, \"#fdca26\"], [1.0, \"#f0f921\"]], \"type\": \"histogram2dcontour\"}], \"mesh3d\": [{\"colorbar\": {\"outlinewidth\": 0, \"ticks\": \"\"}, \"type\": \"mesh3d\"}], \"parcoords\": [{\"line\": {\"colorbar\": {\"outlinewidth\": 0, \"ticks\": \"\"}}, \"type\": \"parcoords\"}], \"pie\": [{\"automargin\": true, \"type\": \"pie\"}], \"scatter\": [{\"marker\": {\"colorbar\": {\"outlinewidth\": 0, \"ticks\": \"\"}}, \"type\": \"scatter\"}], \"scatter3d\": [{\"line\": {\"colorbar\": {\"outlinewidth\": 0, \"ticks\": \"\"}}, \"marker\": {\"colorbar\": {\"outlinewidth\": 0, \"ticks\": \"\"}}, \"type\": \"scatter3d\"}], \"scattercarpet\": [{\"marker\": {\"colorbar\": {\"outlinewidth\": 0, \"ticks\": \"\"}}, \"type\": \"scattercarpet\"}], \"scattergeo\": [{\"marker\": {\"colorbar\": {\"outlinewidth\": 0, \"ticks\": \"\"}}, \"type\": \"scattergeo\"}], \"scattergl\": [{\"marker\": {\"colorbar\": {\"outlinewidth\": 0, \"ticks\": \"\"}}, \"type\": \"scattergl\"}], \"scattermapbox\": [{\"marker\": {\"colorbar\": {\"outlinewidth\": 0, \"ticks\": \"\"}}, \"type\": \"scattermapbox\"}], \"scatterpolar\": [{\"marker\": {\"colorbar\": {\"outlinewidth\": 0, \"ticks\": \"\"}}, \"type\": \"scatterpolar\"}], \"scatterpolargl\": [{\"marker\": {\"colorbar\": {\"outlinewidth\": 0, \"ticks\": \"\"}}, \"type\": \"scatterpolargl\"}], \"scatterternary\": [{\"marker\": {\"colorbar\": {\"outlinewidth\": 0, \"ticks\": \"\"}}, \"type\": \"scatterternary\"}], \"surface\": [{\"colorbar\": {\"outlinewidth\": 0, \"ticks\": \"\"}, \"colorscale\": [[0.0, \"#0d0887\"], [0.1111111111111111, \"#46039f\"], [0.2222222222222222, \"#7201a8\"], [0.3333333333333333, \"#9c179e\"], [0.4444444444444444, \"#bd3786\"], [0.5555555555555556, \"#d8576b\"], [0.6666666666666666, \"#ed7953\"], [0.7777777777777778, \"#fb9f3a\"], [0.8888888888888888, \"#fdca26\"], [1.0, \"#f0f921\"]], \"type\": \"surface\"}], \"table\": [{\"cells\": {\"fill\": {\"color\": \"#EBF0F8\"}, \"line\": {\"color\": \"white\"}}, \"header\": {\"fill\": {\"color\": \"#C8D4E3\"}, \"line\": {\"color\": \"white\"}}, \"type\": \"table\"}]}, \"layout\": {\"annotationdefaults\": {\"arrowcolor\": \"#2a3f5f\", \"arrowhead\": 0, \"arrowwidth\": 1}, \"autotypenumbers\": \"strict\", \"coloraxis\": {\"colorbar\": {\"outlinewidth\": 0, \"ticks\": \"\"}}, \"colorscale\": {\"diverging\": [[0, \"#8e0152\"], [0.1, \"#c51b7d\"], [0.2, \"#de77ae\"], [0.3, \"#f1b6da\"], [0.4, \"#fde0ef\"], [0.5, \"#f7f7f7\"], [0.6, \"#e6f5d0\"], [0.7, \"#b8e186\"], [0.8, \"#7fbc41\"], [0.9, \"#4d9221\"], [1, \"#276419\"]], \"sequential\": [[0.0, \"#0d0887\"], [0.1111111111111111, \"#46039f\"], [0.2222222222222222, \"#7201a8\"], [0.3333333333333333, \"#9c179e\"], [0.4444444444444444, \"#bd3786\"], [0.5555555555555556, \"#d8576b\"], [0.6666666666666666, \"#ed7953\"], [0.7777777777777778, \"#fb9f3a\"], [0.8888888888888888, \"#fdca26\"], [1.0, \"#f0f921\"]], \"sequentialminus\": [[0.0, \"#0d0887\"], [0.1111111111111111, \"#46039f\"], [0.2222222222222222, \"#7201a8\"], [0.3333333333333333, \"#9c179e\"], [0.4444444444444444, \"#bd3786\"], [0.5555555555555556, \"#d8576b\"], [0.6666666666666666, \"#ed7953\"], [0.7777777777777778, \"#fb9f3a\"], [0.8888888888888888, \"#fdca26\"], [1.0, \"#f0f921\"]]}, \"colorway\": [\"#636efa\", \"#EF553B\", \"#00cc96\", \"#ab63fa\", \"#FFA15A\", \"#19d3f3\", \"#FF6692\", \"#B6E880\", \"#FF97FF\", \"#FECB52\"], \"font\": {\"color\": \"#2a3f5f\"}, \"geo\": {\"bgcolor\": \"white\", \"lakecolor\": \"white\", \"landcolor\": \"#E5ECF6\", \"showlakes\": true, \"showland\": true, \"subunitcolor\": \"white\"}, \"hoverlabel\": {\"align\": \"left\"}, \"hovermode\": \"closest\", \"mapbox\": {\"style\": \"light\"}, \"paper_bgcolor\": \"white\", \"plot_bgcolor\": \"#E5ECF6\", \"polar\": {\"angularaxis\": {\"gridcolor\": \"white\", \"linecolor\": \"white\", \"ticks\": \"\"}, \"bgcolor\": \"#E5ECF6\", \"radialaxis\": {\"gridcolor\": \"white\", \"linecolor\": \"white\", \"ticks\": \"\"}}, \"scene\": {\"xaxis\": {\"backgroundcolor\": \"#E5ECF6\", \"gridcolor\": \"white\", \"gridwidth\": 2, \"linecolor\": \"white\", \"showbackground\": true, \"ticks\": \"\", \"zerolinecolor\": \"white\"}, \"yaxis\": {\"backgroundcolor\": \"#E5ECF6\", \"gridcolor\": \"white\", \"gridwidth\": 2, \"linecolor\": \"white\", \"showbackground\": true, \"ticks\": \"\", \"zerolinecolor\": \"white\"}, \"zaxis\": {\"backgroundcolor\": \"#E5ECF6\", \"gridcolor\": \"white\", \"gridwidth\": 2, \"linecolor\": \"white\", \"showbackground\": true, \"ticks\": \"\", \"zerolinecolor\": \"white\"}}, \"shapedefaults\": {\"line\": {\"color\": \"#2a3f5f\"}}, \"ternary\": {\"aaxis\": {\"gridcolor\": \"white\", \"linecolor\": \"white\", \"ticks\": \"\"}, \"baxis\": {\"gridcolor\": \"white\", \"linecolor\": \"white\", \"ticks\": \"\"}, \"bgcolor\": \"#E5ECF6\", \"caxis\": {\"gridcolor\": \"white\", \"linecolor\": \"white\", \"ticks\": \"\"}}, \"title\": {\"x\": 0.05}, \"xaxis\": {\"automargin\": true, \"gridcolor\": \"white\", \"linecolor\": \"white\", \"ticks\": \"\", \"title\": {\"standoff\": 15}, \"zerolinecolor\": \"white\", \"zerolinewidth\": 2}, \"yaxis\": {\"automargin\": true, \"gridcolor\": \"white\", \"linecolor\": \"white\", \"ticks\": \"\", \"title\": {\"standoff\": 15}, \"zerolinecolor\": \"white\", \"zerolinewidth\": 2}}}, \"title\": {\"text\": \"Laptop Assuarance\"}, \"xaxis\": {\"linecolor\": \"black\", \"linewidth\": 2, \"mirror\": true, \"showline\": true, \"showticklabels\": true, \"tickangle\": 45, \"tickfont\": {\"color\": \"red\", \"size\": 10}, \"title\": {\"text\": \"Respons of having laptop\"}, \"zeroline\": true, \"zerolinecolor\": \"grey\", \"zerolinewidth\": 1}, \"yaxis\": {\"gridcolor\": \"lightgrey\", \"linecolor\": \"black\", \"linewidth\": 2, \"mirror\": true, \"showline\": true, \"title\": {\"text\": \"count of having laptop\"}, \"zeroline\": true, \"zerolinecolor\": \"grey\", \"zerolinewidth\": 1}},                        {\"responsive\": true}                    ).then(function(){\n",
       "                            \n",
       "var gd = document.getElementById('1b29297b-59f7-473e-95d9-6024f24e36be');\n",
       "var x = new MutationObserver(function (mutations, observer) {{\n",
       "        var display = window.getComputedStyle(gd).display;\n",
       "        if (!display || display === 'none') {{\n",
       "            console.log([gd, 'removed!']);\n",
       "            Plotly.purge(gd);\n",
       "            observer.disconnect();\n",
       "        }}\n",
       "}});\n",
       "\n",
       "// Listen for the removal of the full notebook cells\n",
       "var notebookContainer = gd.closest('#notebook-container');\n",
       "if (notebookContainer) {{\n",
       "    x.observe(notebookContainer, {childList: true});\n",
       "}}\n",
       "\n",
       "// Listen for the clearing of the current output cell\n",
       "var outputEl = gd.closest('.output');\n",
       "if (outputEl) {{\n",
       "    x.observe(outputEl, {childList: true});\n",
       "}}\n",
       "\n",
       "                        })                };                });            </script>        </div>"
      ]
     },
     "metadata": {},
     "output_type": "display_data"
    }
   ],
   "source": [
    "draw_trace_bar(have_lap_dtf,'Laptop_assurance','counts','Laptop Assuarance','Respons of having laptop','count of having laptop')"
   ]
  },
  {
   "cell_type": "markdown",
   "metadata": {},
   "source": [
    "Visualyzing chart visualyze that the Most of the students had laptop ,small portion had not any laptop."
   ]
  },
  {
   "cell_type": "code",
   "execution_count": 32,
   "metadata": {},
   "outputs": [
    {
     "data": {
      "text/html": [
       "<div>\n",
       "<style scoped>\n",
       "    .dataframe tbody tr th:only-of-type {\n",
       "        vertical-align: middle;\n",
       "    }\n",
       "\n",
       "    .dataframe tbody tr th {\n",
       "        vertical-align: top;\n",
       "    }\n",
       "\n",
       "    .dataframe thead th {\n",
       "        text-align: right;\n",
       "    }\n",
       "</style>\n",
       "<table border=\"1\" class=\"dataframe\">\n",
       "  <thead>\n",
       "    <tr style=\"text-align: right;\">\n",
       "      <th></th>\n",
       "      <th></th>\n",
       "      <th></th>\n",
       "      <th></th>\n",
       "      <th>Department</th>\n",
       "    </tr>\n",
       "    <tr>\n",
       "      <th>Candidates_name</th>\n",
       "      <th>College_name</th>\n",
       "      <th>Country</th>\n",
       "      <th>Laptop_assurance</th>\n",
       "      <th></th>\n",
       "    </tr>\n",
       "  </thead>\n",
       "  <tbody>\n",
       "    <tr>\n",
       "      <th>Name  of the candidate</th>\n",
       "      <th>Institution / Organization / College name</th>\n",
       "      <th>Belong to the country</th>\n",
       "      <th>Having own laptop/system</th>\n",
       "      <td>Filed of study</td>\n",
       "    </tr>\n",
       "    <tr>\n",
       "      <th>Radha Rani</th>\n",
       "      <th>Regent Education and Research Foundation</th>\n",
       "      <th>India</th>\n",
       "      <th>No</th>\n",
       "      <td>Engineering</td>\n",
       "    </tr>\n",
       "    <tr>\n",
       "      <th>SOUGATA JANA</th>\n",
       "      <th>Jadavpur University</th>\n",
       "      <th>India</th>\n",
       "      <th>No</th>\n",
       "      <td>Mathematics</td>\n",
       "    </tr>\n",
       "    <tr>\n",
       "      <th>SOUGATA ROY</th>\n",
       "      <th>Maulana Azad College</th>\n",
       "      <th>India</th>\n",
       "      <th>No</th>\n",
       "      <td>Honors (BSC/MSC)</td>\n",
       "    </tr>\n",
       "    <tr>\n",
       "      <th>SOUMENDU SHEKHAR ADDYA</th>\n",
       "      <th>Aot</th>\n",
       "      <th>India</th>\n",
       "      <th>No</th>\n",
       "      <td>Mca</td>\n",
       "    </tr>\n",
       "    <tr>\n",
       "      <th>...</th>\n",
       "      <th>...</th>\n",
       "      <th>...</th>\n",
       "      <th>...</th>\n",
       "      <td>...</td>\n",
       "    </tr>\n",
       "    <tr>\n",
       "      <th>Manisha Sasmal</th>\n",
       "      <th>Basantidevi College</th>\n",
       "      <th>India</th>\n",
       "      <th>Yes</th>\n",
       "      <td>Statistics</td>\n",
       "    </tr>\n",
       "    <tr>\n",
       "      <th>Manoj Gupta</th>\n",
       "      <th>Regent education and research foundation</th>\n",
       "      <th>India</th>\n",
       "      <th>Yes</th>\n",
       "      <td>Engineering</td>\n",
       "    </tr>\n",
       "    <tr>\n",
       "      <th>Marry Mandi</th>\n",
       "      <th>Lady Brabourne College</th>\n",
       "      <th>India</th>\n",
       "      <th>Yes</th>\n",
       "      <td>Honors (BSC/MSC)</td>\n",
       "    </tr>\n",
       "    <tr>\n",
       "      <th>Mainak Mukherjee</th>\n",
       "      <th>Durgapur Institute of Advanced Technology and Management</th>\n",
       "      <th>India</th>\n",
       "      <th>Yes</th>\n",
       "      <td>Engineering</td>\n",
       "    </tr>\n",
       "    <tr>\n",
       "      <th>soma das</th>\n",
       "      <th>regent education and research foundation</th>\n",
       "      <th>India</th>\n",
       "      <th>Yes</th>\n",
       "      <td>Engineering</td>\n",
       "    </tr>\n",
       "  </tbody>\n",
       "</table>\n",
       "<p>928 rows × 1 columns</p>\n",
       "</div>"
      ],
      "text/plain": [
       "                                                                                                                                 Department\n",
       "Candidates_name        College_name                                       Country               Laptop_assurance                           \n",
       "Name  of the candidate Institution / Organization / College name          Belong to the country Having own laptop/system    Filed of study \n",
       "Radha Rani             Regent Education and Research Foundation           India                 No                              Engineering\n",
       "SOUGATA JANA           Jadavpur University                                India                 No                              Mathematics\n",
       "SOUGATA ROY            Maulana Azad College                               India                 No                         Honors (BSC/MSC)\n",
       "SOUMENDU SHEKHAR ADDYA Aot                                                India                 No                                      Mca\n",
       "...                                                                                                                                     ...\n",
       "Manisha Sasmal         Basantidevi College                                India                 Yes                              Statistics\n",
       "Manoj Gupta            Regent education and research foundation           India                 Yes                             Engineering\n",
       "Marry Mandi            Lady Brabourne College                             India                 Yes                        Honors (BSC/MSC)\n",
       "Mainak Mukherjee       Durgapur Institute of Advanced Technology and M... India                 Yes                             Engineering\n",
       "soma das               regent education and research foundation           India                 Yes                             Engineering\n",
       "\n",
       "[928 rows x 1 columns]"
      ]
     },
     "execution_count": 32,
     "metadata": {},
     "output_type": "execute_result"
    }
   ],
   "source": [
    "# show student who had laptop or hadn't laptop with thair university and department\n",
    "free_session.groupby(['Candidates_name ','College_name','Country ','Laptop_assurance'])[['Department']].agg(np.sum).sort_values(by='Laptop_assurance', ascending= True)"
   ]
  },
  {
   "cell_type": "markdown",
   "metadata": {},
   "source": [
    "### 3. Find out all types of source of communication. Show which type is the winner (visualize them) (from free session dataset)\n"
   ]
  },
  {
   "cell_type": "code",
   "execution_count": 33,
   "metadata": {},
   "outputs": [
    {
     "data": {
      "text/plain": [
       "Friend                                  602\n",
       "College                                  27\n",
       "Friends                                  26\n",
       "Facebook                                 18\n",
       "Whatsapp                                 11\n",
       "                                       ... \n",
       "friends                                   1\n",
       "Debarchan Mukherjee                       1\n",
       "From teachers of our MCA department.      1\n",
       "Friend.                                   1\n",
       "College Faculty                           1\n",
       "Name: Communication_source , Length: 211, dtype: int64"
      ]
     },
     "execution_count": 33,
     "metadata": {},
     "output_type": "execute_result"
    }
   ],
   "source": [
    "# Communication source column contains the source information like How a student know about this program/medium bitween student and program.\n",
    "free_session['Communication_source '].value_counts()"
   ]
  },
  {
   "cell_type": "code",
   "execution_count": 34,
   "metadata": {},
   "outputs": [],
   "source": [
    "#creating subset of communication source and make dataframe of new grouping column data\n",
    "source = free_session.dropna(subset=['Communication_source '])\n",
    "source_grpby= free_session.groupby('Communication_source ')['Communication_source '].agg('count')\n",
    "source_dtf= pd.DataFrame(source_grpby)\n",
    "source_dtf.rename(columns={'Communication_source ': \"counts\"},inplace=True)# rename of new column\n",
    "source_dtf.reset_index(inplace=True)# reset index name"
   ]
  },
  {
   "cell_type": "code",
   "execution_count": 35,
   "metadata": {},
   "outputs": [
    {
     "data": {
      "text/html": [
       "<div>\n",
       "<style scoped>\n",
       "    .dataframe tbody tr th:only-of-type {\n",
       "        vertical-align: middle;\n",
       "    }\n",
       "\n",
       "    .dataframe tbody tr th {\n",
       "        vertical-align: top;\n",
       "    }\n",
       "\n",
       "    .dataframe thead th {\n",
       "        text-align: right;\n",
       "    }\n",
       "</style>\n",
       "<table border=\"1\" class=\"dataframe\">\n",
       "  <thead>\n",
       "    <tr style=\"text-align: right;\">\n",
       "      <th></th>\n",
       "      <th>Communication_source</th>\n",
       "      <th>counts</th>\n",
       "    </tr>\n",
       "  </thead>\n",
       "  <tbody>\n",
       "    <tr>\n",
       "      <th>0</th>\n",
       "      <td>college Senior</td>\n",
       "      <td>1</td>\n",
       "    </tr>\n",
       "    <tr>\n",
       "      <th>1</th>\n",
       "      <td>A Friend</td>\n",
       "      <td>1</td>\n",
       "    </tr>\n",
       "    <tr>\n",
       "      <th>2</th>\n",
       "      <td>A friend</td>\n",
       "      <td>2</td>\n",
       "    </tr>\n",
       "    <tr>\n",
       "      <th>3</th>\n",
       "      <td>A status was posted by a senior of my dept.See...</td>\n",
       "      <td>1</td>\n",
       "    </tr>\n",
       "    <tr>\n",
       "      <th>4</th>\n",
       "      <td>A whatsapp group</td>\n",
       "      <td>1</td>\n",
       "    </tr>\n",
       "    <tr>\n",
       "      <th>...</th>\n",
       "      <td>...</td>\n",
       "      <td>...</td>\n",
       "    </tr>\n",
       "    <tr>\n",
       "      <th>206</th>\n",
       "      <td>friend</td>\n",
       "      <td>4</td>\n",
       "    </tr>\n",
       "    <tr>\n",
       "      <th>207</th>\n",
       "      <td>friends</td>\n",
       "      <td>1</td>\n",
       "    </tr>\n",
       "    <tr>\n",
       "      <th>208</th>\n",
       "      <td>newspaper</td>\n",
       "      <td>1</td>\n",
       "    </tr>\n",
       "    <tr>\n",
       "      <th>209</th>\n",
       "      <td>whatapp group</td>\n",
       "      <td>1</td>\n",
       "    </tr>\n",
       "    <tr>\n",
       "      <th>210</th>\n",
       "      <td>whatsapp group</td>\n",
       "      <td>1</td>\n",
       "    </tr>\n",
       "  </tbody>\n",
       "</table>\n",
       "<p>211 rows × 2 columns</p>\n",
       "</div>"
      ],
      "text/plain": [
       "                                 Communication_source   counts\n",
       "0                                       college Senior       1\n",
       "1                                             A Friend       1\n",
       "2                                             A friend       2\n",
       "3    A status was posted by a senior of my dept.See...       1\n",
       "4                                     A whatsapp group       1\n",
       "..                                                 ...     ...\n",
       "206                                             friend       4\n",
       "207                                            friends       1\n",
       "208                                         newspaper        1\n",
       "209                                      whatapp group       1\n",
       "210                                    whatsapp group        1\n",
       "\n",
       "[211 rows x 2 columns]"
      ]
     },
     "execution_count": 35,
     "metadata": {},
     "output_type": "execute_result"
    }
   ],
   "source": [
    "source_dtf"
   ]
  },
  {
   "cell_type": "code",
   "execution_count": 36,
   "metadata": {},
   "outputs": [
    {
     "data": {
      "text/html": [
       "<div>\n",
       "<style scoped>\n",
       "    .dataframe tbody tr th:only-of-type {\n",
       "        vertical-align: middle;\n",
       "    }\n",
       "\n",
       "    .dataframe tbody tr th {\n",
       "        vertical-align: top;\n",
       "    }\n",
       "\n",
       "    .dataframe thead th {\n",
       "        text-align: right;\n",
       "    }\n",
       "</style>\n",
       "<table border=\"1\" class=\"dataframe\">\n",
       "  <thead>\n",
       "    <tr style=\"text-align: right;\">\n",
       "      <th></th>\n",
       "      <th>Communication_source</th>\n",
       "      <th>counts</th>\n",
       "    </tr>\n",
       "  </thead>\n",
       "  <tbody>\n",
       "    <tr>\n",
       "      <th>57</th>\n",
       "      <td>Friend</td>\n",
       "      <td>602</td>\n",
       "    </tr>\n",
       "    <tr>\n",
       "      <th>11</th>\n",
       "      <td>College</td>\n",
       "      <td>27</td>\n",
       "    </tr>\n",
       "    <tr>\n",
       "      <th>63</th>\n",
       "      <td>Friends</td>\n",
       "      <td>26</td>\n",
       "    </tr>\n",
       "    <tr>\n",
       "      <th>39</th>\n",
       "      <td>Facebook</td>\n",
       "      <td>18</td>\n",
       "    </tr>\n",
       "    <tr>\n",
       "      <th>193</th>\n",
       "      <td>Whatsapp</td>\n",
       "      <td>11</td>\n",
       "    </tr>\n",
       "    <tr>\n",
       "      <th>...</th>\n",
       "      <td>...</td>\n",
       "      <td>...</td>\n",
       "    </tr>\n",
       "    <tr>\n",
       "      <th>83</th>\n",
       "      <td>From varsity group</td>\n",
       "      <td>1</td>\n",
       "    </tr>\n",
       "    <tr>\n",
       "      <th>85</th>\n",
       "      <td>Ftiend</td>\n",
       "      <td>1</td>\n",
       "    </tr>\n",
       "    <tr>\n",
       "      <th>86</th>\n",
       "      <td>Get notified through friends</td>\n",
       "      <td>1</td>\n",
       "    </tr>\n",
       "    <tr>\n",
       "      <th>87</th>\n",
       "      <td>Group invite link</td>\n",
       "      <td>1</td>\n",
       "    </tr>\n",
       "    <tr>\n",
       "      <th>210</th>\n",
       "      <td>whatsapp group</td>\n",
       "      <td>1</td>\n",
       "    </tr>\n",
       "  </tbody>\n",
       "</table>\n",
       "<p>211 rows × 2 columns</p>\n",
       "</div>"
      ],
      "text/plain": [
       "            Communication_source   counts\n",
       "57                         Friend     602\n",
       "11                        College      27\n",
       "63                        Friends      26\n",
       "39                       Facebook      18\n",
       "193                      Whatsapp      11\n",
       "..                            ...     ...\n",
       "83            From varsity group        1\n",
       "85                         Ftiend       1\n",
       "86   Get notified through friends       1\n",
       "87              Group invite link       1\n",
       "210               whatsapp group        1\n",
       "\n",
       "[211 rows x 2 columns]"
      ]
     },
     "execution_count": 36,
     "metadata": {},
     "output_type": "execute_result"
    }
   ],
   "source": [
    "source_dtf.sort_values(\"counts\", ascending=False)#counting sort values of communication source"
   ]
  },
  {
   "cell_type": "code",
   "execution_count": 37,
   "metadata": {},
   "outputs": [],
   "source": [
    "source_counts = source_dtf[source_dtf['counts'] > 3]# finding source values more then 3"
   ]
  },
  {
   "cell_type": "code",
   "execution_count": 38,
   "metadata": {},
   "outputs": [
    {
     "data": {
      "text/html": [
       "<div>\n",
       "<style scoped>\n",
       "    .dataframe tbody tr th:only-of-type {\n",
       "        vertical-align: middle;\n",
       "    }\n",
       "\n",
       "    .dataframe tbody tr th {\n",
       "        vertical-align: top;\n",
       "    }\n",
       "\n",
       "    .dataframe thead th {\n",
       "        text-align: right;\n",
       "    }\n",
       "</style>\n",
       "<table border=\"1\" class=\"dataframe\">\n",
       "  <thead>\n",
       "    <tr style=\"text-align: right;\">\n",
       "      <th></th>\n",
       "      <th>Communication_source</th>\n",
       "      <th>counts</th>\n",
       "    </tr>\n",
       "  </thead>\n",
       "  <tbody>\n",
       "    <tr>\n",
       "      <th>57</th>\n",
       "      <td>Friend</td>\n",
       "      <td>602</td>\n",
       "    </tr>\n",
       "    <tr>\n",
       "      <th>11</th>\n",
       "      <td>College</td>\n",
       "      <td>27</td>\n",
       "    </tr>\n",
       "    <tr>\n",
       "      <th>63</th>\n",
       "      <td>Friends</td>\n",
       "      <td>26</td>\n",
       "    </tr>\n",
       "    <tr>\n",
       "      <th>39</th>\n",
       "      <td>Facebook</td>\n",
       "      <td>18</td>\n",
       "    </tr>\n",
       "    <tr>\n",
       "      <th>193</th>\n",
       "      <td>Whatsapp</td>\n",
       "      <td>11</td>\n",
       "    </tr>\n",
       "    <tr>\n",
       "      <th>58</th>\n",
       "      <td>Friend</td>\n",
       "      <td>10</td>\n",
       "    </tr>\n",
       "    <tr>\n",
       "      <th>40</th>\n",
       "      <td>Facebook</td>\n",
       "      <td>9</td>\n",
       "    </tr>\n",
       "    <tr>\n",
       "      <th>111</th>\n",
       "      <td>My friend</td>\n",
       "      <td>6</td>\n",
       "    </tr>\n",
       "    <tr>\n",
       "      <th>144</th>\n",
       "      <td>Social media</td>\n",
       "      <td>6</td>\n",
       "    </tr>\n",
       "    <tr>\n",
       "      <th>64</th>\n",
       "      <td>Friends</td>\n",
       "      <td>5</td>\n",
       "    </tr>\n",
       "    <tr>\n",
       "      <th>97</th>\n",
       "      <td>Krishnamita Banerjee</td>\n",
       "      <td>4</td>\n",
       "    </tr>\n",
       "    <tr>\n",
       "      <th>129</th>\n",
       "      <td>Professor</td>\n",
       "      <td>4</td>\n",
       "    </tr>\n",
       "    <tr>\n",
       "      <th>140</th>\n",
       "      <td>Sanghamitra Majumder</td>\n",
       "      <td>4</td>\n",
       "    </tr>\n",
       "    <tr>\n",
       "      <th>206</th>\n",
       "      <td>friend</td>\n",
       "      <td>4</td>\n",
       "    </tr>\n",
       "  </tbody>\n",
       "</table>\n",
       "</div>"
      ],
      "text/plain": [
       "    Communication_source   counts\n",
       "57                 Friend     602\n",
       "11                College      27\n",
       "63                Friends      26\n",
       "39               Facebook      18\n",
       "193              Whatsapp      11\n",
       "58                Friend       10\n",
       "40              Facebook        9\n",
       "111             My friend       6\n",
       "144          Social media       6\n",
       "64               Friends        5\n",
       "97   Krishnamita Banerjee       4\n",
       "129             Professor       4\n",
       "140  Sanghamitra Majumder       4\n",
       "206                friend       4"
      ]
     },
     "execution_count": 38,
     "metadata": {},
     "output_type": "execute_result"
    }
   ],
   "source": [
    "source_counts.sort_values(\"counts\", ascending=False)# recount sort values"
   ]
  },
  {
   "cell_type": "code",
   "execution_count": 39,
   "metadata": {},
   "outputs": [
    {
     "data": {
      "text/plain": [
       "Index(['Communication_source ', 'counts'], dtype='object')"
      ]
     },
     "execution_count": 39,
     "metadata": {},
     "output_type": "execute_result"
    }
   ],
   "source": [
    "source_counts.columns"
   ]
  },
  {
   "cell_type": "code",
   "execution_count": 40,
   "metadata": {},
   "outputs": [
    {
     "data": {
      "application/vnd.plotly.v1+json": {
       "config": {
        "linkText": "Export to plot.ly",
        "plotlyServerURL": "https://plot.ly",
        "showLink": false
       },
       "data": [
        {
         "marker": {
          "color": "lightgreen"
         },
         "text": [
          "Friend",
          "College",
          "Friends",
          "Facebook",
          "Whatsapp",
          "Friend ",
          "Facebook ",
          "My friend",
          "Social media",
          "Friends ",
          "Krishnamita Banerjee",
          "Professor",
          "Sanghamitra Majumder",
          "friend"
         ],
         "type": "bar",
         "x": [
          "Friend",
          "College",
          "Friends",
          "Facebook",
          "Whatsapp",
          "Friend ",
          "Facebook ",
          "My friend",
          "Social media",
          "Friends ",
          "Krishnamita Banerjee",
          "Professor",
          "Sanghamitra Majumder",
          "friend"
         ],
         "y": [
          602,
          27,
          26,
          18,
          11,
          10,
          9,
          6,
          6,
          5,
          4,
          4,
          4,
          4
         ]
        }
       ],
       "layout": {
        "hovermode": "closest",
        "paper_bgcolor": "rgba(0, 0, 0, 0)",
        "plot_bgcolor": "rgba(0, 0, 0, 0)",
        "template": {
         "data": {
          "bar": [
           {
            "error_x": {
             "color": "#2a3f5f"
            },
            "error_y": {
             "color": "#2a3f5f"
            },
            "marker": {
             "line": {
              "color": "#E5ECF6",
              "width": 0.5
             }
            },
            "type": "bar"
           }
          ],
          "barpolar": [
           {
            "marker": {
             "line": {
              "color": "#E5ECF6",
              "width": 0.5
             }
            },
            "type": "barpolar"
           }
          ],
          "carpet": [
           {
            "aaxis": {
             "endlinecolor": "#2a3f5f",
             "gridcolor": "white",
             "linecolor": "white",
             "minorgridcolor": "white",
             "startlinecolor": "#2a3f5f"
            },
            "baxis": {
             "endlinecolor": "#2a3f5f",
             "gridcolor": "white",
             "linecolor": "white",
             "minorgridcolor": "white",
             "startlinecolor": "#2a3f5f"
            },
            "type": "carpet"
           }
          ],
          "choropleth": [
           {
            "colorbar": {
             "outlinewidth": 0,
             "ticks": ""
            },
            "type": "choropleth"
           }
          ],
          "contour": [
           {
            "colorbar": {
             "outlinewidth": 0,
             "ticks": ""
            },
            "colorscale": [
             [
              0,
              "#0d0887"
             ],
             [
              0.1111111111111111,
              "#46039f"
             ],
             [
              0.2222222222222222,
              "#7201a8"
             ],
             [
              0.3333333333333333,
              "#9c179e"
             ],
             [
              0.4444444444444444,
              "#bd3786"
             ],
             [
              0.5555555555555556,
              "#d8576b"
             ],
             [
              0.6666666666666666,
              "#ed7953"
             ],
             [
              0.7777777777777778,
              "#fb9f3a"
             ],
             [
              0.8888888888888888,
              "#fdca26"
             ],
             [
              1,
              "#f0f921"
             ]
            ],
            "type": "contour"
           }
          ],
          "contourcarpet": [
           {
            "colorbar": {
             "outlinewidth": 0,
             "ticks": ""
            },
            "type": "contourcarpet"
           }
          ],
          "heatmap": [
           {
            "colorbar": {
             "outlinewidth": 0,
             "ticks": ""
            },
            "colorscale": [
             [
              0,
              "#0d0887"
             ],
             [
              0.1111111111111111,
              "#46039f"
             ],
             [
              0.2222222222222222,
              "#7201a8"
             ],
             [
              0.3333333333333333,
              "#9c179e"
             ],
             [
              0.4444444444444444,
              "#bd3786"
             ],
             [
              0.5555555555555556,
              "#d8576b"
             ],
             [
              0.6666666666666666,
              "#ed7953"
             ],
             [
              0.7777777777777778,
              "#fb9f3a"
             ],
             [
              0.8888888888888888,
              "#fdca26"
             ],
             [
              1,
              "#f0f921"
             ]
            ],
            "type": "heatmap"
           }
          ],
          "heatmapgl": [
           {
            "colorbar": {
             "outlinewidth": 0,
             "ticks": ""
            },
            "colorscale": [
             [
              0,
              "#0d0887"
             ],
             [
              0.1111111111111111,
              "#46039f"
             ],
             [
              0.2222222222222222,
              "#7201a8"
             ],
             [
              0.3333333333333333,
              "#9c179e"
             ],
             [
              0.4444444444444444,
              "#bd3786"
             ],
             [
              0.5555555555555556,
              "#d8576b"
             ],
             [
              0.6666666666666666,
              "#ed7953"
             ],
             [
              0.7777777777777778,
              "#fb9f3a"
             ],
             [
              0.8888888888888888,
              "#fdca26"
             ],
             [
              1,
              "#f0f921"
             ]
            ],
            "type": "heatmapgl"
           }
          ],
          "histogram": [
           {
            "marker": {
             "colorbar": {
              "outlinewidth": 0,
              "ticks": ""
             }
            },
            "type": "histogram"
           }
          ],
          "histogram2d": [
           {
            "colorbar": {
             "outlinewidth": 0,
             "ticks": ""
            },
            "colorscale": [
             [
              0,
              "#0d0887"
             ],
             [
              0.1111111111111111,
              "#46039f"
             ],
             [
              0.2222222222222222,
              "#7201a8"
             ],
             [
              0.3333333333333333,
              "#9c179e"
             ],
             [
              0.4444444444444444,
              "#bd3786"
             ],
             [
              0.5555555555555556,
              "#d8576b"
             ],
             [
              0.6666666666666666,
              "#ed7953"
             ],
             [
              0.7777777777777778,
              "#fb9f3a"
             ],
             [
              0.8888888888888888,
              "#fdca26"
             ],
             [
              1,
              "#f0f921"
             ]
            ],
            "type": "histogram2d"
           }
          ],
          "histogram2dcontour": [
           {
            "colorbar": {
             "outlinewidth": 0,
             "ticks": ""
            },
            "colorscale": [
             [
              0,
              "#0d0887"
             ],
             [
              0.1111111111111111,
              "#46039f"
             ],
             [
              0.2222222222222222,
              "#7201a8"
             ],
             [
              0.3333333333333333,
              "#9c179e"
             ],
             [
              0.4444444444444444,
              "#bd3786"
             ],
             [
              0.5555555555555556,
              "#d8576b"
             ],
             [
              0.6666666666666666,
              "#ed7953"
             ],
             [
              0.7777777777777778,
              "#fb9f3a"
             ],
             [
              0.8888888888888888,
              "#fdca26"
             ],
             [
              1,
              "#f0f921"
             ]
            ],
            "type": "histogram2dcontour"
           }
          ],
          "mesh3d": [
           {
            "colorbar": {
             "outlinewidth": 0,
             "ticks": ""
            },
            "type": "mesh3d"
           }
          ],
          "parcoords": [
           {
            "line": {
             "colorbar": {
              "outlinewidth": 0,
              "ticks": ""
             }
            },
            "type": "parcoords"
           }
          ],
          "pie": [
           {
            "automargin": true,
            "type": "pie"
           }
          ],
          "scatter": [
           {
            "marker": {
             "colorbar": {
              "outlinewidth": 0,
              "ticks": ""
             }
            },
            "type": "scatter"
           }
          ],
          "scatter3d": [
           {
            "line": {
             "colorbar": {
              "outlinewidth": 0,
              "ticks": ""
             }
            },
            "marker": {
             "colorbar": {
              "outlinewidth": 0,
              "ticks": ""
             }
            },
            "type": "scatter3d"
           }
          ],
          "scattercarpet": [
           {
            "marker": {
             "colorbar": {
              "outlinewidth": 0,
              "ticks": ""
             }
            },
            "type": "scattercarpet"
           }
          ],
          "scattergeo": [
           {
            "marker": {
             "colorbar": {
              "outlinewidth": 0,
              "ticks": ""
             }
            },
            "type": "scattergeo"
           }
          ],
          "scattergl": [
           {
            "marker": {
             "colorbar": {
              "outlinewidth": 0,
              "ticks": ""
             }
            },
            "type": "scattergl"
           }
          ],
          "scattermapbox": [
           {
            "marker": {
             "colorbar": {
              "outlinewidth": 0,
              "ticks": ""
             }
            },
            "type": "scattermapbox"
           }
          ],
          "scatterpolar": [
           {
            "marker": {
             "colorbar": {
              "outlinewidth": 0,
              "ticks": ""
             }
            },
            "type": "scatterpolar"
           }
          ],
          "scatterpolargl": [
           {
            "marker": {
             "colorbar": {
              "outlinewidth": 0,
              "ticks": ""
             }
            },
            "type": "scatterpolargl"
           }
          ],
          "scatterternary": [
           {
            "marker": {
             "colorbar": {
              "outlinewidth": 0,
              "ticks": ""
             }
            },
            "type": "scatterternary"
           }
          ],
          "surface": [
           {
            "colorbar": {
             "outlinewidth": 0,
             "ticks": ""
            },
            "colorscale": [
             [
              0,
              "#0d0887"
             ],
             [
              0.1111111111111111,
              "#46039f"
             ],
             [
              0.2222222222222222,
              "#7201a8"
             ],
             [
              0.3333333333333333,
              "#9c179e"
             ],
             [
              0.4444444444444444,
              "#bd3786"
             ],
             [
              0.5555555555555556,
              "#d8576b"
             ],
             [
              0.6666666666666666,
              "#ed7953"
             ],
             [
              0.7777777777777778,
              "#fb9f3a"
             ],
             [
              0.8888888888888888,
              "#fdca26"
             ],
             [
              1,
              "#f0f921"
             ]
            ],
            "type": "surface"
           }
          ],
          "table": [
           {
            "cells": {
             "fill": {
              "color": "#EBF0F8"
             },
             "line": {
              "color": "white"
             }
            },
            "header": {
             "fill": {
              "color": "#C8D4E3"
             },
             "line": {
              "color": "white"
             }
            },
            "type": "table"
           }
          ]
         },
         "layout": {
          "annotationdefaults": {
           "arrowcolor": "#2a3f5f",
           "arrowhead": 0,
           "arrowwidth": 1
          },
          "autotypenumbers": "strict",
          "coloraxis": {
           "colorbar": {
            "outlinewidth": 0,
            "ticks": ""
           }
          },
          "colorscale": {
           "diverging": [
            [
             0,
             "#8e0152"
            ],
            [
             0.1,
             "#c51b7d"
            ],
            [
             0.2,
             "#de77ae"
            ],
            [
             0.3,
             "#f1b6da"
            ],
            [
             0.4,
             "#fde0ef"
            ],
            [
             0.5,
             "#f7f7f7"
            ],
            [
             0.6,
             "#e6f5d0"
            ],
            [
             0.7,
             "#b8e186"
            ],
            [
             0.8,
             "#7fbc41"
            ],
            [
             0.9,
             "#4d9221"
            ],
            [
             1,
             "#276419"
            ]
           ],
           "sequential": [
            [
             0,
             "#0d0887"
            ],
            [
             0.1111111111111111,
             "#46039f"
            ],
            [
             0.2222222222222222,
             "#7201a8"
            ],
            [
             0.3333333333333333,
             "#9c179e"
            ],
            [
             0.4444444444444444,
             "#bd3786"
            ],
            [
             0.5555555555555556,
             "#d8576b"
            ],
            [
             0.6666666666666666,
             "#ed7953"
            ],
            [
             0.7777777777777778,
             "#fb9f3a"
            ],
            [
             0.8888888888888888,
             "#fdca26"
            ],
            [
             1,
             "#f0f921"
            ]
           ],
           "sequentialminus": [
            [
             0,
             "#0d0887"
            ],
            [
             0.1111111111111111,
             "#46039f"
            ],
            [
             0.2222222222222222,
             "#7201a8"
            ],
            [
             0.3333333333333333,
             "#9c179e"
            ],
            [
             0.4444444444444444,
             "#bd3786"
            ],
            [
             0.5555555555555556,
             "#d8576b"
            ],
            [
             0.6666666666666666,
             "#ed7953"
            ],
            [
             0.7777777777777778,
             "#fb9f3a"
            ],
            [
             0.8888888888888888,
             "#fdca26"
            ],
            [
             1,
             "#f0f921"
            ]
           ]
          },
          "colorway": [
           "#636efa",
           "#EF553B",
           "#00cc96",
           "#ab63fa",
           "#FFA15A",
           "#19d3f3",
           "#FF6692",
           "#B6E880",
           "#FF97FF",
           "#FECB52"
          ],
          "font": {
           "color": "#2a3f5f"
          },
          "geo": {
           "bgcolor": "white",
           "lakecolor": "white",
           "landcolor": "#E5ECF6",
           "showlakes": true,
           "showland": true,
           "subunitcolor": "white"
          },
          "hoverlabel": {
           "align": "left"
          },
          "hovermode": "closest",
          "mapbox": {
           "style": "light"
          },
          "paper_bgcolor": "white",
          "plot_bgcolor": "#E5ECF6",
          "polar": {
           "angularaxis": {
            "gridcolor": "white",
            "linecolor": "white",
            "ticks": ""
           },
           "bgcolor": "#E5ECF6",
           "radialaxis": {
            "gridcolor": "white",
            "linecolor": "white",
            "ticks": ""
           }
          },
          "scene": {
           "xaxis": {
            "backgroundcolor": "#E5ECF6",
            "gridcolor": "white",
            "gridwidth": 2,
            "linecolor": "white",
            "showbackground": true,
            "ticks": "",
            "zerolinecolor": "white"
           },
           "yaxis": {
            "backgroundcolor": "#E5ECF6",
            "gridcolor": "white",
            "gridwidth": 2,
            "linecolor": "white",
            "showbackground": true,
            "ticks": "",
            "zerolinecolor": "white"
           },
           "zaxis": {
            "backgroundcolor": "#E5ECF6",
            "gridcolor": "white",
            "gridwidth": 2,
            "linecolor": "white",
            "showbackground": true,
            "ticks": "",
            "zerolinecolor": "white"
           }
          },
          "shapedefaults": {
           "line": {
            "color": "#2a3f5f"
           }
          },
          "ternary": {
           "aaxis": {
            "gridcolor": "white",
            "linecolor": "white",
            "ticks": ""
           },
           "baxis": {
            "gridcolor": "white",
            "linecolor": "white",
            "ticks": ""
           },
           "bgcolor": "#E5ECF6",
           "caxis": {
            "gridcolor": "white",
            "linecolor": "white",
            "ticks": ""
           }
          },
          "title": {
           "x": 0.05
          },
          "xaxis": {
           "automargin": true,
           "gridcolor": "white",
           "linecolor": "white",
           "ticks": "",
           "title": {
            "standoff": 15
           },
           "zerolinecolor": "white",
           "zerolinewidth": 2
          },
          "yaxis": {
           "automargin": true,
           "gridcolor": "white",
           "linecolor": "white",
           "ticks": "",
           "title": {
            "standoff": 15
           },
           "zerolinecolor": "white",
           "zerolinewidth": 2
          }
         }
        },
        "title": {
         "text": "how did you know about us from free session student"
        },
        "xaxis": {
         "linecolor": "black",
         "linewidth": 2,
         "mirror": true,
         "showline": true,
         "showticklabels": true,
         "tickangle": 45,
         "tickfont": {
          "color": "red",
          "size": 10
         },
         "title": {
          "text": "Name of the Source"
         },
         "zeroline": true,
         "zerolinecolor": "grey",
         "zerolinewidth": 1
        },
        "yaxis": {
         "gridcolor": "lightgrey",
         "linecolor": "black",
         "linewidth": 2,
         "mirror": true,
         "showline": true,
         "title": {
          "text": "Total Students"
         },
         "zeroline": true,
         "zerolinecolor": "grey",
         "zerolinewidth": 1
        }
       }
      },
      "text/html": [
       "<div>                            <div id=\"e74da6bf-1cb6-44ab-a57e-0d8afe772f8e\" class=\"plotly-graph-div\" style=\"height:525px; width:100%;\"></div>            <script type=\"text/javascript\">                require([\"plotly\"], function(Plotly) {                    window.PLOTLYENV=window.PLOTLYENV || {};                                    if (document.getElementById(\"e74da6bf-1cb6-44ab-a57e-0d8afe772f8e\")) {                    Plotly.newPlot(                        \"e74da6bf-1cb6-44ab-a57e-0d8afe772f8e\",                        [{\"marker\": {\"color\": \"lightgreen\"}, \"text\": [\"Friend\", \"College\", \"Friends\", \"Facebook\", \"Whatsapp\", \"Friend \", \"Facebook \", \"My friend\", \"Social media\", \"Friends \", \"Krishnamita Banerjee\", \"Professor\", \"Sanghamitra Majumder\", \"friend\"], \"type\": \"bar\", \"x\": [\"Friend\", \"College\", \"Friends\", \"Facebook\", \"Whatsapp\", \"Friend \", \"Facebook \", \"My friend\", \"Social media\", \"Friends \", \"Krishnamita Banerjee\", \"Professor\", \"Sanghamitra Majumder\", \"friend\"], \"y\": [602, 27, 26, 18, 11, 10, 9, 6, 6, 5, 4, 4, 4, 4]}],                        {\"hovermode\": \"closest\", \"paper_bgcolor\": \"rgba(0, 0, 0, 0)\", \"plot_bgcolor\": \"rgba(0, 0, 0, 0)\", \"template\": {\"data\": {\"bar\": [{\"error_x\": {\"color\": \"#2a3f5f\"}, \"error_y\": {\"color\": \"#2a3f5f\"}, \"marker\": {\"line\": {\"color\": \"#E5ECF6\", \"width\": 0.5}}, \"type\": \"bar\"}], \"barpolar\": [{\"marker\": {\"line\": {\"color\": \"#E5ECF6\", \"width\": 0.5}}, \"type\": \"barpolar\"}], \"carpet\": [{\"aaxis\": {\"endlinecolor\": \"#2a3f5f\", \"gridcolor\": \"white\", \"linecolor\": \"white\", \"minorgridcolor\": \"white\", \"startlinecolor\": \"#2a3f5f\"}, \"baxis\": {\"endlinecolor\": \"#2a3f5f\", \"gridcolor\": \"white\", \"linecolor\": \"white\", \"minorgridcolor\": \"white\", \"startlinecolor\": \"#2a3f5f\"}, \"type\": \"carpet\"}], \"choropleth\": [{\"colorbar\": {\"outlinewidth\": 0, \"ticks\": \"\"}, \"type\": \"choropleth\"}], \"contour\": [{\"colorbar\": {\"outlinewidth\": 0, \"ticks\": \"\"}, \"colorscale\": [[0.0, \"#0d0887\"], [0.1111111111111111, \"#46039f\"], [0.2222222222222222, \"#7201a8\"], [0.3333333333333333, \"#9c179e\"], [0.4444444444444444, \"#bd3786\"], [0.5555555555555556, \"#d8576b\"], [0.6666666666666666, \"#ed7953\"], [0.7777777777777778, \"#fb9f3a\"], [0.8888888888888888, \"#fdca26\"], [1.0, \"#f0f921\"]], \"type\": \"contour\"}], \"contourcarpet\": [{\"colorbar\": {\"outlinewidth\": 0, \"ticks\": \"\"}, \"type\": \"contourcarpet\"}], \"heatmap\": [{\"colorbar\": {\"outlinewidth\": 0, \"ticks\": \"\"}, \"colorscale\": [[0.0, \"#0d0887\"], [0.1111111111111111, \"#46039f\"], [0.2222222222222222, \"#7201a8\"], [0.3333333333333333, \"#9c179e\"], [0.4444444444444444, \"#bd3786\"], [0.5555555555555556, \"#d8576b\"], [0.6666666666666666, \"#ed7953\"], [0.7777777777777778, \"#fb9f3a\"], [0.8888888888888888, \"#fdca26\"], [1.0, \"#f0f921\"]], \"type\": \"heatmap\"}], \"heatmapgl\": [{\"colorbar\": {\"outlinewidth\": 0, \"ticks\": \"\"}, \"colorscale\": [[0.0, \"#0d0887\"], [0.1111111111111111, \"#46039f\"], [0.2222222222222222, \"#7201a8\"], [0.3333333333333333, \"#9c179e\"], [0.4444444444444444, \"#bd3786\"], [0.5555555555555556, \"#d8576b\"], [0.6666666666666666, \"#ed7953\"], [0.7777777777777778, \"#fb9f3a\"], [0.8888888888888888, \"#fdca26\"], [1.0, \"#f0f921\"]], \"type\": \"heatmapgl\"}], \"histogram\": [{\"marker\": {\"colorbar\": {\"outlinewidth\": 0, \"ticks\": \"\"}}, \"type\": \"histogram\"}], \"histogram2d\": [{\"colorbar\": {\"outlinewidth\": 0, \"ticks\": \"\"}, \"colorscale\": [[0.0, \"#0d0887\"], [0.1111111111111111, \"#46039f\"], [0.2222222222222222, \"#7201a8\"], [0.3333333333333333, \"#9c179e\"], [0.4444444444444444, \"#bd3786\"], [0.5555555555555556, \"#d8576b\"], [0.6666666666666666, \"#ed7953\"], [0.7777777777777778, \"#fb9f3a\"], [0.8888888888888888, \"#fdca26\"], [1.0, \"#f0f921\"]], \"type\": \"histogram2d\"}], \"histogram2dcontour\": [{\"colorbar\": {\"outlinewidth\": 0, \"ticks\": \"\"}, \"colorscale\": [[0.0, \"#0d0887\"], [0.1111111111111111, \"#46039f\"], [0.2222222222222222, \"#7201a8\"], [0.3333333333333333, \"#9c179e\"], [0.4444444444444444, \"#bd3786\"], [0.5555555555555556, \"#d8576b\"], [0.6666666666666666, \"#ed7953\"], [0.7777777777777778, \"#fb9f3a\"], [0.8888888888888888, \"#fdca26\"], [1.0, \"#f0f921\"]], \"type\": \"histogram2dcontour\"}], \"mesh3d\": [{\"colorbar\": {\"outlinewidth\": 0, \"ticks\": \"\"}, \"type\": \"mesh3d\"}], \"parcoords\": [{\"line\": {\"colorbar\": {\"outlinewidth\": 0, \"ticks\": \"\"}}, \"type\": \"parcoords\"}], \"pie\": [{\"automargin\": true, \"type\": \"pie\"}], \"scatter\": [{\"marker\": {\"colorbar\": {\"outlinewidth\": 0, \"ticks\": \"\"}}, \"type\": \"scatter\"}], \"scatter3d\": [{\"line\": {\"colorbar\": {\"outlinewidth\": 0, \"ticks\": \"\"}}, \"marker\": {\"colorbar\": {\"outlinewidth\": 0, \"ticks\": \"\"}}, \"type\": \"scatter3d\"}], \"scattercarpet\": [{\"marker\": {\"colorbar\": {\"outlinewidth\": 0, \"ticks\": \"\"}}, \"type\": \"scattercarpet\"}], \"scattergeo\": [{\"marker\": {\"colorbar\": {\"outlinewidth\": 0, \"ticks\": \"\"}}, \"type\": \"scattergeo\"}], \"scattergl\": [{\"marker\": {\"colorbar\": {\"outlinewidth\": 0, \"ticks\": \"\"}}, \"type\": \"scattergl\"}], \"scattermapbox\": [{\"marker\": {\"colorbar\": {\"outlinewidth\": 0, \"ticks\": \"\"}}, \"type\": \"scattermapbox\"}], \"scatterpolar\": [{\"marker\": {\"colorbar\": {\"outlinewidth\": 0, \"ticks\": \"\"}}, \"type\": \"scatterpolar\"}], \"scatterpolargl\": [{\"marker\": {\"colorbar\": {\"outlinewidth\": 0, \"ticks\": \"\"}}, \"type\": \"scatterpolargl\"}], \"scatterternary\": [{\"marker\": {\"colorbar\": {\"outlinewidth\": 0, \"ticks\": \"\"}}, \"type\": \"scatterternary\"}], \"surface\": [{\"colorbar\": {\"outlinewidth\": 0, \"ticks\": \"\"}, \"colorscale\": [[0.0, \"#0d0887\"], [0.1111111111111111, \"#46039f\"], [0.2222222222222222, \"#7201a8\"], [0.3333333333333333, \"#9c179e\"], [0.4444444444444444, \"#bd3786\"], [0.5555555555555556, \"#d8576b\"], [0.6666666666666666, \"#ed7953\"], [0.7777777777777778, \"#fb9f3a\"], [0.8888888888888888, \"#fdca26\"], [1.0, \"#f0f921\"]], \"type\": \"surface\"}], \"table\": [{\"cells\": {\"fill\": {\"color\": \"#EBF0F8\"}, \"line\": {\"color\": \"white\"}}, \"header\": {\"fill\": {\"color\": \"#C8D4E3\"}, \"line\": {\"color\": \"white\"}}, \"type\": \"table\"}]}, \"layout\": {\"annotationdefaults\": {\"arrowcolor\": \"#2a3f5f\", \"arrowhead\": 0, \"arrowwidth\": 1}, \"autotypenumbers\": \"strict\", \"coloraxis\": {\"colorbar\": {\"outlinewidth\": 0, \"ticks\": \"\"}}, \"colorscale\": {\"diverging\": [[0, \"#8e0152\"], [0.1, \"#c51b7d\"], [0.2, \"#de77ae\"], [0.3, \"#f1b6da\"], [0.4, \"#fde0ef\"], [0.5, \"#f7f7f7\"], [0.6, \"#e6f5d0\"], [0.7, \"#b8e186\"], [0.8, \"#7fbc41\"], [0.9, \"#4d9221\"], [1, \"#276419\"]], \"sequential\": [[0.0, \"#0d0887\"], [0.1111111111111111, \"#46039f\"], [0.2222222222222222, \"#7201a8\"], [0.3333333333333333, \"#9c179e\"], [0.4444444444444444, \"#bd3786\"], [0.5555555555555556, \"#d8576b\"], [0.6666666666666666, \"#ed7953\"], [0.7777777777777778, \"#fb9f3a\"], [0.8888888888888888, \"#fdca26\"], [1.0, \"#f0f921\"]], \"sequentialminus\": [[0.0, \"#0d0887\"], [0.1111111111111111, \"#46039f\"], [0.2222222222222222, \"#7201a8\"], [0.3333333333333333, \"#9c179e\"], [0.4444444444444444, \"#bd3786\"], [0.5555555555555556, \"#d8576b\"], [0.6666666666666666, \"#ed7953\"], [0.7777777777777778, \"#fb9f3a\"], [0.8888888888888888, \"#fdca26\"], [1.0, \"#f0f921\"]]}, \"colorway\": [\"#636efa\", \"#EF553B\", \"#00cc96\", \"#ab63fa\", \"#FFA15A\", \"#19d3f3\", \"#FF6692\", \"#B6E880\", \"#FF97FF\", \"#FECB52\"], \"font\": {\"color\": \"#2a3f5f\"}, \"geo\": {\"bgcolor\": \"white\", \"lakecolor\": \"white\", \"landcolor\": \"#E5ECF6\", \"showlakes\": true, \"showland\": true, \"subunitcolor\": \"white\"}, \"hoverlabel\": {\"align\": \"left\"}, \"hovermode\": \"closest\", \"mapbox\": {\"style\": \"light\"}, \"paper_bgcolor\": \"white\", \"plot_bgcolor\": \"#E5ECF6\", \"polar\": {\"angularaxis\": {\"gridcolor\": \"white\", \"linecolor\": \"white\", \"ticks\": \"\"}, \"bgcolor\": \"#E5ECF6\", \"radialaxis\": {\"gridcolor\": \"white\", \"linecolor\": \"white\", \"ticks\": \"\"}}, \"scene\": {\"xaxis\": {\"backgroundcolor\": \"#E5ECF6\", \"gridcolor\": \"white\", \"gridwidth\": 2, \"linecolor\": \"white\", \"showbackground\": true, \"ticks\": \"\", \"zerolinecolor\": \"white\"}, \"yaxis\": {\"backgroundcolor\": \"#E5ECF6\", \"gridcolor\": \"white\", \"gridwidth\": 2, \"linecolor\": \"white\", \"showbackground\": true, \"ticks\": \"\", \"zerolinecolor\": \"white\"}, \"zaxis\": {\"backgroundcolor\": \"#E5ECF6\", \"gridcolor\": \"white\", \"gridwidth\": 2, \"linecolor\": \"white\", \"showbackground\": true, \"ticks\": \"\", \"zerolinecolor\": \"white\"}}, \"shapedefaults\": {\"line\": {\"color\": \"#2a3f5f\"}}, \"ternary\": {\"aaxis\": {\"gridcolor\": \"white\", \"linecolor\": \"white\", \"ticks\": \"\"}, \"baxis\": {\"gridcolor\": \"white\", \"linecolor\": \"white\", \"ticks\": \"\"}, \"bgcolor\": \"#E5ECF6\", \"caxis\": {\"gridcolor\": \"white\", \"linecolor\": \"white\", \"ticks\": \"\"}}, \"title\": {\"x\": 0.05}, \"xaxis\": {\"automargin\": true, \"gridcolor\": \"white\", \"linecolor\": \"white\", \"ticks\": \"\", \"title\": {\"standoff\": 15}, \"zerolinecolor\": \"white\", \"zerolinewidth\": 2}, \"yaxis\": {\"automargin\": true, \"gridcolor\": \"white\", \"linecolor\": \"white\", \"ticks\": \"\", \"title\": {\"standoff\": 15}, \"zerolinecolor\": \"white\", \"zerolinewidth\": 2}}}, \"title\": {\"text\": \"how did you know about us from free session student\"}, \"xaxis\": {\"linecolor\": \"black\", \"linewidth\": 2, \"mirror\": true, \"showline\": true, \"showticklabels\": true, \"tickangle\": 45, \"tickfont\": {\"color\": \"red\", \"size\": 10}, \"title\": {\"text\": \"Name of the Source\"}, \"zeroline\": true, \"zerolinecolor\": \"grey\", \"zerolinewidth\": 1}, \"yaxis\": {\"gridcolor\": \"lightgrey\", \"linecolor\": \"black\", \"linewidth\": 2, \"mirror\": true, \"showline\": true, \"title\": {\"text\": \"Total Students\"}, \"zeroline\": true, \"zerolinecolor\": \"grey\", \"zerolinewidth\": 1}},                        {\"responsive\": true}                    ).then(function(){\n",
       "                            \n",
       "var gd = document.getElementById('e74da6bf-1cb6-44ab-a57e-0d8afe772f8e');\n",
       "var x = new MutationObserver(function (mutations, observer) {{\n",
       "        var display = window.getComputedStyle(gd).display;\n",
       "        if (!display || display === 'none') {{\n",
       "            console.log([gd, 'removed!']);\n",
       "            Plotly.purge(gd);\n",
       "            observer.disconnect();\n",
       "        }}\n",
       "}});\n",
       "\n",
       "// Listen for the removal of the full notebook cells\n",
       "var notebookContainer = gd.closest('#notebook-container');\n",
       "if (notebookContainer) {{\n",
       "    x.observe(notebookContainer, {childList: true});\n",
       "}}\n",
       "\n",
       "// Listen for the clearing of the current output cell\n",
       "var outputEl = gd.closest('.output');\n",
       "if (outputEl) {{\n",
       "    x.observe(outputEl, {childList: true});\n",
       "}}\n",
       "\n",
       "                        })                };                });            </script>        </div>"
      ]
     },
     "metadata": {},
     "output_type": "display_data"
    }
   ],
   "source": [
    "draw_trace_bar(source_counts,'Communication_source ','counts','how did you know about us from free session student', 'Name of the Source','Total Students',\"lightgreen\")"
   ]
  },
  {
   "cell_type": "markdown",
   "metadata": {},
   "source": [
    "All students were known to this program by someone or some medium like friend,social media,teacher,university etc.From all type of communication source avobe trace bar shows that most of the students were connected to this program by friend.So,Friend is the winner from all of communication source."
   ]
  },
  {
   "cell_type": "markdown",
   "metadata": {},
   "source": [
    "### Working with batch_info data"
   ]
  },
  {
   "cell_type": "code",
   "execution_count": 41,
   "metadata": {},
   "outputs": [
    {
     "data": {
      "text/html": [
       "<div>\n",
       "<style scoped>\n",
       "    .dataframe tbody tr th:only-of-type {\n",
       "        vertical-align: middle;\n",
       "    }\n",
       "\n",
       "    .dataframe tbody tr th {\n",
       "        vertical-align: top;\n",
       "    }\n",
       "\n",
       "    .dataframe thead th {\n",
       "        text-align: right;\n",
       "    }\n",
       "</style>\n",
       "<table border=\"1\" class=\"dataframe\">\n",
       "  <thead>\n",
       "    <tr style=\"text-align: right;\">\n",
       "      <th></th>\n",
       "      <th>Time</th>\n",
       "      <th>Email Address</th>\n",
       "      <th>Name</th>\n",
       "      <th>How well you guys are understanding the covered topics ?</th>\n",
       "      <th>Rate our way of training</th>\n",
       "      <th>How well your queries are getting solved</th>\n",
       "      <th>Would you like to join our full time course ?</th>\n",
       "      <th>Would you like to recommend this course to others ?</th>\n",
       "      <th>Would you like to apply for paid internship programme by Softanbees  ?</th>\n",
       "      <th>Your suggestion for improving the training programme (Any other queries)</th>\n",
       "      <th>Please describe Here</th>\n",
       "      <th>Please describe here</th>\n",
       "      <th>Would you like to recommend this course to others ?.1</th>\n",
       "    </tr>\n",
       "  </thead>\n",
       "  <tbody>\n",
       "    <tr>\n",
       "      <th>0</th>\n",
       "      <td>8/1/20 23:05</td>\n",
       "      <td>deepanjan325@gmail.com</td>\n",
       "      <td>Deepanjan Biswas</td>\n",
       "      <td>5.0</td>\n",
       "      <td>5.0</td>\n",
       "      <td>5.0</td>\n",
       "      <td>Yes</td>\n",
       "      <td>Yes</td>\n",
       "      <td>Yes</td>\n",
       "      <td>NaN</td>\n",
       "      <td>NaN</td>\n",
       "      <td>NaN</td>\n",
       "      <td>NaN</td>\n",
       "    </tr>\n",
       "    <tr>\n",
       "      <th>1</th>\n",
       "      <td>8/1/20 23:06</td>\n",
       "      <td>ranubanerjee1984@gmail.com</td>\n",
       "      <td>RANU BANERJEE</td>\n",
       "      <td>5.0</td>\n",
       "      <td>5.0</td>\n",
       "      <td>5.0</td>\n",
       "      <td>Maybe</td>\n",
       "      <td>Yes</td>\n",
       "      <td>Maybe</td>\n",
       "      <td>NO</td>\n",
       "      <td>No</td>\n",
       "      <td>NaN</td>\n",
       "      <td>NaN</td>\n",
       "    </tr>\n",
       "    <tr>\n",
       "      <th>2</th>\n",
       "      <td>8/1/20 23:08</td>\n",
       "      <td>sharmisthaad@gmail.com</td>\n",
       "      <td>Sharmistha Adhikari</td>\n",
       "      <td>1.0</td>\n",
       "      <td>1.0</td>\n",
       "      <td>1.0</td>\n",
       "      <td>Maybe</td>\n",
       "      <td>Yes</td>\n",
       "      <td>Maybe</td>\n",
       "      <td>NaN</td>\n",
       "      <td>NaN</td>\n",
       "      <td>NaN</td>\n",
       "      <td>NaN</td>\n",
       "    </tr>\n",
       "    <tr>\n",
       "      <th>3</th>\n",
       "      <td>8/1/20 23:10</td>\n",
       "      <td>saikat20171@gmail.com</td>\n",
       "      <td>Saikat Mitra</td>\n",
       "      <td>4.0</td>\n",
       "      <td>5.0</td>\n",
       "      <td>5.0</td>\n",
       "      <td>Maybe</td>\n",
       "      <td>Yes</td>\n",
       "      <td>Yes</td>\n",
       "      <td>All is well</td>\n",
       "      <td>NaN</td>\n",
       "      <td>NaN</td>\n",
       "      <td>NaN</td>\n",
       "    </tr>\n",
       "    <tr>\n",
       "      <th>4</th>\n",
       "      <td>8/1/20 23:10</td>\n",
       "      <td>rahulroystat36@gmail.com</td>\n",
       "      <td>Rahul Roy</td>\n",
       "      <td>5.0</td>\n",
       "      <td>5.0</td>\n",
       "      <td>5.0</td>\n",
       "      <td>Yes</td>\n",
       "      <td>Yes</td>\n",
       "      <td>Yes</td>\n",
       "      <td>I want to know if you r going to tell us how t...</td>\n",
       "      <td>NaN</td>\n",
       "      <td>NaN</td>\n",
       "      <td>NaN</td>\n",
       "    </tr>\n",
       "  </tbody>\n",
       "</table>\n",
       "</div>"
      ],
      "text/plain": [
       "           Time               Email Address                 Name  \\\n",
       "0  8/1/20 23:05      deepanjan325@gmail.com     Deepanjan Biswas   \n",
       "1  8/1/20 23:06  ranubanerjee1984@gmail.com        RANU BANERJEE   \n",
       "2  8/1/20 23:08      sharmisthaad@gmail.com  Sharmistha Adhikari   \n",
       "3  8/1/20 23:10       saikat20171@gmail.com         Saikat Mitra   \n",
       "4  8/1/20 23:10    rahulroystat36@gmail.com            Rahul Roy   \n",
       "\n",
       "   How well you guys are understanding the covered topics ?  \\\n",
       "0                                                5.0          \n",
       "1                                                5.0          \n",
       "2                                                1.0          \n",
       "3                                                4.0          \n",
       "4                                                5.0          \n",
       "\n",
       "   Rate our way of training  How well your queries are getting solved   \\\n",
       "0                       5.0                                        5.0   \n",
       "1                       5.0                                        5.0   \n",
       "2                       1.0                                        1.0   \n",
       "3                       5.0                                        5.0   \n",
       "4                       5.0                                        5.0   \n",
       "\n",
       "  Would you like to join our full time course ?  \\\n",
       "0                                           Yes   \n",
       "1                                         Maybe   \n",
       "2                                         Maybe   \n",
       "3                                         Maybe   \n",
       "4                                           Yes   \n",
       "\n",
       "  Would you like to recommend this course to others ?  \\\n",
       "0                                                Yes    \n",
       "1                                                Yes    \n",
       "2                                                Yes    \n",
       "3                                                Yes    \n",
       "4                                                Yes    \n",
       "\n",
       "  Would you like to apply for paid internship programme by Softanbees  ?  \\\n",
       "0                                                Yes                       \n",
       "1                                              Maybe                       \n",
       "2                                              Maybe                       \n",
       "3                                                Yes                       \n",
       "4                                                Yes                       \n",
       "\n",
       "  Your suggestion for improving the training programme (Any other queries)  \\\n",
       "0                                                NaN                         \n",
       "1                                                 NO                         \n",
       "2                                                NaN                         \n",
       "3                                        All is well                         \n",
       "4  I want to know if you r going to tell us how t...                         \n",
       "\n",
       "  Please describe Here Please describe here  \\\n",
       "0                  NaN                  NaN   \n",
       "1                   No                  NaN   \n",
       "2                  NaN                  NaN   \n",
       "3                  NaN                  NaN   \n",
       "4                  NaN                  NaN   \n",
       "\n",
       "  Would you like to recommend this course to others ?.1  \n",
       "0                                                NaN     \n",
       "1                                                NaN     \n",
       "2                                                NaN     \n",
       "3                                                NaN     \n",
       "4                                                NaN     "
      ]
     },
     "execution_count": 41,
     "metadata": {},
     "output_type": "execute_result"
    }
   ],
   "source": [
    "batch_info.head()"
   ]
  },
  {
   "cell_type": "code",
   "execution_count": 42,
   "metadata": {},
   "outputs": [
    {
     "data": {
      "text/plain": [
       "Index([' Time', 'Email Address', 'Name',\n",
       "       'How well you guys are understanding the covered topics ?',\n",
       "       'Rate our way of training', 'How well your queries are getting solved ',\n",
       "       'Would you like to join our full time course ?',\n",
       "       'Would you like to recommend this course to others ?',\n",
       "       'Would you like to apply for paid internship programme by Softanbees  ?',\n",
       "       'Your suggestion for improving the training programme (Any other queries)',\n",
       "       'Please describe Here', 'Please describe here',\n",
       "       'Would you like to recommend this course to others ?.1'],\n",
       "      dtype='object')"
      ]
     },
     "execution_count": 42,
     "metadata": {},
     "output_type": "execute_result"
    }
   ],
   "source": [
    "batch_info.columns"
   ]
  },
  {
   "cell_type": "code",
   "execution_count": 43,
   "metadata": {},
   "outputs": [],
   "source": [
    "# drop useless columns from dataset\n",
    "batch_info=batch_info.drop(['Please describe Here', 'Please describe here','Would you like to recommend this course to others ?.1'], axis = 'columns', inplace=False)"
   ]
  },
  {
   "cell_type": "code",
   "execution_count": 44,
   "metadata": {},
   "outputs": [
    {
     "data": {
      "text/html": [
       "<div>\n",
       "<style scoped>\n",
       "    .dataframe tbody tr th:only-of-type {\n",
       "        vertical-align: middle;\n",
       "    }\n",
       "\n",
       "    .dataframe tbody tr th {\n",
       "        vertical-align: top;\n",
       "    }\n",
       "\n",
       "    .dataframe thead th {\n",
       "        text-align: right;\n",
       "    }\n",
       "</style>\n",
       "<table border=\"1\" class=\"dataframe\">\n",
       "  <thead>\n",
       "    <tr style=\"text-align: right;\">\n",
       "      <th></th>\n",
       "      <th>Time</th>\n",
       "      <th>Email Address</th>\n",
       "      <th>Name</th>\n",
       "      <th>How well you guys are understanding the covered topics ?</th>\n",
       "      <th>Rate our way of training</th>\n",
       "      <th>How well your queries are getting solved</th>\n",
       "      <th>Would you like to join our full time course ?</th>\n",
       "      <th>Would you like to recommend this course to others ?</th>\n",
       "      <th>Would you like to apply for paid internship programme by Softanbees  ?</th>\n",
       "      <th>Your suggestion for improving the training programme (Any other queries)</th>\n",
       "    </tr>\n",
       "  </thead>\n",
       "  <tbody>\n",
       "    <tr>\n",
       "      <th>0</th>\n",
       "      <td>8/1/20 23:05</td>\n",
       "      <td>deepanjan325@gmail.com</td>\n",
       "      <td>Deepanjan Biswas</td>\n",
       "      <td>5.0</td>\n",
       "      <td>5.0</td>\n",
       "      <td>5.0</td>\n",
       "      <td>Yes</td>\n",
       "      <td>Yes</td>\n",
       "      <td>Yes</td>\n",
       "      <td>NaN</td>\n",
       "    </tr>\n",
       "    <tr>\n",
       "      <th>1</th>\n",
       "      <td>8/1/20 23:06</td>\n",
       "      <td>ranubanerjee1984@gmail.com</td>\n",
       "      <td>RANU BANERJEE</td>\n",
       "      <td>5.0</td>\n",
       "      <td>5.0</td>\n",
       "      <td>5.0</td>\n",
       "      <td>Maybe</td>\n",
       "      <td>Yes</td>\n",
       "      <td>Maybe</td>\n",
       "      <td>NO</td>\n",
       "    </tr>\n",
       "  </tbody>\n",
       "</table>\n",
       "</div>"
      ],
      "text/plain": [
       "           Time               Email Address              Name  \\\n",
       "0  8/1/20 23:05      deepanjan325@gmail.com  Deepanjan Biswas   \n",
       "1  8/1/20 23:06  ranubanerjee1984@gmail.com     RANU BANERJEE   \n",
       "\n",
       "   How well you guys are understanding the covered topics ?  \\\n",
       "0                                                5.0          \n",
       "1                                                5.0          \n",
       "\n",
       "   Rate our way of training  How well your queries are getting solved   \\\n",
       "0                       5.0                                        5.0   \n",
       "1                       5.0                                        5.0   \n",
       "\n",
       "  Would you like to join our full time course ?  \\\n",
       "0                                           Yes   \n",
       "1                                         Maybe   \n",
       "\n",
       "  Would you like to recommend this course to others ?  \\\n",
       "0                                                Yes    \n",
       "1                                                Yes    \n",
       "\n",
       "  Would you like to apply for paid internship programme by Softanbees  ?  \\\n",
       "0                                                Yes                       \n",
       "1                                              Maybe                       \n",
       "\n",
       "  Your suggestion for improving the training programme (Any other queries)  \n",
       "0                                                NaN                        \n",
       "1                                                 NO                        "
      ]
     },
     "execution_count": 44,
     "metadata": {},
     "output_type": "execute_result"
    }
   ],
   "source": [
    "batch_info.head(2)"
   ]
  },
  {
   "cell_type": "code",
   "execution_count": 45,
   "metadata": {},
   "outputs": [
    {
     "data": {
      "text/plain": [
       "(165, 10)"
      ]
     },
     "execution_count": 45,
     "metadata": {},
     "output_type": "execute_result"
    }
   ],
   "source": [
    "batch_info.shape"
   ]
  },
  {
   "cell_type": "markdown",
   "metadata": {},
   "source": [
    "### Rename columns name to work frequently"
   ]
  },
  {
   "cell_type": "code",
   "execution_count": 46,
   "metadata": {},
   "outputs": [],
   "source": [
    "batch_info.rename(columns={\"How well you guys are understanding the covered topics ?\": \"covered_topic_comprehend\"},inplace=True)"
   ]
  },
  {
   "cell_type": "code",
   "execution_count": 47,
   "metadata": {},
   "outputs": [],
   "source": [
    "batch_info.rename(columns={\"Rate our way of training\": \"Training_rating\", 'How well your queries are getting solved ': \"Queries_solution_rating\"},inplace=True)"
   ]
  },
  {
   "cell_type": "code",
   "execution_count": 48,
   "metadata": {},
   "outputs": [],
   "source": [
    "batch_info.rename(columns={'Would you like to join our full time course ?': \"Interest_to_join_fullcourse\"},inplace=True)"
   ]
  },
  {
   "cell_type": "code",
   "execution_count": 49,
   "metadata": {},
   "outputs": [],
   "source": [
    "batch_info.rename(columns={'Would you like to recommend this course to others ?': \"Course_recommendation_To_others\"},inplace=True)"
   ]
  },
  {
   "cell_type": "code",
   "execution_count": 50,
   "metadata": {},
   "outputs": [],
   "source": [
    "batch_info.rename(columns={'Would you like to apply for paid internship programme by Softanbees  ?': \"Apply_for_paid_internship\"},inplace=True)"
   ]
  },
  {
   "cell_type": "code",
   "execution_count": 51,
   "metadata": {},
   "outputs": [],
   "source": [
    "batch_info.rename(columns={'Your suggestion for improving the training programme (Any other queries)': \"Suggestion_for_improving_program\"},inplace=True)"
   ]
  },
  {
   "cell_type": "code",
   "execution_count": 52,
   "metadata": {},
   "outputs": [
    {
     "data": {
      "text/plain": [
       "Index([' Time', 'Email Address', 'Name', 'covered_topic_comprehend',\n",
       "       'Training_rating', 'Queries_solution_rating',\n",
       "       'Interest_to_join_fullcourse', 'Course_recommendation_To_others',\n",
       "       'Apply_for_paid_internship', 'Suggestion_for_improving_program'],\n",
       "      dtype='object')"
      ]
     },
     "execution_count": 52,
     "metadata": {},
     "output_type": "execute_result"
    }
   ],
   "source": [
    "batch_info.columns"
   ]
  },
  {
   "cell_type": "markdown",
   "metadata": {},
   "source": [
    "### Missing data and null values handling of batch info data"
   ]
  },
  {
   "cell_type": "code",
   "execution_count": 53,
   "metadata": {},
   "outputs": [],
   "source": [
    "#missing data handling by simleimputer by replce most frequent value to null/missing value\n",
    "from sklearn.impute import SimpleImputer\n",
    "imp=SimpleImputer(missing_values=np.nan, strategy='most_frequent')\n",
    "batch_info=imp.fit_transform(batch_info)"
   ]
  },
  {
   "cell_type": "code",
   "execution_count": 54,
   "metadata": {},
   "outputs": [],
   "source": [
    "batch_info=pd.DataFrame(batch_info,columns=[' Time', 'Email Address', 'Name', 'covered_topic_comprehend',\n",
    "       'Training_rating', 'Queries_solution', 'Interest_to_join_fullcourse',\n",
    "       'Course_recommendation_To_others', 'Apply_for_paid_internship',\n",
    "       'Suggestion_for_improving_program'])"
   ]
  },
  {
   "cell_type": "code",
   "execution_count": 55,
   "metadata": {},
   "outputs": [
    {
     "data": {
      "text/html": [
       "<div>\n",
       "<style scoped>\n",
       "    .dataframe tbody tr th:only-of-type {\n",
       "        vertical-align: middle;\n",
       "    }\n",
       "\n",
       "    .dataframe tbody tr th {\n",
       "        vertical-align: top;\n",
       "    }\n",
       "\n",
       "    .dataframe thead th {\n",
       "        text-align: right;\n",
       "    }\n",
       "</style>\n",
       "<table border=\"1\" class=\"dataframe\">\n",
       "  <thead>\n",
       "    <tr style=\"text-align: right;\">\n",
       "      <th></th>\n",
       "      <th>Time</th>\n",
       "      <th>Email Address</th>\n",
       "      <th>Name</th>\n",
       "      <th>covered_topic_comprehend</th>\n",
       "      <th>Training_rating</th>\n",
       "      <th>Queries_solution</th>\n",
       "      <th>Interest_to_join_fullcourse</th>\n",
       "      <th>Course_recommendation_To_others</th>\n",
       "      <th>Apply_for_paid_internship</th>\n",
       "      <th>Suggestion_for_improving_program</th>\n",
       "    </tr>\n",
       "  </thead>\n",
       "  <tbody>\n",
       "    <tr>\n",
       "      <th>0</th>\n",
       "      <td>8/1/20 23:05</td>\n",
       "      <td>deepanjan325@gmail.com</td>\n",
       "      <td>Deepanjan Biswas</td>\n",
       "      <td>5</td>\n",
       "      <td>5</td>\n",
       "      <td>5</td>\n",
       "      <td>Yes</td>\n",
       "      <td>Yes</td>\n",
       "      <td>Yes</td>\n",
       "      <td>No</td>\n",
       "    </tr>\n",
       "    <tr>\n",
       "      <th>1</th>\n",
       "      <td>8/1/20 23:06</td>\n",
       "      <td>ranubanerjee1984@gmail.com</td>\n",
       "      <td>RANU BANERJEE</td>\n",
       "      <td>5</td>\n",
       "      <td>5</td>\n",
       "      <td>5</td>\n",
       "      <td>Maybe</td>\n",
       "      <td>Yes</td>\n",
       "      <td>Maybe</td>\n",
       "      <td>NO</td>\n",
       "    </tr>\n",
       "    <tr>\n",
       "      <th>2</th>\n",
       "      <td>8/1/20 23:08</td>\n",
       "      <td>sharmisthaad@gmail.com</td>\n",
       "      <td>Sharmistha Adhikari</td>\n",
       "      <td>1</td>\n",
       "      <td>1</td>\n",
       "      <td>1</td>\n",
       "      <td>Maybe</td>\n",
       "      <td>Yes</td>\n",
       "      <td>Maybe</td>\n",
       "      <td>No</td>\n",
       "    </tr>\n",
       "    <tr>\n",
       "      <th>3</th>\n",
       "      <td>8/1/20 23:10</td>\n",
       "      <td>saikat20171@gmail.com</td>\n",
       "      <td>Saikat Mitra</td>\n",
       "      <td>4</td>\n",
       "      <td>5</td>\n",
       "      <td>5</td>\n",
       "      <td>Maybe</td>\n",
       "      <td>Yes</td>\n",
       "      <td>Yes</td>\n",
       "      <td>All is well</td>\n",
       "    </tr>\n",
       "    <tr>\n",
       "      <th>4</th>\n",
       "      <td>8/1/20 23:10</td>\n",
       "      <td>rahulroystat36@gmail.com</td>\n",
       "      <td>Rahul Roy</td>\n",
       "      <td>5</td>\n",
       "      <td>5</td>\n",
       "      <td>5</td>\n",
       "      <td>Yes</td>\n",
       "      <td>Yes</td>\n",
       "      <td>Yes</td>\n",
       "      <td>I want to know if you r going to tell us how t...</td>\n",
       "    </tr>\n",
       "    <tr>\n",
       "      <th>5</th>\n",
       "      <td>8/1/20 23:10</td>\n",
       "      <td>as1973240@gmail.com</td>\n",
       "      <td>Abhishek Singh</td>\n",
       "      <td>3</td>\n",
       "      <td>3</td>\n",
       "      <td>3</td>\n",
       "      <td>Maybe</td>\n",
       "      <td>Maybe</td>\n",
       "      <td>Maybe</td>\n",
       "      <td>No</td>\n",
       "    </tr>\n",
       "    <tr>\n",
       "      <th>6</th>\n",
       "      <td>8/1/20 23:12</td>\n",
       "      <td>pritamsaha075@gmail.com</td>\n",
       "      <td>Pritam Saha</td>\n",
       "      <td>5</td>\n",
       "      <td>5</td>\n",
       "      <td>5</td>\n",
       "      <td>Maybe</td>\n",
       "      <td>Yes</td>\n",
       "      <td>Yes</td>\n",
       "      <td>No suggestions.</td>\n",
       "    </tr>\n",
       "    <tr>\n",
       "      <th>7</th>\n",
       "      <td>8/1/20 23:12</td>\n",
       "      <td>rahulroystat36@gmail.com</td>\n",
       "      <td>Rahul Roy</td>\n",
       "      <td>5</td>\n",
       "      <td>5</td>\n",
       "      <td>5</td>\n",
       "      <td>Yes</td>\n",
       "      <td>Yes</td>\n",
       "      <td>Yes</td>\n",
       "      <td>I just want to know that we can build our own ...</td>\n",
       "    </tr>\n",
       "    <tr>\n",
       "      <th>8</th>\n",
       "      <td>8/1/20 23:13</td>\n",
       "      <td>anushkaroy2710@gmail.com</td>\n",
       "      <td>Anushka Roy</td>\n",
       "      <td>5</td>\n",
       "      <td>5</td>\n",
       "      <td>5</td>\n",
       "      <td>Yes</td>\n",
       "      <td>Yes</td>\n",
       "      <td>Yes</td>\n",
       "      <td>The free boot camp was really great. Whatever ...</td>\n",
       "    </tr>\n",
       "    <tr>\n",
       "      <th>9</th>\n",
       "      <td>8/1/20 23:15</td>\n",
       "      <td>anusree.boni15@gmail.com</td>\n",
       "      <td>Anusree Sengupta</td>\n",
       "      <td>5</td>\n",
       "      <td>5</td>\n",
       "      <td>5</td>\n",
       "      <td>Maybe</td>\n",
       "      <td>Yes</td>\n",
       "      <td>Yes</td>\n",
       "      <td>This bootcamp was amazing, faculties are so fr...</td>\n",
       "    </tr>\n",
       "  </tbody>\n",
       "</table>\n",
       "</div>"
      ],
      "text/plain": [
       "           Time               Email Address                 Name  \\\n",
       "0  8/1/20 23:05      deepanjan325@gmail.com     Deepanjan Biswas   \n",
       "1  8/1/20 23:06  ranubanerjee1984@gmail.com        RANU BANERJEE   \n",
       "2  8/1/20 23:08      sharmisthaad@gmail.com  Sharmistha Adhikari   \n",
       "3  8/1/20 23:10       saikat20171@gmail.com         Saikat Mitra   \n",
       "4  8/1/20 23:10    rahulroystat36@gmail.com            Rahul Roy   \n",
       "5  8/1/20 23:10         as1973240@gmail.com       Abhishek Singh   \n",
       "6  8/1/20 23:12     pritamsaha075@gmail.com          Pritam Saha   \n",
       "7  8/1/20 23:12    rahulroystat36@gmail.com            Rahul Roy   \n",
       "8  8/1/20 23:13    anushkaroy2710@gmail.com          Anushka Roy   \n",
       "9  8/1/20 23:15    anusree.boni15@gmail.com     Anusree Sengupta   \n",
       "\n",
       "  covered_topic_comprehend Training_rating Queries_solution  \\\n",
       "0                        5               5                5   \n",
       "1                        5               5                5   \n",
       "2                        1               1                1   \n",
       "3                        4               5                5   \n",
       "4                        5               5                5   \n",
       "5                        3               3                3   \n",
       "6                        5               5                5   \n",
       "7                        5               5                5   \n",
       "8                        5               5                5   \n",
       "9                        5               5                5   \n",
       "\n",
       "  Interest_to_join_fullcourse Course_recommendation_To_others  \\\n",
       "0                         Yes                             Yes   \n",
       "1                       Maybe                             Yes   \n",
       "2                       Maybe                             Yes   \n",
       "3                       Maybe                             Yes   \n",
       "4                         Yes                             Yes   \n",
       "5                       Maybe                           Maybe   \n",
       "6                       Maybe                             Yes   \n",
       "7                         Yes                             Yes   \n",
       "8                         Yes                             Yes   \n",
       "9                       Maybe                             Yes   \n",
       "\n",
       "  Apply_for_paid_internship                   Suggestion_for_improving_program  \n",
       "0                       Yes                                                 No  \n",
       "1                     Maybe                                                 NO  \n",
       "2                     Maybe                                                 No  \n",
       "3                       Yes                                        All is well  \n",
       "4                       Yes  I want to know if you r going to tell us how t...  \n",
       "5                     Maybe                                                 No  \n",
       "6                       Yes                                    No suggestions.  \n",
       "7                       Yes  I just want to know that we can build our own ...  \n",
       "8                       Yes  The free boot camp was really great. Whatever ...  \n",
       "9                       Yes  This bootcamp was amazing, faculties are so fr...  "
      ]
     },
     "execution_count": 55,
     "metadata": {},
     "output_type": "execute_result"
    }
   ],
   "source": [
    "batch_info.head(10)"
   ]
  },
  {
   "cell_type": "code",
   "execution_count": 56,
   "metadata": {},
   "outputs": [
    {
     "data": {
      "text/plain": [
       " Time                               0\n",
       "Email Address                       0\n",
       "Name                                0\n",
       "covered_topic_comprehend            0\n",
       "Training_rating                     0\n",
       "Queries_solution                    0\n",
       "Interest_to_join_fullcourse         0\n",
       "Course_recommendation_To_others     0\n",
       "Apply_for_paid_internship           0\n",
       "Suggestion_for_improving_program    0\n",
       "dtype: int64"
      ]
     },
     "execution_count": 56,
     "metadata": {},
     "output_type": "execute_result"
    }
   ],
   "source": [
    "batch_info.isnull().sum()# checking null values"
   ]
  },
  {
   "cell_type": "code",
   "execution_count": 57,
   "metadata": {},
   "outputs": [
    {
     "data": {
      "text/html": [
       "<div>\n",
       "<style scoped>\n",
       "    .dataframe tbody tr th:only-of-type {\n",
       "        vertical-align: middle;\n",
       "    }\n",
       "\n",
       "    .dataframe tbody tr th {\n",
       "        vertical-align: top;\n",
       "    }\n",
       "\n",
       "    .dataframe thead th {\n",
       "        text-align: right;\n",
       "    }\n",
       "</style>\n",
       "<table border=\"1\" class=\"dataframe\">\n",
       "  <thead>\n",
       "    <tr style=\"text-align: right;\">\n",
       "      <th></th>\n",
       "      <th>Time</th>\n",
       "      <th>Email Address</th>\n",
       "      <th>Name</th>\n",
       "      <th>covered_topic_comprehend</th>\n",
       "      <th>Training_rating</th>\n",
       "      <th>Queries_solution</th>\n",
       "      <th>Interest_to_join_fullcourse</th>\n",
       "      <th>Course_recommendation_To_others</th>\n",
       "      <th>Apply_for_paid_internship</th>\n",
       "      <th>Suggestion_for_improving_program</th>\n",
       "    </tr>\n",
       "  </thead>\n",
       "  <tbody>\n",
       "    <tr>\n",
       "      <th>count</th>\n",
       "      <td>165</td>\n",
       "      <td>165</td>\n",
       "      <td>165</td>\n",
       "      <td>165.0</td>\n",
       "      <td>165.0</td>\n",
       "      <td>165.0</td>\n",
       "      <td>165</td>\n",
       "      <td>165</td>\n",
       "      <td>165</td>\n",
       "      <td>165</td>\n",
       "    </tr>\n",
       "    <tr>\n",
       "      <th>unique</th>\n",
       "      <td>150</td>\n",
       "      <td>158</td>\n",
       "      <td>158</td>\n",
       "      <td>5.0</td>\n",
       "      <td>5.0</td>\n",
       "      <td>5.0</td>\n",
       "      <td>3</td>\n",
       "      <td>3</td>\n",
       "      <td>4</td>\n",
       "      <td>73</td>\n",
       "    </tr>\n",
       "    <tr>\n",
       "      <th>top</th>\n",
       "      <td>8/1/20 23:10</td>\n",
       "      <td>anushkaroy2710@gmail.com</td>\n",
       "      <td>Abhishek Singh</td>\n",
       "      <td>5.0</td>\n",
       "      <td>5.0</td>\n",
       "      <td>5.0</td>\n",
       "      <td>Maybe</td>\n",
       "      <td>Yes</td>\n",
       "      <td>Maybe</td>\n",
       "      <td>No</td>\n",
       "    </tr>\n",
       "    <tr>\n",
       "      <th>freq</th>\n",
       "      <td>5</td>\n",
       "      <td>4</td>\n",
       "      <td>4</td>\n",
       "      <td>92.0</td>\n",
       "      <td>109.0</td>\n",
       "      <td>115.0</td>\n",
       "      <td>87</td>\n",
       "      <td>150</td>\n",
       "      <td>83</td>\n",
       "      <td>92</td>\n",
       "    </tr>\n",
       "  </tbody>\n",
       "</table>\n",
       "</div>"
      ],
      "text/plain": [
       "                Time             Email Address            Name  \\\n",
       "count            165                       165             165   \n",
       "unique           150                       158             158   \n",
       "top     8/1/20 23:10  anushkaroy2710@gmail.com  Abhishek Singh   \n",
       "freq               5                         4               4   \n",
       "\n",
       "        covered_topic_comprehend  Training_rating  Queries_solution  \\\n",
       "count                      165.0            165.0             165.0   \n",
       "unique                       5.0              5.0               5.0   \n",
       "top                          5.0              5.0               5.0   \n",
       "freq                        92.0            109.0             115.0   \n",
       "\n",
       "       Interest_to_join_fullcourse Course_recommendation_To_others  \\\n",
       "count                          165                             165   \n",
       "unique                           3                               3   \n",
       "top                          Maybe                             Yes   \n",
       "freq                            87                             150   \n",
       "\n",
       "       Apply_for_paid_internship Suggestion_for_improving_program  \n",
       "count                        165                              165  \n",
       "unique                         4                               73  \n",
       "top                        Maybe                               No  \n",
       "freq                          83                               92  "
      ]
     },
     "execution_count": 57,
     "metadata": {},
     "output_type": "execute_result"
    }
   ],
   "source": [
    "batch_info.describe()"
   ]
  },
  {
   "cell_type": "markdown",
   "metadata": {},
   "source": [
    "#### The describe() function computes a summary of statistics pertaining to the DataFrame columns.\n",
    "1. count() present total count of every column data.\n",
    "2. unique()present total unique values/data in every column.\n",
    "3. top() present the top position value in every column.\n",
    "4. freq() present the frequency of data in every column."
   ]
  },
  {
   "cell_type": "markdown",
   "metadata": {},
   "source": [
    "### Based on the ratings give a conclusion how good our course was. [ use How well you guys are understanding the covered topics, rate our way of training and how well your queries are getting solved column] [from the batch information dataset]\n"
   ]
  },
  {
   "cell_type": "code",
   "execution_count": 58,
   "metadata": {},
   "outputs": [
    {
     "data": {
      "text/plain": [
       "5.0    92\n",
       "4.0    58\n",
       "3.0    11\n",
       "2.0     2\n",
       "1.0     2\n",
       "Name: covered_topic_comprehend, dtype: int64"
      ]
     },
     "execution_count": 58,
     "metadata": {},
     "output_type": "execute_result"
    }
   ],
   "source": [
    "# value_counts for understanding covered topic rating\n",
    "batch_info[ 'covered_topic_comprehend'].value_counts()"
   ]
  },
  {
   "cell_type": "code",
   "execution_count": 59,
   "metadata": {},
   "outputs": [],
   "source": [
    "def draw_barplot(data,title):# function for draw barplot\n",
    "    batch_info[data].value_counts().sort_index().plot.bar()\n",
    "    plt.title(title)"
   ]
  },
  {
   "cell_type": "code",
   "execution_count": 60,
   "metadata": {},
   "outputs": [
    {
     "data": {
      "image/png": "[encoded data removed]",
      "text/plain": [
       "<Figure size 432x288 with 1 Axes>"
      ]
     },
     "metadata": {
      "needs_background": "light"
     },
     "output_type": "display_data"
    }
   ],
   "source": [
    "draw_barplot( 'covered_topic_comprehend', 'covered_topic_comprehend')"
   ]
  },
  {
   "cell_type": "markdown",
   "metadata": {},
   "source": [
    "Max rating of understanding covered topic here is 5.0. Chart shows maximum students understood the covered topic."
   ]
  },
  {
   "cell_type": "code",
   "execution_count": 61,
   "metadata": {},
   "outputs": [
    {
     "data": {
      "text/plain": [
       "5.0    109\n",
       "4.0     44\n",
       "3.0      6\n",
       "2.0      3\n",
       "1.0      3\n",
       "Name: Training_rating, dtype: int64"
      ]
     },
     "execution_count": 61,
     "metadata": {},
     "output_type": "execute_result"
    }
   ],
   "source": [
    "#value counts for training rating\n",
    "batch_info[ 'Training_rating'].value_counts()"
   ]
  },
  {
   "cell_type": "code",
   "execution_count": 62,
   "metadata": {},
   "outputs": [
    {
     "data": {
      "image/png": "[encoded data removed]",
      "text/plain": [
       "<Figure size 432x288 with 1 Axes>"
      ]
     },
     "metadata": {
      "needs_background": "light"
     },
     "output_type": "display_data"
    }
   ],
   "source": [
    "draw_barplot( 'Training_rating', 'Training_rating')"
   ]
  },
  {
   "cell_type": "markdown",
   "metadata": {},
   "source": [
    "Most of the students rate this training as 5.0.So the training was a good program"
   ]
  },
  {
   "cell_type": "code",
   "execution_count": 63,
   "metadata": {},
   "outputs": [
    {
     "data": {
      "text/plain": [
       "5.0    115\n",
       "4.0     40\n",
       "3.0      5\n",
       "2.0      3\n",
       "1.0      2\n",
       "Name: Queries_solution, dtype: int64"
      ]
     },
     "execution_count": 63,
     "metadata": {},
     "output_type": "execute_result"
    }
   ],
   "source": [
    "# vaue counts for queries soution rating\n",
    "batch_info[ 'Queries_solution'].value_counts()"
   ]
  },
  {
   "cell_type": "code",
   "execution_count": 64,
   "metadata": {},
   "outputs": [
    {
     "data": {
      "image/png": "[encoded data removed]",
      "text/plain": [
       "<Figure size 432x288 with 1 Axes>"
      ]
     },
     "metadata": {
      "needs_background": "light"
     },
     "output_type": "display_data"
    }
   ],
   "source": [
    "draw_barplot( 'Queries_solution','Queries_solution rating')"
   ]
  },
  {
   "cell_type": "markdown",
   "metadata": {},
   "source": [
    "From visualization and also value_counts ,can see that queries solution ratings shows 5 which is presenting that the answering of the queries was understable,cear,good.Overall all three ratings shows the program was so much good."
   ]
  },
  {
   "cell_type": "markdown",
   "metadata": {},
   "source": [
    "### Do text classification and create a wordcloud visualization on the batch_information dataset’s suggestion row [ your suggestion for improving the training program]. [Extra mark: If possible do sentiment analysis and categorize the comments between \n",
    "good, bad and neutral] [from the batch information dataset]\n"
   ]
  },
  {
   "cell_type": "code",
   "execution_count": 65,
   "metadata": {},
   "outputs": [
    {
     "data": {
      "text/plain": [
       "array(['No', 'NO', 'All is well',\n",
       "       'I want to know if you r going to tell us how to create app like shankha da present after session',\n",
       "       'No suggestions.',\n",
       "       'I just want to know that we can build our own app like shankha da present us after session on a dam project on a synthetic data set',\n",
       "       'The free boot camp was really great. Whatever lessons on R was given was really helpful. Thank you',\n",
       "       'This bootcamp was amazing, faculties are so friendly & well behaved, according to me there is no need of improving the training program,this was at its best ',\n",
       "       'As per my suggestion, the way you guys are approaching is really good and I am quite sure you will carry on this quality of training in future. Al the best.',\n",
       "       'Everything was smooth', 'So far its good.',\n",
       "       'After all its a very great and very helpful session for me....Mainly as a friendly teaching process....Thanking you Surya Da(Rittik Da,Sankhadeep Da,Rishikesh Da)...',\n",
       "       \"It's very good, but I think if I had prior knowledge on coding then it would be more easy to understand\",\n",
       "       'This is completely fine. I am benefitted. Doubts are easily cleared. ',\n",
       "       'Boot camp was very informative... ',\n",
       "       'Its a nice and friendly session',\n",
       "       'The free boot camp was great. Whatever was taught in R was very helpful. Thank you',\n",
       "       'Stat portion should be taught with more depth...',\n",
       "       'Nothing. This way of teaching is far more better than many other places. ',\n",
       "       \"No suggestion, in today's life no one gives a second from their life, but sir all of your team members are doing a great, i didn't have any knowledge about data science, but at least now i know about this a little, Thank you very much for the sessions. \",\n",
       "       'It was a great boot camp .',\n",
       "       'It was a fun experience. Some well known topics were taught in an interesting manner. The details of basic stats, though necessary, was a bit tedious.',\n",
       "       'No suggestions, because the training is good and also good to learn new things. ',\n",
       "       'It would be beneficial if people from similar backgrounds are put into the same batch during the training.',\n",
       "       'No queries.. It was a great session ..Softanbees free boot camp session provides a wonderful platform for enlightening the concepts of data analysis using R programming.. It shows how even coding can be so easy and fun to learn.',\n",
       "       \"No suggestions...it's already the best👍\",\n",
       "       \"There is literally no loopholes... it's beyond perfect...thank you very much\",\n",
       "       'Keep up the good work ',\n",
       "       'If we could get to work on live projects that could help us understand concepts in detail ( in paid course )  as boot camp it was very good !!',\n",
       "       \"It's my pleasure to give me a chance to learn that things.. \",\n",
       "       \"It's the best....no more suggestions\",\n",
       "       \"This is the best way of teaching programming that I've ever seen.The way of teaching is so good that anyone can understand programming at ease. I feel fortunate enough to be a part of this training. I got no suggestions for improving the training programme because this is perfect!\",\n",
       "       'The way you & your team shown & presented the real-time project...That\\'s great bro!   The reason for \"maybe\" is that at present  I\\'m an intern (getting paid) & in starting unable to manage time. I\\'ve the LinkedIn connection & contact no. of Mr. Surya... So, when I\\'ll be comfortable with my office timing... I\\'ll ping him & stepping towards DS...',\n",
       "       'If this program appears with at least one home assignment then it would help in better understanding. ',\n",
       "       'Perfect way of explaining Nothing to change ',\n",
       "       'Nothing.It really good.Carry on.',\n",
       "       'The session is awesome and pretty much interesting... Somehow I missed some session due to poor connectivity, I am going through with the Recordings. Times spent with these things are very much appreciated... Thank You.(Regards are there instead of suggestions)',\n",
       "       'No suggestion... ',\n",
       "       \"Tgere's no suggestion as it was teally nice and understandable\",\n",
       "       \"It's really good...so for me there is nothing to improve more...thank you for the session\",\n",
       "       \"As this training programme is totally free , I can't deny it's better than I thought it would be. But I think having a score based practice exam and a dought clearing session will make it even better. I enjoyed the training programme and learned lots of technical aspects of data science which maes me really interested to be a data scientist in future. Not sure if I will be entering the full training programme right now as my parents are not ready to invest such amount of money at this situation, but surely I'm interested about doing the course in future.\",\n",
       "       'It was a very good journey with the training program,hope it will more better .. Thank you.',\n",
       "       \"I don't think that, there is any need of improvisation of any thing. Rather, providing the session recording was very helpful to us. \",\n",
       "       'All okay was there', 'Try to do more better than tomorrow. ',\n",
       "       'Nothing', 'Keep Going', 'This is excellent,no need to improve',\n",
       "       'Nothing.  It is  good enough ',\n",
       "       \"It's very helpful to me.. I have no suggestions at this time\",\n",
       "       'It is already a good process, no need for any changes. Excellent work. ',\n",
       "       'It was just perfect',\n",
       "       'all good....if the fees of the course was less it would have been best',\n",
       "       'I liked it. Maybe better variations can be better. ',\n",
       "       'It was good enough', 'Just one thing to say, \"Love u guus\" ',\n",
       "       'No its quite good  personallu i dont think that any improvement is required',\n",
       "       \"We learnt so much in this small amount of time... we can't ask more\",\n",
       "       'Everything is perfect', 'All r good',\n",
       "       'The course can be a little longer. Focus on data visualization was a little too short. Maybe a day or more on it would be helpful',\n",
       "       'Awesome ', 'I thnik this is all anyone can do, its good.',\n",
       "       \"Improving the accent can attract more avid learners from different parts of the world. As the teacher is from West Bengal, the enthusiasts from West parts of India like my friends whom I'd sent the link , they were not interested in doing this due to language problem. Kindly fix this so that people from all region could participate. Hindi and English should be the primary language . Thank you.\",\n",
       "       'The Some queries regarding the full time course structure and all.. ',\n",
       "       'I had an amazing experience; no improvement needed',\n",
       "       'No this training program is really very interesting and  I want to join the paid course for learn about data science and R programming.  ',\n",
       "       'I am satisfied with the way it is now. ',\n",
       "       'I think it is completely ok. Very  Very interesting and informative sessions I ever have of this course. ',\n",
       "       'Increase the workshop day..so that it covers up more topics. .',\n",
       "       'No ', 'The training programme was quite good. ',\n",
       "       'Training program is good'], dtype=object)"
      ]
     },
     "execution_count": 65,
     "metadata": {},
     "output_type": "execute_result"
    }
   ],
   "source": [
    "batch_info[ 'Suggestion_for_improving_program'].unique()"
   ]
  },
  {
   "cell_type": "code",
   "execution_count": 66,
   "metadata": {},
   "outputs": [],
   "source": [
    "#text classification on suggestion row"
   ]
  },
  {
   "cell_type": "code",
   "execution_count": 67,
   "metadata": {},
   "outputs": [
    {
     "name": "stderr",
     "output_type": "stream",
     "text": [
      "[nltk_data] Downloading package punkt to\n",
      "[nltk_data]     C:\\Users\\DCL\\AppData\\Roaming\\nltk_data...\n",
      "[nltk_data]   Package punkt is already up-to-date!\n"
     ]
    }
   ],
   "source": [
    "import nltk\n",
    "nltk.download('punkt')\n",
    "from nltk import word_tokenize"
   ]
  },
  {
   "cell_type": "code",
   "execution_count": 68,
   "metadata": {},
   "outputs": [],
   "source": [
    "# crating variable for every suggestion"
   ]
  },
  {
   "cell_type": "code",
   "execution_count": 69,
   "metadata": {},
   "outputs": [],
   "source": [
    "r1='No'\n",
    "r2='There is literally no loopholes... its beyond perfect...thank you very much'\n",
    "r3='Its the best....no more suggestions'\n",
    "r4='It would be beneficial if people from similar backgrounds are put into the same batch during the training.'\n",
    "r5='This is the best way of teaching programming that Ive ever seen.The way of teaching is so good that anyone can understand programming at ease. I feel fortunate enough to be a part of this training. I got no suggestions for improving the training programme because this is perfect!  '\n",
    "r6='It is already a good process, no need for any changes. Excellent work.'\n",
    "r7='all good....if the fees of the course was less it would have been best '\n",
    "r8='The free boot camp was great. Whatever was taught in R was very helpful. Thank you'\n",
    "r9='It was a great boot camp .'\n",
    "r10='This bootcamp was amazing, faculties are so friendly & well behaved, according to me there is no need of improving the training program,this was at its best '\n",
    "r11='As per my suggestion, the way you guys are approaching is really good and I am quite sure you will carry on this quality of training in future. Al the best.'\n",
    "r12='So far its good.'\n",
    "r13='After all its a very great and very helpful session for me....Mainly as a friendly teaching process....Thanking you Surya Da(Rittik Da,Sankhadeep Da,Rishikesh Da)...'\n",
    "r14=\"It's very good, but I think if I had prior knowledge on coding then it would be more easy to understand\"\n",
    "r15='This is completely fine. I am benefitted. Doubts are easily cleared. '\n",
    "r16='Boot camp was very informative... '\n",
    "r17='Its a nice and friendly session'\n",
    "r18='The free boot camp was great. Whatever was taught in R was very helpful. Thank you'\n",
    "r19='Stat portion should be taught with more depth...'\n",
    "r20='Nothing. This way of teaching is far more better than many other places. '\n",
    "r21=\"No suggestion, in today's life no one gives a second from their life, but sir all of your team members are doing a great, i didn't have any knowledge about data science, but at least now i know about this a little, Thank you very much for the sessions. \"\n",
    "r22='It was a great boot camp .'\n",
    "r12='It was a fun experience. Some well known topics were taught in an interesting manner. The details of basic stats, though necessary, was a bit tedious.'\n",
    "r23='No suggestions, because the training is good and also good to learn new things. '\n",
    "r24='It would be beneficial if people from similar backgrounds are put into the same batch during the training.'\n",
    "r25='No queries.. It was a great session ..Softanbees free boot camp session provides a wonderful platform for enlightening the concepts of data analysis using R programming.. It shows how even coding can be so easy and fun to learn.'\n",
    "r26=\"No suggestions...it's already the best\"\n",
    "r28=\"There is literally no loopholes... it's beyond perfect...thank you very much\"\n",
    "r29='If we could get to work on live projects that could help us understand concepts in detail ( in paid course )  as boot camp it was very good !!'\n",
    "r30=\"It's my pleasure to give me a chance to learn that things.. \"\n",
    "r31=\"This is the best way of teaching programming that I've ever seen.The way of teaching is so good that anyone can understand programming at ease. I feel fortunate enough to be a part of this training. I got no suggestions for improving the training programme because this is perfect!\"\n",
    "r32='The way you & your team shown & presented the real-time project...That\\'s great bro!   The reason for \"maybe\" is that at present  I\\'m an intern (getting paid) & in starting unable to manage time. I\\'ve the LinkedIn connection & contact no. of Mr. Surya... So, when I\\'ll be comfortable with my office timing... I\\'ll ping him & stepping towards DS...'\n",
    "r33='If this program appears with at least one home assignment then it would help in better understanding. '\n",
    "r34='Perfect way of explaining Nothing to change '\n",
    "r35='Nothing.It really good.Carry on.'\n",
    "r36='The session is awesome and pretty much interesting... Somehow I missed some session due to poor connectivity, I am going through with the Recordings. Times spent with these things are very much appreciated... Thank You.(Regards are there instead of suggestions)'\n",
    "r37=\"It's really good...so for me there is nothing to improve more...thank you for the session\"\n",
    "r38=\"As this training programme is totally free , I can't deny it's better than I thought it would be. But I think having a score based practice exam and a dought clearing session will make it even better. I enjoyed the training programme and learned lots of technical aspects of data science which maes me really interested to be a data scientist in future. Not sure if I will be entering the full training programme right now as my parents are not ready to invest such amount of money at this situation, but surely I'm interested about doing the course in future.\"\n",
    "r39='It was a very good journey with the training program,hope it will more better .. Thank you.'\n",
    "r40=\"I don't think that, there is any need of improvisation of any thing. Rather, providing the session recording was very helpful to us. \"\n",
    "r41='This is excellent,no need to improve'\n",
    "r42='Nothing.  It is  good enough '\n",
    "r43=\"It's very helpful to me.. I have no suggestions at this time\"\n",
    "r44='It is already a good process, no need for any changes. Excellent work. '\n",
    "r45='all good....if the fees of the course was less it would have been best'\n",
    "r46='I liked it. Maybe better variations can be better. '\n",
    "r47='It was good enough'\n",
    "r48='Just one thing to say, \"Love u guus\" '\n",
    "r49='No its quite good  personallu i dont think that any improvement is required'\n",
    "r50=\"We learnt so much in this small amount of time... we can't ask more\"\n",
    "r51='Everything is perfect'\n",
    "r52='The course can be a little longer. Focus on data visualization was a little too short. Maybe a day or more on it would be helpful'\n",
    "r53='I thnik this is all anyone can do, its good.'\n",
    "r54=\"Improving the accent can attract more avid learners from different parts of the world. As the teacher is from West Bengal, the enthusiasts from West parts of India like my friends whom I'd sent the link , they were not interested in doing this due to language problem. Kindly fix this so that people from all region could participate. Hindi and English should be the primary language . Thank you.\"\n",
    "r55='The Some queries regarding the full time course structure and all.. '\n",
    "r56='I had an amazing experience; no improvement needed'\n",
    "r57='No this training program is really very interesting and  I want to join the paid course for learn about data science and R programming.  '\n",
    "r58='I am satisfied with the way it is now. '\n",
    "r59='I think it is completely ok. Very  Very interesting and informative sessions I ever have of this course. '\n",
    "r60='Increase the workshop day..so that it covers up more topics. .'\n",
    "r61='The training programme was quite good. '"
   ]
  },
  {
   "cell_type": "code",
   "execution_count": 70,
   "metadata": {},
   "outputs": [],
   "source": [
    "# word tokenization for every variable of suggestion"
   ]
  },
  {
   "cell_type": "code",
   "execution_count": 71,
   "metadata": {},
   "outputs": [
    {
     "name": "stdout",
     "output_type": "stream",
     "text": [
      "['No']\n",
      "['There', 'is', 'literally', 'no', 'loopholes', '...', 'its', 'beyond', 'perfect', '...', 'thank', 'you', 'very', 'much']\n",
      "['Its', 'the', 'best', '....', 'no', 'more', 'suggestions']\n",
      "['It', 'would', 'be', 'beneficial', 'if', 'people', 'from', 'similar', 'backgrounds', 'are', 'put', 'into', 'the', 'same', 'batch', 'during', 'the', 'training', '.']\n",
      "['This', 'is', 'the', 'best', 'way', 'of', 'teaching', 'programming', 'that', 'Ive', 'ever', 'seen.The', 'way', 'of', 'teaching', 'is', 'so', 'good', 'that', 'anyone', 'can', 'understand', 'programming', 'at', 'ease', '.', 'I', 'feel', 'fortunate', 'enough', 'to', 'be', 'a', 'part', 'of', 'this', 'training', '.', 'I', 'got', 'no', 'suggestions', 'for', 'improving', 'the', 'training', 'programme', 'because', 'this', 'is', 'perfect', '!']\n",
      "['It', 'is', 'already', 'a', 'good', 'process', ',', 'no', 'need', 'for', 'any', 'changes', '.', 'Excellent', 'work', '.']\n",
      "['all', 'good', '....', 'if', 'the', 'fees', 'of', 'the', 'course', 'was', 'less', 'it', 'would', 'have', 'been', 'best']\n",
      "['The', 'free', 'boot', 'camp', 'was', 'great', '.', 'Whatever', 'was', 'taught', 'in', 'R', 'was', 'very', 'helpful', '.', 'Thank', 'you']\n",
      "['It', 'was', 'a', 'great', 'boot', 'camp', '.']\n",
      "['This', 'bootcamp', 'was', 'amazing', ',', 'faculties', 'are', 'so', 'friendly', '&', 'well', 'behaved', ',', 'according', 'to', 'me', 'there', 'is', 'no', 'need', 'of', 'improving', 'the', 'training', 'program', ',', 'this', 'was', 'at', 'its', 'best']\n",
      "['As', 'per', 'my', 'suggestion', ',', 'the', 'way', 'you', 'guys', 'are', 'approaching', 'is', 'really', 'good', 'and', 'I', 'am', 'quite', 'sure', 'you', 'will', 'carry', 'on', 'this', 'quality', 'of', 'training', 'in', 'future', '.', 'Al', 'the', 'best', '.']\n",
      "['It', 'was', 'a', 'fun', 'experience', '.', 'Some', 'well', 'known', 'topics', 'were', 'taught', 'in', 'an', 'interesting', 'manner', '.', 'The', 'details', 'of', 'basic', 'stats', ',', 'though', 'necessary', ',', 'was', 'a', 'bit', 'tedious', '.']\n",
      "['After', 'all', 'its', 'a', 'very', 'great', 'and', 'very', 'helpful', 'session', 'for', 'me', '....', 'Mainly', 'as', 'a', 'friendly', 'teaching', 'process', '....', 'Thanking', 'you', 'Surya', 'Da', '(', 'Rittik', 'Da', ',', 'Sankhadeep', 'Da', ',', 'Rishikesh', 'Da', ')', '...']\n",
      "['It', \"'s\", 'very', 'good', ',', 'but', 'I', 'think', 'if', 'I', 'had', 'prior', 'knowledge', 'on', 'coding', 'then', 'it', 'would', 'be', 'more', 'easy', 'to', 'understand']\n",
      "['This', 'is', 'completely', 'fine', '.', 'I', 'am', 'benefitted', '.', 'Doubts', 'are', 'easily', 'cleared', '.']\n",
      "['Boot', 'camp', 'was', 'very', 'informative', '...']\n",
      "['Its', 'a', 'nice', 'and', 'friendly', 'session']\n",
      "['The', 'free', 'boot', 'camp', 'was', 'great', '.', 'Whatever', 'was', 'taught', 'in', 'R', 'was', 'very', 'helpful', '.', 'Thank', 'you']\n",
      "['Stat', 'portion', 'should', 'be', 'taught', 'with', 'more', 'depth', '...']\n",
      "['Nothing', '.', 'This', 'way', 'of', 'teaching', 'is', 'far', 'more', 'better', 'than', 'many', 'other', 'places', '.']\n",
      "['No', 'suggestion', ',', 'in', 'today', \"'s\", 'life', 'no', 'one', 'gives', 'a', 'second', 'from', 'their', 'life', ',', 'but', 'sir', 'all', 'of', 'your', 'team', 'members', 'are', 'doing', 'a', 'great', ',', 'i', 'did', \"n't\", 'have', 'any', 'knowledge', 'about', 'data', 'science', ',', 'but', 'at', 'least', 'now', 'i', 'know', 'about', 'this', 'a', 'little', ',', 'Thank', 'you', 'very', 'much', 'for', 'the', 'sessions', '.']\n",
      "['It', 'was', 'a', 'great', 'boot', 'camp', '.']\n",
      "['No', 'suggestions', ',', 'because', 'the', 'training', 'is', 'good', 'and', 'also', 'good', 'to', 'learn', 'new', 'things', '.']\n",
      "['It', 'would', 'be', 'beneficial', 'if', 'people', 'from', 'similar', 'backgrounds', 'are', 'put', 'into', 'the', 'same', 'batch', 'during', 'the', 'training', '.']\n",
      "['No', 'queries', '..', 'It', 'was', 'a', 'great', 'session', '..', 'Softanbees', 'free', 'boot', 'camp', 'session', 'provides', 'a', 'wonderful', 'platform', 'for', 'enlightening', 'the', 'concepts', 'of', 'data', 'analysis', 'using', 'R', 'programming', '..', 'It', 'shows', 'how', 'even', 'coding', 'can', 'be', 'so', 'easy', 'and', 'fun', 'to', 'learn', '.']\n",
      "['No', 'suggestions', '...', 'it', \"'s\", 'already', 'the', 'best']\n",
      "['There', 'is', 'literally', 'no', 'loopholes', '...', 'it', \"'s\", 'beyond', 'perfect', '...', 'thank', 'you', 'very', 'much']\n",
      "['If', 'we', 'could', 'get', 'to', 'work', 'on', 'live', 'projects', 'that', 'could', 'help', 'us', 'understand', 'concepts', 'in', 'detail', '(', 'in', 'paid', 'course', ')', 'as', 'boot', 'camp', 'it', 'was', 'very', 'good', '!', '!']\n",
      "['It', \"'s\", 'my', 'pleasure', 'to', 'give', 'me', 'a', 'chance', 'to', 'learn', 'that', 'things', '..']\n",
      "['This', 'is', 'the', 'best', 'way', 'of', 'teaching', 'programming', 'that', 'I', \"'ve\", 'ever', 'seen.The', 'way', 'of', 'teaching', 'is', 'so', 'good', 'that', 'anyone', 'can', 'understand', 'programming', 'at', 'ease', '.', 'I', 'feel', 'fortunate', 'enough', 'to', 'be', 'a', 'part', 'of', 'this', 'training', '.', 'I', 'got', 'no', 'suggestions', 'for', 'improving', 'the', 'training', 'programme', 'because', 'this', 'is', 'perfect', '!']\n",
      "['The', 'way', 'you', '&', 'your', 'team', 'shown', '&', 'presented', 'the', 'real-time', 'project', '...', 'That', \"'s\", 'great', 'bro', '!', 'The', 'reason', 'for', '``', 'maybe', \"''\", 'is', 'that', 'at', 'present', 'I', \"'m\", 'an', 'intern', '(', 'getting', 'paid', ')', '&', 'in', 'starting', 'unable', 'to', 'manage', 'time', '.', 'I', \"'ve\", 'the', 'LinkedIn', 'connection', '&', 'contact', 'no', '.', 'of', 'Mr.', 'Surya', '...', 'So', ',', 'when', 'I', \"'ll\", 'be', 'comfortable', 'with', 'my', 'office', 'timing', '...', 'I', \"'ll\", 'ping', 'him', '&', 'stepping', 'towards', 'DS', '...']\n",
      "['If', 'this', 'program', 'appears', 'with', 'at', 'least', 'one', 'home', 'assignment', 'then', 'it', 'would', 'help', 'in', 'better', 'understanding', '.']\n",
      "['Perfect', 'way', 'of', 'explaining', 'Nothing', 'to', 'change']\n",
      "['Nothing.It', 'really', 'good.Carry', 'on', '.']\n",
      "['The', 'session', 'is', 'awesome', 'and', 'pretty', 'much', 'interesting', '...', 'Somehow', 'I', 'missed', 'some', 'session', 'due', 'to', 'poor', 'connectivity', ',', 'I', 'am', 'going', 'through', 'with', 'the', 'Recordings', '.', 'Times', 'spent', 'with', 'these', 'things', 'are', 'very', 'much', 'appreciated', '...', 'Thank', 'You', '.', '(', 'Regards', 'are', 'there', 'instead', 'of', 'suggestions', ')']\n",
      "['It', \"'s\", 'really', 'good', '...', 'so', 'for', 'me', 'there', 'is', 'nothing', 'to', 'improve', 'more', '...', 'thank', 'you', 'for', 'the', 'session']\n",
      "['As', 'this', 'training', 'programme', 'is', 'totally', 'free', ',', 'I', 'ca', \"n't\", 'deny', 'it', \"'s\", 'better', 'than', 'I', 'thought', 'it', 'would', 'be', '.', 'But', 'I', 'think', 'having', 'a', 'score', 'based', 'practice', 'exam', 'and', 'a', 'dought', 'clearing', 'session', 'will', 'make', 'it', 'even', 'better', '.', 'I', 'enjoyed', 'the', 'training', 'programme', 'and', 'learned', 'lots', 'of', 'technical', 'aspects', 'of', 'data', 'science', 'which', 'maes', 'me', 'really', 'interested', 'to', 'be', 'a', 'data', 'scientist', 'in', 'future', '.', 'Not', 'sure', 'if', 'I', 'will', 'be', 'entering', 'the', 'full', 'training', 'programme', 'right', 'now', 'as', 'my', 'parents', 'are', 'not', 'ready', 'to', 'invest', 'such', 'amount', 'of', 'money', 'at', 'this', 'situation', ',', 'but', 'surely', 'I', \"'m\", 'interested', 'about', 'doing', 'the', 'course', 'in', 'future', '.']\n",
      "['It', 'was', 'a', 'very', 'good', 'journey', 'with', 'the', 'training', 'program', ',', 'hope', 'it', 'will', 'more', 'better', '..', 'Thank', 'you', '.']\n",
      "['I', 'do', \"n't\", 'think', 'that', ',', 'there', 'is', 'any', 'need', 'of', 'improvisation', 'of', 'any', 'thing', '.', 'Rather', ',', 'providing', 'the', 'session', 'recording', 'was', 'very', 'helpful', 'to', 'us', '.']\n",
      "['This', 'is', 'excellent', ',', 'no', 'need', 'to', 'improve']\n",
      "['Nothing', '.', 'It', 'is', 'good', 'enough']\n",
      "['It', \"'s\", 'very', 'helpful', 'to', 'me', '..', 'I', 'have', 'no', 'suggestions', 'at', 'this', 'time']\n",
      "['It', 'is', 'already', 'a', 'good', 'process', ',', 'no', 'need', 'for', 'any', 'changes', '.', 'Excellent', 'work', '.']\n",
      "['all', 'good', '....', 'if', 'the', 'fees', 'of', 'the', 'course', 'was', 'less', 'it', 'would', 'have', 'been', 'best']\n",
      "['I', 'liked', 'it', '.', 'Maybe', 'better', 'variations', 'can', 'be', 'better', '.']\n",
      "['It', 'was', 'good', 'enough']\n",
      "['Just', 'one', 'thing', 'to', 'say', ',', '``', 'Love', 'u', 'guus', \"''\"]\n",
      "['No', 'its', 'quite', 'good', 'personallu', 'i', 'dont', 'think', 'that', 'any', 'improvement', 'is', 'required']\n",
      "['We', 'learnt', 'so', 'much', 'in', 'this', 'small', 'amount', 'of', 'time', '...', 'we', 'ca', \"n't\", 'ask', 'more']\n",
      "['Everything', 'is', 'perfect']\n",
      "['The', 'course', 'can', 'be', 'a', 'little', 'longer', '.', 'Focus', 'on', 'data', 'visualization', 'was', 'a', 'little', 'too', 'short', '.', 'Maybe', 'a', 'day', 'or', 'more', 'on', 'it', 'would', 'be', 'helpful']\n",
      "['I', 'thnik', 'this', 'is', 'all', 'anyone', 'can', 'do', ',', 'its', 'good', '.']\n",
      "['Improving', 'the', 'accent', 'can', 'attract', 'more', 'avid', 'learners', 'from', 'different', 'parts', 'of', 'the', 'world', '.', 'As', 'the', 'teacher', 'is', 'from', 'West', 'Bengal', ',', 'the', 'enthusiasts', 'from', 'West', 'parts', 'of', 'India', 'like', 'my', 'friends', 'whom', 'I', \"'d\", 'sent', 'the', 'link', ',', 'they', 'were', 'not', 'interested', 'in', 'doing', 'this', 'due', 'to', 'language', 'problem', '.', 'Kindly', 'fix', 'this', 'so', 'that', 'people', 'from', 'all', 'region', 'could', 'participate', '.', 'Hindi', 'and', 'English', 'should', 'be', 'the', 'primary', 'language', '.', 'Thank', 'you', '.']\n",
      "['The', 'Some', 'queries', 'regarding', 'the', 'full', 'time', 'course', 'structure', 'and', 'all', '..']\n",
      "['I', 'had', 'an', 'amazing', 'experience', ';', 'no', 'improvement', 'needed']\n",
      "['No', 'this', 'training', 'program', 'is', 'really', 'very', 'interesting', 'and', 'I', 'want', 'to', 'join', 'the', 'paid', 'course', 'for', 'learn', 'about', 'data', 'science', 'and', 'R', 'programming', '.']\n",
      "['I', 'am', 'satisfied', 'with', 'the', 'way', 'it', 'is', 'now', '.']\n",
      "['I', 'think', 'it', 'is', 'completely', 'ok', '.', 'Very', 'Very', 'interesting', 'and', 'informative', 'sessions', 'I', 'ever', 'have', 'of', 'this', 'course', '.']\n",
      "['Increase', 'the', 'workshop', 'day', '..', 'so', 'that', 'it', 'covers', 'up', 'more', 'topics', '.', '.']\n",
      "['The', 'training', 'programme', 'was', 'quite', 'good', '.']\n"
     ]
    }
   ],
   "source": [
    "r1_tokens=word_tokenize(r1)\n",
    "print(r1_tokens)\n",
    "r2_tokens=word_tokenize(r2)\n",
    "print(r2_tokens)\n",
    "r3_tokens=word_tokenize(r3)\n",
    "print(r3_tokens)\n",
    "r4_tokens=word_tokenize(r4)\n",
    "print(r4_tokens)\n",
    "r5_tokens=word_tokenize(r5)\n",
    "print(r5_tokens)\n",
    "r6_tokens=word_tokenize(r6)\n",
    "print(r6_tokens)\n",
    "r7_tokens=word_tokenize(r7)\n",
    "print(r7_tokens)\n",
    "r8_tokens=word_tokenize(r8)\n",
    "print(r8_tokens)\n",
    "r9_tokens=word_tokenize(r9)\n",
    "print(r9_tokens)\n",
    "r10_tokens=word_tokenize(r10)\n",
    "print(r10_tokens)\n",
    "r11_tokens=word_tokenize(r11)\n",
    "print(r11_tokens)\n",
    "r12_tokens=word_tokenize(r12)\n",
    "print(r12_tokens)\n",
    "r13_tokens=word_tokenize(r13)\n",
    "print(r13_tokens)\n",
    "r14_tokens=word_tokenize(r14)\n",
    "print(r14_tokens)\n",
    "r15_tokens=word_tokenize(r15)\n",
    "print(r15_tokens)\n",
    "r16_tokens=word_tokenize(r16)\n",
    "print(r16_tokens)\n",
    "r17_tokens=word_tokenize(r17)\n",
    "print(r17_tokens)\n",
    "r18_tokens=word_tokenize(r18)\n",
    "print(r18_tokens)\n",
    "r19_tokens=word_tokenize(r19)\n",
    "print(r19_tokens)\n",
    "r20_tokens=word_tokenize(r20)\n",
    "print(r20_tokens)\n",
    "r21_tokens=word_tokenize(r21)\n",
    "print(r21_tokens)\n",
    "r22_tokens=word_tokenize(r22)\n",
    "print(r22_tokens)\n",
    "r23_tokens=word_tokenize(r23)\n",
    "print(r23_tokens)\n",
    "r24_tokens=word_tokenize(r24)\n",
    "print(r24_tokens)\n",
    "r25_tokens=word_tokenize(r25)\n",
    "print(r25_tokens)\n",
    "r26_tokens=word_tokenize(r26)\n",
    "print(r26_tokens)\n",
    "r28_tokens=word_tokenize(r28)\n",
    "print(r28_tokens)\n",
    "r29_tokens=word_tokenize(r29)\n",
    "print(r29_tokens)\n",
    "r30_tokens=word_tokenize(r30)\n",
    "print(r30_tokens)\n",
    "r31_tokens=word_tokenize(r31)\n",
    "print(r31_tokens)\n",
    "r32_tokens=word_tokenize(r32)\n",
    "print(r32_tokens)\n",
    "r33_tokens=word_tokenize(r33)\n",
    "print(r33_tokens)\n",
    "r34_tokens=word_tokenize(r34)\n",
    "print(r34_tokens)\n",
    "r35_tokens=word_tokenize(r35)\n",
    "print(r35_tokens)\n",
    "r36_tokens=word_tokenize(r36)\n",
    "print(r36_tokens)\n",
    "r37_tokens=word_tokenize(r37)\n",
    "print(r37_tokens)\n",
    "r38_tokens=word_tokenize(r38)\n",
    "print(r38_tokens)\n",
    "r39_tokens=word_tokenize(r39)\n",
    "print(r39_tokens)\n",
    "r40_tokens=word_tokenize(r40)\n",
    "print(r40_tokens)\n",
    "r41_tokens=word_tokenize(r41)\n",
    "print(r41_tokens)\n",
    "r42_tokens=word_tokenize(r42)\n",
    "print(r42_tokens)\n",
    "r43_tokens=word_tokenize(r43)\n",
    "print(r43_tokens)\n",
    "r44_tokens=word_tokenize(r44)\n",
    "print(r44_tokens)\n",
    "r45_tokens=word_tokenize(r45)\n",
    "print(r45_tokens)\n",
    "r46_tokens=word_tokenize(r46)\n",
    "print(r46_tokens)\n",
    "r47_tokens=word_tokenize(r47)\n",
    "print(r47_tokens)\n",
    "r48_tokens=word_tokenize(r48)\n",
    "print(r48_tokens)\n",
    "r49_tokens=word_tokenize(r49)\n",
    "print(r49_tokens)\n",
    "r50_tokens=word_tokenize(r50)\n",
    "print(r50_tokens)\n",
    "r51_tokens=word_tokenize(r51)\n",
    "print(r51_tokens)\n",
    "r52_tokens=word_tokenize(r52)\n",
    "print(r52_tokens)\n",
    "r53_tokens=word_tokenize(r53)\n",
    "print(r53_tokens)\n",
    "r54_tokens=word_tokenize(r54)\n",
    "print(r54_tokens)\n",
    "r55_tokens=word_tokenize(r55)\n",
    "print(r55_tokens)\n",
    "r56_tokens=word_tokenize(r56)\n",
    "print(r56_tokens)\n",
    "r57_tokens=word_tokenize(r57)\n",
    "print(r57_tokens)\n",
    "r58_tokens=word_tokenize(r58)\n",
    "print(r58_tokens)\n",
    "r59_tokens=word_tokenize(r59)\n",
    "print(r59_tokens)\n",
    "r60_tokens=word_tokenize(r60)\n",
    "print(r60_tokens)\n",
    "r61_tokens=word_tokenize(r61)\n",
    "print(r61_tokens)"
   ]
  },
  {
   "cell_type": "code",
   "execution_count": 72,
   "metadata": {},
   "outputs": [],
   "source": [
    "#union all token of suggestion variable"
   ]
  },
  {
   "cell_type": "code",
   "execution_count": 73,
   "metadata": {},
   "outputs": [
    {
     "name": "stdout",
     "output_type": "stream",
     "text": [
      "{'a', 'then', 'doing', 'learners', '``', '...', 'sir', 'invest', 'West', ',', 'though', 'me', 'Some', 'no', 'knowledge', 'loopholes', 'sent', 'dont', \"'s\", 'benefitted', 'work', 'approaching', 'second', 'connection', 'present', 'sure', 'know', 'these', 'many', \"'ve\", 'learn', 'You', 'coding', '(', ')', 'enough', 'was', 'pleasure', 'free', 'ca', 'things', 'day', '!', 'fortunate', 'are', 'teaching', 'interesting', 'nothing', 'ask', 'we', 'good', 'stats', 'personallu', 'spent', 'backgrounds', 'it', 'situation', 'unable', 'paid', 'now', 'nice', 'surely', 'like', 'course', 'members', 'that', 'scientist', 'enlightening', 'real-time', 'same', 'faculties', 'That', 'were', 'learned', 'or', '&', 'far', 'how', 'there', 'manage', 'really', 'more', 'pretty', 'future', 'other', 'satisfied', 'There', 'shown', 'dought', 'give', 'topics', 'appreciated', 'well', 'Its', 'Softanbees', 'Bengal', 'through', 'guys', \"n't\", 'way', 'programme', 'practice', 'getting', 'their', 'Times', 'lots', 'informative', 'chance', 'completely', 'they', 'bro', 'perfect', 'understanding', 'data', 'having', 'link', 'Very', 'language', 'with', 'projects', 'during', 'part', 'up', 'Excellent', 'team', 'fees', 'should', 'easily', 'recording', 'for', 'As', 'time', 'poor', 'visualization', 'so', 'all', 'quality', 'carry', 'thing', 'Regards', 'much', 'live', 'world', 'enthusiasts', 'depth', 'us', 'different', 'Thank', 'one', 'beyond', 'join', 'literally', 'friends', 'programming', 'required', 'been', 'concepts', 'got', 'my', 'improve', 'very', 'similar', 'queries', ';', 'portion', 'have', 'going', 'anyone', 'guus', 'as', 'its', 'liked', 'than', 'make', 'seen.The', 'parts', 'already', 'score', 'Hindi', 'ease', 'least', 'better', 'maybe', 'towards', 'beneficial', 'also', 'thought', 'session', 'thank', 'participate', 'variations', 'home', 'starting', 'think', 'batch', 'good.Carry', 'analysis', 'training', 'less', 'presented', 'Not', 'whom', 'and', 'cleared', 'aspects', 'to', 'wonderful', 'teacher', 'helpful', 'ever', 'best', 'understand', 'but', 'new', 'Rather', 'even', 'attract', 'will', 'problem', 'Perfect', 'exam', 'Improving', 'which', 'It', 'Focus', 'amount', 'i', 'avid', 'had', 'program', 'Kindly', 'If', 'improving', 'structure', 'fun', 'if', 'Al', 'could', 'hope', 'project', 'too', 'regarding', 'Boot', 'tedious', 'want', 'be', 'suggestions', 'awesome', 'I', 'Doubts', 'basic', 'assignment', 'changes', 'money', 'prior', 'We', 'ping', 'him', '..', 'you', '....', 'is', 'according', 'u', 'So', 'timing', '.', 'Mr.', 'necessary', 'Love', 'small', 'primary', 'friendly', 'accent', 'such', 'feel', 'would', 'process', 'ready', 'appears', 'suggestion', 'reason', 'from', 'learnt', 'The', 'did', 'excellent', 'providing', 'quite', 'people', 'known', 'short', 'Nothing.It', 'help', 'English', 'longer', 'need', 'region', 'in', 'contact', 'provides', 'fix', 'taught', 'needed', 'easy', 'instead', 'Increase', 'using', 'get', 'interested', 'explaining', 'enjoyed', 'today', 'behaved', 'on', \"'d\", 'connectivity', 'sessions', 'stepping', 'when', 'Somehow', 'shows', 'Surya', 'put', 'platform', 'But', 'about', 'Recordings', 'right', 'Everything', 'improvement', 'full', 'India', 'improvisation', 'journey', 'thnik', 'into', 'your', 'LinkedIn', 'because', 'This', 'say', 'of', \"'m\", 'missed', 'boot', 'per', 'ok', 'details', 'based', 'Stat', \"''\", 'an', 'Ive', 'Just', 'places', 'No', 'comfortable', 'intern', 'manner', 'change', 'technical', 'office', 'Nothing', 'totally', 'clearing', 'workshop', 'experience', 'DS', 'camp', 'gives', 'the', 'deny', 'this', 'amazing', 'am', \"'ll\", 'not', 'entering', 'life', 'science', 'Maybe', 'great', 'can', 'fine', 'Whatever', 'bootcamp', 'R', 'little', 'due', 'covers', 'parents', 'maes', 'detail', 'some', 'do', 'any', 'at', 'bit'}\n"
     ]
    }
   ],
   "source": [
    "review_tokens=(set(r1_tokens).union(set(r2_tokens)).union(set(r3_tokens)).union(set(r4_tokens)).union(set(r5_tokens)).union(set(r6_tokens)).\n",
    "               union(set(r7_tokens)).union(set(r8_tokens)).union(set(r9_tokens)).union(set(r9_tokens)).union(set(r10_tokens)).union(set(r11_tokens)).\n",
    "               union(set(r12_tokens)).union(set(r14_tokens)).union(set(r15_tokens)).union(set(r16_tokens)).union(set(r17_tokens)).union(set(r18_tokens)).\n",
    "               union(set(r19_tokens)).union(set(r20_tokens)).union(set(r21_tokens)).union(set(r22_tokens)).union(set(r23_tokens)).\n",
    "              union(set(r24_tokens)).union(set(r25_tokens)).union(set(r26_tokens)).union(set(r28_tokens)).union(set(r29_tokens)).\n",
    "              union(set(r30_tokens)).union(set(r31_tokens)).union(set(r32_tokens)).union(set(r33_tokens)).union(set(r34_tokens)).\n",
    "              union(set(r35_tokens)).union(set(r36_tokens)).union(set(r37_tokens)).union(set(r38_tokens)).union(set(r39_tokens)).\n",
    "              union(set(r40_tokens)).union(set(r41_tokens)).union(set(r42_tokens)).union(set(r43_tokens)).union(set(r44_tokens)).\n",
    "              union(set(r45_tokens)).union(set(r46_tokens)).union(set(r47_tokens)).union(set(r48_tokens)).union(set(r49_tokens)).\n",
    "              union(set(r50_tokens)).union(set(r51_tokens)).union(set(r52_tokens)).union(set(r53_tokens)).union(set(r54_tokens)).\n",
    "              union(set(r55_tokens)).union(set(r56_tokens)).union(set(r57_tokens)).union(set(r58_tokens)).union(set(r59_tokens)).\n",
    "              union(set(r60_tokens)).union(set(r61_tokens)))\n",
    "print(review_tokens)             "
   ]
  },
  {
   "cell_type": "code",
   "execution_count": 74,
   "metadata": {},
   "outputs": [
    {
     "data": {
      "text/plain": [
       "399"
      ]
     },
     "execution_count": 74,
     "metadata": {},
     "output_type": "execute_result"
    }
   ],
   "source": [
    "len(review_tokens)"
   ]
  },
  {
   "cell_type": "code",
   "execution_count": 75,
   "metadata": {},
   "outputs": [
    {
     "data": {
      "text/plain": [
       "{'!',\n",
       " '&',\n",
       " \"''\",\n",
       " \"'d\",\n",
       " \"'ll\",\n",
       " \"'m\",\n",
       " \"'s\",\n",
       " \"'ve\",\n",
       " '(',\n",
       " ')',\n",
       " ',',\n",
       " '.',\n",
       " '..',\n",
       " '...',\n",
       " '....',\n",
       " ';',\n",
       " 'Al',\n",
       " 'As',\n",
       " 'Bengal',\n",
       " 'Boot',\n",
       " 'But',\n",
       " 'DS',\n",
       " 'Doubts',\n",
       " 'English',\n",
       " 'Everything',\n",
       " 'Excellent',\n",
       " 'Focus',\n",
       " 'Hindi',\n",
       " 'I',\n",
       " 'If',\n",
       " 'Improving',\n",
       " 'Increase',\n",
       " 'India',\n",
       " 'It',\n",
       " 'Its',\n",
       " 'Ive',\n",
       " 'Just',\n",
       " 'Kindly',\n",
       " 'LinkedIn',\n",
       " 'Love',\n",
       " 'Maybe',\n",
       " 'Mr.',\n",
       " 'No',\n",
       " 'Not',\n",
       " 'Nothing',\n",
       " 'Nothing.It',\n",
       " 'Perfect',\n",
       " 'R',\n",
       " 'Rather',\n",
       " 'Recordings',\n",
       " 'Regards',\n",
       " 'So',\n",
       " 'Softanbees',\n",
       " 'Some',\n",
       " 'Somehow',\n",
       " 'Stat',\n",
       " 'Surya',\n",
       " 'Thank',\n",
       " 'That',\n",
       " 'The',\n",
       " 'There',\n",
       " 'This',\n",
       " 'Times',\n",
       " 'Very',\n",
       " 'We',\n",
       " 'West',\n",
       " 'Whatever',\n",
       " 'You',\n",
       " '``',\n",
       " 'a',\n",
       " 'about',\n",
       " 'accent',\n",
       " 'according',\n",
       " 'all',\n",
       " 'already',\n",
       " 'also',\n",
       " 'am',\n",
       " 'amazing',\n",
       " 'amount',\n",
       " 'an',\n",
       " 'analysis',\n",
       " 'and',\n",
       " 'any',\n",
       " 'anyone',\n",
       " 'appears',\n",
       " 'appreciated',\n",
       " 'approaching',\n",
       " 'are',\n",
       " 'as',\n",
       " 'ask',\n",
       " 'aspects',\n",
       " 'assignment',\n",
       " 'at',\n",
       " 'attract',\n",
       " 'avid',\n",
       " 'awesome',\n",
       " 'backgrounds',\n",
       " 'based',\n",
       " 'basic',\n",
       " 'batch',\n",
       " 'be',\n",
       " 'because',\n",
       " 'been',\n",
       " 'behaved',\n",
       " 'beneficial',\n",
       " 'benefitted',\n",
       " 'best',\n",
       " 'better',\n",
       " 'beyond',\n",
       " 'bit',\n",
       " 'boot',\n",
       " 'bootcamp',\n",
       " 'bro',\n",
       " 'but',\n",
       " 'ca',\n",
       " 'camp',\n",
       " 'can',\n",
       " 'carry',\n",
       " 'chance',\n",
       " 'change',\n",
       " 'changes',\n",
       " 'cleared',\n",
       " 'clearing',\n",
       " 'coding',\n",
       " 'comfortable',\n",
       " 'completely',\n",
       " 'concepts',\n",
       " 'connection',\n",
       " 'connectivity',\n",
       " 'contact',\n",
       " 'could',\n",
       " 'course',\n",
       " 'covers',\n",
       " 'data',\n",
       " 'day',\n",
       " 'deny',\n",
       " 'depth',\n",
       " 'detail',\n",
       " 'details',\n",
       " 'did',\n",
       " 'different',\n",
       " 'do',\n",
       " 'doing',\n",
       " 'dont',\n",
       " 'dought',\n",
       " 'due',\n",
       " 'during',\n",
       " 'ease',\n",
       " 'easily',\n",
       " 'easy',\n",
       " 'enjoyed',\n",
       " 'enlightening',\n",
       " 'enough',\n",
       " 'entering',\n",
       " 'enthusiasts',\n",
       " 'even',\n",
       " 'ever',\n",
       " 'exam',\n",
       " 'excellent',\n",
       " 'experience',\n",
       " 'explaining',\n",
       " 'faculties',\n",
       " 'far',\n",
       " 'feel',\n",
       " 'fees',\n",
       " 'fine',\n",
       " 'fix',\n",
       " 'for',\n",
       " 'fortunate',\n",
       " 'free',\n",
       " 'friendly',\n",
       " 'friends',\n",
       " 'from',\n",
       " 'full',\n",
       " 'fun',\n",
       " 'future',\n",
       " 'get',\n",
       " 'getting',\n",
       " 'give',\n",
       " 'gives',\n",
       " 'going',\n",
       " 'good',\n",
       " 'good.Carry',\n",
       " 'got',\n",
       " 'great',\n",
       " 'guus',\n",
       " 'guys',\n",
       " 'had',\n",
       " 'have',\n",
       " 'having',\n",
       " 'help',\n",
       " 'helpful',\n",
       " 'him',\n",
       " 'home',\n",
       " 'hope',\n",
       " 'how',\n",
       " 'i',\n",
       " 'if',\n",
       " 'improve',\n",
       " 'improvement',\n",
       " 'improving',\n",
       " 'improvisation',\n",
       " 'in',\n",
       " 'informative',\n",
       " 'instead',\n",
       " 'interested',\n",
       " 'interesting',\n",
       " 'intern',\n",
       " 'into',\n",
       " 'invest',\n",
       " 'is',\n",
       " 'it',\n",
       " 'its',\n",
       " 'join',\n",
       " 'journey',\n",
       " 'know',\n",
       " 'knowledge',\n",
       " 'known',\n",
       " 'language',\n",
       " 'learn',\n",
       " 'learned',\n",
       " 'learners',\n",
       " 'learnt',\n",
       " 'least',\n",
       " 'less',\n",
       " 'life',\n",
       " 'like',\n",
       " 'liked',\n",
       " 'link',\n",
       " 'literally',\n",
       " 'little',\n",
       " 'live',\n",
       " 'longer',\n",
       " 'loopholes',\n",
       " 'lots',\n",
       " 'maes',\n",
       " 'make',\n",
       " 'manage',\n",
       " 'manner',\n",
       " 'many',\n",
       " 'maybe',\n",
       " 'me',\n",
       " 'members',\n",
       " 'missed',\n",
       " 'money',\n",
       " 'more',\n",
       " 'much',\n",
       " 'my',\n",
       " \"n't\",\n",
       " 'necessary',\n",
       " 'need',\n",
       " 'needed',\n",
       " 'new',\n",
       " 'nice',\n",
       " 'no',\n",
       " 'not',\n",
       " 'nothing',\n",
       " 'now',\n",
       " 'of',\n",
       " 'office',\n",
       " 'ok',\n",
       " 'on',\n",
       " 'one',\n",
       " 'or',\n",
       " 'other',\n",
       " 'paid',\n",
       " 'parents',\n",
       " 'part',\n",
       " 'participate',\n",
       " 'parts',\n",
       " 'people',\n",
       " 'per',\n",
       " 'perfect',\n",
       " 'personallu',\n",
       " 'ping',\n",
       " 'places',\n",
       " 'platform',\n",
       " 'pleasure',\n",
       " 'poor',\n",
       " 'portion',\n",
       " 'practice',\n",
       " 'present',\n",
       " 'presented',\n",
       " 'pretty',\n",
       " 'primary',\n",
       " 'prior',\n",
       " 'problem',\n",
       " 'process',\n",
       " 'program',\n",
       " 'programme',\n",
       " 'programming',\n",
       " 'project',\n",
       " 'projects',\n",
       " 'provides',\n",
       " 'providing',\n",
       " 'put',\n",
       " 'quality',\n",
       " 'queries',\n",
       " 'quite',\n",
       " 'ready',\n",
       " 'real-time',\n",
       " 'really',\n",
       " 'reason',\n",
       " 'recording',\n",
       " 'regarding',\n",
       " 'region',\n",
       " 'required',\n",
       " 'right',\n",
       " 'same',\n",
       " 'satisfied',\n",
       " 'say',\n",
       " 'science',\n",
       " 'scientist',\n",
       " 'score',\n",
       " 'second',\n",
       " 'seen.The',\n",
       " 'sent',\n",
       " 'session',\n",
       " 'sessions',\n",
       " 'short',\n",
       " 'should',\n",
       " 'shown',\n",
       " 'shows',\n",
       " 'similar',\n",
       " 'sir',\n",
       " 'situation',\n",
       " 'small',\n",
       " 'so',\n",
       " 'some',\n",
       " 'spent',\n",
       " 'starting',\n",
       " 'stats',\n",
       " 'stepping',\n",
       " 'structure',\n",
       " 'such',\n",
       " 'suggestion',\n",
       " 'suggestions',\n",
       " 'sure',\n",
       " 'surely',\n",
       " 'taught',\n",
       " 'teacher',\n",
       " 'teaching',\n",
       " 'team',\n",
       " 'technical',\n",
       " 'tedious',\n",
       " 'than',\n",
       " 'thank',\n",
       " 'that',\n",
       " 'the',\n",
       " 'their',\n",
       " 'then',\n",
       " 'there',\n",
       " 'these',\n",
       " 'they',\n",
       " 'thing',\n",
       " 'things',\n",
       " 'think',\n",
       " 'this',\n",
       " 'thnik',\n",
       " 'though',\n",
       " 'thought',\n",
       " 'through',\n",
       " 'time',\n",
       " 'timing',\n",
       " 'to',\n",
       " 'today',\n",
       " 'too',\n",
       " 'topics',\n",
       " 'totally',\n",
       " 'towards',\n",
       " 'training',\n",
       " 'u',\n",
       " 'unable',\n",
       " 'understand',\n",
       " 'understanding',\n",
       " 'up',\n",
       " 'us',\n",
       " 'using',\n",
       " 'variations',\n",
       " 'very',\n",
       " 'visualization',\n",
       " 'want',\n",
       " 'was',\n",
       " 'way',\n",
       " 'we',\n",
       " 'well',\n",
       " 'were',\n",
       " 'when',\n",
       " 'which',\n",
       " 'whom',\n",
       " 'will',\n",
       " 'with',\n",
       " 'wonderful',\n",
       " 'work',\n",
       " 'workshop',\n",
       " 'world',\n",
       " 'would',\n",
       " 'you',\n",
       " 'your'}"
      ]
     },
     "execution_count": 75,
     "metadata": {},
     "output_type": "execute_result"
    }
   ],
   "source": [
    "review_tokens"
   ]
  },
  {
   "cell_type": "code",
   "execution_count": 76,
   "metadata": {},
   "outputs": [],
   "source": [
    "#create dictatory fie for al token variable"
   ]
  },
  {
   "cell_type": "code",
   "execution_count": 77,
   "metadata": {},
   "outputs": [],
   "source": [
    "r1_dict=dict.fromkeys(review_tokens,0)\n",
    "r2_dict=dict.fromkeys(review_tokens,0)\n",
    "r3_dict=dict.fromkeys(review_tokens,0)\n",
    "r4_dict=dict.fromkeys(review_tokens,0)\n",
    "r5_dict=dict.fromkeys(review_tokens,0)\n",
    "r6_dict=dict.fromkeys(review_tokens,0)\n",
    "r7_dict=dict.fromkeys(review_tokens,0)\n",
    "r8_dict=dict.fromkeys(review_tokens,0)\n",
    "r9_dict=dict.fromkeys(review_tokens,0)\n",
    "r10_dict=dict.fromkeys(review_tokens,0)\n",
    "r11_dict=dict.fromkeys(review_tokens,0)\n",
    "r12_dict=dict.fromkeys(review_tokens,0)\n",
    "r13_dict=dict.fromkeys(review_tokens,0)\n",
    "r14_dict=dict.fromkeys(review_tokens,0)\n",
    "r15_dict=dict.fromkeys(review_tokens,0)\n",
    "r16_dict=dict.fromkeys(review_tokens,0)\n",
    "r17_dict=dict.fromkeys(review_tokens,0)\n",
    "r18_dict=dict.fromkeys(review_tokens,0)\n",
    "r19_dict=dict.fromkeys(review_tokens,0)\n",
    "r20_dict=dict.fromkeys(review_tokens,0)\n",
    "r21_dict=dict.fromkeys(review_tokens,0)\n",
    "r22_dict=dict.fromkeys(review_tokens,0)\n",
    "r23_dict=dict.fromkeys(review_tokens,0)\n",
    "r24_dict=dict.fromkeys(review_tokens,0)\n",
    "r25_dict=dict.fromkeys(review_tokens,0)\n",
    "r26_dict=dict.fromkeys(review_tokens,0)\n",
    "r28_dict=dict.fromkeys(review_tokens,0)\n",
    "r29_dict=dict.fromkeys(review_tokens,0)\n",
    "r30_dict=dict.fromkeys(review_tokens,0)\n",
    "r31_dict=dict.fromkeys(review_tokens,0)\n",
    "r32_dict=dict.fromkeys(review_tokens,0)\n",
    "r33_dict=dict.fromkeys(review_tokens,0)\n",
    "r34_dict=dict.fromkeys(review_tokens,0)\n",
    "r35_dict=dict.fromkeys(review_tokens,0)\n",
    "r36_dict=dict.fromkeys(review_tokens,0)\n",
    "r37_dict=dict.fromkeys(review_tokens,0)\n",
    "r38_dict=dict.fromkeys(review_tokens,0)\n",
    "r39_dict=dict.fromkeys(review_tokens,0)\n",
    "r40_dict=dict.fromkeys(review_tokens,0)\n",
    "r41_dict=dict.fromkeys(review_tokens,0)\n",
    "r42_dict=dict.fromkeys(review_tokens,0)\n",
    "r43_dict=dict.fromkeys(review_tokens,0)\n",
    "r44_dict=dict.fromkeys(review_tokens,0)\n",
    "r45_dict=dict.fromkeys(review_tokens,0)\n",
    "r46_dict=dict.fromkeys(review_tokens,0)\n",
    "r47_dict=dict.fromkeys(review_tokens,0)\n",
    "r48_dict=dict.fromkeys(review_tokens,0)\n",
    "r49_dict=dict.fromkeys(review_tokens,0)\n",
    "r50_dict=dict.fromkeys(review_tokens,0)\n",
    "r51_dict=dict.fromkeys(review_tokens,0)\n",
    "r52_dict=dict.fromkeys(review_tokens,0)\n",
    "r53_dict=dict.fromkeys(review_tokens,0)\n",
    "r54_dict=dict.fromkeys(review_tokens,0)\n",
    "r55_dict=dict.fromkeys(review_tokens,0)\n",
    "r56_dict=dict.fromkeys(review_tokens,0)\n",
    "r57_dict=dict.fromkeys(review_tokens,0)\n",
    "r58_dict=dict.fromkeys(review_tokens,0)\n",
    "r59_dict=dict.fromkeys(review_tokens,0)\n",
    "r60_dict=dict.fromkeys(review_tokens,0)\n",
    "r61_dict=dict.fromkeys(review_tokens,0)"
   ]
  },
  {
   "cell_type": "code",
   "execution_count": 78,
   "metadata": {},
   "outputs": [
    {
     "data": {
      "text/plain": [
       "{'a': 0,\n",
       " 'then': 0,\n",
       " 'doing': 0,\n",
       " 'learners': 0,\n",
       " '``': 0,\n",
       " '...': 0,\n",
       " 'sir': 0,\n",
       " 'invest': 0,\n",
       " 'West': 0,\n",
       " ',': 0,\n",
       " 'though': 0,\n",
       " 'me': 0,\n",
       " 'Some': 0,\n",
       " 'no': 0,\n",
       " 'knowledge': 0,\n",
       " 'loopholes': 0,\n",
       " 'sent': 0,\n",
       " 'dont': 0,\n",
       " \"'s\": 0,\n",
       " 'benefitted': 0,\n",
       " 'work': 0,\n",
       " 'approaching': 0,\n",
       " 'second': 0,\n",
       " 'connection': 0,\n",
       " 'present': 0,\n",
       " 'sure': 0,\n",
       " 'know': 0,\n",
       " 'these': 0,\n",
       " 'many': 0,\n",
       " \"'ve\": 0,\n",
       " 'learn': 0,\n",
       " 'You': 0,\n",
       " 'coding': 0,\n",
       " '(': 0,\n",
       " ')': 0,\n",
       " 'enough': 0,\n",
       " 'was': 0,\n",
       " 'pleasure': 0,\n",
       " 'free': 0,\n",
       " 'ca': 0,\n",
       " 'things': 0,\n",
       " 'day': 0,\n",
       " '!': 0,\n",
       " 'fortunate': 0,\n",
       " 'are': 0,\n",
       " 'teaching': 0,\n",
       " 'interesting': 0,\n",
       " 'nothing': 0,\n",
       " 'ask': 0,\n",
       " 'we': 0,\n",
       " 'good': 0,\n",
       " 'stats': 0,\n",
       " 'personallu': 0,\n",
       " 'spent': 0,\n",
       " 'backgrounds': 0,\n",
       " 'it': 0,\n",
       " 'situation': 0,\n",
       " 'unable': 0,\n",
       " 'paid': 0,\n",
       " 'now': 0,\n",
       " 'nice': 0,\n",
       " 'surely': 0,\n",
       " 'like': 0,\n",
       " 'course': 0,\n",
       " 'members': 0,\n",
       " 'that': 0,\n",
       " 'scientist': 0,\n",
       " 'enlightening': 0,\n",
       " 'real-time': 0,\n",
       " 'same': 0,\n",
       " 'faculties': 0,\n",
       " 'That': 0,\n",
       " 'were': 0,\n",
       " 'learned': 0,\n",
       " 'or': 0,\n",
       " '&': 0,\n",
       " 'far': 0,\n",
       " 'how': 0,\n",
       " 'there': 0,\n",
       " 'manage': 0,\n",
       " 'really': 0,\n",
       " 'more': 0,\n",
       " 'pretty': 0,\n",
       " 'future': 0,\n",
       " 'other': 0,\n",
       " 'satisfied': 0,\n",
       " 'There': 0,\n",
       " 'shown': 0,\n",
       " 'dought': 0,\n",
       " 'give': 0,\n",
       " 'topics': 0,\n",
       " 'appreciated': 0,\n",
       " 'well': 0,\n",
       " 'Its': 0,\n",
       " 'Softanbees': 0,\n",
       " 'Bengal': 0,\n",
       " 'through': 0,\n",
       " 'guys': 0,\n",
       " \"n't\": 0,\n",
       " 'way': 0,\n",
       " 'programme': 0,\n",
       " 'practice': 0,\n",
       " 'getting': 0,\n",
       " 'their': 0,\n",
       " 'Times': 0,\n",
       " 'lots': 0,\n",
       " 'informative': 0,\n",
       " 'chance': 0,\n",
       " 'completely': 0,\n",
       " 'they': 0,\n",
       " 'bro': 0,\n",
       " 'perfect': 0,\n",
       " 'understanding': 0,\n",
       " 'data': 0,\n",
       " 'having': 0,\n",
       " 'link': 0,\n",
       " 'Very': 0,\n",
       " 'language': 0,\n",
       " 'with': 0,\n",
       " 'projects': 0,\n",
       " 'during': 0,\n",
       " 'part': 0,\n",
       " 'up': 0,\n",
       " 'Excellent': 0,\n",
       " 'team': 0,\n",
       " 'fees': 0,\n",
       " 'should': 0,\n",
       " 'easily': 0,\n",
       " 'recording': 0,\n",
       " 'for': 0,\n",
       " 'As': 0,\n",
       " 'time': 0,\n",
       " 'poor': 0,\n",
       " 'visualization': 0,\n",
       " 'so': 0,\n",
       " 'all': 0,\n",
       " 'quality': 0,\n",
       " 'carry': 0,\n",
       " 'thing': 0,\n",
       " 'Regards': 0,\n",
       " 'much': 0,\n",
       " 'live': 0,\n",
       " 'world': 0,\n",
       " 'enthusiasts': 0,\n",
       " 'depth': 0,\n",
       " 'us': 0,\n",
       " 'different': 0,\n",
       " 'Thank': 0,\n",
       " 'one': 0,\n",
       " 'beyond': 0,\n",
       " 'join': 0,\n",
       " 'literally': 0,\n",
       " 'friends': 0,\n",
       " 'programming': 0,\n",
       " 'required': 0,\n",
       " 'been': 0,\n",
       " 'concepts': 0,\n",
       " 'got': 0,\n",
       " 'my': 0,\n",
       " 'improve': 0,\n",
       " 'very': 0,\n",
       " 'similar': 0,\n",
       " 'queries': 0,\n",
       " ';': 0,\n",
       " 'portion': 0,\n",
       " 'have': 0,\n",
       " 'going': 0,\n",
       " 'anyone': 0,\n",
       " 'guus': 0,\n",
       " 'as': 0,\n",
       " 'its': 0,\n",
       " 'liked': 0,\n",
       " 'than': 0,\n",
       " 'make': 0,\n",
       " 'seen.The': 0,\n",
       " 'parts': 0,\n",
       " 'already': 0,\n",
       " 'score': 0,\n",
       " 'Hindi': 0,\n",
       " 'ease': 0,\n",
       " 'least': 0,\n",
       " 'better': 0,\n",
       " 'maybe': 0,\n",
       " 'towards': 0,\n",
       " 'beneficial': 0,\n",
       " 'also': 0,\n",
       " 'thought': 0,\n",
       " 'session': 0,\n",
       " 'thank': 0,\n",
       " 'participate': 0,\n",
       " 'variations': 0,\n",
       " 'home': 0,\n",
       " 'starting': 0,\n",
       " 'think': 0,\n",
       " 'batch': 0,\n",
       " 'good.Carry': 0,\n",
       " 'analysis': 0,\n",
       " 'training': 0,\n",
       " 'less': 0,\n",
       " 'presented': 0,\n",
       " 'Not': 0,\n",
       " 'whom': 0,\n",
       " 'and': 0,\n",
       " 'cleared': 0,\n",
       " 'aspects': 0,\n",
       " 'to': 0,\n",
       " 'wonderful': 0,\n",
       " 'teacher': 0,\n",
       " 'helpful': 0,\n",
       " 'ever': 0,\n",
       " 'best': 0,\n",
       " 'understand': 0,\n",
       " 'but': 0,\n",
       " 'new': 0,\n",
       " 'Rather': 0,\n",
       " 'even': 0,\n",
       " 'attract': 0,\n",
       " 'will': 0,\n",
       " 'problem': 0,\n",
       " 'Perfect': 0,\n",
       " 'exam': 0,\n",
       " 'Improving': 0,\n",
       " 'which': 0,\n",
       " 'It': 0,\n",
       " 'Focus': 0,\n",
       " 'amount': 0,\n",
       " 'i': 0,\n",
       " 'avid': 0,\n",
       " 'had': 0,\n",
       " 'program': 0,\n",
       " 'Kindly': 0,\n",
       " 'If': 0,\n",
       " 'improving': 0,\n",
       " 'structure': 0,\n",
       " 'fun': 0,\n",
       " 'if': 0,\n",
       " 'Al': 0,\n",
       " 'could': 0,\n",
       " 'hope': 0,\n",
       " 'project': 0,\n",
       " 'too': 0,\n",
       " 'regarding': 0,\n",
       " 'Boot': 0,\n",
       " 'tedious': 0,\n",
       " 'want': 0,\n",
       " 'be': 0,\n",
       " 'suggestions': 0,\n",
       " 'awesome': 0,\n",
       " 'I': 0,\n",
       " 'Doubts': 0,\n",
       " 'basic': 0,\n",
       " 'assignment': 0,\n",
       " 'changes': 0,\n",
       " 'money': 0,\n",
       " 'prior': 0,\n",
       " 'We': 0,\n",
       " 'ping': 0,\n",
       " 'him': 0,\n",
       " '..': 0,\n",
       " 'you': 0,\n",
       " '....': 0,\n",
       " 'is': 0,\n",
       " 'according': 0,\n",
       " 'u': 0,\n",
       " 'So': 0,\n",
       " 'timing': 0,\n",
       " '.': 0,\n",
       " 'Mr.': 0,\n",
       " 'necessary': 0,\n",
       " 'Love': 0,\n",
       " 'small': 0,\n",
       " 'primary': 0,\n",
       " 'friendly': 0,\n",
       " 'accent': 0,\n",
       " 'such': 0,\n",
       " 'feel': 0,\n",
       " 'would': 0,\n",
       " 'process': 0,\n",
       " 'ready': 0,\n",
       " 'appears': 0,\n",
       " 'suggestion': 0,\n",
       " 'reason': 0,\n",
       " 'from': 0,\n",
       " 'learnt': 0,\n",
       " 'The': 0,\n",
       " 'did': 0,\n",
       " 'excellent': 0,\n",
       " 'providing': 0,\n",
       " 'quite': 0,\n",
       " 'people': 0,\n",
       " 'known': 0,\n",
       " 'short': 0,\n",
       " 'Nothing.It': 0,\n",
       " 'help': 0,\n",
       " 'English': 0,\n",
       " 'longer': 0,\n",
       " 'need': 0,\n",
       " 'region': 0,\n",
       " 'in': 0,\n",
       " 'contact': 0,\n",
       " 'provides': 0,\n",
       " 'fix': 0,\n",
       " 'taught': 0,\n",
       " 'needed': 0,\n",
       " 'easy': 0,\n",
       " 'instead': 0,\n",
       " 'Increase': 0,\n",
       " 'using': 0,\n",
       " 'get': 0,\n",
       " 'interested': 0,\n",
       " 'explaining': 0,\n",
       " 'enjoyed': 0,\n",
       " 'today': 0,\n",
       " 'behaved': 0,\n",
       " 'on': 0,\n",
       " \"'d\": 0,\n",
       " 'connectivity': 0,\n",
       " 'sessions': 0,\n",
       " 'stepping': 0,\n",
       " 'when': 0,\n",
       " 'Somehow': 0,\n",
       " 'shows': 0,\n",
       " 'Surya': 0,\n",
       " 'put': 0,\n",
       " 'platform': 0,\n",
       " 'But': 0,\n",
       " 'about': 0,\n",
       " 'Recordings': 0,\n",
       " 'right': 0,\n",
       " 'Everything': 0,\n",
       " 'improvement': 0,\n",
       " 'full': 0,\n",
       " 'India': 0,\n",
       " 'improvisation': 0,\n",
       " 'journey': 0,\n",
       " 'thnik': 0,\n",
       " 'into': 0,\n",
       " 'your': 0,\n",
       " 'LinkedIn': 0,\n",
       " 'because': 0,\n",
       " 'This': 0,\n",
       " 'say': 0,\n",
       " 'of': 0,\n",
       " \"'m\": 0,\n",
       " 'missed': 0,\n",
       " 'boot': 0,\n",
       " 'per': 0,\n",
       " 'ok': 0,\n",
       " 'details': 0,\n",
       " 'based': 0,\n",
       " 'Stat': 0,\n",
       " \"''\": 0,\n",
       " 'an': 0,\n",
       " 'Ive': 0,\n",
       " 'Just': 0,\n",
       " 'places': 0,\n",
       " 'No': 0,\n",
       " 'comfortable': 0,\n",
       " 'intern': 0,\n",
       " 'manner': 0,\n",
       " 'change': 0,\n",
       " 'technical': 0,\n",
       " 'office': 0,\n",
       " 'Nothing': 0,\n",
       " 'totally': 0,\n",
       " 'clearing': 0,\n",
       " 'workshop': 0,\n",
       " 'experience': 0,\n",
       " 'DS': 0,\n",
       " 'camp': 0,\n",
       " 'gives': 0,\n",
       " 'the': 0,\n",
       " 'deny': 0,\n",
       " 'this': 0,\n",
       " 'amazing': 0,\n",
       " 'am': 0,\n",
       " \"'ll\": 0,\n",
       " 'not': 0,\n",
       " 'entering': 0,\n",
       " 'life': 0,\n",
       " 'science': 0,\n",
       " 'Maybe': 0,\n",
       " 'great': 0,\n",
       " 'can': 0,\n",
       " 'fine': 0,\n",
       " 'Whatever': 0,\n",
       " 'bootcamp': 0,\n",
       " 'R': 0,\n",
       " 'little': 0,\n",
       " 'due': 0,\n",
       " 'covers': 0,\n",
       " 'parents': 0,\n",
       " 'maes': 0,\n",
       " 'detail': 0,\n",
       " 'some': 0,\n",
       " 'do': 0,\n",
       " 'any': 0,\n",
       " 'at': 0,\n",
       " 'bit': 0}"
      ]
     },
     "execution_count": 78,
     "metadata": {},
     "output_type": "execute_result"
    }
   ],
   "source": [
    "r1_dict"
   ]
  },
  {
   "cell_type": "code",
   "execution_count": 79,
   "metadata": {},
   "outputs": [],
   "source": [
    "for token in r1_tokens:\n",
    "    r1_dict[token]+=1\n",
    "for token in r2_tokens:\n",
    "    r2_dict[token]+=1\n",
    "for token in r3_tokens:\n",
    "    r3_dict[token]+=1\n",
    "for token in r4_tokens:\n",
    "    r4_dict[token]+=1\n",
    "for token in r5_tokens:\n",
    "    r5_dict[token]+=1\n",
    "for token in r6_tokens:\n",
    "    r6_dict[token]+=1\n",
    "for token in r7_tokens:\n",
    "    r7_dict[token]+=1\n",
    "for token in r8_tokens:\n",
    "    r8_dict[token]+=1\n",
    "for token in r9_tokens:\n",
    "    r9_dict[token]+=1\n",
    "for token in r10_tokens:\n",
    "    r10_dict[token]+=1\n",
    "for token in r11_tokens:\n",
    "    r11_dict[token]+=1\n",
    "for token in r12_tokens:\n",
    "    r12_dict[token]+=1\n",
    "for token in r14_tokens:\n",
    "    r14_dict[token]+=1\n",
    "for token in r15_tokens:\n",
    "    r15_dict[token]+=1\n",
    "for token in r16_tokens:\n",
    "    r16_dict[token]+=1\n",
    "for token in r17_tokens:\n",
    "    r17_dict[token]+=1\n",
    "for token in r18_tokens:\n",
    "    r18_dict[token]+=1\n",
    "for token in r19_tokens:\n",
    "    r19_dict[token]+=1\n",
    "for token in r20_tokens:\n",
    "    r20_dict[token]+=1\n",
    "for token in r21_tokens:\n",
    "    r21_dict[token]+=1\n",
    "for token in r22_tokens:\n",
    "    r22_dict[token]+=1\n",
    "for token in r23_tokens:\n",
    "    r23_dict[token]+=1\n",
    "for token in r24_tokens:\n",
    "    r24_dict[token]+=1\n",
    "for token in r25_tokens:\n",
    "    r25_dict[token]+=1\n",
    "for token in r26_tokens:\n",
    "    r26_dict[token]+=1\n",
    "for token in r28_tokens:\n",
    "    r28_dict[token]+=1\n",
    "for token in r29_tokens:\n",
    "    r29_dict[token]+=1\n",
    "for token in r30_tokens:\n",
    "    r30_dict[token]+=1\n",
    "for token in r31_tokens:\n",
    "    r31_dict[token]+=1\n",
    "for token in r32_tokens:\n",
    "    r32_dict[token]+=1\n",
    "for token in r33_tokens:\n",
    "    r33_dict[token]+=1\n",
    "for token in r34_tokens:\n",
    "    r34_dict[token]+=1\n",
    "for token in r35_tokens:\n",
    "    r35_dict[token]+=1\n",
    "for token in r36_tokens:\n",
    "    r36_dict[token]+=1\n",
    "for token in r37_tokens:\n",
    "    r37_dict[token]+=1\n",
    "for token in r38_tokens:\n",
    "    r38_dict[token]+=1\n",
    "for token in r39_tokens:\n",
    "    r39_dict[token]+=1\n",
    "for token in r40_tokens:\n",
    "    r40_dict[token]+=1\n",
    "for token in r41_tokens:\n",
    "    r41_dict[token]+=1\n",
    "for token in r42_tokens:\n",
    "    r42_dict[token]+=1\n",
    "for token in r43_tokens:\n",
    "    r43_dict[token]+=1\n",
    "for token in r44_tokens:\n",
    "    r44_dict[token]+=1\n",
    "for token in r45_tokens:\n",
    "    r45_dict[token]+=1\n",
    "for token in r46_tokens:\n",
    "    r46_dict[token]+=1\n",
    "for token in r47_tokens:\n",
    "    r47_dict[token]+=1\n",
    "for token in r48_tokens:\n",
    "    r48_dict[token]+=1\n",
    "for token in r49_tokens:\n",
    "    r49_dict[token]+=1\n",
    "for token in r50_tokens:\n",
    "    r50_dict[token]+=1\n",
    "for token in r51_tokens:\n",
    "    r51_dict[token]+=1\n",
    "for token in r52_tokens:\n",
    "    r52_dict[token]+=1\n",
    "for token in r53_tokens:\n",
    "    r53_dict[token]+=1\n",
    "for token in r54_tokens:\n",
    "    r54_dict[token]+=1\n",
    "for token in r55_tokens:\n",
    "    r55_dict[token]+=1\n",
    "for token in r56_tokens:\n",
    "    r56_dict[token]+=1\n",
    "for token in r57_tokens:\n",
    "    r57_dict[token]+=1\n",
    "for token in r58_tokens:\n",
    "    r58_dict[token]+=1\n",
    "for token in r59_tokens:\n",
    "    r59_dict[token]+=1\n",
    "for token in r60_tokens:\n",
    "    r60_dict[token]+=1\n",
    "for token in r61_tokens:\n",
    "    r61_dict[token]+=1"
   ]
  },
  {
   "cell_type": "code",
   "execution_count": 80,
   "metadata": {},
   "outputs": [
    {
     "data": {
      "text/plain": [
       "{'a': 2,\n",
       " 'then': 0,\n",
       " 'doing': 0,\n",
       " 'learners': 0,\n",
       " '``': 0,\n",
       " '...': 0,\n",
       " 'sir': 0,\n",
       " 'invest': 0,\n",
       " 'West': 0,\n",
       " ',': 2,\n",
       " 'though': 1,\n",
       " 'me': 0,\n",
       " 'Some': 1,\n",
       " 'no': 0,\n",
       " 'knowledge': 0,\n",
       " 'loopholes': 0,\n",
       " 'sent': 0,\n",
       " 'dont': 0,\n",
       " \"'s\": 0,\n",
       " 'benefitted': 0,\n",
       " 'work': 0,\n",
       " 'approaching': 0,\n",
       " 'second': 0,\n",
       " 'connection': 0,\n",
       " 'present': 0,\n",
       " 'sure': 0,\n",
       " 'know': 0,\n",
       " 'these': 0,\n",
       " 'many': 0,\n",
       " \"'ve\": 0,\n",
       " 'learn': 0,\n",
       " 'You': 0,\n",
       " 'coding': 0,\n",
       " '(': 0,\n",
       " ')': 0,\n",
       " 'enough': 0,\n",
       " 'was': 2,\n",
       " 'pleasure': 0,\n",
       " 'free': 0,\n",
       " 'ca': 0,\n",
       " 'things': 0,\n",
       " 'day': 0,\n",
       " '!': 0,\n",
       " 'fortunate': 0,\n",
       " 'are': 0,\n",
       " 'teaching': 0,\n",
       " 'interesting': 1,\n",
       " 'nothing': 0,\n",
       " 'ask': 0,\n",
       " 'we': 0,\n",
       " 'good': 0,\n",
       " 'stats': 1,\n",
       " 'personallu': 0,\n",
       " 'spent': 0,\n",
       " 'backgrounds': 0,\n",
       " 'it': 0,\n",
       " 'situation': 0,\n",
       " 'unable': 0,\n",
       " 'paid': 0,\n",
       " 'now': 0,\n",
       " 'nice': 0,\n",
       " 'surely': 0,\n",
       " 'like': 0,\n",
       " 'course': 0,\n",
       " 'members': 0,\n",
       " 'that': 0,\n",
       " 'scientist': 0,\n",
       " 'enlightening': 0,\n",
       " 'real-time': 0,\n",
       " 'same': 0,\n",
       " 'faculties': 0,\n",
       " 'That': 0,\n",
       " 'were': 1,\n",
       " 'learned': 0,\n",
       " 'or': 0,\n",
       " '&': 0,\n",
       " 'far': 0,\n",
       " 'how': 0,\n",
       " 'there': 0,\n",
       " 'manage': 0,\n",
       " 'really': 0,\n",
       " 'more': 0,\n",
       " 'pretty': 0,\n",
       " 'future': 0,\n",
       " 'other': 0,\n",
       " 'satisfied': 0,\n",
       " 'There': 0,\n",
       " 'shown': 0,\n",
       " 'dought': 0,\n",
       " 'give': 0,\n",
       " 'topics': 1,\n",
       " 'appreciated': 0,\n",
       " 'well': 1,\n",
       " 'Its': 0,\n",
       " 'Softanbees': 0,\n",
       " 'Bengal': 0,\n",
       " 'through': 0,\n",
       " 'guys': 0,\n",
       " \"n't\": 0,\n",
       " 'way': 0,\n",
       " 'programme': 0,\n",
       " 'practice': 0,\n",
       " 'getting': 0,\n",
       " 'their': 0,\n",
       " 'Times': 0,\n",
       " 'lots': 0,\n",
       " 'informative': 0,\n",
       " 'chance': 0,\n",
       " 'completely': 0,\n",
       " 'they': 0,\n",
       " 'bro': 0,\n",
       " 'perfect': 0,\n",
       " 'understanding': 0,\n",
       " 'data': 0,\n",
       " 'having': 0,\n",
       " 'link': 0,\n",
       " 'Very': 0,\n",
       " 'language': 0,\n",
       " 'with': 0,\n",
       " 'projects': 0,\n",
       " 'during': 0,\n",
       " 'part': 0,\n",
       " 'up': 0,\n",
       " 'Excellent': 0,\n",
       " 'team': 0,\n",
       " 'fees': 0,\n",
       " 'should': 0,\n",
       " 'easily': 0,\n",
       " 'recording': 0,\n",
       " 'for': 0,\n",
       " 'As': 0,\n",
       " 'time': 0,\n",
       " 'poor': 0,\n",
       " 'visualization': 0,\n",
       " 'so': 0,\n",
       " 'all': 0,\n",
       " 'quality': 0,\n",
       " 'carry': 0,\n",
       " 'thing': 0,\n",
       " 'Regards': 0,\n",
       " 'much': 0,\n",
       " 'live': 0,\n",
       " 'world': 0,\n",
       " 'enthusiasts': 0,\n",
       " 'depth': 0,\n",
       " 'us': 0,\n",
       " 'different': 0,\n",
       " 'Thank': 0,\n",
       " 'one': 0,\n",
       " 'beyond': 0,\n",
       " 'join': 0,\n",
       " 'literally': 0,\n",
       " 'friends': 0,\n",
       " 'programming': 0,\n",
       " 'required': 0,\n",
       " 'been': 0,\n",
       " 'concepts': 0,\n",
       " 'got': 0,\n",
       " 'my': 0,\n",
       " 'improve': 0,\n",
       " 'very': 0,\n",
       " 'similar': 0,\n",
       " 'queries': 0,\n",
       " ';': 0,\n",
       " 'portion': 0,\n",
       " 'have': 0,\n",
       " 'going': 0,\n",
       " 'anyone': 0,\n",
       " 'guus': 0,\n",
       " 'as': 0,\n",
       " 'its': 0,\n",
       " 'liked': 0,\n",
       " 'than': 0,\n",
       " 'make': 0,\n",
       " 'seen.The': 0,\n",
       " 'parts': 0,\n",
       " 'already': 0,\n",
       " 'score': 0,\n",
       " 'Hindi': 0,\n",
       " 'ease': 0,\n",
       " 'least': 0,\n",
       " 'better': 0,\n",
       " 'maybe': 0,\n",
       " 'towards': 0,\n",
       " 'beneficial': 0,\n",
       " 'also': 0,\n",
       " 'thought': 0,\n",
       " 'session': 0,\n",
       " 'thank': 0,\n",
       " 'participate': 0,\n",
       " 'variations': 0,\n",
       " 'home': 0,\n",
       " 'starting': 0,\n",
       " 'think': 0,\n",
       " 'batch': 0,\n",
       " 'good.Carry': 0,\n",
       " 'analysis': 0,\n",
       " 'training': 0,\n",
       " 'less': 0,\n",
       " 'presented': 0,\n",
       " 'Not': 0,\n",
       " 'whom': 0,\n",
       " 'and': 0,\n",
       " 'cleared': 0,\n",
       " 'aspects': 0,\n",
       " 'to': 0,\n",
       " 'wonderful': 0,\n",
       " 'teacher': 0,\n",
       " 'helpful': 0,\n",
       " 'ever': 0,\n",
       " 'best': 0,\n",
       " 'understand': 0,\n",
       " 'but': 0,\n",
       " 'new': 0,\n",
       " 'Rather': 0,\n",
       " 'even': 0,\n",
       " 'attract': 0,\n",
       " 'will': 0,\n",
       " 'problem': 0,\n",
       " 'Perfect': 0,\n",
       " 'exam': 0,\n",
       " 'Improving': 0,\n",
       " 'which': 0,\n",
       " 'It': 1,\n",
       " 'Focus': 0,\n",
       " 'amount': 0,\n",
       " 'i': 0,\n",
       " 'avid': 0,\n",
       " 'had': 0,\n",
       " 'program': 0,\n",
       " 'Kindly': 0,\n",
       " 'If': 0,\n",
       " 'improving': 0,\n",
       " 'structure': 0,\n",
       " 'fun': 1,\n",
       " 'if': 0,\n",
       " 'Al': 0,\n",
       " 'could': 0,\n",
       " 'hope': 0,\n",
       " 'project': 0,\n",
       " 'too': 0,\n",
       " 'regarding': 0,\n",
       " 'Boot': 0,\n",
       " 'tedious': 1,\n",
       " 'want': 0,\n",
       " 'be': 0,\n",
       " 'suggestions': 0,\n",
       " 'awesome': 0,\n",
       " 'I': 0,\n",
       " 'Doubts': 0,\n",
       " 'basic': 1,\n",
       " 'assignment': 0,\n",
       " 'changes': 0,\n",
       " 'money': 0,\n",
       " 'prior': 0,\n",
       " 'We': 0,\n",
       " 'ping': 0,\n",
       " 'him': 0,\n",
       " '..': 0,\n",
       " 'you': 0,\n",
       " '....': 0,\n",
       " 'is': 0,\n",
       " 'according': 0,\n",
       " 'u': 0,\n",
       " 'So': 0,\n",
       " 'timing': 0,\n",
       " '.': 3,\n",
       " 'Mr.': 0,\n",
       " 'necessary': 1,\n",
       " 'Love': 0,\n",
       " 'small': 0,\n",
       " 'primary': 0,\n",
       " 'friendly': 0,\n",
       " 'accent': 0,\n",
       " 'such': 0,\n",
       " 'feel': 0,\n",
       " 'would': 0,\n",
       " 'process': 0,\n",
       " 'ready': 0,\n",
       " 'appears': 0,\n",
       " 'suggestion': 0,\n",
       " 'reason': 0,\n",
       " 'from': 0,\n",
       " 'learnt': 0,\n",
       " 'The': 1,\n",
       " 'did': 0,\n",
       " 'excellent': 0,\n",
       " 'providing': 0,\n",
       " 'quite': 0,\n",
       " 'people': 0,\n",
       " 'known': 1,\n",
       " 'short': 0,\n",
       " 'Nothing.It': 0,\n",
       " 'help': 0,\n",
       " 'English': 0,\n",
       " 'longer': 0,\n",
       " 'need': 0,\n",
       " 'region': 0,\n",
       " 'in': 1,\n",
       " 'contact': 0,\n",
       " 'provides': 0,\n",
       " 'fix': 0,\n",
       " 'taught': 1,\n",
       " 'needed': 0,\n",
       " 'easy': 0,\n",
       " 'instead': 0,\n",
       " 'Increase': 0,\n",
       " 'using': 0,\n",
       " 'get': 0,\n",
       " 'interested': 0,\n",
       " 'explaining': 0,\n",
       " 'enjoyed': 0,\n",
       " 'today': 0,\n",
       " 'behaved': 0,\n",
       " 'on': 0,\n",
       " \"'d\": 0,\n",
       " 'connectivity': 0,\n",
       " 'sessions': 0,\n",
       " 'stepping': 0,\n",
       " 'when': 0,\n",
       " 'Somehow': 0,\n",
       " 'shows': 0,\n",
       " 'Surya': 0,\n",
       " 'put': 0,\n",
       " 'platform': 0,\n",
       " 'But': 0,\n",
       " 'about': 0,\n",
       " 'Recordings': 0,\n",
       " 'right': 0,\n",
       " 'Everything': 0,\n",
       " 'improvement': 0,\n",
       " 'full': 0,\n",
       " 'India': 0,\n",
       " 'improvisation': 0,\n",
       " 'journey': 0,\n",
       " 'thnik': 0,\n",
       " 'into': 0,\n",
       " 'your': 0,\n",
       " 'LinkedIn': 0,\n",
       " 'because': 0,\n",
       " 'This': 0,\n",
       " 'say': 0,\n",
       " 'of': 1,\n",
       " \"'m\": 0,\n",
       " 'missed': 0,\n",
       " 'boot': 0,\n",
       " 'per': 0,\n",
       " 'ok': 0,\n",
       " 'details': 1,\n",
       " 'based': 0,\n",
       " 'Stat': 0,\n",
       " \"''\": 0,\n",
       " 'an': 1,\n",
       " 'Ive': 0,\n",
       " 'Just': 0,\n",
       " 'places': 0,\n",
       " 'No': 0,\n",
       " 'comfortable': 0,\n",
       " 'intern': 0,\n",
       " 'manner': 1,\n",
       " 'change': 0,\n",
       " 'technical': 0,\n",
       " 'office': 0,\n",
       " 'Nothing': 0,\n",
       " 'totally': 0,\n",
       " 'clearing': 0,\n",
       " 'workshop': 0,\n",
       " 'experience': 1,\n",
       " 'DS': 0,\n",
       " 'camp': 0,\n",
       " 'gives': 0,\n",
       " 'the': 0,\n",
       " 'deny': 0,\n",
       " 'this': 0,\n",
       " 'amazing': 0,\n",
       " 'am': 0,\n",
       " \"'ll\": 0,\n",
       " 'not': 0,\n",
       " 'entering': 0,\n",
       " 'life': 0,\n",
       " 'science': 0,\n",
       " 'Maybe': 0,\n",
       " 'great': 0,\n",
       " 'can': 0,\n",
       " 'fine': 0,\n",
       " 'Whatever': 0,\n",
       " 'bootcamp': 0,\n",
       " 'R': 0,\n",
       " 'little': 0,\n",
       " 'due': 0,\n",
       " 'covers': 0,\n",
       " 'parents': 0,\n",
       " 'maes': 0,\n",
       " 'detail': 0,\n",
       " 'some': 0,\n",
       " 'do': 0,\n",
       " 'any': 0,\n",
       " 'at': 0,\n",
       " 'bit': 1}"
      ]
     },
     "execution_count": 80,
     "metadata": {},
     "output_type": "execute_result"
    }
   ],
   "source": [
    "r12_dict"
   ]
  },
  {
   "cell_type": "code",
   "execution_count": 81,
   "metadata": {},
   "outputs": [],
   "source": [
    "# create dataframe for all dict file"
   ]
  },
  {
   "cell_type": "code",
   "execution_count": 82,
   "metadata": {},
   "outputs": [],
   "source": [
    "reviews_dict_df=pd.DataFrame([r1_dict,r2_dict,r3_dict,r4_dict,r5_dict,r6_dict,r7_dict,r8_dict,r9_dict,r10_dict,\n",
    "                             r11_dict,r12_dict,r14_dict,r15_dict,r16_dict,r17_dict,r18_dict,r19_dict,r20_dict,r21_dict,\n",
    "                             r22_dict,r23_dict,r24_dict,r25_dict,r25_dict,r28_dict,r29_dict,r30_dict,r31_dict,\n",
    "                             r32_dict,r33_dict,r34_dict,r35_dict,r36_dict,r37_dict,r38_dict,r39_dict,r40_dict,r41_dict,\n",
    "                             r42_dict,r43_dict,r44_dict,r45_dict,r46_dict,r47_dict,r48_dict,r49_dict,r50_dict,r51_dict,\n",
    "                             r52_dict,r53_dict,r54_dict,r55_dict,r56_dict,r57_dict,r58_dict,r59_dict,r60_dict,r61_dict])"
   ]
  },
  {
   "cell_type": "code",
   "execution_count": 83,
   "metadata": {},
   "outputs": [
    {
     "data": {
      "text/html": [
       "<div>\n",
       "<style scoped>\n",
       "    .dataframe tbody tr th:only-of-type {\n",
       "        vertical-align: middle;\n",
       "    }\n",
       "\n",
       "    .dataframe tbody tr th {\n",
       "        vertical-align: top;\n",
       "    }\n",
       "\n",
       "    .dataframe thead th {\n",
       "        text-align: right;\n",
       "    }\n",
       "</style>\n",
       "<table border=\"1\" class=\"dataframe\">\n",
       "  <thead>\n",
       "    <tr style=\"text-align: right;\">\n",
       "      <th></th>\n",
       "      <th>a</th>\n",
       "      <th>then</th>\n",
       "      <th>doing</th>\n",
       "      <th>learners</th>\n",
       "      <th>``</th>\n",
       "      <th>...</th>\n",
       "      <th>sir</th>\n",
       "      <th>invest</th>\n",
       "      <th>West</th>\n",
       "      <th>,</th>\n",
       "      <th>...</th>\n",
       "      <th>due</th>\n",
       "      <th>covers</th>\n",
       "      <th>parents</th>\n",
       "      <th>maes</th>\n",
       "      <th>detail</th>\n",
       "      <th>some</th>\n",
       "      <th>do</th>\n",
       "      <th>any</th>\n",
       "      <th>at</th>\n",
       "      <th>bit</th>\n",
       "    </tr>\n",
       "  </thead>\n",
       "  <tbody>\n",
       "    <tr>\n",
       "      <th>0</th>\n",
       "      <td>0</td>\n",
       "      <td>0</td>\n",
       "      <td>0</td>\n",
       "      <td>0</td>\n",
       "      <td>0</td>\n",
       "      <td>0</td>\n",
       "      <td>0</td>\n",
       "      <td>0</td>\n",
       "      <td>0</td>\n",
       "      <td>0</td>\n",
       "      <td>...</td>\n",
       "      <td>0</td>\n",
       "      <td>0</td>\n",
       "      <td>0</td>\n",
       "      <td>0</td>\n",
       "      <td>0</td>\n",
       "      <td>0</td>\n",
       "      <td>0</td>\n",
       "      <td>0</td>\n",
       "      <td>0</td>\n",
       "      <td>0</td>\n",
       "    </tr>\n",
       "    <tr>\n",
       "      <th>1</th>\n",
       "      <td>0</td>\n",
       "      <td>0</td>\n",
       "      <td>0</td>\n",
       "      <td>0</td>\n",
       "      <td>0</td>\n",
       "      <td>2</td>\n",
       "      <td>0</td>\n",
       "      <td>0</td>\n",
       "      <td>0</td>\n",
       "      <td>0</td>\n",
       "      <td>...</td>\n",
       "      <td>0</td>\n",
       "      <td>0</td>\n",
       "      <td>0</td>\n",
       "      <td>0</td>\n",
       "      <td>0</td>\n",
       "      <td>0</td>\n",
       "      <td>0</td>\n",
       "      <td>0</td>\n",
       "      <td>0</td>\n",
       "      <td>0</td>\n",
       "    </tr>\n",
       "    <tr>\n",
       "      <th>2</th>\n",
       "      <td>0</td>\n",
       "      <td>0</td>\n",
       "      <td>0</td>\n",
       "      <td>0</td>\n",
       "      <td>0</td>\n",
       "      <td>0</td>\n",
       "      <td>0</td>\n",
       "      <td>0</td>\n",
       "      <td>0</td>\n",
       "      <td>0</td>\n",
       "      <td>...</td>\n",
       "      <td>0</td>\n",
       "      <td>0</td>\n",
       "      <td>0</td>\n",
       "      <td>0</td>\n",
       "      <td>0</td>\n",
       "      <td>0</td>\n",
       "      <td>0</td>\n",
       "      <td>0</td>\n",
       "      <td>0</td>\n",
       "      <td>0</td>\n",
       "    </tr>\n",
       "    <tr>\n",
       "      <th>3</th>\n",
       "      <td>0</td>\n",
       "      <td>0</td>\n",
       "      <td>0</td>\n",
       "      <td>0</td>\n",
       "      <td>0</td>\n",
       "      <td>0</td>\n",
       "      <td>0</td>\n",
       "      <td>0</td>\n",
       "      <td>0</td>\n",
       "      <td>0</td>\n",
       "      <td>...</td>\n",
       "      <td>0</td>\n",
       "      <td>0</td>\n",
       "      <td>0</td>\n",
       "      <td>0</td>\n",
       "      <td>0</td>\n",
       "      <td>0</td>\n",
       "      <td>0</td>\n",
       "      <td>0</td>\n",
       "      <td>0</td>\n",
       "      <td>0</td>\n",
       "    </tr>\n",
       "    <tr>\n",
       "      <th>4</th>\n",
       "      <td>1</td>\n",
       "      <td>0</td>\n",
       "      <td>0</td>\n",
       "      <td>0</td>\n",
       "      <td>0</td>\n",
       "      <td>0</td>\n",
       "      <td>0</td>\n",
       "      <td>0</td>\n",
       "      <td>0</td>\n",
       "      <td>0</td>\n",
       "      <td>...</td>\n",
       "      <td>0</td>\n",
       "      <td>0</td>\n",
       "      <td>0</td>\n",
       "      <td>0</td>\n",
       "      <td>0</td>\n",
       "      <td>0</td>\n",
       "      <td>0</td>\n",
       "      <td>0</td>\n",
       "      <td>1</td>\n",
       "      <td>0</td>\n",
       "    </tr>\n",
       "    <tr>\n",
       "      <th>5</th>\n",
       "      <td>1</td>\n",
       "      <td>0</td>\n",
       "      <td>0</td>\n",
       "      <td>0</td>\n",
       "      <td>0</td>\n",
       "      <td>0</td>\n",
       "      <td>0</td>\n",
       "      <td>0</td>\n",
       "      <td>0</td>\n",
       "      <td>1</td>\n",
       "      <td>...</td>\n",
       "      <td>0</td>\n",
       "      <td>0</td>\n",
       "      <td>0</td>\n",
       "      <td>0</td>\n",
       "      <td>0</td>\n",
       "      <td>0</td>\n",
       "      <td>0</td>\n",
       "      <td>1</td>\n",
       "      <td>0</td>\n",
       "      <td>0</td>\n",
       "    </tr>\n",
       "    <tr>\n",
       "      <th>6</th>\n",
       "      <td>0</td>\n",
       "      <td>0</td>\n",
       "      <td>0</td>\n",
       "      <td>0</td>\n",
       "      <td>0</td>\n",
       "      <td>0</td>\n",
       "      <td>0</td>\n",
       "      <td>0</td>\n",
       "      <td>0</td>\n",
       "      <td>0</td>\n",
       "      <td>...</td>\n",
       "      <td>0</td>\n",
       "      <td>0</td>\n",
       "      <td>0</td>\n",
       "      <td>0</td>\n",
       "      <td>0</td>\n",
       "      <td>0</td>\n",
       "      <td>0</td>\n",
       "      <td>0</td>\n",
       "      <td>0</td>\n",
       "      <td>0</td>\n",
       "    </tr>\n",
       "    <tr>\n",
       "      <th>7</th>\n",
       "      <td>0</td>\n",
       "      <td>0</td>\n",
       "      <td>0</td>\n",
       "      <td>0</td>\n",
       "      <td>0</td>\n",
       "      <td>0</td>\n",
       "      <td>0</td>\n",
       "      <td>0</td>\n",
       "      <td>0</td>\n",
       "      <td>0</td>\n",
       "      <td>...</td>\n",
       "      <td>0</td>\n",
       "      <td>0</td>\n",
       "      <td>0</td>\n",
       "      <td>0</td>\n",
       "      <td>0</td>\n",
       "      <td>0</td>\n",
       "      <td>0</td>\n",
       "      <td>0</td>\n",
       "      <td>0</td>\n",
       "      <td>0</td>\n",
       "    </tr>\n",
       "    <tr>\n",
       "      <th>8</th>\n",
       "      <td>1</td>\n",
       "      <td>0</td>\n",
       "      <td>0</td>\n",
       "      <td>0</td>\n",
       "      <td>0</td>\n",
       "      <td>0</td>\n",
       "      <td>0</td>\n",
       "      <td>0</td>\n",
       "      <td>0</td>\n",
       "      <td>0</td>\n",
       "      <td>...</td>\n",
       "      <td>0</td>\n",
       "      <td>0</td>\n",
       "      <td>0</td>\n",
       "      <td>0</td>\n",
       "      <td>0</td>\n",
       "      <td>0</td>\n",
       "      <td>0</td>\n",
       "      <td>0</td>\n",
       "      <td>0</td>\n",
       "      <td>0</td>\n",
       "    </tr>\n",
       "    <tr>\n",
       "      <th>9</th>\n",
       "      <td>0</td>\n",
       "      <td>0</td>\n",
       "      <td>0</td>\n",
       "      <td>0</td>\n",
       "      <td>0</td>\n",
       "      <td>0</td>\n",
       "      <td>0</td>\n",
       "      <td>0</td>\n",
       "      <td>0</td>\n",
       "      <td>3</td>\n",
       "      <td>...</td>\n",
       "      <td>0</td>\n",
       "      <td>0</td>\n",
       "      <td>0</td>\n",
       "      <td>0</td>\n",
       "      <td>0</td>\n",
       "      <td>0</td>\n",
       "      <td>0</td>\n",
       "      <td>0</td>\n",
       "      <td>1</td>\n",
       "      <td>0</td>\n",
       "    </tr>\n",
       "  </tbody>\n",
       "</table>\n",
       "<p>10 rows × 399 columns</p>\n",
       "</div>"
      ],
      "text/plain": [
       "   a  then  doing  learners  ``  ...  sir  invest  West  ,  ...  due  covers  \\\n",
       "0  0     0      0         0   0    0    0       0     0  0  ...    0       0   \n",
       "1  0     0      0         0   0    2    0       0     0  0  ...    0       0   \n",
       "2  0     0      0         0   0    0    0       0     0  0  ...    0       0   \n",
       "3  0     0      0         0   0    0    0       0     0  0  ...    0       0   \n",
       "4  1     0      0         0   0    0    0       0     0  0  ...    0       0   \n",
       "5  1     0      0         0   0    0    0       0     0  1  ...    0       0   \n",
       "6  0     0      0         0   0    0    0       0     0  0  ...    0       0   \n",
       "7  0     0      0         0   0    0    0       0     0  0  ...    0       0   \n",
       "8  1     0      0         0   0    0    0       0     0  0  ...    0       0   \n",
       "9  0     0      0         0   0    0    0       0     0  3  ...    0       0   \n",
       "\n",
       "   parents  maes  detail  some  do  any  at  bit  \n",
       "0        0     0       0     0   0    0   0    0  \n",
       "1        0     0       0     0   0    0   0    0  \n",
       "2        0     0       0     0   0    0   0    0  \n",
       "3        0     0       0     0   0    0   0    0  \n",
       "4        0     0       0     0   0    0   1    0  \n",
       "5        0     0       0     0   0    1   0    0  \n",
       "6        0     0       0     0   0    0   0    0  \n",
       "7        0     0       0     0   0    0   0    0  \n",
       "8        0     0       0     0   0    0   0    0  \n",
       "9        0     0       0     0   0    0   1    0  \n",
       "\n",
       "[10 rows x 399 columns]"
      ]
     },
     "execution_count": 83,
     "metadata": {},
     "output_type": "execute_result"
    }
   ],
   "source": [
    "reviews_dict_df.head(10)"
   ]
  },
  {
   "cell_type": "code",
   "execution_count": 84,
   "metadata": {},
   "outputs": [],
   "source": [
    "from sklearn.feature_extraction.text import CountVectorizer"
   ]
  },
  {
   "cell_type": "code",
   "execution_count": 85,
   "metadata": {},
   "outputs": [
    {
     "data": {
      "text/plain": [
       "['No',\n",
       " 'There is literally no loopholes... its beyond perfect...thank you very much',\n",
       " 'Its the best....no more suggestions',\n",
       " 'It would be beneficial if people from similar backgrounds are put into the same batch during the training.',\n",
       " 'This is the best way of teaching programming that Ive ever seen.The way of teaching is so good that anyone can understand programming at ease. I feel fortunate enough to be a part of this training. I got no suggestions for improving the training programme because this is perfect!  ',\n",
       " 'It is already a good process, no need for any changes. Excellent work.',\n",
       " 'all good....if the fees of the course was less it would have been best ',\n",
       " 'The free boot camp was great. Whatever was taught in R was very helpful. Thank you',\n",
       " 'It was a great boot camp .',\n",
       " 'This bootcamp was amazing, faculties are so friendly & well behaved, according to me there is no need of improving the training program,this was at its best ',\n",
       " 'As per my suggestion, the way you guys are approaching is really good and I am quite sure you will carry on this quality of training in future. Al the best.',\n",
       " 'It was a fun experience. Some well known topics were taught in an interesting manner. The details of basic stats, though necessary, was a bit tedious.',\n",
       " \"It's very good, but I think if I had prior knowledge on coding then it would be more easy to understand\",\n",
       " 'This is completely fine. I am benefitted. Doubts are easily cleared. ',\n",
       " 'Boot camp was very informative... ',\n",
       " 'Its a nice and friendly session',\n",
       " 'The free boot camp was great. Whatever was taught in R was very helpful. Thank you',\n",
       " 'Stat portion should be taught with more depth...',\n",
       " 'Nothing. This way of teaching is far more better than many other places. ',\n",
       " \"No suggestion, in today's life no one gives a second from their life, but sir all of your team members are doing a great, i didn't have any knowledge about data science, but at least now i know about this a little, Thank you very much for the sessions. \",\n",
       " 'It was a great boot camp .',\n",
       " 'No suggestions, because the training is good and also good to learn new things. ',\n",
       " 'It would be beneficial if people from similar backgrounds are put into the same batch during the training.',\n",
       " 'No queries.. It was a great session ..Softanbees free boot camp session provides a wonderful platform for enlightening the concepts of data analysis using R programming.. It shows how even coding can be so easy and fun to learn.',\n",
       " \"No suggestions...it's already the best\",\n",
       " \"There is literally no loopholes... it's beyond perfect...thank you very much\",\n",
       " 'If we could get to work on live projects that could help us understand concepts in detail ( in paid course )  as boot camp it was very good !!',\n",
       " \"It's my pleasure to give me a chance to learn that things.. \",\n",
       " \"This is the best way of teaching programming that I've ever seen.The way of teaching is so good that anyone can understand programming at ease. I feel fortunate enough to be a part of this training. I got no suggestions for improving the training programme because this is perfect!\",\n",
       " 'The way you & your team shown & presented the real-time project...That\\'s great bro!   The reason for \"maybe\" is that at present  I\\'m an intern (getting paid) & in starting unable to manage time. I\\'ve the LinkedIn connection & contact no. of Mr. Surya... So, when I\\'ll be comfortable with my office timing... I\\'ll ping him & stepping towards DS...',\n",
       " 'If this program appears with at least one home assignment then it would help in better understanding. ',\n",
       " 'Perfect way of explaining Nothing to change ',\n",
       " 'Nothing.It really good.Carry on.',\n",
       " 'The session is awesome and pretty much interesting... Somehow I missed some session due to poor connectivity, I am going through with the Recordings. Times spent with these things are very much appreciated... Thank You.(Regards are there instead of suggestions)',\n",
       " \"It's really good...so for me there is nothing to improve more...thank you for the session\",\n",
       " \"As this training programme is totally free , I can't deny it's better than I thought it would be. But I think having a score based practice exam and a dought clearing session will make it even better. I enjoyed the training programme and learned lots of technical aspects of data science which maes me really interested to be a data scientist in future. Not sure if I will be entering the full training programme right now as my parents are not ready to invest such amount of money at this situation, but surely I'm interested about doing the course in future.\",\n",
       " 'It was a very good journey with the training program,hope it will more better .. Thank you.',\n",
       " \"I don't think that, there is any need of improvisation of any thing. Rather, providing the session recording was very helpful to us. \",\n",
       " 'This is excellent,no need to improve',\n",
       " 'Nothing.  It is  good enough ',\n",
       " \"It's very helpful to me.. I have no suggestions at this time\",\n",
       " 'It is already a good process, no need for any changes. Excellent work. ',\n",
       " 'all good....if the fees of the course was less it would have been best',\n",
       " 'I liked it. Maybe better variations can be better. ',\n",
       " 'It was good enough',\n",
       " 'Just one thing to say, \"Love u guus\" ',\n",
       " 'No its quite good  personallu i dont think that any improvement is required',\n",
       " \"We learnt so much in this small amount of time... we can't ask more\",\n",
       " 'Everything is perfect',\n",
       " 'The course can be a little longer. Focus on data visualization was a little too short. Maybe a day or more on it would be helpful',\n",
       " 'I thnik this is all anyone can do, its good.',\n",
       " \"Improving the accent can attract more avid learners from different parts of the world. As the teacher is from West Bengal, the enthusiasts from West parts of India like my friends whom I'd sent the link , they were not interested in doing this due to language problem. Kindly fix this so that people from all region could participate. Hindi and English should be the primary language . Thank you.\",\n",
       " 'The Some queries regarding the full time course structure and all.. ',\n",
       " 'I had an amazing experience; no improvement needed',\n",
       " 'No this training program is really very interesting and  I want to join the paid course for learn about data science and R programming.  ',\n",
       " 'I am satisfied with the way it is now. ',\n",
       " 'I think it is completely ok. Very  Very interesting and informative sessions I ever have of this course. ',\n",
       " 'Increase the workshop day..so that it covers up more topics. .',\n",
       " 'The training programme was quite good. ']"
      ]
     },
     "execution_count": 85,
     "metadata": {},
     "output_type": "execute_result"
    }
   ],
   "source": [
    "review_list=[r1,r2,r3,r4,r5,r6,r7,r8,r9,r10,r11,r12,r14,r15,r16,r17,r18,r19,r20,r21,r22,r23,r24,r25,r26,r28,r29,r30,\n",
    "            r31,r32,r33,r34,r35,r36,r37,r38,r39,r40,r41,r42,r43,r44,r45,r46,r47,r48,r49,r50,r51,r52,r53,r54,r55,r56,r57,r58\n",
    "             ,r59,r60,r61]\n",
    "review_list"
   ]
  },
  {
   "cell_type": "code",
   "execution_count": 86,
   "metadata": {},
   "outputs": [],
   "source": [
    "count_vect=CountVectorizer()"
   ]
  },
  {
   "cell_type": "code",
   "execution_count": 87,
   "metadata": {},
   "outputs": [],
   "source": [
    "x_counts=count_vect.fit_transform(review_list)"
   ]
  },
  {
   "cell_type": "code",
   "execution_count": 88,
   "metadata": {},
   "outputs": [
    {
     "data": {
      "text/plain": [
       "scipy.sparse.csr.csr_matrix"
      ]
     },
     "execution_count": 88,
     "metadata": {},
     "output_type": "execute_result"
    }
   ],
   "source": [
    "type(x_counts)"
   ]
  },
  {
   "cell_type": "code",
   "execution_count": 89,
   "metadata": {},
   "outputs": [
    {
     "data": {
      "text/plain": [
       "['about',\n",
       " 'accent',\n",
       " 'according',\n",
       " 'al',\n",
       " 'all',\n",
       " 'already',\n",
       " 'also',\n",
       " 'am',\n",
       " 'amazing',\n",
       " 'amount',\n",
       " 'an',\n",
       " 'analysis',\n",
       " 'and',\n",
       " 'any',\n",
       " 'anyone',\n",
       " 'appears',\n",
       " 'appreciated',\n",
       " 'approaching',\n",
       " 'are',\n",
       " 'as',\n",
       " 'ask',\n",
       " 'aspects',\n",
       " 'assignment',\n",
       " 'at',\n",
       " 'attract',\n",
       " 'avid',\n",
       " 'awesome',\n",
       " 'backgrounds',\n",
       " 'based',\n",
       " 'basic',\n",
       " 'batch',\n",
       " 'be',\n",
       " 'because',\n",
       " 'been',\n",
       " 'behaved',\n",
       " 'beneficial',\n",
       " 'benefitted',\n",
       " 'bengal',\n",
       " 'best',\n",
       " 'better',\n",
       " 'beyond',\n",
       " 'bit',\n",
       " 'boot',\n",
       " 'bootcamp',\n",
       " 'bro',\n",
       " 'but',\n",
       " 'camp',\n",
       " 'can',\n",
       " 'carry',\n",
       " 'chance',\n",
       " 'change',\n",
       " 'changes',\n",
       " 'cleared',\n",
       " 'clearing',\n",
       " 'coding',\n",
       " 'comfortable',\n",
       " 'completely',\n",
       " 'concepts',\n",
       " 'connection',\n",
       " 'connectivity',\n",
       " 'contact',\n",
       " 'could',\n",
       " 'course',\n",
       " 'covers',\n",
       " 'data',\n",
       " 'day',\n",
       " 'deny',\n",
       " 'depth',\n",
       " 'detail',\n",
       " 'details',\n",
       " 'didn',\n",
       " 'different',\n",
       " 'do',\n",
       " 'doing',\n",
       " 'don',\n",
       " 'dont',\n",
       " 'doubts',\n",
       " 'dought',\n",
       " 'ds',\n",
       " 'due',\n",
       " 'during',\n",
       " 'ease',\n",
       " 'easily',\n",
       " 'easy',\n",
       " 'english',\n",
       " 'enjoyed',\n",
       " 'enlightening',\n",
       " 'enough',\n",
       " 'entering',\n",
       " 'enthusiasts',\n",
       " 'even',\n",
       " 'ever',\n",
       " 'everything',\n",
       " 'exam',\n",
       " 'excellent',\n",
       " 'experience',\n",
       " 'explaining',\n",
       " 'faculties',\n",
       " 'far',\n",
       " 'feel',\n",
       " 'fees',\n",
       " 'fine',\n",
       " 'fix',\n",
       " 'focus',\n",
       " 'for',\n",
       " 'fortunate',\n",
       " 'free',\n",
       " 'friendly',\n",
       " 'friends',\n",
       " 'from',\n",
       " 'full',\n",
       " 'fun',\n",
       " 'future',\n",
       " 'get',\n",
       " 'getting',\n",
       " 'give',\n",
       " 'gives',\n",
       " 'going',\n",
       " 'good',\n",
       " 'got',\n",
       " 'great',\n",
       " 'guus',\n",
       " 'guys',\n",
       " 'had',\n",
       " 'have',\n",
       " 'having',\n",
       " 'help',\n",
       " 'helpful',\n",
       " 'him',\n",
       " 'hindi',\n",
       " 'home',\n",
       " 'hope',\n",
       " 'how',\n",
       " 'if',\n",
       " 'improve',\n",
       " 'improvement',\n",
       " 'improving',\n",
       " 'improvisation',\n",
       " 'in',\n",
       " 'increase',\n",
       " 'india',\n",
       " 'informative',\n",
       " 'instead',\n",
       " 'interested',\n",
       " 'interesting',\n",
       " 'intern',\n",
       " 'into',\n",
       " 'invest',\n",
       " 'is',\n",
       " 'it',\n",
       " 'its',\n",
       " 'ive',\n",
       " 'join',\n",
       " 'journey',\n",
       " 'just',\n",
       " 'kindly',\n",
       " 'know',\n",
       " 'knowledge',\n",
       " 'known',\n",
       " 'language',\n",
       " 'learn',\n",
       " 'learned',\n",
       " 'learners',\n",
       " 'learnt',\n",
       " 'least',\n",
       " 'less',\n",
       " 'life',\n",
       " 'like',\n",
       " 'liked',\n",
       " 'link',\n",
       " 'linkedin',\n",
       " 'literally',\n",
       " 'little',\n",
       " 'live',\n",
       " 'll',\n",
       " 'longer',\n",
       " 'loopholes',\n",
       " 'lots',\n",
       " 'love',\n",
       " 'maes',\n",
       " 'make',\n",
       " 'manage',\n",
       " 'manner',\n",
       " 'many',\n",
       " 'maybe',\n",
       " 'me',\n",
       " 'members',\n",
       " 'missed',\n",
       " 'money',\n",
       " 'more',\n",
       " 'mr',\n",
       " 'much',\n",
       " 'my',\n",
       " 'necessary',\n",
       " 'need',\n",
       " 'needed',\n",
       " 'new',\n",
       " 'nice',\n",
       " 'no',\n",
       " 'not',\n",
       " 'nothing',\n",
       " 'now',\n",
       " 'of',\n",
       " 'office',\n",
       " 'ok',\n",
       " 'on',\n",
       " 'one',\n",
       " 'or',\n",
       " 'other',\n",
       " 'paid',\n",
       " 'parents',\n",
       " 'part',\n",
       " 'participate',\n",
       " 'parts',\n",
       " 'people',\n",
       " 'per',\n",
       " 'perfect',\n",
       " 'personallu',\n",
       " 'ping',\n",
       " 'places',\n",
       " 'platform',\n",
       " 'pleasure',\n",
       " 'poor',\n",
       " 'portion',\n",
       " 'practice',\n",
       " 'present',\n",
       " 'presented',\n",
       " 'pretty',\n",
       " 'primary',\n",
       " 'prior',\n",
       " 'problem',\n",
       " 'process',\n",
       " 'program',\n",
       " 'programme',\n",
       " 'programming',\n",
       " 'project',\n",
       " 'projects',\n",
       " 'provides',\n",
       " 'providing',\n",
       " 'put',\n",
       " 'quality',\n",
       " 'queries',\n",
       " 'quite',\n",
       " 'rather',\n",
       " 'ready',\n",
       " 'real',\n",
       " 'really',\n",
       " 'reason',\n",
       " 'recording',\n",
       " 'recordings',\n",
       " 'regarding',\n",
       " 'regards',\n",
       " 'region',\n",
       " 'required',\n",
       " 'right',\n",
       " 'same',\n",
       " 'satisfied',\n",
       " 'say',\n",
       " 'science',\n",
       " 'scientist',\n",
       " 'score',\n",
       " 'second',\n",
       " 'seen',\n",
       " 'sent',\n",
       " 'session',\n",
       " 'sessions',\n",
       " 'short',\n",
       " 'should',\n",
       " 'shown',\n",
       " 'shows',\n",
       " 'similar',\n",
       " 'sir',\n",
       " 'situation',\n",
       " 'small',\n",
       " 'so',\n",
       " 'softanbees',\n",
       " 'some',\n",
       " 'somehow',\n",
       " 'spent',\n",
       " 'starting',\n",
       " 'stat',\n",
       " 'stats',\n",
       " 'stepping',\n",
       " 'structure',\n",
       " 'such',\n",
       " 'suggestion',\n",
       " 'suggestions',\n",
       " 'sure',\n",
       " 'surely',\n",
       " 'surya',\n",
       " 'taught',\n",
       " 'teacher',\n",
       " 'teaching',\n",
       " 'team',\n",
       " 'technical',\n",
       " 'tedious',\n",
       " 'than',\n",
       " 'thank',\n",
       " 'that',\n",
       " 'the',\n",
       " 'their',\n",
       " 'then',\n",
       " 'there',\n",
       " 'these',\n",
       " 'they',\n",
       " 'thing',\n",
       " 'things',\n",
       " 'think',\n",
       " 'this',\n",
       " 'thnik',\n",
       " 'though',\n",
       " 'thought',\n",
       " 'through',\n",
       " 'time',\n",
       " 'times',\n",
       " 'timing',\n",
       " 'to',\n",
       " 'today',\n",
       " 'too',\n",
       " 'topics',\n",
       " 'totally',\n",
       " 'towards',\n",
       " 'training',\n",
       " 'unable',\n",
       " 'understand',\n",
       " 'understanding',\n",
       " 'up',\n",
       " 'us',\n",
       " 'using',\n",
       " 'variations',\n",
       " 've',\n",
       " 'very',\n",
       " 'visualization',\n",
       " 'want',\n",
       " 'was',\n",
       " 'way',\n",
       " 'we',\n",
       " 'well',\n",
       " 'were',\n",
       " 'west',\n",
       " 'whatever',\n",
       " 'when',\n",
       " 'which',\n",
       " 'whom',\n",
       " 'will',\n",
       " 'with',\n",
       " 'wonderful',\n",
       " 'work',\n",
       " 'workshop',\n",
       " 'world',\n",
       " 'would',\n",
       " 'you',\n",
       " 'your']"
      ]
     },
     "execution_count": 89,
     "metadata": {},
     "output_type": "execute_result"
    }
   ],
   "source": [
    "x_names=count_vect.get_feature_names()\n",
    "x_names"
   ]
  },
  {
   "cell_type": "code",
   "execution_count": 90,
   "metadata": {},
   "outputs": [],
   "source": [
    "a=pd.DataFrame(x_counts.toarray(),columns=x_names)"
   ]
  },
  {
   "cell_type": "code",
   "execution_count": 91,
   "metadata": {},
   "outputs": [
    {
     "data": {
      "text/html": [
       "<div>\n",
       "<style scoped>\n",
       "    .dataframe tbody tr th:only-of-type {\n",
       "        vertical-align: middle;\n",
       "    }\n",
       "\n",
       "    .dataframe tbody tr th {\n",
       "        vertical-align: top;\n",
       "    }\n",
       "\n",
       "    .dataframe thead th {\n",
       "        text-align: right;\n",
       "    }\n",
       "</style>\n",
       "<table border=\"1\" class=\"dataframe\">\n",
       "  <thead>\n",
       "    <tr style=\"text-align: right;\">\n",
       "      <th></th>\n",
       "      <th>about</th>\n",
       "      <th>accent</th>\n",
       "      <th>according</th>\n",
       "      <th>al</th>\n",
       "      <th>all</th>\n",
       "      <th>already</th>\n",
       "      <th>also</th>\n",
       "      <th>am</th>\n",
       "      <th>amazing</th>\n",
       "      <th>amount</th>\n",
       "      <th>...</th>\n",
       "      <th>whom</th>\n",
       "      <th>will</th>\n",
       "      <th>with</th>\n",
       "      <th>wonderful</th>\n",
       "      <th>work</th>\n",
       "      <th>workshop</th>\n",
       "      <th>world</th>\n",
       "      <th>would</th>\n",
       "      <th>you</th>\n",
       "      <th>your</th>\n",
       "    </tr>\n",
       "  </thead>\n",
       "  <tbody>\n",
       "    <tr>\n",
       "      <th>0</th>\n",
       "      <td>0</td>\n",
       "      <td>0</td>\n",
       "      <td>0</td>\n",
       "      <td>0</td>\n",
       "      <td>0</td>\n",
       "      <td>0</td>\n",
       "      <td>0</td>\n",
       "      <td>0</td>\n",
       "      <td>0</td>\n",
       "      <td>0</td>\n",
       "      <td>...</td>\n",
       "      <td>0</td>\n",
       "      <td>0</td>\n",
       "      <td>0</td>\n",
       "      <td>0</td>\n",
       "      <td>0</td>\n",
       "      <td>0</td>\n",
       "      <td>0</td>\n",
       "      <td>0</td>\n",
       "      <td>0</td>\n",
       "      <td>0</td>\n",
       "    </tr>\n",
       "    <tr>\n",
       "      <th>1</th>\n",
       "      <td>0</td>\n",
       "      <td>0</td>\n",
       "      <td>0</td>\n",
       "      <td>0</td>\n",
       "      <td>0</td>\n",
       "      <td>0</td>\n",
       "      <td>0</td>\n",
       "      <td>0</td>\n",
       "      <td>0</td>\n",
       "      <td>0</td>\n",
       "      <td>...</td>\n",
       "      <td>0</td>\n",
       "      <td>0</td>\n",
       "      <td>0</td>\n",
       "      <td>0</td>\n",
       "      <td>0</td>\n",
       "      <td>0</td>\n",
       "      <td>0</td>\n",
       "      <td>0</td>\n",
       "      <td>1</td>\n",
       "      <td>0</td>\n",
       "    </tr>\n",
       "  </tbody>\n",
       "</table>\n",
       "<p>2 rows × 353 columns</p>\n",
       "</div>"
      ],
      "text/plain": [
       "   about  accent  according  al  all  already  also  am  amazing  amount  ...  \\\n",
       "0      0       0          0   0    0        0     0   0        0       0  ...   \n",
       "1      0       0          0   0    0        0     0   0        0       0  ...   \n",
       "\n",
       "   whom  will  with  wonderful  work  workshop  world  would  you  your  \n",
       "0     0     0     0          0     0         0      0      0    0     0  \n",
       "1     0     0     0          0     0         0      0      0    1     0  \n",
       "\n",
       "[2 rows x 353 columns]"
      ]
     },
     "execution_count": 91,
     "metadata": {},
     "output_type": "execute_result"
    }
   ],
   "source": [
    "a.head(2)"
   ]
  },
  {
   "cell_type": "code",
   "execution_count": 92,
   "metadata": {},
   "outputs": [],
   "source": [
    "from sklearn.feature_extraction.text import TfidfVectorizer"
   ]
  },
  {
   "cell_type": "code",
   "execution_count": 93,
   "metadata": {},
   "outputs": [],
   "source": [
    "tf_vect=TfidfVectorizer(min_df=1,lowercase=True,stop_words='english')"
   ]
  },
  {
   "cell_type": "code",
   "execution_count": 94,
   "metadata": {},
   "outputs": [],
   "source": [
    "tf_matrix=tf_vect.fit_transform(review_list)"
   ]
  },
  {
   "cell_type": "code",
   "execution_count": 95,
   "metadata": {},
   "outputs": [
    {
     "data": {
      "text/plain": [
       "scipy.sparse.csr.csr_matrix"
      ]
     },
     "execution_count": 95,
     "metadata": {},
     "output_type": "execute_result"
    }
   ],
   "source": [
    "type(tf_matrix)"
   ]
  },
  {
   "cell_type": "code",
   "execution_count": 96,
   "metadata": {},
   "outputs": [
    {
     "data": {
      "text/plain": [
       "(59, 254)"
      ]
     },
     "execution_count": 96,
     "metadata": {},
     "output_type": "execute_result"
    }
   ],
   "source": [
    "tf_matrix.shape"
   ]
  },
  {
   "cell_type": "code",
   "execution_count": 97,
   "metadata": {},
   "outputs": [],
   "source": [
    "tf_names=tf_vect.get_feature_names()"
   ]
  },
  {
   "cell_type": "code",
   "execution_count": 98,
   "metadata": {},
   "outputs": [
    {
     "data": {
      "text/plain": [
       "['accent',\n",
       " 'according',\n",
       " 'al',\n",
       " 'amazing',\n",
       " 'analysis',\n",
       " 'appears',\n",
       " 'appreciated',\n",
       " 'approaching',\n",
       " 'ask',\n",
       " 'aspects',\n",
       " 'assignment',\n",
       " 'attract',\n",
       " 'avid',\n",
       " 'awesome',\n",
       " 'backgrounds',\n",
       " 'based',\n",
       " 'basic',\n",
       " 'batch',\n",
       " 'behaved',\n",
       " 'beneficial',\n",
       " 'benefitted',\n",
       " 'bengal',\n",
       " 'best',\n",
       " 'better',\n",
       " 'bit',\n",
       " 'boot',\n",
       " 'bootcamp',\n",
       " 'bro',\n",
       " 'camp',\n",
       " 'carry',\n",
       " 'chance',\n",
       " 'change',\n",
       " 'changes',\n",
       " 'cleared',\n",
       " 'clearing',\n",
       " 'coding',\n",
       " 'comfortable',\n",
       " 'completely',\n",
       " 'concepts',\n",
       " 'connection',\n",
       " 'connectivity',\n",
       " 'contact',\n",
       " 'course',\n",
       " 'covers',\n",
       " 'data',\n",
       " 'day',\n",
       " 'deny',\n",
       " 'depth',\n",
       " 'details',\n",
       " 'didn',\n",
       " 'different',\n",
       " 'doing',\n",
       " 'don',\n",
       " 'dont',\n",
       " 'doubts',\n",
       " 'dought',\n",
       " 'ds',\n",
       " 'ease',\n",
       " 'easily',\n",
       " 'easy',\n",
       " 'english',\n",
       " 'enjoyed',\n",
       " 'enlightening',\n",
       " 'entering',\n",
       " 'enthusiasts',\n",
       " 'exam',\n",
       " 'excellent',\n",
       " 'experience',\n",
       " 'explaining',\n",
       " 'faculties',\n",
       " 'far',\n",
       " 'feel',\n",
       " 'fees',\n",
       " 'fine',\n",
       " 'fix',\n",
       " 'focus',\n",
       " 'fortunate',\n",
       " 'free',\n",
       " 'friendly',\n",
       " 'friends',\n",
       " 'fun',\n",
       " 'future',\n",
       " 'getting',\n",
       " 'gives',\n",
       " 'going',\n",
       " 'good',\n",
       " 'got',\n",
       " 'great',\n",
       " 'guus',\n",
       " 'guys',\n",
       " 'having',\n",
       " 'help',\n",
       " 'helpful',\n",
       " 'hindi',\n",
       " 'home',\n",
       " 'hope',\n",
       " 'improve',\n",
       " 'improvement',\n",
       " 'improving',\n",
       " 'improvisation',\n",
       " 'increase',\n",
       " 'india',\n",
       " 'informative',\n",
       " 'instead',\n",
       " 'interested',\n",
       " 'interesting',\n",
       " 'intern',\n",
       " 'invest',\n",
       " 'ive',\n",
       " 'join',\n",
       " 'journey',\n",
       " 'just',\n",
       " 'kindly',\n",
       " 'know',\n",
       " 'knowledge',\n",
       " 'known',\n",
       " 'language',\n",
       " 'learn',\n",
       " 'learned',\n",
       " 'learners',\n",
       " 'learnt',\n",
       " 'life',\n",
       " 'like',\n",
       " 'liked',\n",
       " 'link',\n",
       " 'linkedin',\n",
       " 'literally',\n",
       " 'little',\n",
       " 'live',\n",
       " 'll',\n",
       " 'longer',\n",
       " 'loopholes',\n",
       " 'lots',\n",
       " 'love',\n",
       " 'maes',\n",
       " 'make',\n",
       " 'manage',\n",
       " 'manner',\n",
       " 'maybe',\n",
       " 'members',\n",
       " 'missed',\n",
       " 'money',\n",
       " 'mr',\n",
       " 'necessary',\n",
       " 'need',\n",
       " 'needed',\n",
       " 'new',\n",
       " 'nice',\n",
       " 'office',\n",
       " 'ok',\n",
       " 'paid',\n",
       " 'parents',\n",
       " 'participate',\n",
       " 'parts',\n",
       " 'people',\n",
       " 'perfect',\n",
       " 'personallu',\n",
       " 'ping',\n",
       " 'places',\n",
       " 'platform',\n",
       " 'pleasure',\n",
       " 'poor',\n",
       " 'portion',\n",
       " 'practice',\n",
       " 'present',\n",
       " 'presented',\n",
       " 'pretty',\n",
       " 'primary',\n",
       " 'prior',\n",
       " 'problem',\n",
       " 'process',\n",
       " 'program',\n",
       " 'programme',\n",
       " 'programming',\n",
       " 'project',\n",
       " 'projects',\n",
       " 'provides',\n",
       " 'providing',\n",
       " 'quality',\n",
       " 'queries',\n",
       " 'quite',\n",
       " 'ready',\n",
       " 'real',\n",
       " 'really',\n",
       " 'reason',\n",
       " 'recording',\n",
       " 'recordings',\n",
       " 'regarding',\n",
       " 'regards',\n",
       " 'region',\n",
       " 'required',\n",
       " 'right',\n",
       " 'satisfied',\n",
       " 'say',\n",
       " 'science',\n",
       " 'scientist',\n",
       " 'score',\n",
       " 'second',\n",
       " 'seen',\n",
       " 'sent',\n",
       " 'session',\n",
       " 'sessions',\n",
       " 'short',\n",
       " 'shown',\n",
       " 'shows',\n",
       " 'similar',\n",
       " 'sir',\n",
       " 'situation',\n",
       " 'small',\n",
       " 'softanbees',\n",
       " 'spent',\n",
       " 'starting',\n",
       " 'stat',\n",
       " 'stats',\n",
       " 'stepping',\n",
       " 'structure',\n",
       " 'suggestion',\n",
       " 'suggestions',\n",
       " 'sure',\n",
       " 'surely',\n",
       " 'surya',\n",
       " 'taught',\n",
       " 'teacher',\n",
       " 'teaching',\n",
       " 'team',\n",
       " 'technical',\n",
       " 'tedious',\n",
       " 'thank',\n",
       " 'thing',\n",
       " 'things',\n",
       " 'think',\n",
       " 'thnik',\n",
       " 'thought',\n",
       " 'time',\n",
       " 'times',\n",
       " 'timing',\n",
       " 'today',\n",
       " 'topics',\n",
       " 'totally',\n",
       " 'training',\n",
       " 'unable',\n",
       " 'understand',\n",
       " 'understanding',\n",
       " 'using',\n",
       " 'variations',\n",
       " 've',\n",
       " 'visualization',\n",
       " 'want',\n",
       " 'way',\n",
       " 'west',\n",
       " 'wonderful',\n",
       " 'work',\n",
       " 'workshop',\n",
       " 'world']"
      ]
     },
     "execution_count": 98,
     "metadata": {},
     "output_type": "execute_result"
    }
   ],
   "source": [
    "tf_names"
   ]
  },
  {
   "cell_type": "code",
   "execution_count": 99,
   "metadata": {},
   "outputs": [],
   "source": [
    "suggestion_df=pd.DataFrame(tf_matrix.toarray(),columns=tf_names)"
   ]
  },
  {
   "cell_type": "code",
   "execution_count": 100,
   "metadata": {},
   "outputs": [
    {
     "data": {
      "text/html": [
       "<div>\n",
       "<style scoped>\n",
       "    .dataframe tbody tr th:only-of-type {\n",
       "        vertical-align: middle;\n",
       "    }\n",
       "\n",
       "    .dataframe tbody tr th {\n",
       "        vertical-align: top;\n",
       "    }\n",
       "\n",
       "    .dataframe thead th {\n",
       "        text-align: right;\n",
       "    }\n",
       "</style>\n",
       "<table border=\"1\" class=\"dataframe\">\n",
       "  <thead>\n",
       "    <tr style=\"text-align: right;\">\n",
       "      <th></th>\n",
       "      <th>accent</th>\n",
       "      <th>according</th>\n",
       "      <th>al</th>\n",
       "      <th>amazing</th>\n",
       "      <th>analysis</th>\n",
       "      <th>appears</th>\n",
       "      <th>appreciated</th>\n",
       "      <th>approaching</th>\n",
       "      <th>ask</th>\n",
       "      <th>aspects</th>\n",
       "      <th>...</th>\n",
       "      <th>variations</th>\n",
       "      <th>ve</th>\n",
       "      <th>visualization</th>\n",
       "      <th>want</th>\n",
       "      <th>way</th>\n",
       "      <th>west</th>\n",
       "      <th>wonderful</th>\n",
       "      <th>work</th>\n",
       "      <th>workshop</th>\n",
       "      <th>world</th>\n",
       "    </tr>\n",
       "  </thead>\n",
       "  <tbody>\n",
       "    <tr>\n",
       "      <th>0</th>\n",
       "      <td>0.0</td>\n",
       "      <td>0.000000</td>\n",
       "      <td>0.0</td>\n",
       "      <td>0.000000</td>\n",
       "      <td>0.0</td>\n",
       "      <td>0.0</td>\n",
       "      <td>0.0</td>\n",
       "      <td>0.0</td>\n",
       "      <td>0.0</td>\n",
       "      <td>0.0</td>\n",
       "      <td>...</td>\n",
       "      <td>0.0</td>\n",
       "      <td>0.0</td>\n",
       "      <td>0.0</td>\n",
       "      <td>0.0</td>\n",
       "      <td>0.00000</td>\n",
       "      <td>0.0</td>\n",
       "      <td>0.0</td>\n",
       "      <td>0.000000</td>\n",
       "      <td>0.0</td>\n",
       "      <td>0.0</td>\n",
       "    </tr>\n",
       "    <tr>\n",
       "      <th>1</th>\n",
       "      <td>0.0</td>\n",
       "      <td>0.000000</td>\n",
       "      <td>0.0</td>\n",
       "      <td>0.000000</td>\n",
       "      <td>0.0</td>\n",
       "      <td>0.0</td>\n",
       "      <td>0.0</td>\n",
       "      <td>0.0</td>\n",
       "      <td>0.0</td>\n",
       "      <td>0.0</td>\n",
       "      <td>...</td>\n",
       "      <td>0.0</td>\n",
       "      <td>0.0</td>\n",
       "      <td>0.0</td>\n",
       "      <td>0.0</td>\n",
       "      <td>0.00000</td>\n",
       "      <td>0.0</td>\n",
       "      <td>0.0</td>\n",
       "      <td>0.000000</td>\n",
       "      <td>0.0</td>\n",
       "      <td>0.0</td>\n",
       "    </tr>\n",
       "    <tr>\n",
       "      <th>2</th>\n",
       "      <td>0.0</td>\n",
       "      <td>0.000000</td>\n",
       "      <td>0.0</td>\n",
       "      <td>0.000000</td>\n",
       "      <td>0.0</td>\n",
       "      <td>0.0</td>\n",
       "      <td>0.0</td>\n",
       "      <td>0.0</td>\n",
       "      <td>0.0</td>\n",
       "      <td>0.0</td>\n",
       "      <td>...</td>\n",
       "      <td>0.0</td>\n",
       "      <td>0.0</td>\n",
       "      <td>0.0</td>\n",
       "      <td>0.0</td>\n",
       "      <td>0.00000</td>\n",
       "      <td>0.0</td>\n",
       "      <td>0.0</td>\n",
       "      <td>0.000000</td>\n",
       "      <td>0.0</td>\n",
       "      <td>0.0</td>\n",
       "    </tr>\n",
       "    <tr>\n",
       "      <th>3</th>\n",
       "      <td>0.0</td>\n",
       "      <td>0.000000</td>\n",
       "      <td>0.0</td>\n",
       "      <td>0.000000</td>\n",
       "      <td>0.0</td>\n",
       "      <td>0.0</td>\n",
       "      <td>0.0</td>\n",
       "      <td>0.0</td>\n",
       "      <td>0.0</td>\n",
       "      <td>0.0</td>\n",
       "      <td>...</td>\n",
       "      <td>0.0</td>\n",
       "      <td>0.0</td>\n",
       "      <td>0.0</td>\n",
       "      <td>0.0</td>\n",
       "      <td>0.00000</td>\n",
       "      <td>0.0</td>\n",
       "      <td>0.0</td>\n",
       "      <td>0.000000</td>\n",
       "      <td>0.0</td>\n",
       "      <td>0.0</td>\n",
       "    </tr>\n",
       "    <tr>\n",
       "      <th>4</th>\n",
       "      <td>0.0</td>\n",
       "      <td>0.000000</td>\n",
       "      <td>0.0</td>\n",
       "      <td>0.000000</td>\n",
       "      <td>0.0</td>\n",
       "      <td>0.0</td>\n",
       "      <td>0.0</td>\n",
       "      <td>0.0</td>\n",
       "      <td>0.0</td>\n",
       "      <td>0.0</td>\n",
       "      <td>...</td>\n",
       "      <td>0.0</td>\n",
       "      <td>0.0</td>\n",
       "      <td>0.0</td>\n",
       "      <td>0.0</td>\n",
       "      <td>0.32953</td>\n",
       "      <td>0.0</td>\n",
       "      <td>0.0</td>\n",
       "      <td>0.000000</td>\n",
       "      <td>0.0</td>\n",
       "      <td>0.0</td>\n",
       "    </tr>\n",
       "    <tr>\n",
       "      <th>5</th>\n",
       "      <td>0.0</td>\n",
       "      <td>0.000000</td>\n",
       "      <td>0.0</td>\n",
       "      <td>0.000000</td>\n",
       "      <td>0.0</td>\n",
       "      <td>0.0</td>\n",
       "      <td>0.0</td>\n",
       "      <td>0.0</td>\n",
       "      <td>0.0</td>\n",
       "      <td>0.0</td>\n",
       "      <td>...</td>\n",
       "      <td>0.0</td>\n",
       "      <td>0.0</td>\n",
       "      <td>0.0</td>\n",
       "      <td>0.0</td>\n",
       "      <td>0.00000</td>\n",
       "      <td>0.0</td>\n",
       "      <td>0.0</td>\n",
       "      <td>0.428282</td>\n",
       "      <td>0.0</td>\n",
       "      <td>0.0</td>\n",
       "    </tr>\n",
       "    <tr>\n",
       "      <th>6</th>\n",
       "      <td>0.0</td>\n",
       "      <td>0.000000</td>\n",
       "      <td>0.0</td>\n",
       "      <td>0.000000</td>\n",
       "      <td>0.0</td>\n",
       "      <td>0.0</td>\n",
       "      <td>0.0</td>\n",
       "      <td>0.0</td>\n",
       "      <td>0.0</td>\n",
       "      <td>0.0</td>\n",
       "      <td>...</td>\n",
       "      <td>0.0</td>\n",
       "      <td>0.0</td>\n",
       "      <td>0.0</td>\n",
       "      <td>0.0</td>\n",
       "      <td>0.00000</td>\n",
       "      <td>0.0</td>\n",
       "      <td>0.0</td>\n",
       "      <td>0.000000</td>\n",
       "      <td>0.0</td>\n",
       "      <td>0.0</td>\n",
       "    </tr>\n",
       "    <tr>\n",
       "      <th>7</th>\n",
       "      <td>0.0</td>\n",
       "      <td>0.000000</td>\n",
       "      <td>0.0</td>\n",
       "      <td>0.000000</td>\n",
       "      <td>0.0</td>\n",
       "      <td>0.0</td>\n",
       "      <td>0.0</td>\n",
       "      <td>0.0</td>\n",
       "      <td>0.0</td>\n",
       "      <td>0.0</td>\n",
       "      <td>...</td>\n",
       "      <td>0.0</td>\n",
       "      <td>0.0</td>\n",
       "      <td>0.0</td>\n",
       "      <td>0.0</td>\n",
       "      <td>0.00000</td>\n",
       "      <td>0.0</td>\n",
       "      <td>0.0</td>\n",
       "      <td>0.000000</td>\n",
       "      <td>0.0</td>\n",
       "      <td>0.0</td>\n",
       "    </tr>\n",
       "    <tr>\n",
       "      <th>8</th>\n",
       "      <td>0.0</td>\n",
       "      <td>0.000000</td>\n",
       "      <td>0.0</td>\n",
       "      <td>0.000000</td>\n",
       "      <td>0.0</td>\n",
       "      <td>0.0</td>\n",
       "      <td>0.0</td>\n",
       "      <td>0.0</td>\n",
       "      <td>0.0</td>\n",
       "      <td>0.0</td>\n",
       "      <td>...</td>\n",
       "      <td>0.0</td>\n",
       "      <td>0.0</td>\n",
       "      <td>0.0</td>\n",
       "      <td>0.0</td>\n",
       "      <td>0.00000</td>\n",
       "      <td>0.0</td>\n",
       "      <td>0.0</td>\n",
       "      <td>0.000000</td>\n",
       "      <td>0.0</td>\n",
       "      <td>0.0</td>\n",
       "    </tr>\n",
       "    <tr>\n",
       "      <th>9</th>\n",
       "      <td>0.0</td>\n",
       "      <td>0.348149</td>\n",
       "      <td>0.0</td>\n",
       "      <td>0.316076</td>\n",
       "      <td>0.0</td>\n",
       "      <td>0.0</td>\n",
       "      <td>0.0</td>\n",
       "      <td>0.0</td>\n",
       "      <td>0.0</td>\n",
       "      <td>0.0</td>\n",
       "      <td>...</td>\n",
       "      <td>0.0</td>\n",
       "      <td>0.0</td>\n",
       "      <td>0.0</td>\n",
       "      <td>0.0</td>\n",
       "      <td>0.00000</td>\n",
       "      <td>0.0</td>\n",
       "      <td>0.0</td>\n",
       "      <td>0.000000</td>\n",
       "      <td>0.0</td>\n",
       "      <td>0.0</td>\n",
       "    </tr>\n",
       "  </tbody>\n",
       "</table>\n",
       "<p>10 rows × 254 columns</p>\n",
       "</div>"
      ],
      "text/plain": [
       "   accent  according   al   amazing  analysis  appears  appreciated  \\\n",
       "0     0.0   0.000000  0.0  0.000000       0.0      0.0          0.0   \n",
       "1     0.0   0.000000  0.0  0.000000       0.0      0.0          0.0   \n",
       "2     0.0   0.000000  0.0  0.000000       0.0      0.0          0.0   \n",
       "3     0.0   0.000000  0.0  0.000000       0.0      0.0          0.0   \n",
       "4     0.0   0.000000  0.0  0.000000       0.0      0.0          0.0   \n",
       "5     0.0   0.000000  0.0  0.000000       0.0      0.0          0.0   \n",
       "6     0.0   0.000000  0.0  0.000000       0.0      0.0          0.0   \n",
       "7     0.0   0.000000  0.0  0.000000       0.0      0.0          0.0   \n",
       "8     0.0   0.000000  0.0  0.000000       0.0      0.0          0.0   \n",
       "9     0.0   0.348149  0.0  0.316076       0.0      0.0          0.0   \n",
       "\n",
       "   approaching  ask  aspects  ...  variations   ve  visualization  want  \\\n",
       "0          0.0  0.0      0.0  ...         0.0  0.0            0.0   0.0   \n",
       "1          0.0  0.0      0.0  ...         0.0  0.0            0.0   0.0   \n",
       "2          0.0  0.0      0.0  ...         0.0  0.0            0.0   0.0   \n",
       "3          0.0  0.0      0.0  ...         0.0  0.0            0.0   0.0   \n",
       "4          0.0  0.0      0.0  ...         0.0  0.0            0.0   0.0   \n",
       "5          0.0  0.0      0.0  ...         0.0  0.0            0.0   0.0   \n",
       "6          0.0  0.0      0.0  ...         0.0  0.0            0.0   0.0   \n",
       "7          0.0  0.0      0.0  ...         0.0  0.0            0.0   0.0   \n",
       "8          0.0  0.0      0.0  ...         0.0  0.0            0.0   0.0   \n",
       "9          0.0  0.0      0.0  ...         0.0  0.0            0.0   0.0   \n",
       "\n",
       "       way  west  wonderful      work  workshop  world  \n",
       "0  0.00000   0.0        0.0  0.000000       0.0    0.0  \n",
       "1  0.00000   0.0        0.0  0.000000       0.0    0.0  \n",
       "2  0.00000   0.0        0.0  0.000000       0.0    0.0  \n",
       "3  0.00000   0.0        0.0  0.000000       0.0    0.0  \n",
       "4  0.32953   0.0        0.0  0.000000       0.0    0.0  \n",
       "5  0.00000   0.0        0.0  0.428282       0.0    0.0  \n",
       "6  0.00000   0.0        0.0  0.000000       0.0    0.0  \n",
       "7  0.00000   0.0        0.0  0.000000       0.0    0.0  \n",
       "8  0.00000   0.0        0.0  0.000000       0.0    0.0  \n",
       "9  0.00000   0.0        0.0  0.000000       0.0    0.0  \n",
       "\n",
       "[10 rows x 254 columns]"
      ]
     },
     "execution_count": 100,
     "metadata": {},
     "output_type": "execute_result"
    }
   ],
   "source": [
    "suggestion_df.head(10)"
   ]
  },
  {
   "cell_type": "code",
   "execution_count": 101,
   "metadata": {},
   "outputs": [],
   "source": [
    "# Sentiment Anaysis of suggestion row"
   ]
  },
  {
   "cell_type": "code",
   "execution_count": 102,
   "metadata": {},
   "outputs": [],
   "source": [
    "from textblob import TextBlob\n",
    "import re"
   ]
  },
  {
   "cell_type": "code",
   "execution_count": 103,
   "metadata": {},
   "outputs": [],
   "source": [
    "su1=batch_info[ 'Suggestion_for_improving_program']"
   ]
  },
  {
   "cell_type": "code",
   "execution_count": 104,
   "metadata": {},
   "outputs": [],
   "source": [
    "df=pd.DataFrame(su1)"
   ]
  },
  {
   "cell_type": "code",
   "execution_count": 105,
   "metadata": {},
   "outputs": [
    {
     "data": {
      "text/html": [
       "<div>\n",
       "<style scoped>\n",
       "    .dataframe tbody tr th:only-of-type {\n",
       "        vertical-align: middle;\n",
       "    }\n",
       "\n",
       "    .dataframe tbody tr th {\n",
       "        vertical-align: top;\n",
       "    }\n",
       "\n",
       "    .dataframe thead th {\n",
       "        text-align: right;\n",
       "    }\n",
       "</style>\n",
       "<table border=\"1\" class=\"dataframe\">\n",
       "  <thead>\n",
       "    <tr style=\"text-align: right;\">\n",
       "      <th></th>\n",
       "      <th>Suggestion_for_improving_program</th>\n",
       "    </tr>\n",
       "  </thead>\n",
       "  <tbody>\n",
       "    <tr>\n",
       "      <th>0</th>\n",
       "      <td>No</td>\n",
       "    </tr>\n",
       "    <tr>\n",
       "      <th>1</th>\n",
       "      <td>NO</td>\n",
       "    </tr>\n",
       "    <tr>\n",
       "      <th>2</th>\n",
       "      <td>No</td>\n",
       "    </tr>\n",
       "    <tr>\n",
       "      <th>3</th>\n",
       "      <td>All is well</td>\n",
       "    </tr>\n",
       "    <tr>\n",
       "      <th>4</th>\n",
       "      <td>I want to know if you r going to tell us how t...</td>\n",
       "    </tr>\n",
       "    <tr>\n",
       "      <th>...</th>\n",
       "      <td>...</td>\n",
       "    </tr>\n",
       "    <tr>\n",
       "      <th>160</th>\n",
       "      <td>No</td>\n",
       "    </tr>\n",
       "    <tr>\n",
       "      <th>161</th>\n",
       "      <td>No</td>\n",
       "    </tr>\n",
       "    <tr>\n",
       "      <th>162</th>\n",
       "      <td>The training programme was quite good.</td>\n",
       "    </tr>\n",
       "    <tr>\n",
       "      <th>163</th>\n",
       "      <td>No</td>\n",
       "    </tr>\n",
       "    <tr>\n",
       "      <th>164</th>\n",
       "      <td>Training program is good</td>\n",
       "    </tr>\n",
       "  </tbody>\n",
       "</table>\n",
       "<p>165 rows × 1 columns</p>\n",
       "</div>"
      ],
      "text/plain": [
       "                      Suggestion_for_improving_program\n",
       "0                                                   No\n",
       "1                                                   NO\n",
       "2                                                   No\n",
       "3                                          All is well\n",
       "4    I want to know if you r going to tell us how t...\n",
       "..                                                 ...\n",
       "160                                                 No\n",
       "161                                                No \n",
       "162            The training programme was quite good. \n",
       "163                                                 No\n",
       "164                           Training program is good\n",
       "\n",
       "[165 rows x 1 columns]"
      ]
     },
     "execution_count": 105,
     "metadata": {},
     "output_type": "execute_result"
    }
   ],
   "source": [
    "df"
   ]
  },
  {
   "cell_type": "code",
   "execution_count": 106,
   "metadata": {},
   "outputs": [],
   "source": [
    "#create function to get polarity,subjectivity of text\n",
    "def getSubjectivity(text):\n",
    "    return TextBlob(text).sentiment.subjectivity\n",
    "def getPolarity(text):\n",
    "    return TextBlob(text).sentiment.polarity\n",
    "df['subjectivity']=df[ 'Suggestion_for_improving_program'].apply(getSubjectivity)\n",
    "df['polarity']=df[ 'Suggestion_for_improving_program'].apply(getPolarity)\n"
   ]
  },
  {
   "cell_type": "code",
   "execution_count": 107,
   "metadata": {},
   "outputs": [
    {
     "data": {
      "text/html": [
       "<div>\n",
       "<style scoped>\n",
       "    .dataframe tbody tr th:only-of-type {\n",
       "        vertical-align: middle;\n",
       "    }\n",
       "\n",
       "    .dataframe tbody tr th {\n",
       "        vertical-align: top;\n",
       "    }\n",
       "\n",
       "    .dataframe thead th {\n",
       "        text-align: right;\n",
       "    }\n",
       "</style>\n",
       "<table border=\"1\" class=\"dataframe\">\n",
       "  <thead>\n",
       "    <tr style=\"text-align: right;\">\n",
       "      <th></th>\n",
       "      <th>Suggestion_for_improving_program</th>\n",
       "      <th>subjectivity</th>\n",
       "      <th>polarity</th>\n",
       "    </tr>\n",
       "  </thead>\n",
       "  <tbody>\n",
       "    <tr>\n",
       "      <th>0</th>\n",
       "      <td>No</td>\n",
       "      <td>0.0</td>\n",
       "      <td>0.0</td>\n",
       "    </tr>\n",
       "    <tr>\n",
       "      <th>1</th>\n",
       "      <td>NO</td>\n",
       "      <td>0.0</td>\n",
       "      <td>0.0</td>\n",
       "    </tr>\n",
       "    <tr>\n",
       "      <th>2</th>\n",
       "      <td>No</td>\n",
       "      <td>0.0</td>\n",
       "      <td>0.0</td>\n",
       "    </tr>\n",
       "    <tr>\n",
       "      <th>3</th>\n",
       "      <td>All is well</td>\n",
       "      <td>0.0</td>\n",
       "      <td>0.0</td>\n",
       "    </tr>\n",
       "    <tr>\n",
       "      <th>4</th>\n",
       "      <td>I want to know if you r going to tell us how t...</td>\n",
       "      <td>0.0</td>\n",
       "      <td>0.0</td>\n",
       "    </tr>\n",
       "    <tr>\n",
       "      <th>...</th>\n",
       "      <td>...</td>\n",
       "      <td>...</td>\n",
       "      <td>...</td>\n",
       "    </tr>\n",
       "    <tr>\n",
       "      <th>160</th>\n",
       "      <td>No</td>\n",
       "      <td>0.0</td>\n",
       "      <td>0.0</td>\n",
       "    </tr>\n",
       "    <tr>\n",
       "      <th>161</th>\n",
       "      <td>No</td>\n",
       "      <td>0.0</td>\n",
       "      <td>0.0</td>\n",
       "    </tr>\n",
       "    <tr>\n",
       "      <th>162</th>\n",
       "      <td>The training programme was quite good.</td>\n",
       "      <td>0.6</td>\n",
       "      <td>0.7</td>\n",
       "    </tr>\n",
       "    <tr>\n",
       "      <th>163</th>\n",
       "      <td>No</td>\n",
       "      <td>0.0</td>\n",
       "      <td>0.0</td>\n",
       "    </tr>\n",
       "    <tr>\n",
       "      <th>164</th>\n",
       "      <td>Training program is good</td>\n",
       "      <td>0.6</td>\n",
       "      <td>0.7</td>\n",
       "    </tr>\n",
       "  </tbody>\n",
       "</table>\n",
       "<p>165 rows × 3 columns</p>\n",
       "</div>"
      ],
      "text/plain": [
       "                      Suggestion_for_improving_program  subjectivity  polarity\n",
       "0                                                   No           0.0       0.0\n",
       "1                                                   NO           0.0       0.0\n",
       "2                                                   No           0.0       0.0\n",
       "3                                          All is well           0.0       0.0\n",
       "4    I want to know if you r going to tell us how t...           0.0       0.0\n",
       "..                                                 ...           ...       ...\n",
       "160                                                 No           0.0       0.0\n",
       "161                                                No            0.0       0.0\n",
       "162            The training programme was quite good.            0.6       0.7\n",
       "163                                                 No           0.0       0.0\n",
       "164                           Training program is good           0.6       0.7\n",
       "\n",
       "[165 rows x 3 columns]"
      ]
     },
     "execution_count": 107,
     "metadata": {},
     "output_type": "execute_result"
    }
   ],
   "source": [
    "df"
   ]
  },
  {
   "cell_type": "code",
   "execution_count": 108,
   "metadata": {},
   "outputs": [],
   "source": [
    "# categorize text(good,bad,neutral) based on polarity\n",
    "def getAnalysis(score):\n",
    "    if(score)<0:\n",
    "        return 'bad'\n",
    "    elif (score==0):\n",
    "        return 'neutral'\n",
    "    else:\n",
    "        return 'good'\n",
    "df['Analysis']=df['polarity'].apply(getAnalysis)"
   ]
  },
  {
   "cell_type": "code",
   "execution_count": 109,
   "metadata": {},
   "outputs": [
    {
     "data": {
      "text/html": [
       "<div>\n",
       "<style scoped>\n",
       "    .dataframe tbody tr th:only-of-type {\n",
       "        vertical-align: middle;\n",
       "    }\n",
       "\n",
       "    .dataframe tbody tr th {\n",
       "        vertical-align: top;\n",
       "    }\n",
       "\n",
       "    .dataframe thead th {\n",
       "        text-align: right;\n",
       "    }\n",
       "</style>\n",
       "<table border=\"1\" class=\"dataframe\">\n",
       "  <thead>\n",
       "    <tr style=\"text-align: right;\">\n",
       "      <th></th>\n",
       "      <th>Suggestion_for_improving_program</th>\n",
       "      <th>subjectivity</th>\n",
       "      <th>polarity</th>\n",
       "      <th>Analysis</th>\n",
       "    </tr>\n",
       "  </thead>\n",
       "  <tbody>\n",
       "    <tr>\n",
       "      <th>0</th>\n",
       "      <td>No</td>\n",
       "      <td>0.0</td>\n",
       "      <td>0.0</td>\n",
       "      <td>neutral</td>\n",
       "    </tr>\n",
       "    <tr>\n",
       "      <th>1</th>\n",
       "      <td>NO</td>\n",
       "      <td>0.0</td>\n",
       "      <td>0.0</td>\n",
       "      <td>neutral</td>\n",
       "    </tr>\n",
       "    <tr>\n",
       "      <th>2</th>\n",
       "      <td>No</td>\n",
       "      <td>0.0</td>\n",
       "      <td>0.0</td>\n",
       "      <td>neutral</td>\n",
       "    </tr>\n",
       "    <tr>\n",
       "      <th>3</th>\n",
       "      <td>All is well</td>\n",
       "      <td>0.0</td>\n",
       "      <td>0.0</td>\n",
       "      <td>neutral</td>\n",
       "    </tr>\n",
       "    <tr>\n",
       "      <th>4</th>\n",
       "      <td>I want to know if you r going to tell us how t...</td>\n",
       "      <td>0.0</td>\n",
       "      <td>0.0</td>\n",
       "      <td>neutral</td>\n",
       "    </tr>\n",
       "    <tr>\n",
       "      <th>...</th>\n",
       "      <td>...</td>\n",
       "      <td>...</td>\n",
       "      <td>...</td>\n",
       "      <td>...</td>\n",
       "    </tr>\n",
       "    <tr>\n",
       "      <th>160</th>\n",
       "      <td>No</td>\n",
       "      <td>0.0</td>\n",
       "      <td>0.0</td>\n",
       "      <td>neutral</td>\n",
       "    </tr>\n",
       "    <tr>\n",
       "      <th>161</th>\n",
       "      <td>No</td>\n",
       "      <td>0.0</td>\n",
       "      <td>0.0</td>\n",
       "      <td>neutral</td>\n",
       "    </tr>\n",
       "    <tr>\n",
       "      <th>162</th>\n",
       "      <td>The training programme was quite good.</td>\n",
       "      <td>0.6</td>\n",
       "      <td>0.7</td>\n",
       "      <td>good</td>\n",
       "    </tr>\n",
       "    <tr>\n",
       "      <th>163</th>\n",
       "      <td>No</td>\n",
       "      <td>0.0</td>\n",
       "      <td>0.0</td>\n",
       "      <td>neutral</td>\n",
       "    </tr>\n",
       "    <tr>\n",
       "      <th>164</th>\n",
       "      <td>Training program is good</td>\n",
       "      <td>0.6</td>\n",
       "      <td>0.7</td>\n",
       "      <td>good</td>\n",
       "    </tr>\n",
       "  </tbody>\n",
       "</table>\n",
       "<p>165 rows × 4 columns</p>\n",
       "</div>"
      ],
      "text/plain": [
       "                      Suggestion_for_improving_program  subjectivity  \\\n",
       "0                                                   No           0.0   \n",
       "1                                                   NO           0.0   \n",
       "2                                                   No           0.0   \n",
       "3                                          All is well           0.0   \n",
       "4    I want to know if you r going to tell us how t...           0.0   \n",
       "..                                                 ...           ...   \n",
       "160                                                 No           0.0   \n",
       "161                                                No            0.0   \n",
       "162            The training programme was quite good.            0.6   \n",
       "163                                                 No           0.0   \n",
       "164                           Training program is good           0.6   \n",
       "\n",
       "     polarity Analysis  \n",
       "0         0.0  neutral  \n",
       "1         0.0  neutral  \n",
       "2         0.0  neutral  \n",
       "3         0.0  neutral  \n",
       "4         0.0  neutral  \n",
       "..        ...      ...  \n",
       "160       0.0  neutral  \n",
       "161       0.0  neutral  \n",
       "162       0.7     good  \n",
       "163       0.0  neutral  \n",
       "164       0.7     good  \n",
       "\n",
       "[165 rows x 4 columns]"
      ]
     },
     "execution_count": 109,
     "metadata": {},
     "output_type": "execute_result"
    }
   ],
   "source": [
    "df"
   ]
  },
  {
   "cell_type": "code",
   "execution_count": 110,
   "metadata": {},
   "outputs": [
    {
     "name": "stdout",
     "output_type": "stream",
     "text": [
      "1) I just want to know that we can build our own app like shankha da present us after session on a dam project on a synthetic data set\n",
      "\n",
      "2) The free boot camp was really great. Whatever lessons on R was given was really helpful. Thank you\n",
      "\n",
      "3) This bootcamp was amazing, faculties are so friendly & well behaved, according to me there is no need of improving the training program,this was at its best \n",
      "\n",
      "4) As per my suggestion, the way you guys are approaching is really good and I am quite sure you will carry on this quality of training in future. Al the best.\n",
      "\n",
      "5) Everything was smooth\n",
      "\n",
      "6) So far its good.\n",
      "\n",
      "7) After all its a very great and very helpful session for me....Mainly as a friendly teaching process....Thanking you Surya Da(Rittik Da,Sankhadeep Da,Rishikesh Da)...\n",
      "\n",
      "8) It's very good, but I think if I had prior knowledge on coding then it would be more easy to understand\n",
      "\n",
      "9) This is completely fine. I am benefitted. Doubts are easily cleared. \n",
      "\n",
      "10) Boot camp was very informative... \n",
      "\n",
      "11) Its a nice and friendly session\n",
      "\n",
      "12) The free boot camp was great. Whatever was taught in R was very helpful. Thank you\n",
      "\n",
      "13) Stat portion should be taught with more depth...\n",
      "\n",
      "14) Nothing. This way of teaching is far more better than many other places. \n",
      "\n",
      "15) No suggestion, in today's life no one gives a second from their life, but sir all of your team members are doing a great, i didn't have any knowledge about data science, but at least now i know about this a little, Thank you very much for the sessions. \n",
      "\n",
      "16) It was a great boot camp .\n",
      "\n",
      "17) It was a fun experience. Some well known topics were taught in an interesting manner. The details of basic stats, though necessary, was a bit tedious.\n",
      "\n",
      "18) No suggestions, because the training is good and also good to learn new things. \n",
      "\n",
      "19) No queries.. It was a great session ..Softanbees free boot camp session provides a wonderful platform for enlightening the concepts of data analysis using R programming.. It shows how even coding can be so easy and fun to learn.\n",
      "\n",
      "20) There is literally no loopholes... it's beyond perfect...thank you very much\n",
      "\n",
      "21) Keep up the good work \n",
      "\n",
      "22) If we could get to work on live projects that could help us understand concepts in detail ( in paid course )  as boot camp it was very good !!\n",
      "\n",
      "23) It's the best....no more suggestions\n",
      "\n",
      "24) This is the best way of teaching programming that I've ever seen.The way of teaching is so good that anyone can understand programming at ease. I feel fortunate enough to be a part of this training. I got no suggestions for improving the training programme because this is perfect!\n",
      "\n",
      "25) The way you & your team shown & presented the real-time project...That's great bro!   The reason for \"maybe\" is that at present  I'm an intern (getting paid) & in starting unable to manage time. I've the LinkedIn connection & contact no. of Mr. Surya... So, when I'll be comfortable with my office timing... I'll ping him & stepping towards DS...\n",
      "\n",
      "26) If this program appears with at least one home assignment then it would help in better understanding. \n",
      "\n",
      "27) Perfect way of explaining Nothing to change \n",
      "\n",
      "28) Nothing.It really good.Carry on.\n",
      "\n",
      "29) There is literally no loopholes... it's beyond perfect...thank you very much\n",
      "\n",
      "30) The session is awesome and pretty much interesting... Somehow I missed some session due to poor connectivity, I am going through with the Recordings. Times spent with these things are very much appreciated... Thank You.(Regards are there instead of suggestions)\n",
      "\n",
      "31) Tgere's no suggestion as it was teally nice and understandable\n",
      "\n",
      "32) It's really good...so for me there is nothing to improve more...thank you for the session\n",
      "\n",
      "33) As this training programme is totally free , I can't deny it's better than I thought it would be. But I think having a score based practice exam and a dought clearing session will make it even better. I enjoyed the training programme and learned lots of technical aspects of data science which maes me really interested to be a data scientist in future. Not sure if I will be entering the full training programme right now as my parents are not ready to invest such amount of money at this situation, but surely I'm interested about doing the course in future.\n",
      "\n",
      "34) It was a very good journey with the training program,hope it will more better .. Thank you.\n",
      "\n",
      "35) I don't think that, there is any need of improvisation of any thing. Rather, providing the session recording was very helpful to us. \n",
      "\n",
      "36) All okay was there\n",
      "\n",
      "37) Try to do more better than tomorrow. \n",
      "\n",
      "38) Nothing.  It is  good enough \n",
      "\n",
      "39) It's very helpful to me.. I have no suggestions at this time\n",
      "\n",
      "40) It is already a good process, no need for any changes. Excellent work. \n",
      "\n",
      "41) It was just perfect\n",
      "\n",
      "42) all good....if the fees of the course was less it would have been best\n",
      "\n",
      "43) I liked it. Maybe better variations can be better. \n",
      "\n",
      "44) It was good enough\n",
      "\n",
      "45) Just one thing to say, \"Love u guus\" \n",
      "\n",
      "46) No its quite good  personallu i dont think that any improvement is required\n",
      "\n",
      "47) We learnt so much in this small amount of time... we can't ask more\n",
      "\n",
      "48) Everything is perfect\n",
      "\n",
      "49) All r good\n",
      "\n",
      "50) The course can be a little longer. Focus on data visualization was a little too short. Maybe a day or more on it would be helpful\n",
      "\n",
      "51) Awesome \n",
      "\n",
      "52) I thnik this is all anyone can do, its good.\n",
      "\n",
      "53) Improving the accent can attract more avid learners from different parts of the world. As the teacher is from West Bengal, the enthusiasts from West parts of India like my friends whom I'd sent the link , they were not interested in doing this due to language problem. Kindly fix this so that people from all region could participate. Hindi and English should be the primary language . Thank you.\n",
      "\n",
      "54) The Some queries regarding the full time course structure and all.. \n",
      "\n",
      "55) I had an amazing experience; no improvement needed\n",
      "\n",
      "56) No this training program is really very interesting and  I want to join the paid course for learn about data science and R programming.  \n",
      "\n",
      "57) I am satisfied with the way it is now. \n",
      "\n",
      "58) I think it is completely ok. Very  Very interesting and informative sessions I ever have of this course. \n",
      "\n",
      "59) Increase the workshop day..so that it covers up more topics. .\n",
      "\n",
      "60) The training programme was quite good. \n",
      "\n",
      "61) Training program is good\n",
      "\n"
     ]
    }
   ],
   "source": [
    "#view all good suggestion \n",
    "j=1\n",
    "sortedDF=df.sort_values(by=['polarity'])\n",
    "for i in range(0,sortedDF.shape[0]):\n",
    "    if(sortedDF['Analysis'][i]=='good'):\n",
    "        print(str(j)+ ') '+sortedDF[ 'Suggestion_for_improving_program'][i])\n",
    "        print()\n",
    "        j=j+1\n",
    "    "
   ]
  },
  {
   "cell_type": "code",
   "execution_count": 111,
   "metadata": {},
   "outputs": [
    {
     "name": "stdout",
     "output_type": "stream",
     "text": [
      "1) No\n",
      "\n",
      "2) NO\n",
      "\n",
      "3) No\n",
      "\n",
      "4) All is well\n",
      "\n",
      "5) I want to know if you r going to tell us how to create app like shankha da present after session\n",
      "\n",
      "6) No\n",
      "\n",
      "7) No suggestions.\n",
      "\n",
      "8) No\n",
      "\n",
      "9) No\n",
      "\n",
      "10) No\n",
      "\n",
      "11) No\n",
      "\n",
      "12) No\n",
      "\n",
      "13) No\n",
      "\n",
      "14) No\n",
      "\n",
      "15) No\n",
      "\n",
      "16) It would be beneficial if people from similar backgrounds are put into the same batch during the training.\n",
      "\n",
      "17) No\n",
      "\n",
      "18) No\n",
      "\n",
      "19) No\n",
      "\n",
      "20) No\n",
      "\n",
      "21) No\n",
      "\n",
      "22) No\n",
      "\n",
      "23) No\n",
      "\n",
      "24) No suggestions...it's already the best👍\n",
      "\n",
      "25) No\n",
      "\n",
      "26) It's my pleasure to give me a chance to learn that things.. \n",
      "\n",
      "27) No\n",
      "\n",
      "28) No\n",
      "\n",
      "29) No\n",
      "\n",
      "30) No\n",
      "\n",
      "31) No\n",
      "\n",
      "32) No\n",
      "\n",
      "33) No\n",
      "\n",
      "34) No suggestion... \n",
      "\n",
      "35) No\n",
      "\n",
      "36) No\n",
      "\n",
      "37) No\n",
      "\n",
      "38) No\n",
      "\n",
      "39) No\n",
      "\n",
      "40) No\n",
      "\n",
      "41) No\n",
      "\n",
      "42) No\n",
      "\n",
      "43) No\n",
      "\n",
      "44) No\n",
      "\n",
      "45) No\n",
      "\n",
      "46) No\n",
      "\n",
      "47) No\n",
      "\n",
      "48) Nothing\n",
      "\n",
      "49) No\n",
      "\n",
      "50) No\n",
      "\n",
      "51) Keep Going\n",
      "\n",
      "52) This is excellent,no need to improve\n",
      "\n",
      "53) No\n",
      "\n",
      "54) No\n",
      "\n",
      "55) No\n",
      "\n",
      "56) No\n",
      "\n",
      "57) No\n",
      "\n",
      "58) No\n",
      "\n",
      "59) No\n",
      "\n",
      "60) No\n",
      "\n",
      "61) No\n",
      "\n",
      "62) No\n",
      "\n",
      "63) No\n",
      "\n",
      "64) No\n",
      "\n",
      "65) No\n",
      "\n",
      "66) No\n",
      "\n",
      "67) No\n",
      "\n",
      "68) No\n",
      "\n",
      "69) No\n",
      "\n",
      "70) No\n",
      "\n",
      "71) No\n",
      "\n",
      "72) No\n",
      "\n",
      "73) No\n",
      "\n",
      "74) No\n",
      "\n",
      "75) No\n",
      "\n",
      "76) No\n",
      "\n",
      "77) No\n",
      "\n",
      "78) No\n",
      "\n",
      "79) No\n",
      "\n",
      "80) No\n",
      "\n",
      "81) No\n",
      "\n",
      "82) No\n",
      "\n",
      "83) No\n",
      "\n",
      "84) No\n",
      "\n",
      "85) No\n",
      "\n",
      "86) No\n",
      "\n",
      "87) No\n",
      "\n",
      "88) No\n",
      "\n",
      "89) No\n",
      "\n",
      "90) No\n",
      "\n",
      "91) No\n",
      "\n",
      "92) No\n",
      "\n",
      "93) No\n",
      "\n",
      "94) No\n",
      "\n",
      "95) No\n",
      "\n",
      "96) No\n",
      "\n",
      "97) No\n",
      "\n",
      "98) No\n",
      "\n",
      "99) No\n",
      "\n",
      "100) No\n",
      "\n",
      "101) No\n",
      "\n",
      "102) No\n",
      "\n",
      "103) No \n",
      "\n",
      "104) No\n",
      "\n"
     ]
    }
   ],
   "source": [
    "# view all neutral suggestion\n",
    "j=1\n",
    "sortedDF=df.sort_values(by=['polarity'])\n",
    "for i in range(0,sortedDF.shape[0]):\n",
    "    if(sortedDF['Analysis'][i]=='neutral'):\n",
    "        print(str(j)+ ') '+sortedDF[ 'Suggestion_for_improving_program'][i])\n",
    "        print()\n",
    "        j=j+1"
   ]
  },
  {
   "cell_type": "code",
   "execution_count": 112,
   "metadata": {},
   "outputs": [
    {
     "data": {
      "image/png": "[encoded data removed]",
      "text/plain": [
       "<Figure size 576x432 with 1 Axes>"
      ]
     },
     "metadata": {
      "needs_background": "light"
     },
     "output_type": "display_data"
    }
   ],
   "source": [
    "#scatter plot for poarity and subjectivity\n",
    "plt.figure(figsize=(8,6))\n",
    "for i in range(0,df.shape[0]):\n",
    "    plt.scatter(df['polarity'][i], df['subjectivity'][i],color='blue')\n",
    "plt.title('sentiment analysis')\n",
    "plt.xlabel(\"Polarity\")\n",
    "plt.ylabel(\"Subjectivity\")\n",
    "plt.show()"
   ]
  },
  {
   "cell_type": "code",
   "execution_count": 113,
   "metadata": {},
   "outputs": [
    {
     "data": {
      "text/plain": [
       "37.0"
      ]
     },
     "execution_count": 113,
     "metadata": {},
     "output_type": "execute_result"
    }
   ],
   "source": [
    "#parcentage of good suggestion\n",
    "good_suggestion=df[df.Analysis=='good']\n",
    "good_suggestion=good_suggestion[ 'Suggestion_for_improving_program']\n",
    "\n",
    "round( (good_suggestion.shape[0]/df.shape[0])*100,1)"
   ]
  },
  {
   "cell_type": "code",
   "execution_count": 114,
   "metadata": {},
   "outputs": [
    {
     "data": {
      "text/plain": [
       "0.0"
      ]
     },
     "execution_count": 114,
     "metadata": {},
     "output_type": "execute_result"
    }
   ],
   "source": [
    "#parcentage of bad suggestion\n",
    "bad_suggestion=df[df.Analysis=='bad']\n",
    "bad_suggestion=bad_suggestion[ 'Suggestion_for_improving_program']\n",
    "\n",
    "round( (bad_suggestion.shape[0]/df.shape[0])*100,1)"
   ]
  },
  {
   "cell_type": "code",
   "execution_count": 115,
   "metadata": {},
   "outputs": [
    {
     "data": {
      "text/plain": [
       "63.0"
      ]
     },
     "execution_count": 115,
     "metadata": {},
     "output_type": "execute_result"
    }
   ],
   "source": [
    "#parcentage of neutral suggestion\n",
    "neutral_suggestion=df[df.Analysis=='neutral']\n",
    "neutral_suggestion=neutral_suggestion[ 'Suggestion_for_improving_program']\n",
    "\n",
    "round( (neutral_suggestion.shape[0]/df.shape[0])*100,1)"
   ]
  },
  {
   "cell_type": "code",
   "execution_count": 116,
   "metadata": {},
   "outputs": [
    {
     "data": {
      "image/png": "[encoded data removed]",
      "text/plain": [
       "<Figure size 432x288 with 1 Axes>"
      ]
     },
     "metadata": {
      "needs_background": "light"
     },
     "output_type": "display_data"
    }
   ],
   "source": [
    "df['Analysis'].value_counts()\n",
    "\n",
    "plt.title(\"Sentiment Analysis\")\n",
    "plt.xlabel('Sentiment')\n",
    "plt.ylabel('counts')\n",
    "df['Analysis'].value_counts().plot(kind='bar')\n",
    "plt.show()"
   ]
  },
  {
   "cell_type": "markdown",
   "metadata": {},
   "source": [
    "Sentiment Analysis of suggestion row shows there has no bad reviews,37% are good reviews and rest of them neutral reviews.So\n",
    "from analysis,It can be said that Program was quite good.and It will be better day after day."
   ]
  },
  {
   "cell_type": "markdown",
   "metadata": {},
   "source": [
    "### Find out how many people are interested in applying for the paid internship and also find if there any correlation between their positive reply in applying for internship and course quality [ use how well they understand the topics column for course quality]"
   ]
  },
  {
   "cell_type": "code",
   "execution_count": 117,
   "metadata": {},
   "outputs": [
    {
     "data": {
      "text/plain": [
       "Index([' Time', 'Email Address', 'Name', 'covered_topic_comprehend',\n",
       "       'Training_rating', 'Queries_solution', 'Interest_to_join_fullcourse',\n",
       "       'Course_recommendation_To_others', 'Apply_for_paid_internship',\n",
       "       'Suggestion_for_improving_program'],\n",
       "      dtype='object')"
      ]
     },
     "execution_count": 117,
     "metadata": {},
     "output_type": "execute_result"
    }
   ],
   "source": [
    "batch_info.columns"
   ]
  },
  {
   "cell_type": "code",
   "execution_count": 118,
   "metadata": {},
   "outputs": [
    {
     "data": {
      "text/plain": [
       "Maybe    83\n",
       "Yes      41\n",
       "No       40\n",
       "qt        1\n",
       "Name: Apply_for_paid_internship, dtype: int64"
      ]
     },
     "execution_count": 118,
     "metadata": {},
     "output_type": "execute_result"
    }
   ],
   "source": [
    "batch_info[ 'Apply_for_paid_internship'].value_counts()"
   ]
  },
  {
   "cell_type": "code",
   "execution_count": 119,
   "metadata": {},
   "outputs": [
    {
     "data": {
      "text/html": [
       "<div>\n",
       "<style scoped>\n",
       "    .dataframe tbody tr th:only-of-type {\n",
       "        vertical-align: middle;\n",
       "    }\n",
       "\n",
       "    .dataframe tbody tr th {\n",
       "        vertical-align: top;\n",
       "    }\n",
       "\n",
       "    .dataframe thead th {\n",
       "        text-align: right;\n",
       "    }\n",
       "</style>\n",
       "<table border=\"1\" class=\"dataframe\">\n",
       "  <thead>\n",
       "    <tr style=\"text-align: right;\">\n",
       "      <th></th>\n",
       "      <th>Apply_for_paid_internship</th>\n",
       "      <th>covered_topic_comprehend</th>\n",
       "      <th>counts</th>\n",
       "    </tr>\n",
       "  </thead>\n",
       "  <tbody>\n",
       "    <tr>\n",
       "      <th>4</th>\n",
       "      <td>Maybe</td>\n",
       "      <td>5.0</td>\n",
       "      <td>43</td>\n",
       "    </tr>\n",
       "    <tr>\n",
       "      <th>3</th>\n",
       "      <td>Maybe</td>\n",
       "      <td>4.0</td>\n",
       "      <td>34</td>\n",
       "    </tr>\n",
       "    <tr>\n",
       "      <th>8</th>\n",
       "      <td>No</td>\n",
       "      <td>5.0</td>\n",
       "      <td>24</td>\n",
       "    </tr>\n",
       "    <tr>\n",
       "      <th>12</th>\n",
       "      <td>Yes</td>\n",
       "      <td>5.0</td>\n",
       "      <td>24</td>\n",
       "    </tr>\n",
       "    <tr>\n",
       "      <th>11</th>\n",
       "      <td>Yes</td>\n",
       "      <td>4.0</td>\n",
       "      <td>14</td>\n",
       "    </tr>\n",
       "    <tr>\n",
       "      <th>7</th>\n",
       "      <td>No</td>\n",
       "      <td>4.0</td>\n",
       "      <td>10</td>\n",
       "    </tr>\n",
       "    <tr>\n",
       "      <th>6</th>\n",
       "      <td>No</td>\n",
       "      <td>3.0</td>\n",
       "      <td>5</td>\n",
       "    </tr>\n",
       "    <tr>\n",
       "      <th>2</th>\n",
       "      <td>Maybe</td>\n",
       "      <td>3.0</td>\n",
       "      <td>4</td>\n",
       "    </tr>\n",
       "    <tr>\n",
       "      <th>10</th>\n",
       "      <td>Yes</td>\n",
       "      <td>3.0</td>\n",
       "      <td>2</td>\n",
       "    </tr>\n",
       "    <tr>\n",
       "      <th>0</th>\n",
       "      <td>Maybe</td>\n",
       "      <td>1.0</td>\n",
       "      <td>1</td>\n",
       "    </tr>\n",
       "    <tr>\n",
       "      <th>1</th>\n",
       "      <td>Maybe</td>\n",
       "      <td>2.0</td>\n",
       "      <td>1</td>\n",
       "    </tr>\n",
       "    <tr>\n",
       "      <th>5</th>\n",
       "      <td>No</td>\n",
       "      <td>2.0</td>\n",
       "      <td>1</td>\n",
       "    </tr>\n",
       "    <tr>\n",
       "      <th>9</th>\n",
       "      <td>Yes</td>\n",
       "      <td>1.0</td>\n",
       "      <td>1</td>\n",
       "    </tr>\n",
       "    <tr>\n",
       "      <th>13</th>\n",
       "      <td>qt</td>\n",
       "      <td>5.0</td>\n",
       "      <td>1</td>\n",
       "    </tr>\n",
       "  </tbody>\n",
       "</table>\n",
       "</div>"
      ],
      "text/plain": [
       "   Apply_for_paid_internship  covered_topic_comprehend  counts\n",
       "4                      Maybe                       5.0      43\n",
       "3                      Maybe                       4.0      34\n",
       "8                         No                       5.0      24\n",
       "12                       Yes                       5.0      24\n",
       "11                       Yes                       4.0      14\n",
       "7                         No                       4.0      10\n",
       "6                         No                       3.0       5\n",
       "2                      Maybe                       3.0       4\n",
       "10                       Yes                       3.0       2\n",
       "0                      Maybe                       1.0       1\n",
       "1                      Maybe                       2.0       1\n",
       "5                         No                       2.0       1\n",
       "9                        Yes                       1.0       1\n",
       "13                        qt                       5.0       1"
      ]
     },
     "execution_count": 119,
     "metadata": {},
     "output_type": "execute_result"
    }
   ],
   "source": [
    "#Subsetting 'Apply_for_paid_internship' and group by with 'covered_topic_comprehend' for finding correlation between them.\n",
    "corr=batch_info.dropna(subset=[ 'Apply_for_paid_internship'])\n",
    "corr1=batch_info.groupby([ 'Apply_for_paid_internship', 'covered_topic_comprehend'])[ 'Apply_for_paid_internship'].agg('count')\n",
    "corr2=pd.DataFrame(corr1)\n",
    "corr2.rename(columns={ 'Apply_for_paid_internship':\"counts\"},inplace=True)\n",
    "corr2.reset_index(inplace=True)\n",
    "corr2.sort_values(\"counts\",ascending=False)"
   ]
  },
  {
   "cell_type": "code",
   "execution_count": 120,
   "metadata": {},
   "outputs": [],
   "source": [
    "#find correlation and describe the output.\n",
    "def corr_plot(df, size = (12, 10), top = None) :\n",
    "    \n",
    "    corrmat = df.corr()\n",
    "\n",
    "    if top == None :    \n",
    "        f, ax = plt.subplots(figsize = size)\n",
    "        sns.heatmap(corrmat, annot = True, fmt = '.2f') # fmt = Decimal rounds\n",
    "    else :\n",
    "        cor_cols = corrmat.nlargest(top, 'Apply_for_paid_internship')[ 'covered_topic_comprehend'].index\n",
    "        corrmat = np.corrcoef(df[cor_cols].values.T)\n",
    "        f, ax = plt.subplots(figsize = size)\n",
    "        sns.heatmap(corrmat, annot = True, fmt = '.2f', \n",
    "                    yticklabels = cor_cols.values, xticklabels = cor_cols.values)"
   ]
  },
  {
   "cell_type": "code",
   "execution_count": 121,
   "metadata": {},
   "outputs": [],
   "source": [
    "#The statistical relationship between two variables is referred to as their correlation.\n",
    "#Here we are presenting the correlation between 'Apply_for_paid_internship' and 'covered_topic_comprehend'"
   ]
  },
  {
   "cell_type": "code",
   "execution_count": 122,
   "metadata": {},
   "outputs": [
    {
     "data": {
      "image/png": "[encoded data removed]",
      "text/plain": [
       "<Figure size 864x720 with 2 Axes>"
      ]
     },
     "metadata": {
      "needs_background": "light"
     },
     "output_type": "display_data"
    }
   ],
   "source": [
    "corr_plot(corr2)"
   ]
  },
  {
   "cell_type": "markdown",
   "metadata": {},
   "source": [
    "##### Correlation value for both columns change in same direction.We know that,if there has any same direction between two columns in Correlation it will be a positive correlation.So, the correlation between 'Apply_for_paid_internship' and  'covered_topic_comprehend' is a positive correlation."
   ]
  },
  {
   "cell_type": "code",
   "execution_count": 123,
   "metadata": {},
   "outputs": [
    {
     "data": {
      "text/plain": [
       "Text(0.5, 1.0, 'Correlation heatmap')"
      ]
     },
     "execution_count": 123,
     "metadata": {},
     "output_type": "execute_result"
    },
    {
     "data": {
      "image/png": "[encoded data removed]",
      "text/plain": [
       "<Figure size 864x720 with 2 Axes>"
      ]
     },
     "metadata": {
      "needs_background": "light"
     },
     "output_type": "display_data"
    }
   ],
   "source": [
    "plt.figure(figsize = (12,10))\n",
    "sns.heatmap(corr2.corr(), cmap = 'viridis')\n",
    "plt.title('Correlation heatmap',size = 25)"
   ]
  },
  {
   "cell_type": "markdown",
   "metadata": {},
   "source": [
    "Here's the correlation heatmap of avobe Correlation value"
   ]
  }
 ],
 "metadata": {
  "kernelspec": {
   "display_name": "Python 3",
   "language": "python",
   "name": "python3"
  },
  "language_info": {
   "codemirror_mode": {
    "name": "ipython",
    "version": 3
   },
   "file_extension": ".py",
   "mimetype": "text/x-python",
   "name": "python",
   "nbconvert_exporter": "python",
   "pygments_lexer": "ipython3",
   "version": "3.8.3"
  }
 },
 "nbformat": 4,
 "nbformat_minor": 4
}
